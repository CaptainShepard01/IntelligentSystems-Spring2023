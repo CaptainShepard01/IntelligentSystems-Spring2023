{
 "cells": [
  {
   "cell_type": "markdown",
   "id": "9d78070c",
   "metadata": {},
   "source": [
    "# Греція\n",
    "___\n",
    "## Площа\n",
    "- **Всього:** *131,957 км²*\n",
    "- **Води (%):** *1.51 (2015)*\n",
    "___\n",
    "### Населення\n",
    "- **Перепис населення 2021:** *10,432,481*\n",
    "- **Щільність:** *79.1/км²*\n",
    "___\n",
    "### Державний устрій\n",
    "- **Форма правління:** унітарна парламентська республіка\n",
    "- **Президент:** [Катерина Сакелларопулу](https://uk.wikipedia.org/wiki/%D0%9A%D0%B0%D1%82%D0%B5%D1%80%D0%B8%D0%BD%D0%B0_%D0%A1%D0%B0%D0%BA%D0%B5%D0%BB%D0%BB%D0%B0%D1%80%D0%BE%D0%BF%D1%83%D0%BB%D1%83)\n",
    "- **Прем'єр-міністр:** [Кіріакос Міцотакіс](https://uk.wikipedia.org/wiki/%D0%9A%D1%96%D1%80%D1%96%D0%B0%D0%BA%D0%BE%D1%81_%D0%9C%D1%96%D1%86%D0%BE%D1%82%D0%B0%D0%BA%D1%96%D1%81)"
   ]
  },
  {
   "cell_type": "markdown",
   "id": "328722bc",
   "metadata": {},
   "source": [
    "# Прапор Греції"
   ]
  },
  {
   "cell_type": "code",
   "execution_count": 1,
   "id": "88280306",
   "metadata": {},
   "outputs": [
    {
     "data": {
      "text/html": [
       "<svg viewBox=\"0 0 12 9\">\n",
       "    <rect width=\"12\" height=\"9\" fill=\"#fff\"/>\n",
       "    <g fill=\"#0d5eaf\">\n",
       "        <rect x = \"0\" y = \"0\" width = \"2\" height = \"2\"/>\n",
       "        <rect x = \"3\" y = \"0\" width = \"2\" height = \"2\"/>\n",
       "        <rect x = \"0\" y = \"3\" width = \"2\" height = \"2\"/>\n",
       "        <rect x = \"3\" y = \"3\" width = \"2\" height = \"2\"/>\n",
       "        <rect x = \"4.9\" y = \"0\" width = \"7\" height = \"1\"/>\n",
       "        <rect x = \"5\" y = \"2\" width = \"7\" height = \"1\"/>\n",
       "        <rect x = \"4.9\" y = \"4\" width = \"7\" height = \"1\"/>\n",
       "        <rect x = \"0\" y = \"6\" width = \"12\" height = \"1\"/>\n",
       "        <rect x = \"0\" y = \"8\" width = \"12\" height = \"1\"/>\n",
       "    </g>\n",
       "</svg>\n"
      ],
      "text/plain": [
       "<IPython.core.display.HTML object>"
      ]
     },
     "metadata": {},
     "output_type": "display_data"
    }
   ],
   "source": [
    "%%HTML\n",
    "<svg viewBox=\"0 0 12 9\">\n",
    "    <rect width=\"12\" height=\"9\" fill=\"#fff\"/>\n",
    "    <g fill=\"#0d5eaf\">\n",
    "        <rect x = \"0\" y = \"0\" width = \"2\" height = \"2\"/>\n",
    "        <rect x = \"3\" y = \"0\" width = \"2\" height = \"2\"/>\n",
    "        <rect x = \"0\" y = \"3\" width = \"2\" height = \"2\"/>\n",
    "        <rect x = \"3\" y = \"3\" width = \"2\" height = \"2\"/>\n",
    "        <rect x = \"4.9\" y = \"0\" width = \"7\" height = \"1\"/>\n",
    "        <rect x = \"5\" y = \"2\" width = \"7\" height = \"1\"/>\n",
    "        <rect x = \"4.9\" y = \"4\" width = \"7\" height = \"1\"/>\n",
    "        <rect x = \"0\" y = \"6\" width = \"12\" height = \"1\"/>\n",
    "        <rect x = \"0\" y = \"8\" width = \"12\" height = \"1\"/>\n",
    "    </g>\n",
    "</svg>"
   ]
  },
  {
   "cell_type": "markdown",
   "id": "ce322971",
   "metadata": {},
   "source": [
    "<style>\n",
    "  table {\n",
    "    margin: 0;\n",
    "  }\n",
    "</style>"
   ]
  },
  {
   "cell_type": "markdown",
   "id": "85fbd3fc",
   "metadata": {},
   "source": [
    "# Видатні особистості Греції\n",
    "___\n",
    "| Ім'я | Чим відомий | Зображення |\n",
    "|:--------:|:----------------------------------------------------------------------------------------------------|:----------:|\n",
    "| [**Гіппократ**](https://uk.wikipedia.org/wiki/%D0%93%D1%96%D0%BF%D0%BF%D0%BE%D0%BA%D1%80%D0%B0%D1%82)|Грецький лікар золотої доби Афін (Класична Греція), який вважається однією з найвизначніших осіб в історії медицини.|<img src=\"https://upload.wikimedia.org/wikipedia/commons/thumb/3/32/Hippocrates_rubens.jpg/387px-Hippocrates_rubens.jpg\" width=\"100px\">|\n",
    "| [**Арістотель**](https://uk.wikipedia.org/wiki/%D0%90%D1%80%D1%96%D1%81%D1%82%D0%BE%D1%82%D0%B5%D0%BB%D1%8C)|Давньогрецький науковець-енциклопедист, філософ і логік, засновник класичної (формальної) логіки.|<img src=\"https://upload.wikimedia.org/wikipedia/commons/thumb/a/ae/Aristotle_Altemps_Inv8575.jpg/420px-Aristotle_Altemps_Inv8575.jpg\" width=\"100px\">|\n",
    "| [**Демокріт**](https://uk.wikipedia.org/wiki/%D0%94%D0%B5%D0%BC%D0%BE%D0%BA%D1%80%D1%96%D1%82)|Давньогрецький філософ-матеріаліст, засновник атомістичної гіпотези пояснення світу, що розглядав можливість існування нескінченної кількості неповторних світів.|<img src=\"https://upload.wikimedia.org/wikipedia/commons/thumb/b/b9/Democritus2.jpg/375px-Democritus2.jpg\" width=\"100px\">|"
   ]
  },
  {
   "cell_type": "markdown",
   "id": "f9c47490",
   "metadata": {},
   "source": [
    "# Пам'ятки Греції\n",
    "___"
   ]
  },
  {
   "cell_type": "code",
   "execution_count": 2,
   "id": "3df788d4",
   "metadata": {
    "scrolled": false
   },
   "outputs": [
    {
     "data": {
      "text/html": [
       "<style>\n",
       "    .details{\n",
       "        margin-top:5px; \n",
       "        padding: 5px; \n",
       "        border: dashed #0d5eaf;\n",
       "    }\n",
       "</style>\n",
       "<div>\n",
       "    <ul>\n",
       "        <li>\n",
       "            <h2>Пам'ятки культури</h2>\n",
       "            <ul>\n",
       "                <li>\n",
       "                    <div>\n",
       "                        <h3>Храм Зевса Олімпійського</h3>\n",
       "                        <div class=\"details\">\n",
       "                            <p>Грандіозна храмова споруда, в якій спочатку було 104 колони, але на сьогоднішній день з них збереглося лише 15. Колись всередині храму була встановлена велична статуя Зевса.</p>\n",
       "                        </div>\n",
       "                        <img src=\"https://onlinetickets.world/upload/image/89.jpg\" alt=\"Temple of Zeus at Olympia\">\n",
       "                    </div>\n",
       "                </li>\n",
       "                <li>\n",
       "                    <div>\n",
       "                        <h3>Дельфи</h3>\n",
       "                        <div class=\"details\">\n",
       "                            <p>Стародавнє грецьке місто, в якому знаходиться святилище Аполлона з оракулом і храмом. Тут же проводилися Піфійські ігри. Ще Дельфи знамениті незвичайним явищем – «дельфійською луною». Кожне вимовлене тут навіть шепотом слово підхоплюється і розноситься луною по всіх околицях.</p>\n",
       "                        </div>\n",
       "                        <img src=\"https://onlinetickets.world/upload/image/delphi_regions1_(1).jpg\" alt=\"Delphi\">\n",
       "                    </div>\n",
       "                </li>\n",
       "                <li>\n",
       "                    <div>\n",
       "                        <h3>Акрополь</h3>\n",
       "                        <div class=\"details\">\n",
       "                            <p>Історична частина стародавніх Афін, в якій розміщувалися колись основні святині міста. Сьогодні туристи можуть відвідати розташовані на вершині Акрополя знамениті античні храми і стародавні споруди, що збереглися.</p>\n",
       "                        </div>\n",
       "                        <img src=\"https://onlinetickets.world/upload/image/akropol_(1).jpg\" alt=\"Acropolis\">\n",
       "                    </div>\n",
       "                </li>\n",
       "            </ul>\n",
       "        </li>\n",
       "        <li>\n",
       "            <h2>Пам'ятки природи</h2>\n",
       "            <ul>\n",
       "                <li>\n",
       "                    <div>\n",
       "                        <h3>Острів Крит</h3>\n",
       "                        <div class=\"details\">\n",
       "                            <p>Колиска Мінойської цивілізації і найбільший острів Греції. З Критом пов'язана легенда про Ікара і Дедала, тут же розташовані руїни Кносського палацу. Більшість найпопулярніших грецьких курортів розташовано саме тут. Але острів не схожий на суцільний курорт – східні і західні райони Криту підкорюють своєю природною красою і особливим колоритом. Тут ви зможете побачити первозданну Грецію, вільну від незліченних натовпів туристів.</p>\n",
       "                        </div>\n",
       "                        <img src=\"./images/Crete.jpg\" alt=\"Crete\">\n",
       "                    </div>\n",
       "                </li>\n",
       "                <li>\n",
       "                    <div>\n",
       "                        <h3>Острів Родос</h3>\n",
       "                        <div class=\"details\">\n",
       "                            <p>Сьогодні острів дуже популярний серед шанувальників активних видів спорту і морських прогулянок, але знаменитий він саме завдяки своїй історичній спадщині. По всьому острову досі розкидані тисячі стародавніх статуй і руїни античних споруд.</p>\n",
       "                        </div>\n",
       "                        <img src=\"./images/Rhodes.jpg\" alt=\"Rhodes\">\n",
       "                    </div>\n",
       "                </li>\n",
       "                <li>\n",
       "                    <div>\n",
       "                        <h3>Півострів Пелопоннес</h3>\n",
       "                        <div class=\"details\">\n",
       "                            <p>Самий південь Греції. Соковита зелень цитрусових гаїв і білосніжні шапки гірських вершин, дикі пляжі в своїй первозданній красі і краса грецької природи. Більшість жителів Греції намагаються частіше вириватися сюди, щоб відпочити від міської метушні.</p>\n",
       "                        </div>\n",
       "                        <img src=\"./images/Peloponnese.jpg\" alt=\"Peloponnese\">\n",
       "                    </div>\n",
       "                </li>\n",
       "            </ul>\n",
       "        </li>\n",
       "    </ul>\n",
       "</div>\n"
      ],
      "text/plain": [
       "<IPython.core.display.HTML object>"
      ]
     },
     "metadata": {},
     "output_type": "display_data"
    }
   ],
   "source": [
    "%%HTML\n",
    "<style>\n",
    "    .details{\n",
    "        margin-top:5px; \n",
    "        padding: 5px; \n",
    "        border: dashed #0d5eaf;\n",
    "    }\n",
    "</style>\n",
    "<div>\n",
    "    <ul>\n",
    "        <li>\n",
    "            <h2>Пам'ятки культури</h2>\n",
    "            <ul>\n",
    "                <li>\n",
    "                    <div>\n",
    "                        <h3>Храм Зевса Олімпійського</h3>\n",
    "                        <div class=\"details\">\n",
    "                            <p>Грандіозна храмова споруда, в якій спочатку було 104 колони, але на сьогоднішній день з них збереглося лише 15. Колись всередині храму була встановлена велична статуя Зевса.</p>\n",
    "                        </div>\n",
    "                        <img src=\"https://onlinetickets.world/upload/image/89.jpg\" alt=\"Temple of Zeus at Olympia\">\n",
    "                    </div>\n",
    "                </li>\n",
    "                <li>\n",
    "                    <div>\n",
    "                        <h3>Дельфи</h3>\n",
    "                        <div class=\"details\">\n",
    "                            <p>Стародавнє грецьке місто, в якому знаходиться святилище Аполлона з оракулом і храмом. Тут же проводилися Піфійські ігри. Ще Дельфи знамениті незвичайним явищем – «дельфійською луною». Кожне вимовлене тут навіть шепотом слово підхоплюється і розноситься луною по всіх околицях.</p>\n",
    "                        </div>\n",
    "                        <img src=\"https://onlinetickets.world/upload/image/delphi_regions1_(1).jpg\" alt=\"Delphi\">\n",
    "                    </div>\n",
    "                </li>\n",
    "                <li>\n",
    "                    <div>\n",
    "                        <h3>Акрополь</h3>\n",
    "                        <div class=\"details\">\n",
    "                            <p>Історична частина стародавніх Афін, в якій розміщувалися колись основні святині міста. Сьогодні туристи можуть відвідати розташовані на вершині Акрополя знамениті античні храми і стародавні споруди, що збереглися.</p>\n",
    "                        </div>\n",
    "                        <img src=\"https://onlinetickets.world/upload/image/akropol_(1).jpg\" alt=\"Acropolis\">\n",
    "                    </div>\n",
    "                </li>\n",
    "            </ul>\n",
    "        </li>\n",
    "        <li>\n",
    "            <h2>Пам'ятки природи</h2>\n",
    "            <ul>\n",
    "                <li>\n",
    "                    <div>\n",
    "                        <h3>Острів Крит</h3>\n",
    "                        <div class=\"details\">\n",
    "                            <p>Колиска Мінойської цивілізації і найбільший острів Греції. З Критом пов'язана легенда про Ікара і Дедала, тут же розташовані руїни Кносського палацу. Більшість найпопулярніших грецьких курортів розташовано саме тут. Але острів не схожий на суцільний курорт – східні і західні райони Криту підкорюють своєю природною красою і особливим колоритом. Тут ви зможете побачити первозданну Грецію, вільну від незліченних натовпів туристів.</p>\n",
    "                        </div>\n",
    "                        <img src=\"./images/Crete.jpg\" alt=\"Crete\">\n",
    "                    </div>\n",
    "                </li>\n",
    "                <li>\n",
    "                    <div>\n",
    "                        <h3>Острів Родос</h3>\n",
    "                        <div class=\"details\">\n",
    "                            <p>Сьогодні острів дуже популярний серед шанувальників активних видів спорту і морських прогулянок, але знаменитий він саме завдяки своїй історичній спадщині. По всьому острову досі розкидані тисячі стародавніх статуй і руїни античних споруд.</p>\n",
    "                        </div>\n",
    "                        <img src=\"./images/Rhodes.jpg\" alt=\"Rhodes\">\n",
    "                    </div>\n",
    "                </li>\n",
    "                <li>\n",
    "                    <div>\n",
    "                        <h3>Півострів Пелопоннес</h3>\n",
    "                        <div class=\"details\">\n",
    "                            <p>Самий південь Греції. Соковита зелень цитрусових гаїв і білосніжні шапки гірських вершин, дикі пляжі в своїй первозданній красі і краса грецької природи. Більшість жителів Греції намагаються частіше вириватися сюди, щоб відпочити від міської метушні.</p>\n",
    "                        </div>\n",
    "                        <img src=\"./images/Peloponnese.jpg\" alt=\"Peloponnese\">\n",
    "                    </div>\n",
    "                </li>\n",
    "            </ul>\n",
    "        </li>\n",
    "    </ul>\n",
    "</div>"
   ]
  },
  {
   "cell_type": "markdown",
   "id": "33f58157",
   "metadata": {},
   "source": [
    "# 5-те завдання"
   ]
  },
  {
   "cell_type": "code",
   "execution_count": 3,
   "id": "cfd0ef66",
   "metadata": {},
   "outputs": [],
   "source": [
    "def eratosthenes(n):\n",
    "    primes = list (range(2, n+1))\n",
    "    for i in primes:\n",
    "        j=2\n",
    "        while i*j <= primes[-1]:\n",
    "            if i*j in primes:\n",
    "                primes.remove(i*j)\n",
    "            j=j+1\n",
    "    return primes\n",
    "\n",
    "def odd_primes(N):\n",
    "    oddprimes = eratosthenes(N)\n",
    "    oddprimes.remove(2)\n",
    "    return(oddprimes)\n",
    "\n",
    "def goldbach(number):\n",
    "    x, y = 0, 0\n",
    "    result = 0\n",
    "    primes = odd_primes(number)\n",
    "    primes_count = len(primes)\n",
    "    \n",
    "    while result != number:\n",
    "         for i in range(primes_count):\n",
    "            if result == number: \n",
    "                return x, y \n",
    "            x = primes[i]\n",
    "            for j in range(primes_count):\n",
    "                y = primes[j]\n",
    "                result = x + y\n",
    "                if result == number: \n",
    "                    return x, y  \n",
    "    return x, y \n",
    "\n",
    "def task_5():\n",
    "    user_input = input()\n",
    "    try:\n",
    "        number = int(user_input)\n",
    "        \n",
    "        if number < 4:\n",
    "            return \"Помилка. Гіпотеза не працює для чисел, менших 4.\"\n",
    "        if number % 2 != 0:\n",
    "            return \"Помилка. Введено непарне число.\"\n",
    "        \n",
    "        goldbach_result = goldbach(number)\n",
    "        return f\"Число {number} можна представити як {goldbach_result[0]} + {goldbach_result[1]}\"\n",
    "        \n",
    "    except ValueError:\n",
    "        return \"Помилка. Введено не Integer.\""
   ]
  },
  {
   "cell_type": "code",
   "execution_count": 4,
   "id": "7a2c3eea",
   "metadata": {},
   "outputs": [
    {
     "name": "stdout",
     "output_type": "stream",
     "text": [
      "268\n"
     ]
    },
    {
     "data": {
      "text/plain": [
       "'Число 268 можна представити як 5 + 263'"
      ]
     },
     "execution_count": 4,
     "metadata": {},
     "output_type": "execute_result"
    }
   ],
   "source": [
    "task_5()"
   ]
  },
  {
   "cell_type": "code",
   "execution_count": 5,
   "id": "fde6754d",
   "metadata": {},
   "outputs": [
    {
     "name": "stdout",
     "output_type": "stream",
     "text": [
      "-50\n"
     ]
    },
    {
     "data": {
      "text/plain": [
       "'Помилка. Гіпотеза не працює для чисел, менших 4.'"
      ]
     },
     "execution_count": 5,
     "metadata": {},
     "output_type": "execute_result"
    }
   ],
   "source": [
    "task_5()"
   ]
  },
  {
   "cell_type": "code",
   "execution_count": 6,
   "id": "45469a32",
   "metadata": {},
   "outputs": [
    {
     "name": "stdout",
     "output_type": "stream",
     "text": [
      "33\n"
     ]
    },
    {
     "data": {
      "text/plain": [
       "'Помилка. Введено непарне число.'"
      ]
     },
     "execution_count": 6,
     "metadata": {},
     "output_type": "execute_result"
    }
   ],
   "source": [
    "task_5()"
   ]
  },
  {
   "cell_type": "code",
   "execution_count": 7,
   "id": "f8f4c1b4",
   "metadata": {},
   "outputs": [
    {
     "name": "stdout",
     "output_type": "stream",
     "text": [
      "str\n"
     ]
    },
    {
     "data": {
      "text/plain": [
       "'Помилка. Введено не Integer.'"
      ]
     },
     "execution_count": 7,
     "metadata": {},
     "output_type": "execute_result"
    }
   ],
   "source": [
    "task_5()"
   ]
  }
 ],
 "metadata": {
  "kernelspec": {
   "display_name": "Python 3 (ipykernel)",
   "language": "python",
   "name": "python3"
  },
  "language_info": {
   "codemirror_mode": {
    "name": "ipython",
    "version": 3
   },
   "file_extension": ".py",
   "mimetype": "text/x-python",
   "name": "python",
   "nbconvert_exporter": "python",
   "pygments_lexer": "ipython3",
   "version": "3.9.13"
  }
 },
 "nbformat": 4,
 "nbformat_minor": 5
}
