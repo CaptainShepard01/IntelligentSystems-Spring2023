{
 "cells": [
  {
   "cell_type": "code",
   "execution_count": 1,
   "id": "05986662",
   "metadata": {},
   "outputs": [],
   "source": [
    "import math\n",
    "import random\n",
    "import numpy as np"
   ]
  },
  {
   "cell_type": "markdown",
   "id": "b1cd03a9",
   "metadata": {},
   "source": [
    "### Task 1\n",
    "#### Complete tasks, using\n",
    "* NumPy functions\n",
    "* iterative constructions (cycles, lists inclusions etc.)"
   ]
  },
  {
   "cell_type": "markdown",
   "id": "bfd710c8",
   "metadata": {},
   "source": [
    "* 1:\n",
    "    ##### Enter number n, generate n x n array of structure  \n",
    "    5  \n",
    "    [[1 0 0 0 0]  \n",
    "     [0 2 0 0 0]  \n",
    "     [0 0 3 0 0]  \n",
    "     [0 0 0 4 0]  \n",
    "     [0 0 0 0 5]]  \n",
    "     with numbers from 1 to n on main diagonal."
   ]
  },
  {
   "cell_type": "code",
   "execution_count": 2,
   "id": "738e9f8a",
   "metadata": {},
   "outputs": [
    {
     "name": "stdout",
     "output_type": "stream",
     "text": [
      "10.3 µs ± 3.81 µs per loop (mean ± std. dev. of 10 runs, 100 loops each)\n"
     ]
    }
   ],
   "source": [
    "%%timeit -n 100 -r 10\n",
    "# NumPy\n",
    "def task_1(n):\n",
    "    matrix = np.zeros((n, n))\n",
    "    np.fill_diagonal(matrix, np.arange(1, n+1))\n",
    "    return matrix\n",
    "    \n",
    "    \n",
    "task_1(100)"
   ]
  },
  {
   "cell_type": "code",
   "execution_count": 3,
   "id": "877205d5",
   "metadata": {},
   "outputs": [
    {
     "name": "stdout",
     "output_type": "stream",
     "text": [
      "646 µs ± 75.4 µs per loop (mean ± std. dev. of 10 runs, 100 loops each)\n"
     ]
    }
   ],
   "source": [
    "%%timeit -n 100 -r 10\n",
    "# Iterative\n",
    "def task_1(n):\n",
    "    return [[i if i == j else 0 for j in range(1, n+1)] for i in range(1, n+1)]\n",
    "    \n",
    "    \n",
    "task_1(100)"
   ]
  },
  {
   "cell_type": "markdown",
   "id": "9ee8cac7",
   "metadata": {},
   "source": [
    "* 6:\n",
    "    ##### Enter array, change all non-zero elements to -1  \n",
    "    3 4 0 9 7 0 6 0 4 0 3  \n",
    "    [-1 -1 0 -1 -1 0 -1 0 -1 0 -1]"
   ]
  },
  {
   "cell_type": "code",
   "execution_count": 4,
   "id": "4faf3877",
   "metadata": {},
   "outputs": [
    {
     "name": "stdout",
     "output_type": "stream",
     "text": [
      "7.7 µs ± 1.86 µs per loop (mean ± std. dev. of 10 runs, 100 loops each)\n"
     ]
    }
   ],
   "source": [
    "%%timeit -n 100 -r 10\n",
    "# NumPy\n",
    "def task_6(array):\n",
    "    arr = np.array(array)\n",
    "    arr[arr != 0] = -1\n",
    "    return arr\n",
    "    \n",
    "task_6([-49, -48, -45, -43, -41, -40, -39, -38, -37, -35, -32, -31, -29, -28, -23, -22, -21, -20, -19, -17, -16, -14, -13, -12, -10, -9, -8, -6, -5, -3, -2, -1, 2, 6, 8, 11, 16, 20, 21, 22, 25, 26, 27, 31, 37, 39, 42, 44, 48, 50])"
   ]
  },
  {
   "cell_type": "code",
   "execution_count": 5,
   "id": "a176f296",
   "metadata": {},
   "outputs": [
    {
     "name": "stdout",
     "output_type": "stream",
     "text": [
      "4.16 µs ± 244 ns per loop (mean ± std. dev. of 10 runs, 100 loops each)\n"
     ]
    }
   ],
   "source": [
    "%%timeit -n 100 -r 10\n",
    "# Iterative\n",
    "def task_6(array):\n",
    "    for i in range(len(array)):\n",
    "        if array[i] != 0:\n",
    "            array[i] = -1\n",
    "    return array\n",
    "    \n",
    "task_6([-49, -48, -45, -43, -41, -40, -39, -38, -37, -35, -32, -31, -29, -28, -23, -22, -21, -20, -19, -17, -16, -14, -13, -12, -10, -9, -8, -6, -5, -3, -2, -1, 2, 6, 8, 11, 16, 20, 21, 22, 25, 26, 27, 31, 37, 39, 42, 44, 48, 50])"
   ]
  },
  {
   "cell_type": "markdown",
   "id": "e9842e6a",
   "metadata": {},
   "source": [
    "* 7:\n",
    "    ##### Enter array, change all zero elements to -1  \n",
    "    3 4 0 6 5 0 3 0 4  \n",
    "    [ 3 4 -1 6 5 -1 3 -1 4]"
   ]
  },
  {
   "cell_type": "code",
   "execution_count": 6,
   "id": "0e113601",
   "metadata": {},
   "outputs": [
    {
     "name": "stdout",
     "output_type": "stream",
     "text": [
      "6.8 µs ± 1.2 µs per loop (mean ± std. dev. of 10 runs, 100 loops each)\n"
     ]
    }
   ],
   "source": [
    "%%timeit -n 100 -r 10\n",
    "# NumPy\n",
    "def task_7(array):\n",
    "    arr = np.array(array)\n",
    "    arr[arr == 0] = -1\n",
    "    return arr\n",
    "    \n",
    "task_7([-49, -48, -45, -43, -41, -40, -39, -38, -37, -35, -32, -31, -29, -28, -23, -22, -21, -20, -19, -17, -16, -14, -13, -12, -10, -9, -8, -6, -5, -3, -2, -1, 2, 6, 8, 11, 16, 20, 21, 22, 25, 26, 27, 31, 37, 39, 42, 44, 48, 50])"
   ]
  },
  {
   "cell_type": "code",
   "execution_count": 7,
   "id": "6909a0aa",
   "metadata": {},
   "outputs": [
    {
     "name": "stdout",
     "output_type": "stream",
     "text": [
      "2.7 µs ± 237 ns per loop (mean ± std. dev. of 10 runs, 100 loops each)\n"
     ]
    }
   ],
   "source": [
    "%%timeit -n 100 -r 10\n",
    "# Iterative\n",
    "def task_7(array):\n",
    "    for i in range(len(array)):\n",
    "        if array[i] == 0:\n",
    "            array[i] = -1\n",
    "    return array\n",
    "    \n",
    "task_7([-49, -48, -45, -43, -41, -40, -39, -38, -37, -35, -32, -31, -29, -28, -23, -22, -21, -20, -19, -17, -16, -14, -13, -12, -10, -9, -8, -6, -5, -3, -2, -1, 2, 6, 8, 11, 16, 20, 21, 22, 25, 26, 27, 31, 37, 39, 42, 44, 48, 50])"
   ]
  },
  {
   "cell_type": "markdown",
   "id": "5b72e2c5",
   "metadata": {},
   "source": [
    "* 9:\n",
    "    ##### Enter number n, create array of values from n to 0  \n",
    "    10  \n",
    "    [10 9 8 7 6 5 4 3 2 1 0]"
   ]
  },
  {
   "cell_type": "code",
   "execution_count": 8,
   "id": "9c2f4c55",
   "metadata": {},
   "outputs": [
    {
     "name": "stdout",
     "output_type": "stream",
     "text": [
      "1.1 µs ± 400 ns per loop (mean ± std. dev. of 10 runs, 100 loops each)\n"
     ]
    }
   ],
   "source": [
    "%%timeit -n 100 -r 10\n",
    "# NumPy\n",
    "def task_9(n):\n",
    "    return np.arange(n, -1, -1)\n",
    "\n",
    "task_9(100)"
   ]
  },
  {
   "cell_type": "code",
   "execution_count": 9,
   "id": "4f3ac206",
   "metadata": {},
   "outputs": [
    {
     "name": "stdout",
     "output_type": "stream",
     "text": [
      "4.45 µs ± 1.28 µs per loop (mean ± std. dev. of 10 runs, 100 loops each)\n"
     ]
    }
   ],
   "source": [
    "%%timeit -n 100 -r 10\n",
    "# Iterative\n",
    "def task_9(n):\n",
    "    return [i for i in range(n, -1, -1)]\n",
    "\n",
    "task_9(100)"
   ]
  },
  {
   "cell_type": "markdown",
   "id": "9e422240",
   "metadata": {},
   "source": [
    "* 10:\n",
    "    ##### Enter numbers n and m, create array of random values n x m and calculate min, max, mean and standard deviation, round to 3 decimal digits   \n",
    "    4 5  \n",
    "    min: 0.038  \n",
    "    max: 0.946  \n",
    "    mean: 0.593  \n",
    "    standard deviation: 0.302"
   ]
  },
  {
   "cell_type": "code",
   "execution_count": 10,
   "id": "05584fcc",
   "metadata": {},
   "outputs": [
    {
     "name": "stdout",
     "output_type": "stream",
     "text": [
      "87.6 µs ± 9.8 µs per loop (mean ± std. dev. of 10 runs, 100 loops each)\n"
     ]
    }
   ],
   "source": [
    "%%timeit -n 100 -r 10\n",
    "# NumPy\n",
    "def task_10(n, m):\n",
    "    matrix = np.random.random((n, m))\n",
    "    minimum = np.min(matrix).round(3)\n",
    "    maximum = np.max(matrix).round(3)\n",
    "    mean = np.mean(matrix).round(3)\n",
    "    std_dev = np.std(matrix).round(3)\n",
    "    return minimum, maximum, mean, std_dev\n",
    "\n",
    "task_10(10, 20)"
   ]
  },
  {
   "cell_type": "code",
   "execution_count": 11,
   "id": "5ceb20cb",
   "metadata": {},
   "outputs": [
    {
     "name": "stdout",
     "output_type": "stream",
     "text": [
      "159 µs ± 5.72 µs per loop (mean ± std. dev. of 10 runs, 100 loops each)\n"
     ]
    }
   ],
   "source": [
    "%%timeit -n 100 -r 10\n",
    "# Iterative  \n",
    "def task_10(n, m):\n",
    "    matrix = [[random.uniform(0, 1) for j in range(m)] for i in range(n)]\n",
    "    \n",
    "    minimum = 2\n",
    "    maximum = -1\n",
    "    mean = 0\n",
    "    std_dev = 0\n",
    "    summ = 0\n",
    "    \n",
    "    for i in range(n):\n",
    "        for j in range(m):\n",
    "            if matrix[i][j] < minimum:\n",
    "                minimum = matrix[i][j]\n",
    "            if matrix[i][j] > maximum:\n",
    "                maximum = matrix[i][j]\n",
    "            summ += matrix[i][j]\n",
    "    \n",
    "    mean = summ / (n * m)\n",
    "    \n",
    "    summ = 0\n",
    "    for i in range(n):\n",
    "        for j in range(m):\n",
    "            summ += (matrix[i][j] - mean) ** 2\n",
    "    std_dev = math.sqrt(summ / (n * m))\n",
    "            \n",
    "    return minimum, maximum, mean, std_dev\n",
    "\n",
    "task_10(10, 20)"
   ]
  },
  {
   "cell_type": "markdown",
   "id": "647cf4b3",
   "metadata": {},
   "source": [
    "* 11:\n",
    "    ##### Create n x n array of ones and add border with zeros  \n",
    "    4  \n",
    "    [[0 0 0 0 0 0]  \n",
    "    [0 1 1 1 1 0]  \n",
    "    [0 1 1 1 1 0]  \n",
    "    [0 1 1 1 1 0]  \n",
    "    [0 1 1 1 1 0]  \n",
    "    [0 0 0 0 0 0]]"
   ]
  },
  {
   "cell_type": "code",
   "execution_count": 12,
   "id": "1fb8277f",
   "metadata": {},
   "outputs": [
    {
     "name": "stdout",
     "output_type": "stream",
     "text": [
      "55.5 µs ± 11.6 µs per loop (mean ± std. dev. of 10 runs, 100 loops each)\n"
     ]
    }
   ],
   "source": [
    "%%timeit -n 100 -r 10\n",
    "# NumPy\n",
    "def task_11(n):\n",
    "    matrix = np.ones((n, n))\n",
    "    return np.pad(matrix, pad_width=1, mode='constant', constant_values=0)\n",
    "\n",
    "task_11(100)"
   ]
  },
  {
   "cell_type": "code",
   "execution_count": 13,
   "id": "43622ddd",
   "metadata": {},
   "outputs": [
    {
     "name": "stdout",
     "output_type": "stream",
     "text": [
      "431 µs ± 76.9 µs per loop (mean ± std. dev. of 10 runs, 100 loops each)\n"
     ]
    }
   ],
   "source": [
    "%%timeit -n 100 -r 10\n",
    "# Iterative\n",
    "def task_11(n):\n",
    "    matrix = [[1 for j in range(n)] for i in range(n)]\n",
    "\n",
    "    matrix.insert(0, [0 for j in range(n)])\n",
    "    matrix.append([0 for j in range(n)])\n",
    "    \n",
    "    for i in range(n + 2):\n",
    "        matrix[i].insert(0, 0)\n",
    "        matrix[i].append(0)\n",
    "        \n",
    "    return matrix\n",
    "    \n",
    "task_11(100)"
   ]
  },
  {
   "cell_type": "markdown",
   "id": "df6245a3",
   "metadata": {},
   "source": [
    "* 15:\n",
    "    ##### Fill even columns of n x n array with with ones and odd columns with zeros  \n",
    "    5  \n",
    "    [[0 1 0 1 0]  \n",
    "    [0 1 0 1 0]  \n",
    "    [0 1 0 1 0]  \n",
    "    [0 1 0 1 0]  \n",
    "    [0 1 0 1 0]]"
   ]
  },
  {
   "cell_type": "code",
   "execution_count": 14,
   "id": "a123f4a6",
   "metadata": {},
   "outputs": [
    {
     "name": "stdout",
     "output_type": "stream",
     "text": [
      "7.71 µs ± 2.04 µs per loop (mean ± std. dev. of 10 runs, 100 loops each)\n"
     ]
    }
   ],
   "source": [
    "%%timeit -n 100 -r 10\n",
    "# NumPy\n",
    "def task_15(n):\n",
    "    matrix = np.zeros((n, n))\n",
    "    matrix[:, 1::2] = 1\n",
    "    return matrix\n",
    "\n",
    "task_15(100)"
   ]
  },
  {
   "cell_type": "code",
   "execution_count": 15,
   "id": "617f80b3",
   "metadata": {},
   "outputs": [
    {
     "name": "stdout",
     "output_type": "stream",
     "text": [
      "873 µs ± 138 µs per loop (mean ± std. dev. of 10 runs, 100 loops each)\n"
     ]
    }
   ],
   "source": [
    "%%timeit -n 100 -r 10\n",
    "# Iterative\n",
    "def task_15(n):\n",
    "    matrix = [[0 if j % 2 == 0 else 1 for j in range(n)] for i in range(n)]\n",
    "    return matrix\n",
    "\n",
    "task_15(100)"
   ]
  },
  {
   "cell_type": "markdown",
   "id": "5f4824f4",
   "metadata": {},
   "source": [
    "* 17:\n",
    "    ##### Fill array with values from 0 to n, replace all values < n/2 and > 3n/4 with their opposites  \n",
    "    10  \n",
    "    [ 0 -1 -2 -3 -4 5 6 7 -8 -9 -10]"
   ]
  },
  {
   "cell_type": "code",
   "execution_count": 16,
   "id": "10f70fa8",
   "metadata": {},
   "outputs": [
    {
     "name": "stdout",
     "output_type": "stream",
     "text": [
      "12.9 µs ± 5.44 µs per loop (mean ± std. dev. of 10 runs, 100 loops each)\n"
     ]
    }
   ],
   "source": [
    "%%timeit -n 100 -r 10\n",
    "# NumPy\n",
    "def task_17(n):\n",
    "    array = np.arange(n+1)\n",
    "    return np.where(array < n/2, -array, np.where(array > 3 * n/4, -array, array))\n",
    "\n",
    "task_17(100)"
   ]
  },
  {
   "cell_type": "code",
   "execution_count": 17,
   "id": "e2a8a9ef",
   "metadata": {},
   "outputs": [
    {
     "name": "stdout",
     "output_type": "stream",
     "text": [
      "26.4 µs ± 8.62 µs per loop (mean ± std. dev. of 10 runs, 100 loops each)\n"
     ]
    }
   ],
   "source": [
    "%%timeit -n 100 -r 10\n",
    "# Iterative\n",
    "def task_17(n):\n",
    "    return [-i if (i < n/2 or i > 3 * n/4) else i for i in range(n + 1)]\n",
    "    \n",
    "\n",
    "task_17(100)"
   ]
  },
  {
   "cell_type": "markdown",
   "id": "b9cdbb91",
   "metadata": {},
   "source": [
    "* 18:\n",
    "    ##### Generate array of n random numbers in range [0, 99), calculate number of unique numbers in sequence  \n",
    "    30  \n",
    "    In sequence [ 5 77 15 21 8 44 58 77 6 49 35 35 25 3 51 65 73 81 67 78 85 68 40 77 58 1 10 9 59 13] - 26 unique numbers"
   ]
  },
  {
   "cell_type": "code",
   "execution_count": 18,
   "id": "bf93a4c7",
   "metadata": {},
   "outputs": [
    {
     "name": "stdout",
     "output_type": "stream",
     "text": [
      "35.4 µs ± 10.9 µs per loop (mean ± std. dev. of 10 runs, 100 loops each)\n"
     ]
    }
   ],
   "source": [
    "%%timeit -n 100 -r 10\n",
    "# NumPy\n",
    "def task_18(n):\n",
    "    return len(np.unique(np.random.randint(0, 100, n)))\n",
    "\n",
    "task_18(100)"
   ]
  },
  {
   "cell_type": "code",
   "execution_count": 19,
   "id": "3444f884",
   "metadata": {},
   "outputs": [
    {
     "name": "stdout",
     "output_type": "stream",
     "text": [
      "86 µs ± 9.14 µs per loop (mean ± std. dev. of 10 runs, 100 loops each)\n"
     ]
    }
   ],
   "source": [
    "%%timeit -n 100 -r 10\n",
    "# Iterative\n",
    "def task_18(n):\n",
    "    return len(set([random.randrange(0, 100) for i in range(n)]))  \n",
    "\n",
    "task_18(100)"
   ]
  },
  {
   "cell_type": "markdown",
   "id": "529d28ae",
   "metadata": {},
   "source": [
    "### Task 2\n",
    "#### Solving system of linear equations with Cramer's rule\n",
    "___\n",
    "**System**:\n",
    "$$\n",
    "\\begin{cases}\n",
    "x_1 + x_2 + 2x_3 + 3x_4 = 1 \\\\\n",
    "3x_1 - x_2 - x_3 - 2 x_4 = -4 \\\\\n",
    "2x_1 - 3x_2 - x_3 - x_4 = -6 \\\\\n",
    "x_1 + 2x_2 + 3x_3 - x_4 = -4\n",
    "\\end{cases}\n",
    "$$\n",
    "\n",
    "Check afterwards, using:\n",
    "* matrix multiplication\n",
    "* inverse matrix\n",
    "* function ```numpy.linalg.solve()```"
   ]
  },
  {
   "cell_type": "code",
   "execution_count": 20,
   "id": "e0eba24d",
   "metadata": {},
   "outputs": [
    {
     "name": "stdout",
     "output_type": "stream",
     "text": [
      "Naive result: [-0.55555556  1.88888889 -2.          1.22222222]\n",
      "NumPy result: [-0.55555556  1.88888889 -2.          1.22222222]\n",
      "\n",
      "Check with matrix multiplication: \n",
      "Expected value [ 1 -4 -6 -4]\n",
      "Got value [ 1. -4. -6. -4.]\n",
      "\n",
      "Check with inverse matrix: \n",
      "Expected value [-0.55555556  1.88888889 -2.          1.22222222]\n",
      "Got value [-0.55555556  1.88888889 -2.          1.22222222]\n",
      "\n"
     ]
    }
   ],
   "source": [
    "matrix = np.array([\n",
    "    [1, 1, 2, 3],\n",
    "    [3, -1, -1, -2],\n",
    "    [2, -3, -1, -1],\n",
    "    [1, 2, 3, -1]\n",
    "])\n",
    "\n",
    "results = np.array([1, -4, -6, -4])\n",
    "\n",
    "\n",
    "def cramer(matrix, results):\n",
    "    det = np.linalg.det(matrix)\n",
    "    size = matrix.shape[0]\n",
    "    \n",
    "    if np.allclose(det, 0):\n",
    "        print(\"Determinant is zero, aborting.\")\n",
    "        return solution\n",
    "    \n",
    "    solution = np.zeros(size)\n",
    "    \n",
    "    for i in range(size):\n",
    "        temp_matrix = np.copy(matrix)\n",
    "        temp_matrix[:, i] = np.copy(results)\n",
    "        solution[i] = np.linalg.det(temp_matrix) / det   \n",
    "    \n",
    "    return solution\n",
    "\n",
    "  \n",
    "    \n",
    "solution_cramer = cramer(matrix, results)\n",
    "print(f\"Naive result: {solution_cramer}\") \n",
    "\n",
    "solution_numpy = np.linalg.solve(matrix, results)\n",
    "print(f\"NumPy result: {solution_numpy}\\n\")\n",
    "assert np.allclose(solution_numpy, solution_cramer)\n",
    "\n",
    "check_mult = np.dot(matrix, solution_cramer)\n",
    "print(\"Check with matrix multiplication: \")\n",
    "print(f\"Expected value {results}\")\n",
    "print(f\"Got value {check_mult}\\n\")\n",
    "assert np.allclose(results, check_mult)\n",
    "\n",
    "check_inv = np.dot(np.linalg.inv(matrix), results)\n",
    "print(\"Check with inverse matrix: \")\n",
    "print(f\"Expected value {check_inv}\")\n",
    "print(f\"Got value {solution_cramer}\\n\")\n",
    "assert np.allclose(check_inv, solution_cramer)"
   ]
  },
  {
   "cell_type": "markdown",
   "id": "37fc44a9",
   "metadata": {},
   "source": [
    "### Task 3\n",
    "#### Evaluating matrix expression\n",
    "___\n",
    "Expression: $2(A + B)(2B - A)$,\n",
    "\n",
    "where \n",
    "$\n",
    "A =\n",
    "\\begin{pmatrix}\n",
    "2 & 3 & -1 \\\\\n",
    "4 & 5 & 2 \\\\\n",
    "-1 & 0 & 7\n",
    "\\end{pmatrix},\n",
    "B = \n",
    "\\begin{pmatrix}\n",
    "-1 & 0 & 5 \\\\\n",
    "0 & 1 & 3 \\\\\n",
    "2 & -2 & 4\n",
    "\\end{pmatrix}\n",
    "$\n",
    "\n",
    "Evaluate, using:\n",
    "* NumPy functions\n",
    "* iterative constructions (cycles, lists inclusions etc.)\n",
    "\n",
    "For both versions calculate time and draw conclusions."
   ]
  },
  {
   "cell_type": "code",
   "execution_count": 21,
   "id": "9be0336e",
   "metadata": {},
   "outputs": [],
   "source": [
    "A = [\n",
    "    [2, 3, -1],\n",
    "    [4, 5, 2],\n",
    "    [-1, 0, 7]\n",
    "]\n",
    "\n",
    "A_ = np.array(A)\n",
    "\n",
    "\n",
    "B = [\n",
    "    [-1, 0, 5],\n",
    "    [0, 1, 3],\n",
    "    [2, -2, 4]\n",
    "]\n",
    "\n",
    "B_ = np.array(B)\n",
    "\n",
    "\n",
    "def mult_matrices(A, B):\n",
    "    a_rows, a_cols = len(A), len(A[0])\n",
    "    b_rows, b_cols = len(B), len(B[0])\n",
    "    if a_cols != b_rows:\n",
    "        print(\"Wrong dimensions, multiplication is impossible.\")\n",
    "        return []\n",
    "    \n",
    "    return [[sum([x*y for (x, y) in zip(row, col)]) for col in zip(*B)] for row in A]\n",
    "    \n",
    "def add_matrices(A, B):\n",
    "    a_rows, a_cols = len(A), len(A[0])\n",
    "    b_rows, b_cols = len(B), len(B[0])\n",
    "    if a_rows != b_rows or a_cols != b_cols:\n",
    "        print(\"Wrong dimensions, addition is impossible.\")\n",
    "        return []\n",
    "\n",
    "    return [[A[i][j] + B[i][j] for j in range(a_cols)] for i in range(a_rows)]\n",
    "\n",
    "def scalar_mult_matrix(scalar, matrix):\n",
    "    rows, cols = len(matrix), len(matrix[0])\n",
    "    return [[matrix[i][j] * scalar for j in range(cols)] for i in range(rows)]"
   ]
  },
  {
   "cell_type": "code",
   "execution_count": 22,
   "id": "5e835367",
   "metadata": {},
   "outputs": [
    {
     "name": "stdout",
     "output_type": "stream",
     "text": [
      "4.11 µs ± 1.31 µs per loop (mean ± std. dev. of 10 runs, 100 loops each)\n"
     ]
    }
   ],
   "source": [
    "%%timeit -n 100 -r 10\n",
    "2 * (A_ + B_) @ (2 * B_ - A_)"
   ]
  },
  {
   "cell_type": "code",
   "execution_count": 23,
   "id": "e086c29f",
   "metadata": {},
   "outputs": [
    {
     "name": "stdout",
     "output_type": "stream",
     "text": [
      "29.9 µs ± 3.71 µs per loop (mean ± std. dev. of 10 runs, 100 loops each)\n"
     ]
    }
   ],
   "source": [
    "%%timeit -n 100 -r 10\n",
    "scalar_mult_matrix(\n",
    "    2, \n",
    "    mult_matrices(\n",
    "        add_matrices(A, B), \n",
    "        add_matrices(\n",
    "            scalar_mult_matrix(2, B),\n",
    "            scalar_mult_matrix(-1, A)\n",
    "        )\n",
    "    )\n",
    ")\n"
   ]
  },
  {
   "cell_type": "code",
   "execution_count": 24,
   "id": "a6539ae0",
   "metadata": {},
   "outputs": [],
   "source": [
    "result_numpy = 2 * (A_ + B_) @ (2 * B_ - A_)\n",
    "result_iterative = scalar_mult_matrix(\n",
    "    2, \n",
    "    mult_matrices(\n",
    "        add_matrices(A, B), \n",
    "        add_matrices(\n",
    "            scalar_mult_matrix(2, B),\n",
    "            scalar_mult_matrix(-1, A)\n",
    "        )\n",
    "    )\n",
    ")\n",
    "\n",
    "assert np.allclose(result_numpy, result_iterative)"
   ]
  }
 ],
 "metadata": {
  "kernelspec": {
   "display_name": "Python 3 (ipykernel)",
   "language": "python",
   "name": "python3"
  },
  "language_info": {
   "codemirror_mode": {
    "name": "ipython",
    "version": 3
   },
   "file_extension": ".py",
   "mimetype": "text/x-python",
   "name": "python",
   "nbconvert_exporter": "python",
   "pygments_lexer": "ipython3",
   "version": "3.9.13"
  }
 },
 "nbformat": 4,
 "nbformat_minor": 5
}
