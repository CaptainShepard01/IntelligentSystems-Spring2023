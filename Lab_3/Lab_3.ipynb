{
 "cells": [
  {
   "cell_type": "markdown",
   "id": "28aba950",
   "metadata": {},
   "source": [
    "## Complete tasks, using Pandas"
   ]
  },
  {
   "cell_type": "code",
   "execution_count": 1,
   "id": "81c86273",
   "metadata": {},
   "outputs": [],
   "source": [
    "import pandas as pd\n",
    "import numpy as np"
   ]
  },
  {
   "cell_type": "code",
   "execution_count": 2,
   "id": "8c202a37",
   "metadata": {},
   "outputs": [
    {
     "data": {
      "text/html": [
       "<div>\n",
       "<style scoped>\n",
       "    .dataframe tbody tr th:only-of-type {\n",
       "        vertical-align: middle;\n",
       "    }\n",
       "\n",
       "    .dataframe tbody tr th {\n",
       "        vertical-align: top;\n",
       "    }\n",
       "\n",
       "    .dataframe thead th {\n",
       "        text-align: right;\n",
       "    }\n",
       "</style>\n",
       "<table border=\"1\" class=\"dataframe\">\n",
       "  <thead>\n",
       "    <tr style=\"text-align: right;\">\n",
       "      <th></th>\n",
       "      <th>Id</th>\n",
       "      <th>Name</th>\n",
       "      <th>Year</th>\n",
       "      <th>Gender</th>\n",
       "      <th>Count</th>\n",
       "    </tr>\n",
       "  </thead>\n",
       "  <tbody>\n",
       "    <tr>\n",
       "      <th>0</th>\n",
       "      <td>1</td>\n",
       "      <td>Mary</td>\n",
       "      <td>1880</td>\n",
       "      <td>F</td>\n",
       "      <td>7065</td>\n",
       "    </tr>\n",
       "    <tr>\n",
       "      <th>1</th>\n",
       "      <td>2</td>\n",
       "      <td>Anna</td>\n",
       "      <td>1880</td>\n",
       "      <td>F</td>\n",
       "      <td>2604</td>\n",
       "    </tr>\n",
       "    <tr>\n",
       "      <th>2</th>\n",
       "      <td>3</td>\n",
       "      <td>Emma</td>\n",
       "      <td>1880</td>\n",
       "      <td>F</td>\n",
       "      <td>2003</td>\n",
       "    </tr>\n",
       "    <tr>\n",
       "      <th>3</th>\n",
       "      <td>4</td>\n",
       "      <td>Elizabeth</td>\n",
       "      <td>1880</td>\n",
       "      <td>F</td>\n",
       "      <td>1939</td>\n",
       "    </tr>\n",
       "    <tr>\n",
       "      <th>4</th>\n",
       "      <td>5</td>\n",
       "      <td>Minnie</td>\n",
       "      <td>1880</td>\n",
       "      <td>F</td>\n",
       "      <td>1746</td>\n",
       "    </tr>\n",
       "    <tr>\n",
       "      <th>...</th>\n",
       "      <td>...</td>\n",
       "      <td>...</td>\n",
       "      <td>...</td>\n",
       "      <td>...</td>\n",
       "      <td>...</td>\n",
       "    </tr>\n",
       "    <tr>\n",
       "      <th>1825428</th>\n",
       "      <td>1825429</td>\n",
       "      <td>Zykeem</td>\n",
       "      <td>2014</td>\n",
       "      <td>M</td>\n",
       "      <td>5</td>\n",
       "    </tr>\n",
       "    <tr>\n",
       "      <th>1825429</th>\n",
       "      <td>1825430</td>\n",
       "      <td>Zymeer</td>\n",
       "      <td>2014</td>\n",
       "      <td>M</td>\n",
       "      <td>5</td>\n",
       "    </tr>\n",
       "    <tr>\n",
       "      <th>1825430</th>\n",
       "      <td>1825431</td>\n",
       "      <td>Zymiere</td>\n",
       "      <td>2014</td>\n",
       "      <td>M</td>\n",
       "      <td>5</td>\n",
       "    </tr>\n",
       "    <tr>\n",
       "      <th>1825431</th>\n",
       "      <td>1825432</td>\n",
       "      <td>Zyran</td>\n",
       "      <td>2014</td>\n",
       "      <td>M</td>\n",
       "      <td>5</td>\n",
       "    </tr>\n",
       "    <tr>\n",
       "      <th>1825432</th>\n",
       "      <td>1825433</td>\n",
       "      <td>Zyrin</td>\n",
       "      <td>2014</td>\n",
       "      <td>M</td>\n",
       "      <td>5</td>\n",
       "    </tr>\n",
       "  </tbody>\n",
       "</table>\n",
       "<p>1825433 rows × 5 columns</p>\n",
       "</div>"
      ],
      "text/plain": [
       "              Id       Name  Year Gender  Count\n",
       "0              1       Mary  1880      F   7065\n",
       "1              2       Anna  1880      F   2604\n",
       "2              3       Emma  1880      F   2003\n",
       "3              4  Elizabeth  1880      F   1939\n",
       "4              5     Minnie  1880      F   1746\n",
       "...          ...        ...   ...    ...    ...\n",
       "1825428  1825429     Zykeem  2014      M      5\n",
       "1825429  1825430     Zymeer  2014      M      5\n",
       "1825430  1825431    Zymiere  2014      M      5\n",
       "1825431  1825432      Zyran  2014      M      5\n",
       "1825432  1825433      Zyrin  2014      M      5\n",
       "\n",
       "[1825433 rows x 5 columns]"
      ]
     },
     "execution_count": 2,
     "metadata": {},
     "output_type": "execute_result"
    }
   ],
   "source": [
    "df = pd.read_csv('./NationalNames.csv')\n",
    "df"
   ]
  },
  {
   "cell_type": "markdown",
   "id": "77333a2a",
   "metadata": {},
   "source": [
    "### 1) Show first 8 rows of data."
   ]
  },
  {
   "cell_type": "code",
   "execution_count": 3,
   "id": "1d133ffe",
   "metadata": {},
   "outputs": [
    {
     "data": {
      "text/html": [
       "<div>\n",
       "<style scoped>\n",
       "    .dataframe tbody tr th:only-of-type {\n",
       "        vertical-align: middle;\n",
       "    }\n",
       "\n",
       "    .dataframe tbody tr th {\n",
       "        vertical-align: top;\n",
       "    }\n",
       "\n",
       "    .dataframe thead th {\n",
       "        text-align: right;\n",
       "    }\n",
       "</style>\n",
       "<table border=\"1\" class=\"dataframe\">\n",
       "  <thead>\n",
       "    <tr style=\"text-align: right;\">\n",
       "      <th></th>\n",
       "      <th>Id</th>\n",
       "      <th>Name</th>\n",
       "      <th>Year</th>\n",
       "      <th>Gender</th>\n",
       "      <th>Count</th>\n",
       "    </tr>\n",
       "  </thead>\n",
       "  <tbody>\n",
       "    <tr>\n",
       "      <th>0</th>\n",
       "      <td>1</td>\n",
       "      <td>Mary</td>\n",
       "      <td>1880</td>\n",
       "      <td>F</td>\n",
       "      <td>7065</td>\n",
       "    </tr>\n",
       "    <tr>\n",
       "      <th>1</th>\n",
       "      <td>2</td>\n",
       "      <td>Anna</td>\n",
       "      <td>1880</td>\n",
       "      <td>F</td>\n",
       "      <td>2604</td>\n",
       "    </tr>\n",
       "    <tr>\n",
       "      <th>2</th>\n",
       "      <td>3</td>\n",
       "      <td>Emma</td>\n",
       "      <td>1880</td>\n",
       "      <td>F</td>\n",
       "      <td>2003</td>\n",
       "    </tr>\n",
       "    <tr>\n",
       "      <th>3</th>\n",
       "      <td>4</td>\n",
       "      <td>Elizabeth</td>\n",
       "      <td>1880</td>\n",
       "      <td>F</td>\n",
       "      <td>1939</td>\n",
       "    </tr>\n",
       "    <tr>\n",
       "      <th>4</th>\n",
       "      <td>5</td>\n",
       "      <td>Minnie</td>\n",
       "      <td>1880</td>\n",
       "      <td>F</td>\n",
       "      <td>1746</td>\n",
       "    </tr>\n",
       "    <tr>\n",
       "      <th>5</th>\n",
       "      <td>6</td>\n",
       "      <td>Margaret</td>\n",
       "      <td>1880</td>\n",
       "      <td>F</td>\n",
       "      <td>1578</td>\n",
       "    </tr>\n",
       "    <tr>\n",
       "      <th>6</th>\n",
       "      <td>7</td>\n",
       "      <td>Ida</td>\n",
       "      <td>1880</td>\n",
       "      <td>F</td>\n",
       "      <td>1472</td>\n",
       "    </tr>\n",
       "    <tr>\n",
       "      <th>7</th>\n",
       "      <td>8</td>\n",
       "      <td>Alice</td>\n",
       "      <td>1880</td>\n",
       "      <td>F</td>\n",
       "      <td>1414</td>\n",
       "    </tr>\n",
       "  </tbody>\n",
       "</table>\n",
       "</div>"
      ],
      "text/plain": [
       "   Id       Name  Year Gender  Count\n",
       "0   1       Mary  1880      F   7065\n",
       "1   2       Anna  1880      F   2604\n",
       "2   3       Emma  1880      F   2003\n",
       "3   4  Elizabeth  1880      F   1939\n",
       "4   5     Minnie  1880      F   1746\n",
       "5   6   Margaret  1880      F   1578\n",
       "6   7        Ida  1880      F   1472\n",
       "7   8      Alice  1880      F   1414"
      ]
     },
     "execution_count": 3,
     "metadata": {},
     "output_type": "execute_result"
    }
   ],
   "source": [
    "df[:8]"
   ]
  },
  {
   "cell_type": "markdown",
   "id": "dfe6c8dc",
   "metadata": {},
   "source": [
    "### 2) Show last 8 rows of data."
   ]
  },
  {
   "cell_type": "code",
   "execution_count": 4,
   "id": "a676bfbc",
   "metadata": {},
   "outputs": [
    {
     "data": {
      "text/html": [
       "<div>\n",
       "<style scoped>\n",
       "    .dataframe tbody tr th:only-of-type {\n",
       "        vertical-align: middle;\n",
       "    }\n",
       "\n",
       "    .dataframe tbody tr th {\n",
       "        vertical-align: top;\n",
       "    }\n",
       "\n",
       "    .dataframe thead th {\n",
       "        text-align: right;\n",
       "    }\n",
       "</style>\n",
       "<table border=\"1\" class=\"dataframe\">\n",
       "  <thead>\n",
       "    <tr style=\"text-align: right;\">\n",
       "      <th></th>\n",
       "      <th>Id</th>\n",
       "      <th>Name</th>\n",
       "      <th>Year</th>\n",
       "      <th>Gender</th>\n",
       "      <th>Count</th>\n",
       "    </tr>\n",
       "  </thead>\n",
       "  <tbody>\n",
       "    <tr>\n",
       "      <th>1825425</th>\n",
       "      <td>1825426</td>\n",
       "      <td>Zo</td>\n",
       "      <td>2014</td>\n",
       "      <td>M</td>\n",
       "      <td>5</td>\n",
       "    </tr>\n",
       "    <tr>\n",
       "      <th>1825426</th>\n",
       "      <td>1825427</td>\n",
       "      <td>Zyeir</td>\n",
       "      <td>2014</td>\n",
       "      <td>M</td>\n",
       "      <td>5</td>\n",
       "    </tr>\n",
       "    <tr>\n",
       "      <th>1825427</th>\n",
       "      <td>1825428</td>\n",
       "      <td>Zyel</td>\n",
       "      <td>2014</td>\n",
       "      <td>M</td>\n",
       "      <td>5</td>\n",
       "    </tr>\n",
       "    <tr>\n",
       "      <th>1825428</th>\n",
       "      <td>1825429</td>\n",
       "      <td>Zykeem</td>\n",
       "      <td>2014</td>\n",
       "      <td>M</td>\n",
       "      <td>5</td>\n",
       "    </tr>\n",
       "    <tr>\n",
       "      <th>1825429</th>\n",
       "      <td>1825430</td>\n",
       "      <td>Zymeer</td>\n",
       "      <td>2014</td>\n",
       "      <td>M</td>\n",
       "      <td>5</td>\n",
       "    </tr>\n",
       "    <tr>\n",
       "      <th>1825430</th>\n",
       "      <td>1825431</td>\n",
       "      <td>Zymiere</td>\n",
       "      <td>2014</td>\n",
       "      <td>M</td>\n",
       "      <td>5</td>\n",
       "    </tr>\n",
       "    <tr>\n",
       "      <th>1825431</th>\n",
       "      <td>1825432</td>\n",
       "      <td>Zyran</td>\n",
       "      <td>2014</td>\n",
       "      <td>M</td>\n",
       "      <td>5</td>\n",
       "    </tr>\n",
       "    <tr>\n",
       "      <th>1825432</th>\n",
       "      <td>1825433</td>\n",
       "      <td>Zyrin</td>\n",
       "      <td>2014</td>\n",
       "      <td>M</td>\n",
       "      <td>5</td>\n",
       "    </tr>\n",
       "  </tbody>\n",
       "</table>\n",
       "</div>"
      ],
      "text/plain": [
       "              Id     Name  Year Gender  Count\n",
       "1825425  1825426       Zo  2014      M      5\n",
       "1825426  1825427    Zyeir  2014      M      5\n",
       "1825427  1825428     Zyel  2014      M      5\n",
       "1825428  1825429   Zykeem  2014      M      5\n",
       "1825429  1825430   Zymeer  2014      M      5\n",
       "1825430  1825431  Zymiere  2014      M      5\n",
       "1825431  1825432    Zyran  2014      M      5\n",
       "1825432  1825433    Zyrin  2014      M      5"
      ]
     },
     "execution_count": 4,
     "metadata": {},
     "output_type": "execute_result"
    }
   ],
   "source": [
    "df[-8:]"
   ]
  },
  {
   "cell_type": "markdown",
   "id": "c3bd6d67",
   "metadata": {},
   "source": [
    "### 3) Get names of columns"
   ]
  },
  {
   "cell_type": "code",
   "execution_count": 5,
   "id": "34ff78fe",
   "metadata": {},
   "outputs": [
    {
     "data": {
      "text/plain": [
       "Index(['Id', 'Name', 'Year', 'Gender', 'Count'], dtype='object')"
      ]
     },
     "execution_count": 5,
     "metadata": {},
     "output_type": "execute_result"
    }
   ],
   "source": [
    "df.columns"
   ]
  },
  {
   "cell_type": "markdown",
   "id": "6083dc77",
   "metadata": {},
   "source": [
    "### 5) Find the number of unique names in dataset"
   ]
  },
  {
   "cell_type": "code",
   "execution_count": 6,
   "id": "12827bde",
   "metadata": {},
   "outputs": [
    {
     "data": {
      "text/plain": [
       "93889"
      ]
     },
     "execution_count": 6,
     "metadata": {},
     "output_type": "execute_result"
    }
   ],
   "source": [
    "df['Name'].nunique()"
   ]
  },
  {
   "cell_type": "markdown",
   "id": "bea5eef0",
   "metadata": {},
   "source": [
    "### 10) Count the number of unique names for each year"
   ]
  },
  {
   "cell_type": "code",
   "execution_count": 7,
   "id": "a5d70308",
   "metadata": {},
   "outputs": [
    {
     "data": {
      "text/plain": [
       "Year\n",
       "1880     1889\n",
       "1881     1830\n",
       "1882     2012\n",
       "1883     1962\n",
       "1884     2158\n",
       "        ...  \n",
       "2010    31603\n",
       "2011    31418\n",
       "2012    31236\n",
       "2013    30774\n",
       "2014    30579\n",
       "Name: Name, Length: 135, dtype: int64"
      ]
     },
     "execution_count": 7,
     "metadata": {},
     "output_type": "execute_result"
    }
   ],
   "source": [
    "df.groupby('Year')['Name'].nunique()"
   ]
  },
  {
   "cell_type": "markdown",
   "id": "374eabe9",
   "metadata": {},
   "source": [
    "### 11) Find a year with the highest number of unique names"
   ]
  },
  {
   "cell_type": "code",
   "execution_count": 8,
   "id": "d7387124",
   "metadata": {},
   "outputs": [
    {
     "data": {
      "text/plain": [
       "Year\n",
       "2008    32488\n",
       "Name: Name, dtype: int64"
      ]
     },
     "execution_count": 8,
     "metadata": {},
     "output_type": "execute_result"
    }
   ],
   "source": [
    "df.groupby('Year')['Name'].nunique().sort_values(ascending=False).head(1)"
   ]
  },
  {
   "cell_type": "markdown",
   "id": "685f43f5",
   "metadata": {},
   "source": [
    "### 12) Find the most popular name of the year with most unique names"
   ]
  },
  {
   "cell_type": "code",
   "execution_count": 9,
   "id": "20b91dbe",
   "metadata": {},
   "outputs": [
    {
     "data": {
      "text/plain": [
       "'Jacob'"
      ]
     },
     "execution_count": 9,
     "metadata": {},
     "output_type": "execute_result"
    }
   ],
   "source": [
    "most_unique_year = df.groupby('Year')['Name'].nunique().idxmax()\n",
    "year_df = df[df['Year'] == most_unique_year]\n",
    "year_df.sort_values('Count', ascending=False).iloc[0]['Name']"
   ]
  },
  {
   "cell_type": "markdown",
   "id": "d2b3aedc",
   "metadata": {},
   "source": [
    "### 13) Find a year when name 'Jacob' was the most popular among female names"
   ]
  },
  {
   "cell_type": "code",
   "execution_count": 10,
   "id": "016363ff",
   "metadata": {},
   "outputs": [
    {
     "data": {
      "text/html": [
       "<div>\n",
       "<style scoped>\n",
       "    .dataframe tbody tr th:only-of-type {\n",
       "        vertical-align: middle;\n",
       "    }\n",
       "\n",
       "    .dataframe tbody tr th {\n",
       "        vertical-align: top;\n",
       "    }\n",
       "\n",
       "    .dataframe thead th {\n",
       "        text-align: right;\n",
       "    }\n",
       "</style>\n",
       "<table border=\"1\" class=\"dataframe\">\n",
       "  <thead>\n",
       "    <tr style=\"text-align: right;\">\n",
       "      <th></th>\n",
       "      <th>Id</th>\n",
       "      <th>Name</th>\n",
       "      <th>Year</th>\n",
       "      <th>Gender</th>\n",
       "      <th>Count</th>\n",
       "    </tr>\n",
       "  </thead>\n",
       "  <tbody>\n",
       "    <tr>\n",
       "      <th>1455556</th>\n",
       "      <td>1455557</td>\n",
       "      <td>Jacob</td>\n",
       "      <td>2004</td>\n",
       "      <td>F</td>\n",
       "      <td>171</td>\n",
       "    </tr>\n",
       "  </tbody>\n",
       "</table>\n",
       "</div>"
      ],
      "text/plain": [
       "              Id   Name  Year Gender  Count\n",
       "1455556  1455557  Jacob  2004      F    171"
      ]
     },
     "execution_count": 10,
     "metadata": {},
     "output_type": "execute_result"
    }
   ],
   "source": [
    "female_df = df[df['Gender'] == 'F']\n",
    "jacob_df = female_df[female_df['Name'] == 'Jacob']\n",
    "jacob_df.sort_values('Count', ascending=False).head(1)"
   ]
  },
  {
   "cell_type": "markdown",
   "id": "b97fbf93",
   "metadata": {},
   "source": [
    "### 14) Find a year with the highest number of gender-neutral names (male and female names at once)"
   ]
  },
  {
   "cell_type": "code",
   "execution_count": 11,
   "id": "f71ff146",
   "metadata": {},
   "outputs": [
    {
     "data": {
      "text/plain": [
       "Year\n",
       "2008    2557\n",
       "Name: Count, dtype: int64"
      ]
     },
     "execution_count": 11,
     "metadata": {},
     "output_type": "execute_result"
    }
   ],
   "source": [
    "male_names = df[df['Gender'] == 'M'].groupby(['Year', 'Name'])['Count'].sum()\n",
    "female_names = df[df['Gender'] == 'F'].groupby(['Year', 'Name'])['Count'].sum()\n",
    "gender_neutral_names = male_names.index.intersection(female_names.index)\n",
    "male_names = male_names.loc[gender_neutral_names]\n",
    "gender_neutral_counts = male_names.groupby(level=0).count()\n",
    "gender_neutral_counts.sort_values(ascending=False).head(1)"
   ]
  },
  {
   "cell_type": "markdown",
   "id": "c80429fc",
   "metadata": {},
   "source": [
    "### 15) Find the number of births for each year"
   ]
  },
  {
   "cell_type": "code",
   "execution_count": 12,
   "id": "9045bedc",
   "metadata": {},
   "outputs": [
    {
     "data": {
      "text/plain": [
       "Year\n",
       "1880    201484\n",
       "1881    192699\n",
       "1882    221538\n",
       "1883    216950\n",
       "1884    243467\n",
       "Name: Count, dtype: int64"
      ]
     },
     "execution_count": 12,
     "metadata": {},
     "output_type": "execute_result"
    }
   ],
   "source": [
    "df.groupby('Year')['Count'].sum().head()"
   ]
  },
  {
   "cell_type": "markdown",
   "id": "9d7b4546",
   "metadata": {},
   "source": [
    "### 16) Find a year when the most children were born"
   ]
  },
  {
   "cell_type": "code",
   "execution_count": 13,
   "id": "012b9f06",
   "metadata": {},
   "outputs": [
    {
     "data": {
      "text/plain": [
       "1957"
      ]
     },
     "execution_count": 13,
     "metadata": {},
     "output_type": "execute_result"
    }
   ],
   "source": [
    "df.groupby('Year')['Count'].sum().idxmax()"
   ]
  },
  {
   "cell_type": "markdown",
   "id": "7f6ac2a8",
   "metadata": {},
   "source": [
    "### 17) Find the number of girls and boys who were born each year"
   ]
  },
  {
   "cell_type": "code",
   "execution_count": 14,
   "id": "29fccbee",
   "metadata": {},
   "outputs": [
    {
     "data": {
      "text/html": [
       "<div>\n",
       "<style scoped>\n",
       "    .dataframe tbody tr th:only-of-type {\n",
       "        vertical-align: middle;\n",
       "    }\n",
       "\n",
       "    .dataframe tbody tr th {\n",
       "        vertical-align: top;\n",
       "    }\n",
       "\n",
       "    .dataframe thead th {\n",
       "        text-align: right;\n",
       "    }\n",
       "</style>\n",
       "<table border=\"1\" class=\"dataframe\">\n",
       "  <thead>\n",
       "    <tr style=\"text-align: right;\">\n",
       "      <th>Gender</th>\n",
       "      <th>F</th>\n",
       "      <th>M</th>\n",
       "    </tr>\n",
       "    <tr>\n",
       "      <th>Year</th>\n",
       "      <th></th>\n",
       "      <th></th>\n",
       "    </tr>\n",
       "  </thead>\n",
       "  <tbody>\n",
       "    <tr>\n",
       "      <th>1880</th>\n",
       "      <td>90993</td>\n",
       "      <td>110491</td>\n",
       "    </tr>\n",
       "    <tr>\n",
       "      <th>1881</th>\n",
       "      <td>91954</td>\n",
       "      <td>100745</td>\n",
       "    </tr>\n",
       "    <tr>\n",
       "      <th>1882</th>\n",
       "      <td>107850</td>\n",
       "      <td>113688</td>\n",
       "    </tr>\n",
       "    <tr>\n",
       "      <th>1883</th>\n",
       "      <td>112321</td>\n",
       "      <td>104629</td>\n",
       "    </tr>\n",
       "    <tr>\n",
       "      <th>1884</th>\n",
       "      <td>129022</td>\n",
       "      <td>114445</td>\n",
       "    </tr>\n",
       "  </tbody>\n",
       "</table>\n",
       "</div>"
      ],
      "text/plain": [
       "Gender       F       M\n",
       "Year                  \n",
       "1880     90993  110491\n",
       "1881     91954  100745\n",
       "1882    107850  113688\n",
       "1883    112321  104629\n",
       "1884    129022  114445"
      ]
     },
     "execution_count": 14,
     "metadata": {},
     "output_type": "execute_result"
    }
   ],
   "source": [
    "df.groupby(['Year', 'Gender'])['Count'].sum().unstack().head()"
   ]
  },
  {
   "cell_type": "markdown",
   "id": "f2becc7a",
   "metadata": {},
   "source": [
    "### 18) Count the number of years when there were born more girls than boys"
   ]
  },
  {
   "cell_type": "code",
   "execution_count": 15,
   "id": "d5826cba",
   "metadata": {},
   "outputs": [
    {
     "data": {
      "text/plain": [
       "54"
      ]
     },
     "execution_count": 15,
     "metadata": {},
     "output_type": "execute_result"
    }
   ],
   "source": [
    "boys_girls_count = df.groupby(['Year', 'Gender'])['Count'].sum().unstack()\n",
    "boys_girls_count[boys_girls_count['F'] > boys_girls_count['M']].shape[0]"
   ]
  },
  {
   "cell_type": "markdown",
   "id": "f65d5606",
   "metadata": {},
   "source": [
    "### 21) Count how many times the name 'Barbara' was given to boys"
   ]
  },
  {
   "cell_type": "code",
   "execution_count": 16,
   "id": "eae474d2",
   "metadata": {},
   "outputs": [
    {
     "data": {
      "text/plain": [
       "4139"
      ]
     },
     "execution_count": 16,
     "metadata": {},
     "output_type": "execute_result"
    }
   ],
   "source": [
    "df[(df['Name'] == 'Barbara') & (df['Gender'] == 'M')]['Count'].sum()"
   ]
  },
  {
   "cell_type": "markdown",
   "id": "f13cb66b",
   "metadata": {},
   "source": [
    "### 22) Count for how many years were the observations made"
   ]
  },
  {
   "cell_type": "code",
   "execution_count": 17,
   "id": "010dbd32",
   "metadata": {},
   "outputs": [
    {
     "data": {
      "text/plain": [
       "'The observations were made for 135 years.'"
      ]
     },
     "execution_count": 17,
     "metadata": {},
     "output_type": "execute_result"
    }
   ],
   "source": [
    "num_of_years = len(df['Year'].unique())\n",
    "f\"The observations were made for {num_of_years} years.\""
   ]
  },
  {
   "cell_type": "markdown",
   "id": "8703a179",
   "metadata": {},
   "source": [
    "### 23) Find the most popular gender-neutral names (given each year)"
   ]
  },
  {
   "cell_type": "code",
   "execution_count": 18,
   "id": "05990e1e",
   "metadata": {},
   "outputs": [
    {
     "data": {
      "text/plain": [
       "array(['Mary', 'Anna', 'Emma', 'Elizabeth', 'Minnie', 'Margaret', 'Ida',\n",
       "       'Alice', 'Bertha', 'Sarah', 'Annie', 'Clara', 'Ella', 'Florence',\n",
       "       'Cora', 'Martha', 'Laura', 'Nellie', 'Grace', 'Carrie', 'Maude',\n",
       "       'Mabel', 'Bessie', 'Jennie', 'Gertrude', 'Julia', 'Hattie',\n",
       "       'Edith', 'Mattie', 'Rose', 'Catherine', 'Lillian', 'Ada', 'Lillie',\n",
       "       'Helen', 'Jessie', 'Louise', 'Ethel', 'Lula', 'Eva', 'Frances',\n",
       "       'Lena', 'Lucy', 'Edna', 'Maggie', 'Pearl', 'Daisy', 'Fannie',\n",
       "       'Josephine', 'Dora', 'Rosa', 'Katherine', 'Agnes', 'Marie', 'Nora',\n",
       "       'May', 'Mamie', 'Blanche', 'Stella', 'Ellen', 'Nancy', 'Effie',\n",
       "       'Sallie', 'Nettie', 'Della', 'Lizzie', 'Flora', 'Susie', 'Mae',\n",
       "       'Etta', 'Harriet', 'Sadie', 'Caroline', 'Katie', 'Lydia', 'Elsie',\n",
       "       'Kate', 'Susan', 'Mollie', 'Alma', 'Addie', 'Georgia', 'Eliza',\n",
       "       'Lottie', 'Amanda', 'Charlotte', 'Rebecca', 'Ruth', 'Viola',\n",
       "       'Olive', 'Amelia', 'Hannah', 'Jane', 'Virginia', 'Emily',\n",
       "       'Matilda', 'Irene', 'Kathryn', 'Esther', 'Willie', 'Henrietta',\n",
       "       'Ollie', 'Amy', 'Rachel', 'Sara', 'Estella', 'Theresa', 'Augusta',\n",
       "       'Ora', 'Pauline', 'Josie', 'Lola', 'Sophia', 'Leona', 'Anne',\n",
       "       'Mildred', 'Ann', 'Callie', 'Lou', 'Delia', 'Eleanor', 'Barbara',\n",
       "       'Iva', 'Louisa', 'Maria', 'Evelyn', 'Estelle', 'Nina', 'Betty',\n",
       "       'Marion', 'Dorothy', 'Luella', 'Inez', 'Lela', 'Rosie', 'Allie',\n",
       "       'Millie', 'Janie', 'Cornelia', 'Victoria', 'Ruby', 'Winifred',\n",
       "       'Alta', 'Celia', 'Christine', 'Beatrice', 'Mable', 'Myra',\n",
       "       'Sophie', 'Isabel', 'Sylvia', 'Carolyn', 'Isabelle', 'Leila',\n",
       "       'Sally', 'Ina', 'Nell', 'Alberta', 'Katharine', 'Lora', 'Rena',\n",
       "       'Mina', 'Rhoda', 'Abbie', 'Eunice', 'Ola', 'Lenora', 'Christina',\n",
       "       'Sue', 'Johanna', 'Lilly', 'Lucinda', 'Roxie', 'Cynthia', 'Hilda',\n",
       "       'Bernice', 'Genevieve', 'Jean', 'Marian', 'Francis', 'Jeanette',\n",
       "       'Adeline', 'Leah', 'Lois', 'Hallie', 'Isabella', 'Olga', 'Phoebe',\n",
       "       'Teresa', 'Lina', 'Winnie', 'Claudia', 'Marguerite', 'Vera',\n",
       "       'Cecelia', 'Bess', 'Emilie', 'John', 'Rosetta', 'Verna', 'Cecilia',\n",
       "       'Elva', 'Olivia', 'Ophelia', 'Georgie', 'Elnora', 'Violet',\n",
       "       'Adele', 'Lily', 'Loretta', 'Polly', 'Eugenia', 'Lucille',\n",
       "       'Rosalie', 'Angie', 'Dessie', 'Lila', 'Regina', 'Selma',\n",
       "       'Wilhelmina', 'Bridget', 'Freda', 'Jeannette', 'Mandy', 'Roberta',\n",
       "       'Cassie', 'Corinne', 'Ivy', 'Melissa', 'Naomi', 'Norma', 'Margie',\n",
       "       'Elvira', 'Erma', 'Irma', 'William', 'Charity', 'Lorena', 'Alvina',\n",
       "       'Annette', 'Elma', 'Geneva', 'Janet', 'Lee', 'Leora', 'Lona',\n",
       "       'Miriam', 'Linda', 'Octavia', 'Alpha', 'George', 'Joanna',\n",
       "       'Priscilla', 'Angeline', 'Hanna', 'Rosella', 'Elisabeth', 'Elise',\n",
       "       'Goldie', 'Juanita', 'Nola', 'Zoe', 'Isabell', 'James', 'Julie',\n",
       "       'Madeline', 'Mariah', 'Vivian', 'Claire', 'Dolly', 'Hazel',\n",
       "       'Jannie', 'Kathleen', 'Ona', 'Samantha', 'Chloe', 'Donnie', 'Elsa',\n",
       "       'Gladys', 'Antoinette', 'Magdalena', 'Rita', 'Antonia', 'Gracie',\n",
       "       'Iona', 'Liza', 'Molly', 'Neva', 'Alva', 'Cecile', 'Cleo', 'Donna',\n",
       "       'Ellie', 'Evie', 'Frankie', 'Queen', 'Savannah', 'Tessie', 'Tina',\n",
       "       'America', 'Anita', 'Dorothea', 'Ira', 'Marjorie', 'Sidney',\n",
       "       'Velma', 'Clare', 'Constance', 'Dixie', 'Ila', 'Jimmie', 'Lucia',\n",
       "       'Patsy', 'Betsy', 'Bonnie', 'Cecil', 'June', 'Louie', 'Lovie',\n",
       "       'Marcella', 'Melinda', 'Mona', 'Odessa', 'Veronica', 'Aimee',\n",
       "       'Ava', 'Bella', 'Carolina', 'Clyde', 'Dena', 'Dolores', 'Fay',\n",
       "       'Frank', 'Jenny', 'Lonnie', 'Reba', 'Serena', 'Vida', 'Abigail',\n",
       "       'Celina', 'Connie', 'Deborah', 'Eddie', 'India', 'Jeanne', 'Joan',\n",
       "       'Lenore', 'Nevada', 'Rachael', 'Willa', 'Aline', 'Charles',\n",
       "       'Eloise', 'Henry', 'Iris', 'Robert', 'Therese', 'Wanda',\n",
       "       'Anastasia', 'Claude', 'Diana', 'Fern', 'Joseph', 'Paulina', 'Rae',\n",
       "       'Sena', 'Tommie', 'Althea', 'Angelina', 'Annabelle', 'Clarice',\n",
       "       'Corrie', 'Doris', 'Elda', 'Fred', 'Hope', 'Johnnie', 'Marcia',\n",
       "       'Norah', 'Paula', 'Bennie', 'Camille', 'Faye', 'Leslie', 'Ray',\n",
       "       'Shirley', 'Thomas', 'Walter', 'Amie', 'Angela', 'Clarence',\n",
       "       'Geraldine', 'Glenna', 'Jessica', 'Lea', 'Leanna', 'Muriel',\n",
       "       'Rosanna', 'Theo', 'Ara', 'Augustine', 'Camilla', 'Carey',\n",
       "       'Clifford', 'Harry', 'Lacy', 'Leo', 'Merle', 'Phyllis', 'Arthur',\n",
       "       'Clair', 'Delphine', 'Edgar', 'Glenn', 'Isa', 'Jesse', 'Jewel',\n",
       "       'Joe', 'Juana', 'Judith', 'Louis', 'Lynn', 'Manuela', 'Natalie',\n",
       "       'Opal', 'Selena', 'Wilma', 'Edward', 'Albert', 'Samuel', 'David',\n",
       "       'Charlie', 'Richard', 'Andrew', 'Daniel', 'Ernest', 'Will',\n",
       "       'Oscar', 'Lewis', 'Peter', 'Benjamin', 'Frederick', 'Alfred',\n",
       "       'Sam', 'Roy', 'Herbert', 'Jacob', 'Tom', 'Elmer', 'Carl', 'Howard',\n",
       "       'Martin', 'Michael', 'Bert', 'Herman', 'Jim', 'Harvey', 'Earl',\n",
       "       'Eugene', 'Ralph', 'Edwin', 'Ben', 'Charley', 'Paul', 'Isaac',\n",
       "       'Otto', 'Luther', 'Lawrence', 'Patrick', 'Guy', 'Oliver',\n",
       "       'Theodore', 'Hugh', 'Alexander', 'August', 'Floyd', 'Homer',\n",
       "       'Jack', 'Leonard', 'Horace', 'Philip', 'Allen', 'Archie',\n",
       "       'Stephen', 'Chester', 'Willis', 'Raymond', 'Rufus', 'Warren',\n",
       "       'Milton', 'Alex', 'Julius', 'Bernard', 'Dan', 'Jerry', 'Calvin',\n",
       "       'Perry', 'Dave', 'Anthony', 'Amos', 'Dennis', 'Leroy', 'Wesley',\n",
       "       'Alonzo', 'Franklin', 'Emil', 'Leon', 'Nathan', 'Harold',\n",
       "       'Matthew', 'Levi', 'Moses', 'Everett', 'Lester', 'Adam', 'Lloyd',\n",
       "       'Mack', 'Fredrick', 'Jay', 'Jess', 'Melvin', 'Noah', 'Aaron',\n",
       "       'Alvin', 'Norman', 'Gilbert', 'Elijah', 'Victor', 'Gus', 'Nelson',\n",
       "       'Jasper', 'Silas', 'Jake', 'Christopher', 'Mike', 'Percy',\n",
       "       'Maurice', 'Cornelius', 'Felix', 'Reuben', 'Wallace', 'Roscoe',\n",
       "       'Sylvester', 'Earnest', 'Otis', 'Simon', 'Willard', 'Irvin',\n",
       "       'Mark', 'Jose', 'Wilbur', 'Abraham', 'Virgil', 'Clinton', 'Elbert',\n",
       "       'Marshall', 'Owen', 'Wiley', 'Anton', 'Morris', 'Manuel',\n",
       "       'Phillip', 'Augustus', 'Emmett', 'Eli', 'Nicholas', 'Wilson',\n",
       "       'Harley', 'Newton', 'Timothy', 'Marvin', 'Ross', 'Curtis',\n",
       "       'Edmund', 'Jeff', 'Elias', 'Harrison', 'Stanley', 'Russell',\n",
       "       'Solomon', 'Asa', 'Clayton', 'Irving', 'Mathew', 'Nathaniel',\n",
       "       'Scott', 'Hubert', 'Andy', 'Ellis', 'Emanuel', 'Joshua', 'Vernon',\n",
       "       'Wade', 'Cyrus', 'Miles', 'Rudolph', 'Sherman', 'Austin', 'Bill',\n",
       "       'Monroe', 'Byron', 'Emery', 'Grant', 'Jerome', 'Max', 'Mose',\n",
       "       'Steve', 'Gordon', 'Pete', 'Chris', 'Clark', 'Orville', 'Lorenzo',\n",
       "       'Bruce', 'Marcus', 'Preston', 'Bob', 'Donald', 'Jackson',\n",
       "       'Delbert', 'Edmond', 'Anderson', 'Christian', 'Luke', 'Neal',\n",
       "       'Myron', 'Tony', 'Conrad', 'Joel', 'Matt', 'Riley', 'Vincent',\n",
       "       'Emory', 'Isaiah', 'Nick', 'Ezra', 'Juan', 'Clifton', 'Porter',\n",
       "       'Arnold', 'Jeremiah', 'Taylor', 'Forrest', 'Roland', 'Spencer',\n",
       "       'Burton', 'Don', 'Morgan', 'Ned', 'Van', 'Chauncey', 'Elisha',\n",
       "       'Julian', 'Kenneth', 'Mitchell', 'Napoleon', 'Pedro', 'Ervin',\n",
       "       'Forest', 'Ruben', 'Ward', 'Douglas', 'Omer', 'Ulysses', 'Walker',\n",
       "       'Wilbert', 'Ivan', 'Jonas', 'Major', 'Caleb', 'Clint', 'Dudley',\n",
       "       'King', 'Antonio', 'Carroll', 'Freeman', 'Josiah', 'Milo', 'Royal',\n",
       "       'Emerson', 'Fletcher', 'Laurence', 'Neil', 'Roger', 'Seth', 'Glen',\n",
       "       'Hugo', 'Elwood', 'Harmon', 'Wayne', 'Wilber', 'Evan', 'Irwin',\n",
       "       'Lafayette', 'Loren', 'Mason', 'Aubrey', 'Elliott', 'Hans', 'Karl',\n",
       "       'Wilfred', 'Allan', 'Dallas', 'Isiah', 'Jason', 'Johnny', 'Lawson',\n",
       "       'Micheal', 'Orin', 'Addison', 'Francisco', 'Hardy', 'Lucien',\n",
       "       'Randolph', 'Stewart', 'Wilmer', 'Adrian', 'Clay', 'Grover',\n",
       "       'Harris', 'Jesus', 'Johnie', 'Jonathan', 'Lucian', 'Malcolm',\n",
       "       'Merritt', 'Sandy', 'Tomas', 'Carlos', 'Cary', 'Davis', 'Israel',\n",
       "       'Murray', 'Sterling', 'Steven', 'Boyd', 'Bryant', 'Clement',\n",
       "       'Erwin', 'Ezekiel', 'Foster', 'Houston', 'Issac', 'Jules',\n",
       "       'Orlando', 'Pierce', 'Prince', 'Stuart', 'Bennett', 'Christ',\n",
       "       'Gabriel', 'Smith', 'Wyatt', 'Alton', 'Dean', 'Omar', 'Parker',\n",
       "       'Raleigh', 'Reginald', 'Carlton', 'Garrett', 'Johnson', 'Larry',\n",
       "       'Logan', 'Merrill', 'Oren', 'Rex', 'Rodney', 'Ted', 'Al', 'Art',\n",
       "       'Bailey', 'Coleman', 'Dana', 'Dwight', 'Emile', 'Luis', 'Norris',\n",
       "       'Phil', 'Sol', 'Sydney', 'Tim', 'Truman', 'Basil', 'Cleveland',\n",
       "       'Garland', 'Gerald', 'Lindsey', 'Olin', 'Rolland', 'Turner',\n",
       "       'Williams', 'Elvin', 'Eric', 'Hosea', 'Noel', 'Valentine',\n",
       "       'Warner', 'Abel', 'Alden', 'Avery', 'Leland', 'Ramon', 'Aron',\n",
       "       'Buster', 'Harlan', 'Lenard', 'Price', 'Shelby', 'Thurman', 'Troy',\n",
       "       'Gene', 'Hal', 'Hollis', 'Lyle', 'Miller', 'Vance', 'Levy',\n",
       "       'Noble', 'Rupert', 'Thad', 'Kelly', 'Tommy'], dtype=object)"
      ]
     },
     "execution_count": 18,
     "metadata": {},
     "output_type": "execute_result"
    }
   ],
   "source": [
    "num_of_years = len(df['Year'].unique())\n",
    "male_names = df[df['Gender'] == 'M'].groupby(['Name'])['Count'].sum()\n",
    "female_names = df[df['Gender'] == 'F'].groupby(['Name'])['Count'].sum()\n",
    "gender_neutral_names = male_names.index.intersection(female_names.index)\n",
    "df[df['Name'].isin(gender_neutral_names)].groupby('Name').filter(lambda x: x['Year'].nunique() == num_of_years)['Name'].unique()"
   ]
  },
  {
   "cell_type": "markdown",
   "id": "5e42af6b",
   "metadata": {},
   "source": [
    "### 24) Find the most popular among unpopular names (unpopular name that was given to children most times)"
   ]
  },
  {
   "cell_type": "code",
   "execution_count": 19,
   "id": "4cadc4b0",
   "metadata": {},
   "outputs": [
    {
     "data": {
      "text/plain": [
       "'The most popular name among unpopular ones (given in less than 10 years) is Cataleya, it was given 2037 times.'"
      ]
     },
     "execution_count": 19,
     "metadata": {},
     "output_type": "execute_result"
    }
   ],
   "source": [
    "years_threshold = 10\n",
    "unpopular_names = df.groupby('Name').filter(lambda x: x['Year'].nunique() < years_threshold).groupby('Name')['Count'].sum()\n",
    "unpopular_name = unpopular_names.sort_values(ascending=False).head(1)\n",
    "f\"The most popular name among unpopular ones (given in less than {years_threshold} years) is {unpopular_name.index[0]}, it was given {unpopular_name.values[0]} times.\""
   ]
  },
  {
   "cell_type": "markdown",
   "id": "79a133ce",
   "metadata": {},
   "source": [
    "### 26) Plot graphs of distribution of female names John and male names Mary by years"
   ]
  },
  {
   "cell_type": "code",
   "execution_count": 20,
   "id": "ed0fac82",
   "metadata": {},
   "outputs": [
    {
     "data": {
      "image/png": "[encoded data removed]",
      "text/plain": [
       "<Figure size 640x480 with 1 Axes>"
      ]
     },
     "metadata": {},
     "output_type": "display_data"
    }
   ],
   "source": [
    "import matplotlib.pyplot as plt\n",
    "\n",
    "john_data = df[(df['Name'] == 'John') & (df['Gender'] == 'F')]\n",
    "mary_data = df[(df['Name'] == 'Mary') & (df['Gender'] == 'M')]\n",
    "\n",
    "plt.plot(john_data['Year'], john_data['Count'], label='John')\n",
    "plt.plot(mary_data['Year'], mary_data['Count'], label='Mary')\n",
    "\n",
    "plt.xlabel('Year')\n",
    "plt.ylabel('Count')\n",
    "plt.legend(title='Name')\n",
    "\n",
    "plt.show()"
   ]
  }
 ],
 "metadata": {
  "kernelspec": {
   "display_name": "Python 3 (ipykernel)",
   "language": "python",
   "name": "python3"
  },
  "language_info": {
   "codemirror_mode": {
    "name": "ipython",
    "version": 3
   },
   "file_extension": ".py",
   "mimetype": "text/x-python",
   "name": "python",
   "nbconvert_exporter": "python",
   "pygments_lexer": "ipython3",
   "version": "3.9.13"
  }
 },
 "nbformat": 4,
 "nbformat_minor": 5
}
