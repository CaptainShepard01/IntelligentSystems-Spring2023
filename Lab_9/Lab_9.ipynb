{
 "cells": [
  {
   "cell_type": "markdown",
   "source": [
    "# Setup"
   ],
   "metadata": {
    "collapsed": false
   }
  },
  {
   "cell_type": "code",
   "execution_count": 1,
   "outputs": [],
   "source": [
    "# Python ≥3.5 is required\n",
    "import sys\n",
    "assert sys.version_info >= (3, 5)\n",
    "\n",
    "# Scikit-Learn ≥0.20 is required\n",
    "import sklearn\n",
    "assert sklearn.__version__ >= \"0.20\"\n",
    "\n",
    "try:\n",
    "    # %tensorflow_version only exists in Colab.\n",
    "    %tensorflow_version 2.x\n",
    "except Exception:\n",
    "    pass\n",
    "\n",
    "# TensorFlow ≥2.0 is required\n",
    "import tensorflow as tf\n",
    "assert tf.__version__ >= \"2.0\"\n",
    "\n",
    "# Common imports\n",
    "import numpy as np\n",
    "import pandas as pd\n",
    "import os\n",
    "\n",
    "# to make this notebook's output stable across runs\n",
    "np.random.seed(42)\n",
    "\n",
    "# To plot pretty figures\n",
    "%matplotlib inline\n",
    "import matplotlib as mpl\n",
    "import matplotlib.pyplot as plt\n",
    "mpl.rc('axes', labelsize=14)\n",
    "mpl.rc('xtick', labelsize=12)\n",
    "mpl.rc('ytick', labelsize=12)\n",
    "\n",
    "# Where to save the figures\n",
    "PROJECT_ROOT_DIR = \".\"\n",
    "CHAPTER_ID = \"ann\"\n",
    "IMAGES_PATH = os.path.join(PROJECT_ROOT_DIR, \"images\", CHAPTER_ID)\n",
    "os.makedirs(IMAGES_PATH, exist_ok=True)\n",
    "\n",
    "def save_fig(fig_id, tight_layout=True, fig_extension=\"png\", resolution=300):\n",
    "    path = os.path.join(IMAGES_PATH, fig_id + \".\" + fig_extension)\n",
    "    print(\"Saving figure\", fig_id)\n",
    "    if tight_layout:\n",
    "        plt.tight_layout()\n",
    "    plt.savefig(path, format=fig_extension, dpi=resolution)"
   ],
   "metadata": {
    "collapsed": false,
    "ExecuteTime": {
     "start_time": "2023-05-03T13:45:58.182502Z",
     "end_time": "2023-05-03T13:46:14.314091Z"
    }
   }
  },
  {
   "cell_type": "markdown",
   "source": [
    "# Perceptrons"
   ],
   "metadata": {
    "collapsed": false
   }
  },
  {
   "cell_type": "code",
   "execution_count": 2,
   "outputs": [
    {
     "data": {
      "text/plain": "       species     island  bill_length_mm  bill_depth_mm  flipper_length_mm  \\\n0       Adelie  Torgersen            39.1           18.7              181.0   \n1       Adelie  Torgersen            39.5           17.4              186.0   \n2       Adelie  Torgersen            40.3           18.0              195.0   \n4       Adelie  Torgersen            36.7           19.3              193.0   \n5       Adelie  Torgersen            39.3           20.6              190.0   \n..         ...        ...             ...            ...                ...   \n339  Chinstrap      Dream            55.8           19.8              207.0   \n340  Chinstrap      Dream            43.5           18.1              202.0   \n341  Chinstrap      Dream            49.6           18.2              193.0   \n342  Chinstrap      Dream            50.8           19.0              210.0   \n343  Chinstrap      Dream            50.2           18.7              198.0   \n\n     body_mass_g     sex  \n0         3750.0    male  \n1         3800.0  female  \n2         3250.0  female  \n4         3450.0  female  \n5         3650.0    male  \n..           ...     ...  \n339       4000.0    male  \n340       3400.0  female  \n341       3775.0    male  \n342       4100.0    male  \n343       3775.0  female  \n\n[333 rows x 7 columns]",
      "text/html": "<div>\n<style scoped>\n    .dataframe tbody tr th:only-of-type {\n        vertical-align: middle;\n    }\n\n    .dataframe tbody tr th {\n        vertical-align: top;\n    }\n\n    .dataframe thead th {\n        text-align: right;\n    }\n</style>\n<table border=\"1\" class=\"dataframe\">\n  <thead>\n    <tr style=\"text-align: right;\">\n      <th></th>\n      <th>species</th>\n      <th>island</th>\n      <th>bill_length_mm</th>\n      <th>bill_depth_mm</th>\n      <th>flipper_length_mm</th>\n      <th>body_mass_g</th>\n      <th>sex</th>\n    </tr>\n  </thead>\n  <tbody>\n    <tr>\n      <th>0</th>\n      <td>Adelie</td>\n      <td>Torgersen</td>\n      <td>39.1</td>\n      <td>18.7</td>\n      <td>181.0</td>\n      <td>3750.0</td>\n      <td>male</td>\n    </tr>\n    <tr>\n      <th>1</th>\n      <td>Adelie</td>\n      <td>Torgersen</td>\n      <td>39.5</td>\n      <td>17.4</td>\n      <td>186.0</td>\n      <td>3800.0</td>\n      <td>female</td>\n    </tr>\n    <tr>\n      <th>2</th>\n      <td>Adelie</td>\n      <td>Torgersen</td>\n      <td>40.3</td>\n      <td>18.0</td>\n      <td>195.0</td>\n      <td>3250.0</td>\n      <td>female</td>\n    </tr>\n    <tr>\n      <th>4</th>\n      <td>Adelie</td>\n      <td>Torgersen</td>\n      <td>36.7</td>\n      <td>19.3</td>\n      <td>193.0</td>\n      <td>3450.0</td>\n      <td>female</td>\n    </tr>\n    <tr>\n      <th>5</th>\n      <td>Adelie</td>\n      <td>Torgersen</td>\n      <td>39.3</td>\n      <td>20.6</td>\n      <td>190.0</td>\n      <td>3650.0</td>\n      <td>male</td>\n    </tr>\n    <tr>\n      <th>...</th>\n      <td>...</td>\n      <td>...</td>\n      <td>...</td>\n      <td>...</td>\n      <td>...</td>\n      <td>...</td>\n      <td>...</td>\n    </tr>\n    <tr>\n      <th>339</th>\n      <td>Chinstrap</td>\n      <td>Dream</td>\n      <td>55.8</td>\n      <td>19.8</td>\n      <td>207.0</td>\n      <td>4000.0</td>\n      <td>male</td>\n    </tr>\n    <tr>\n      <th>340</th>\n      <td>Chinstrap</td>\n      <td>Dream</td>\n      <td>43.5</td>\n      <td>18.1</td>\n      <td>202.0</td>\n      <td>3400.0</td>\n      <td>female</td>\n    </tr>\n    <tr>\n      <th>341</th>\n      <td>Chinstrap</td>\n      <td>Dream</td>\n      <td>49.6</td>\n      <td>18.2</td>\n      <td>193.0</td>\n      <td>3775.0</td>\n      <td>male</td>\n    </tr>\n    <tr>\n      <th>342</th>\n      <td>Chinstrap</td>\n      <td>Dream</td>\n      <td>50.8</td>\n      <td>19.0</td>\n      <td>210.0</td>\n      <td>4100.0</td>\n      <td>male</td>\n    </tr>\n    <tr>\n      <th>343</th>\n      <td>Chinstrap</td>\n      <td>Dream</td>\n      <td>50.2</td>\n      <td>18.7</td>\n      <td>198.0</td>\n      <td>3775.0</td>\n      <td>female</td>\n    </tr>\n  </tbody>\n</table>\n<p>333 rows × 7 columns</p>\n</div>"
     },
     "execution_count": 2,
     "metadata": {},
     "output_type": "execute_result"
    }
   ],
   "source": [
    "df = pd.read_csv(\"./datasets/penguins.csv\")\n",
    "df = df.dropna()\n",
    "df"
   ],
   "metadata": {
    "collapsed": false,
    "ExecuteTime": {
     "start_time": "2023-05-03T13:46:14.309094Z",
     "end_time": "2023-05-03T13:46:14.414090Z"
    }
   }
  },
  {
   "cell_type": "code",
   "execution_count": 3,
   "outputs": [],
   "source": [
    "sex_int = {'male': 1, 'female': 0}\n",
    "species_int = {'Adelie': 0, 'Gentoo': 1, 'Chinstrap': 2}\n",
    "species_names = ['Adelie', 'Gentoo', 'Chinstrap']\n",
    "\n",
    "df['sex'] = df['sex'].map(sex_int)\n",
    "df['species'] = df['species'].map(species_int)\n",
    "\n",
    "X = df.drop(['species', 'island'], axis=1)[['bill_length_mm', 'bill_depth_mm']]\n",
    "y = df['species'].to_numpy()\n",
    "X = X.rename(columns={'bill_length_mm': 0, 'bill_depth_mm': 1}).to_numpy()\n",
    "columns_names = ['bill_length_mm', 'bill_depth_mm']"
   ],
   "metadata": {
    "collapsed": false,
    "ExecuteTime": {
     "start_time": "2023-05-03T13:46:14.387092Z",
     "end_time": "2023-05-03T13:46:14.414090Z"
    }
   }
  },
  {
   "cell_type": "code",
   "execution_count": 4,
   "outputs": [],
   "source": [
    "from sklearn.linear_model import Perceptron\n",
    "\n",
    "per_clf = Perceptron(max_iter=1000, tol=1e-3, random_state=42)\n",
    "per_clf.fit(X, y)\n",
    "\n",
    "y_pred = per_clf.predict([[45, 23]])"
   ],
   "metadata": {
    "collapsed": false,
    "ExecuteTime": {
     "start_time": "2023-05-03T13:46:14.401090Z",
     "end_time": "2023-05-03T13:46:14.874092Z"
    }
   }
  },
  {
   "cell_type": "code",
   "execution_count": 5,
   "outputs": [
    {
     "data": {
      "text/plain": "array([0], dtype=int64)"
     },
     "execution_count": 5,
     "metadata": {},
     "output_type": "execute_result"
    }
   ],
   "source": [
    "y_pred"
   ],
   "metadata": {
    "collapsed": false,
    "ExecuteTime": {
     "start_time": "2023-05-03T13:46:14.877119Z",
     "end_time": "2023-05-03T13:46:14.892091Z"
    }
   }
  },
  {
   "cell_type": "code",
   "execution_count": 6,
   "outputs": [
    {
     "name": "stdout",
     "output_type": "stream",
     "text": [
      "Saving figure perceptron_penguin_plot\n"
     ]
    },
    {
     "data": {
      "text/plain": "<Figure size 1000x400 with 1 Axes>",
      "image/png": "[encoded data removed]"
     },
     "metadata": {},
     "output_type": "display_data"
    }
   ],
   "source": [
    "x_min = X[:, 0].min()-1\n",
    "x_max = X[:, 0].max()+1\n",
    "y_min = X[:, 1].min()-1\n",
    "y_max = X[:, 1].max()+1\n",
    "axes = [x_min, x_max, y_min, y_max]\n",
    "\n",
    "x0, x1 = np.meshgrid(\n",
    "    np.linspace(axes[0], axes[1], 500).reshape(-1, 1),\n",
    "    np.linspace(axes[2], axes[3], 200).reshape(-1, 1),\n",
    ")\n",
    "X_new = np.c_[x0.ravel(), x1.ravel()]\n",
    "y_predict = per_clf.predict(X_new)\n",
    "zz = y_predict.reshape(x0.shape)\n",
    "\n",
    "plt.figure(figsize=(10, 4))\n",
    "plt.plot(X[y==0, 0], X[y==0, 1], \"bs\", label=f\"Not {species_names[1]}\")\n",
    "plt.plot(X[y==1, 0], X[y==1, 1], \"yo\", label=species_names[1])\n",
    "\n",
    "from matplotlib.colors import ListedColormap\n",
    "custom_cmap = ListedColormap(['#9898ff', '#fafab0'])\n",
    "\n",
    "plt.contourf(x0, x1, zz, cmap=custom_cmap)\n",
    "plt.xlabel(\"Bill length\", fontsize=14)\n",
    "plt.ylabel(\"Bill depth\", fontsize=14)\n",
    "plt.legend(loc=\"lower right\", fontsize=14)\n",
    "plt.axis(axes)\n",
    "\n",
    "save_fig(\"perceptron_penguin_plot\")\n",
    "plt.show()"
   ],
   "metadata": {
    "collapsed": false,
    "ExecuteTime": {
     "start_time": "2023-05-03T13:46:14.897091Z",
     "end_time": "2023-05-03T13:46:15.569091Z"
    }
   }
  },
  {
   "cell_type": "markdown",
   "source": [
    "# Activation functions"
   ],
   "metadata": {
    "collapsed": false
   }
  },
  {
   "cell_type": "code",
   "execution_count": 7,
   "outputs": [],
   "source": [
    "def sigmoid(z):\n",
    "    return 1 / (1 + np.exp(-z))\n",
    "\n",
    "def relu(z):\n",
    "    return np.maximum(0, z)\n",
    "\n",
    "def derivative(f, z, eps=0.000001):\n",
    "    return (f(z + eps) - f(z - eps))/(2 * eps)"
   ],
   "metadata": {
    "collapsed": false,
    "ExecuteTime": {
     "start_time": "2023-05-03T13:46:15.565091Z",
     "end_time": "2023-05-03T13:46:15.591092Z"
    }
   }
  },
  {
   "cell_type": "code",
   "execution_count": 8,
   "outputs": [
    {
     "name": "stdout",
     "output_type": "stream",
     "text": [
      "Saving figure activation_functions_plot\n"
     ]
    },
    {
     "data": {
      "text/plain": "<Figure size 1100x400 with 2 Axes>",
      "image/png": "[encoded data removed]"
     },
     "metadata": {},
     "output_type": "display_data"
    }
   ],
   "source": [
    "z = np.linspace(-5, 5, 200)\n",
    "\n",
    "plt.figure(figsize=(11,4))\n",
    "\n",
    "plt.subplot(121)\n",
    "plt.plot(z, np.sign(z), \"r-\", linewidth=1, label=\"Step\")\n",
    "plt.plot(z, sigmoid(z), \"g--\", linewidth=2, label=\"Sigmoid\")\n",
    "plt.plot(z, np.tanh(z), \"b-\", linewidth=2, label=\"Tanh\")\n",
    "plt.plot(z, relu(z), \"m-.\", linewidth=2, label=\"ReLU\")\n",
    "plt.grid(True)\n",
    "plt.legend(loc=\"center right\", fontsize=14)\n",
    "plt.title(\"Activation functions\", fontsize=14)\n",
    "plt.axis([-5, 5, -1.2, 1.2])\n",
    "\n",
    "plt.subplot(122)\n",
    "plt.plot(z, derivative(np.sign, z), \"r-\", linewidth=1, label=\"Step\")\n",
    "plt.plot(0, 0, \"ro\", markersize=5)\n",
    "plt.plot(0, 0, \"rx\", markersize=10)\n",
    "plt.plot(z, derivative(sigmoid, z), \"g--\", linewidth=2, label=\"Sigmoid\")\n",
    "plt.plot(z, derivative(np.tanh, z), \"b-\", linewidth=2, label=\"Tanh\")\n",
    "plt.plot(z, derivative(relu, z), \"m-.\", linewidth=2, label=\"ReLU\")\n",
    "plt.grid(True)\n",
    "#plt.legend(loc=\"center right\", fontsize=14)\n",
    "plt.title(\"Derivatives\", fontsize=14)\n",
    "plt.axis([-5, 5, -0.2, 1.2])\n",
    "\n",
    "save_fig(\"activation_functions_plot\")\n",
    "plt.show()"
   ],
   "metadata": {
    "collapsed": false,
    "ExecuteTime": {
     "start_time": "2023-05-03T13:46:15.577091Z",
     "end_time": "2023-05-03T13:46:16.368092Z"
    }
   }
  },
  {
   "cell_type": "code",
   "execution_count": 9,
   "outputs": [],
   "source": [
    "def heaviside(z):\n",
    "    return (z >= 0).astype(z.dtype)\n",
    "\n",
    "def mlp_xor(x1, x2, activation=heaviside):\n",
    "    return activation(-activation(x1 + x2 - 1.5) + activation(x1 + x2 - 0.5) - 0.5)"
   ],
   "metadata": {
    "collapsed": false,
    "ExecuteTime": {
     "start_time": "2023-05-03T13:46:16.368092Z",
     "end_time": "2023-05-03T13:46:16.382091Z"
    }
   }
  },
  {
   "cell_type": "code",
   "execution_count": 10,
   "outputs": [
    {
     "data": {
      "text/plain": "<Figure size 1000x400 with 2 Axes>",
      "image/png": "[encoded data removed]"
     },
     "metadata": {},
     "output_type": "display_data"
    }
   ],
   "source": [
    "x1s = np.linspace(-0.2, 1.2, 100)\n",
    "x2s = np.linspace(-0.2, 1.2, 100)\n",
    "x1, x2 = np.meshgrid(x1s, x2s)\n",
    "\n",
    "z1 = mlp_xor(x1, x2, activation=heaviside)\n",
    "z2 = mlp_xor(x1, x2, activation=sigmoid)\n",
    "\n",
    "plt.figure(figsize=(10,4))\n",
    "\n",
    "plt.subplot(121)\n",
    "plt.contourf(x1, x2, z1)\n",
    "plt.plot([0, 1], [0, 1], \"gs\", markersize=20)\n",
    "plt.plot([0, 1], [1, 0], \"y^\", markersize=20)\n",
    "plt.title(\"Activation function: heaviside\", fontsize=14)\n",
    "plt.grid(True)\n",
    "\n",
    "plt.subplot(122)\n",
    "plt.contourf(x1, x2, z2)\n",
    "plt.plot([0, 1], [0, 1], \"gs\", markersize=20)\n",
    "plt.plot([0, 1], [1, 0], \"y^\", markersize=20)\n",
    "plt.title(\"Activation function: sigmoid\", fontsize=14)\n",
    "plt.grid(True)"
   ],
   "metadata": {
    "collapsed": false,
    "ExecuteTime": {
     "start_time": "2023-05-03T13:46:16.385091Z",
     "end_time": "2023-05-03T13:46:17.101093Z"
    }
   }
  },
  {
   "cell_type": "markdown",
   "source": [
    "# Building an Image Classifier"
   ],
   "metadata": {
    "collapsed": false
   }
  },
  {
   "cell_type": "code",
   "execution_count": 11,
   "outputs": [],
   "source": [
    "import tensorflow as tf\n",
    "from tensorflow import keras"
   ],
   "metadata": {
    "collapsed": false,
    "ExecuteTime": {
     "start_time": "2023-05-03T13:46:17.101093Z",
     "end_time": "2023-05-03T13:46:17.116093Z"
    }
   }
  },
  {
   "cell_type": "code",
   "execution_count": 12,
   "outputs": [
    {
     "data": {
      "text/plain": "'2.12.0'"
     },
     "execution_count": 12,
     "metadata": {},
     "output_type": "execute_result"
    }
   ],
   "source": [
    "tf.__version__"
   ],
   "metadata": {
    "collapsed": false,
    "ExecuteTime": {
     "start_time": "2023-05-03T13:46:17.117092Z",
     "end_time": "2023-05-03T13:46:17.270094Z"
    }
   }
  },
  {
   "cell_type": "code",
   "execution_count": 13,
   "outputs": [
    {
     "data": {
      "text/plain": "'2.12.0'"
     },
     "execution_count": 13,
     "metadata": {},
     "output_type": "execute_result"
    }
   ],
   "source": [
    "keras.__version__"
   ],
   "metadata": {
    "collapsed": false,
    "ExecuteTime": {
     "start_time": "2023-05-03T13:46:17.131094Z",
     "end_time": "2023-05-03T13:46:17.271092Z"
    }
   }
  },
  {
   "cell_type": "code",
   "execution_count": 14,
   "outputs": [],
   "source": [
    "fashion_mnist = keras.datasets.fashion_mnist\n",
    "(X_train_full, y_train_full), (X_test, y_test) = fashion_mnist.load_data()"
   ],
   "metadata": {
    "collapsed": false,
    "ExecuteTime": {
     "start_time": "2023-05-03T13:46:17.149090Z",
     "end_time": "2023-05-03T13:46:17.643089Z"
    }
   }
  },
  {
   "cell_type": "code",
   "execution_count": 15,
   "outputs": [
    {
     "data": {
      "text/plain": "(60000, 28, 28)"
     },
     "execution_count": 15,
     "metadata": {},
     "output_type": "execute_result"
    }
   ],
   "source": [
    "X_train_full.shape"
   ],
   "metadata": {
    "collapsed": false,
    "ExecuteTime": {
     "start_time": "2023-05-03T13:46:17.600090Z",
     "end_time": "2023-05-03T13:46:17.690090Z"
    }
   }
  },
  {
   "cell_type": "code",
   "execution_count": 16,
   "outputs": [
    {
     "data": {
      "text/plain": "dtype('uint8')"
     },
     "execution_count": 16,
     "metadata": {},
     "output_type": "execute_result"
    }
   ],
   "source": [
    "X_train_full.dtype"
   ],
   "metadata": {
    "collapsed": false,
    "ExecuteTime": {
     "start_time": "2023-05-03T13:46:17.617092Z",
     "end_time": "2023-05-03T13:46:17.691093Z"
    }
   }
  },
  {
   "cell_type": "code",
   "execution_count": 17,
   "outputs": [],
   "source": [
    "X_valid, X_train = X_train_full[:5000] / 255., X_train_full[5000:] / 255.\n",
    "y_valid, y_train = y_train_full[:5000], y_train_full[5000:]\n",
    "X_test = X_test / 255."
   ],
   "metadata": {
    "collapsed": false,
    "ExecuteTime": {
     "start_time": "2023-05-03T13:46:17.633090Z",
     "end_time": "2023-05-03T13:46:17.870092Z"
    }
   }
  },
  {
   "cell_type": "code",
   "execution_count": 18,
   "outputs": [
    {
     "data": {
      "text/plain": "<Figure size 640x480 with 1 Axes>",
      "image/png": "[encoded data removed]"
     },
     "metadata": {},
     "output_type": "display_data"
    }
   ],
   "source": [
    "plt.imshow(X_train[0], cmap=\"binary\")\n",
    "plt.axis('off')\n",
    "plt.show()"
   ],
   "metadata": {
    "collapsed": false,
    "ExecuteTime": {
     "start_time": "2023-05-03T13:46:17.870092Z",
     "end_time": "2023-05-03T13:46:17.972088Z"
    }
   }
  },
  {
   "cell_type": "code",
   "execution_count": 19,
   "outputs": [
    {
     "data": {
      "text/plain": "array([4, 0, 7, ..., 3, 0, 5], dtype=uint8)"
     },
     "execution_count": 19,
     "metadata": {},
     "output_type": "execute_result"
    }
   ],
   "source": [
    "y_train"
   ],
   "metadata": {
    "collapsed": false,
    "ExecuteTime": {
     "start_time": "2023-05-03T13:46:17.946091Z",
     "end_time": "2023-05-03T13:46:17.980112Z"
    }
   }
  },
  {
   "cell_type": "code",
   "execution_count": 20,
   "outputs": [],
   "source": [
    "class_names = [\"T-shirt/top\", \"Trouser\", \"Pullover\", \"Dress\", \"Coat\",\n",
    "               \"Sandal\", \"Shirt\", \"Sneaker\", \"Bag\", \"Ankle boot\"]"
   ],
   "metadata": {
    "collapsed": false,
    "ExecuteTime": {
     "start_time": "2023-05-03T13:46:17.961093Z",
     "end_time": "2023-05-03T13:46:18.052089Z"
    }
   }
  },
  {
   "cell_type": "code",
   "execution_count": 21,
   "outputs": [
    {
     "data": {
      "text/plain": "'Coat'"
     },
     "execution_count": 21,
     "metadata": {},
     "output_type": "execute_result"
    }
   ],
   "source": [
    "class_names[y_train[0]]"
   ],
   "metadata": {
    "collapsed": false,
    "ExecuteTime": {
     "start_time": "2023-05-03T13:46:17.976093Z",
     "end_time": "2023-05-03T13:46:18.084090Z"
    }
   }
  },
  {
   "cell_type": "code",
   "execution_count": 22,
   "outputs": [
    {
     "data": {
      "text/plain": "(5000, 28, 28)"
     },
     "execution_count": 22,
     "metadata": {},
     "output_type": "execute_result"
    }
   ],
   "source": [
    "X_valid.shape"
   ],
   "metadata": {
    "collapsed": false,
    "ExecuteTime": {
     "start_time": "2023-05-03T13:46:17.994095Z",
     "end_time": "2023-05-03T13:46:18.087089Z"
    }
   }
  },
  {
   "cell_type": "code",
   "execution_count": 23,
   "outputs": [
    {
     "data": {
      "text/plain": "(10000, 28, 28)"
     },
     "execution_count": 23,
     "metadata": {},
     "output_type": "execute_result"
    }
   ],
   "source": [
    "X_test.shape"
   ],
   "metadata": {
    "collapsed": false,
    "ExecuteTime": {
     "start_time": "2023-05-03T13:46:18.168093Z",
     "end_time": "2023-05-03T13:46:18.353092Z"
    }
   }
  },
  {
   "cell_type": "code",
   "execution_count": 24,
   "outputs": [
    {
     "name": "stdout",
     "output_type": "stream",
     "text": [
      "Saving figure fashion_mnist_plot\n"
     ]
    },
    {
     "data": {
      "text/plain": "<Figure size 1200x480 with 40 Axes>",
      "image/png": "[encoded data removed]"
     },
     "metadata": {},
     "output_type": "display_data"
    }
   ],
   "source": [
    "n_rows = 4\n",
    "n_cols = 10\n",
    "plt.figure(figsize=(n_cols * 1.2, n_rows * 1.2))\n",
    "for row in range(n_rows):\n",
    "    for col in range(n_cols):\n",
    "        index = n_cols * row + col\n",
    "        plt.subplot(n_rows, n_cols, index + 1)\n",
    "        plt.imshow(X_train[index], cmap=\"binary\", interpolation=\"nearest\")\n",
    "        plt.axis('off')\n",
    "        plt.title(class_names[y_train[index]], fontsize=12)\n",
    "plt.subplots_adjust(wspace=0.2, hspace=0.5)\n",
    "save_fig('fashion_mnist_plot', tight_layout=False)\n",
    "plt.show()"
   ],
   "metadata": {
    "collapsed": false,
    "ExecuteTime": {
     "start_time": "2023-05-03T13:46:18.591092Z",
     "end_time": "2023-05-03T13:46:20.255092Z"
    }
   }
  },
  {
   "cell_type": "code",
   "execution_count": 25,
   "outputs": [],
   "source": [
    "model = keras.models.Sequential()\n",
    "model.add(keras.layers.Flatten(input_shape=[28, 28]))\n",
    "model.add(keras.layers.Dense(300, activation=\"relu\"))\n",
    "model.add(keras.layers.Dense(100, activation=\"relu\"))\n",
    "model.add(keras.layers.Dense(10, activation=\"softmax\"))"
   ],
   "metadata": {
    "collapsed": false,
    "ExecuteTime": {
     "start_time": "2023-05-03T13:46:20.256092Z",
     "end_time": "2023-05-03T13:46:20.456090Z"
    }
   }
  },
  {
   "cell_type": "code",
   "execution_count": 26,
   "outputs": [],
   "source": [
    "keras.backend.clear_session()\n",
    "np.random.seed(42)\n",
    "tf.random.set_seed(42)"
   ],
   "metadata": {
    "collapsed": false,
    "ExecuteTime": {
     "start_time": "2023-05-03T13:46:20.430091Z",
     "end_time": "2023-05-03T13:46:20.465090Z"
    }
   }
  },
  {
   "cell_type": "code",
   "execution_count": 27,
   "outputs": [],
   "source": [
    "model = keras.models.Sequential([\n",
    "    keras.layers.Flatten(input_shape=[28, 28]),\n",
    "    keras.layers.Dense(300, activation=\"relu\"),\n",
    "    keras.layers.Dense(100, activation=\"relu\"),\n",
    "    keras.layers.Dense(10, activation=\"softmax\")\n",
    "])"
   ],
   "metadata": {
    "collapsed": false,
    "ExecuteTime": {
     "start_time": "2023-05-03T13:46:20.590089Z",
     "end_time": "2023-05-03T13:46:20.885091Z"
    }
   }
  },
  {
   "cell_type": "code",
   "execution_count": 28,
   "outputs": [
    {
     "data": {
      "text/plain": "[<keras.layers.reshaping.flatten.Flatten at 0x1c528186f70>,\n <keras.layers.core.dense.Dense at 0x1c52aef9cd0>,\n <keras.layers.core.dense.Dense at 0x1c52add98b0>,\n <keras.layers.core.dense.Dense at 0x1c52add9460>]"
     },
     "execution_count": 28,
     "metadata": {},
     "output_type": "execute_result"
    }
   ],
   "source": [
    "model.layers"
   ],
   "metadata": {
    "collapsed": false,
    "ExecuteTime": {
     "start_time": "2023-05-03T13:46:24.045544Z",
     "end_time": "2023-05-03T13:46:24.094559Z"
    }
   }
  },
  {
   "cell_type": "code",
   "execution_count": 29,
   "outputs": [
    {
     "name": "stdout",
     "output_type": "stream",
     "text": [
      "Model: \"sequential\"\n",
      "_________________________________________________________________\n",
      " Layer (type)                Output Shape              Param #   \n",
      "=================================================================\n",
      " flatten (Flatten)           (None, 784)               0         \n",
      "                                                                 \n",
      " dense (Dense)               (None, 300)               235500    \n",
      "                                                                 \n",
      " dense_1 (Dense)             (None, 100)               30100     \n",
      "                                                                 \n",
      " dense_2 (Dense)             (None, 10)                1010      \n",
      "                                                                 \n",
      "=================================================================\n",
      "Total params: 266,610\n",
      "Trainable params: 266,610\n",
      "Non-trainable params: 0\n",
      "_________________________________________________________________\n"
     ]
    }
   ],
   "source": [
    "model.summary()"
   ],
   "metadata": {
    "collapsed": false,
    "ExecuteTime": {
     "start_time": "2023-05-03T13:46:32.467264Z",
     "end_time": "2023-05-03T13:46:32.527293Z"
    }
   }
  },
  {
   "cell_type": "code",
   "execution_count": 30,
   "outputs": [
    {
     "name": "stdout",
     "output_type": "stream",
     "text": [
      "You must install pydot (`pip install pydot`) and install graphviz (see instructions at https://graphviz.gitlab.io/download/) for plot_model to work.\n"
     ]
    }
   ],
   "source": [
    "keras.utils.plot_model(model, \"my_fashion_mnist_model.png\", show_shapes=True)"
   ],
   "metadata": {
    "collapsed": false,
    "ExecuteTime": {
     "start_time": "2023-05-03T13:46:33.987283Z",
     "end_time": "2023-05-03T13:46:34.020286Z"
    }
   }
  },
  {
   "cell_type": "code",
   "execution_count": 31,
   "outputs": [
    {
     "data": {
      "text/plain": "'dense'"
     },
     "execution_count": 31,
     "metadata": {},
     "output_type": "execute_result"
    }
   ],
   "source": [
    "hidden1 = model.layers[1]\n",
    "hidden1.name"
   ],
   "metadata": {
    "collapsed": false,
    "ExecuteTime": {
     "start_time": "2023-05-03T13:46:37.620279Z",
     "end_time": "2023-05-03T13:46:37.674279Z"
    }
   }
  },
  {
   "cell_type": "code",
   "execution_count": 32,
   "outputs": [
    {
     "data": {
      "text/plain": "True"
     },
     "execution_count": 32,
     "metadata": {},
     "output_type": "execute_result"
    }
   ],
   "source": [
    "model.get_layer(hidden1.name) is hidden1"
   ],
   "metadata": {
    "collapsed": false,
    "ExecuteTime": {
     "start_time": "2023-05-03T13:46:41.885545Z",
     "end_time": "2023-05-03T13:46:41.917544Z"
    }
   }
  },
  {
   "cell_type": "code",
   "execution_count": 33,
   "outputs": [],
   "source": [
    "weights, biases = hidden1.get_weights()"
   ],
   "metadata": {
    "collapsed": false,
    "ExecuteTime": {
     "start_time": "2023-05-03T13:46:42.522604Z",
     "end_time": "2023-05-03T13:46:42.576599Z"
    }
   }
  },
  {
   "cell_type": "code",
   "execution_count": 34,
   "outputs": [
    {
     "data": {
      "text/plain": "array([[ 0.00895733,  0.03637012, -0.02905255, ..., -0.03746776,\n        -0.0591787 , -0.06893098],\n       [ 0.02924854, -0.05156002,  0.06746797, ...,  0.00459057,\n         0.05989288, -0.06094643],\n       [-0.02296653,  0.03271361,  0.02841934, ..., -0.04576058,\n        -0.06200985,  0.07015266],\n       ...,\n       [ 0.01578812, -0.02018795,  0.03708118, ..., -0.05592623,\n         0.01104541,  0.01886818],\n       [ 0.00217567,  0.00875854,  0.06049582, ..., -0.04976834,\n         0.03259943, -0.0104333 ],\n       [ 0.05486476, -0.03963832, -0.00543678, ...,  0.05933544,\n         0.00747859, -0.04161996]], dtype=float32)"
     },
     "execution_count": 34,
     "metadata": {},
     "output_type": "execute_result"
    }
   ],
   "source": [
    "weights"
   ],
   "metadata": {
    "collapsed": false,
    "ExecuteTime": {
     "start_time": "2023-05-03T13:46:43.312754Z",
     "end_time": "2023-05-03T13:46:43.350752Z"
    }
   }
  },
  {
   "cell_type": "code",
   "execution_count": 35,
   "outputs": [
    {
     "data": {
      "text/plain": "(784, 300)"
     },
     "execution_count": 35,
     "metadata": {},
     "output_type": "execute_result"
    }
   ],
   "source": [
    "weights.shape"
   ],
   "metadata": {
    "collapsed": false,
    "ExecuteTime": {
     "start_time": "2023-05-03T13:46:44.196754Z",
     "end_time": "2023-05-03T13:46:44.260752Z"
    }
   }
  },
  {
   "cell_type": "code",
   "execution_count": 36,
   "outputs": [
    {
     "data": {
      "text/plain": "array([0., 0., 0., 0., 0., 0., 0., 0., 0., 0., 0., 0., 0., 0., 0., 0., 0.,\n       0., 0., 0., 0., 0., 0., 0., 0., 0., 0., 0., 0., 0., 0., 0., 0., 0.,\n       0., 0., 0., 0., 0., 0., 0., 0., 0., 0., 0., 0., 0., 0., 0., 0., 0.,\n       0., 0., 0., 0., 0., 0., 0., 0., 0., 0., 0., 0., 0., 0., 0., 0., 0.,\n       0., 0., 0., 0., 0., 0., 0., 0., 0., 0., 0., 0., 0., 0., 0., 0., 0.,\n       0., 0., 0., 0., 0., 0., 0., 0., 0., 0., 0., 0., 0., 0., 0., 0., 0.,\n       0., 0., 0., 0., 0., 0., 0., 0., 0., 0., 0., 0., 0., 0., 0., 0., 0.,\n       0., 0., 0., 0., 0., 0., 0., 0., 0., 0., 0., 0., 0., 0., 0., 0., 0.,\n       0., 0., 0., 0., 0., 0., 0., 0., 0., 0., 0., 0., 0., 0., 0., 0., 0.,\n       0., 0., 0., 0., 0., 0., 0., 0., 0., 0., 0., 0., 0., 0., 0., 0., 0.,\n       0., 0., 0., 0., 0., 0., 0., 0., 0., 0., 0., 0., 0., 0., 0., 0., 0.,\n       0., 0., 0., 0., 0., 0., 0., 0., 0., 0., 0., 0., 0., 0., 0., 0., 0.,\n       0., 0., 0., 0., 0., 0., 0., 0., 0., 0., 0., 0., 0., 0., 0., 0., 0.,\n       0., 0., 0., 0., 0., 0., 0., 0., 0., 0., 0., 0., 0., 0., 0., 0., 0.,\n       0., 0., 0., 0., 0., 0., 0., 0., 0., 0., 0., 0., 0., 0., 0., 0., 0.,\n       0., 0., 0., 0., 0., 0., 0., 0., 0., 0., 0., 0., 0., 0., 0., 0., 0.,\n       0., 0., 0., 0., 0., 0., 0., 0., 0., 0., 0., 0., 0., 0., 0., 0., 0.,\n       0., 0., 0., 0., 0., 0., 0., 0., 0., 0., 0.], dtype=float32)"
     },
     "execution_count": 36,
     "metadata": {},
     "output_type": "execute_result"
    }
   ],
   "source": [
    "biases"
   ],
   "metadata": {
    "collapsed": false,
    "ExecuteTime": {
     "start_time": "2023-05-03T13:46:44.977605Z",
     "end_time": "2023-05-03T13:46:45.018598Z"
    }
   }
  },
  {
   "cell_type": "code",
   "execution_count": 37,
   "outputs": [
    {
     "data": {
      "text/plain": "(300,)"
     },
     "execution_count": 37,
     "metadata": {},
     "output_type": "execute_result"
    }
   ],
   "source": [
    "biases.shape"
   ],
   "metadata": {
    "collapsed": false,
    "ExecuteTime": {
     "start_time": "2023-05-03T13:47:00.423308Z",
     "end_time": "2023-05-03T13:47:00.459326Z"
    }
   }
  },
  {
   "cell_type": "code",
   "execution_count": 38,
   "outputs": [],
   "source": [
    "model.compile(loss=\"sparse_categorical_crossentropy\",\n",
    "              optimizer=\"sgd\",\n",
    "              metrics=[\"accuracy\"])"
   ],
   "metadata": {
    "collapsed": false,
    "ExecuteTime": {
     "start_time": "2023-05-03T13:47:00.970632Z",
     "end_time": "2023-05-03T13:47:01.034631Z"
    }
   }
  },
  {
   "cell_type": "code",
   "execution_count": 39,
   "outputs": [
    {
     "name": "stdout",
     "output_type": "stream",
     "text": [
      "Epoch 1/30\n",
      "1719/1719 [==============================] - 6s 3ms/step - loss: 0.7062 - accuracy: 0.7671 - val_loss: 0.5236 - val_accuracy: 0.8202\n",
      "Epoch 2/30\n",
      "1719/1719 [==============================] - 4s 3ms/step - loss: 0.4866 - accuracy: 0.8300 - val_loss: 0.4347 - val_accuracy: 0.8520\n",
      "Epoch 3/30\n",
      "1719/1719 [==============================] - 6s 3ms/step - loss: 0.4403 - accuracy: 0.8453 - val_loss: 0.5219 - val_accuracy: 0.8032\n",
      "Epoch 4/30\n",
      "1719/1719 [==============================] - 5s 3ms/step - loss: 0.4131 - accuracy: 0.8555 - val_loss: 0.3955 - val_accuracy: 0.8632\n",
      "Epoch 5/30\n",
      "1719/1719 [==============================] - 5s 3ms/step - loss: 0.3944 - accuracy: 0.8618 - val_loss: 0.3777 - val_accuracy: 0.8700\n",
      "Epoch 6/30\n",
      "1719/1719 [==============================] - 4s 3ms/step - loss: 0.3758 - accuracy: 0.8678 - val_loss: 0.3742 - val_accuracy: 0.8686\n",
      "Epoch 7/30\n",
      "1719/1719 [==============================] - 5s 3ms/step - loss: 0.3633 - accuracy: 0.8717 - val_loss: 0.3643 - val_accuracy: 0.8722\n",
      "Epoch 8/30\n",
      "1719/1719 [==============================] - 4s 3ms/step - loss: 0.3519 - accuracy: 0.8755 - val_loss: 0.3853 - val_accuracy: 0.8584\n",
      "Epoch 9/30\n",
      "1719/1719 [==============================] - 5s 3ms/step - loss: 0.3417 - accuracy: 0.8795 - val_loss: 0.3541 - val_accuracy: 0.8716\n",
      "Epoch 10/30\n",
      "1719/1719 [==============================] - 6s 3ms/step - loss: 0.3324 - accuracy: 0.8818 - val_loss: 0.3444 - val_accuracy: 0.8786\n",
      "Epoch 11/30\n",
      "1719/1719 [==============================] - 5s 3ms/step - loss: 0.3238 - accuracy: 0.8848 - val_loss: 0.3435 - val_accuracy: 0.8778\n",
      "Epoch 12/30\n",
      "1719/1719 [==============================] - 5s 3ms/step - loss: 0.3146 - accuracy: 0.8876 - val_loss: 0.3328 - val_accuracy: 0.8804\n",
      "Epoch 13/30\n",
      "1719/1719 [==============================] - 4s 3ms/step - loss: 0.3078 - accuracy: 0.8903 - val_loss: 0.3298 - val_accuracy: 0.8864\n",
      "Epoch 14/30\n",
      "1719/1719 [==============================] - 6s 3ms/step - loss: 0.3017 - accuracy: 0.8920 - val_loss: 0.3584 - val_accuracy: 0.8680\n",
      "Epoch 15/30\n",
      "1719/1719 [==============================] - 5s 3ms/step - loss: 0.2940 - accuracy: 0.8937 - val_loss: 0.3279 - val_accuracy: 0.8786\n",
      "Epoch 16/30\n",
      "1719/1719 [==============================] - 4s 3ms/step - loss: 0.2886 - accuracy: 0.8979 - val_loss: 0.3090 - val_accuracy: 0.8900\n",
      "Epoch 17/30\n",
      "1719/1719 [==============================] - 4s 3ms/step - loss: 0.2831 - accuracy: 0.8988 - val_loss: 0.3463 - val_accuracy: 0.8780\n",
      "Epoch 18/30\n",
      "1719/1719 [==============================] - 4s 2ms/step - loss: 0.2766 - accuracy: 0.9002 - val_loss: 0.3135 - val_accuracy: 0.8878\n",
      "Epoch 19/30\n",
      "1719/1719 [==============================] - 4s 2ms/step - loss: 0.2721 - accuracy: 0.9022 - val_loss: 0.3049 - val_accuracy: 0.8938\n",
      "Epoch 20/30\n",
      "1719/1719 [==============================] - 4s 2ms/step - loss: 0.2664 - accuracy: 0.9048 - val_loss: 0.3276 - val_accuracy: 0.8822\n",
      "Epoch 21/30\n",
      "1719/1719 [==============================] - 5s 3ms/step - loss: 0.2617 - accuracy: 0.9062 - val_loss: 0.3082 - val_accuracy: 0.8902\n",
      "Epoch 22/30\n",
      "1719/1719 [==============================] - 4s 3ms/step - loss: 0.2566 - accuracy: 0.9086 - val_loss: 0.2948 - val_accuracy: 0.8920\n",
      "Epoch 23/30\n",
      "1719/1719 [==============================] - 4s 3ms/step - loss: 0.2522 - accuracy: 0.9080 - val_loss: 0.3060 - val_accuracy: 0.8918\n",
      "Epoch 24/30\n",
      "1719/1719 [==============================] - 5s 3ms/step - loss: 0.2480 - accuracy: 0.9111 - val_loss: 0.3019 - val_accuracy: 0.8888\n",
      "Epoch 25/30\n",
      "1719/1719 [==============================] - 5s 3ms/step - loss: 0.2435 - accuracy: 0.9121 - val_loss: 0.2987 - val_accuracy: 0.8968\n",
      "Epoch 26/30\n",
      "1719/1719 [==============================] - 4s 2ms/step - loss: 0.2394 - accuracy: 0.9138 - val_loss: 0.3011 - val_accuracy: 0.8930\n",
      "Epoch 27/30\n",
      "1719/1719 [==============================] - 4s 2ms/step - loss: 0.2361 - accuracy: 0.9154 - val_loss: 0.2993 - val_accuracy: 0.8920\n",
      "Epoch 28/30\n",
      "1719/1719 [==============================] - 4s 2ms/step - loss: 0.2318 - accuracy: 0.9171 - val_loss: 0.3009 - val_accuracy: 0.8922\n",
      "Epoch 29/30\n",
      "1719/1719 [==============================] - 5s 3ms/step - loss: 0.2276 - accuracy: 0.9187 - val_loss: 0.3045 - val_accuracy: 0.8906\n",
      "Epoch 30/30\n",
      "1719/1719 [==============================] - 5s 3ms/step - loss: 0.2240 - accuracy: 0.9202 - val_loss: 0.3168 - val_accuracy: 0.8922\n"
     ]
    }
   ],
   "source": [
    "history = model.fit(X_train, y_train, epochs=30,\n",
    "                    validation_data=(X_valid, y_valid))"
   ],
   "metadata": {
    "collapsed": false,
    "ExecuteTime": {
     "start_time": "2023-05-03T13:47:01.434632Z",
     "end_time": "2023-05-03T13:49:24.483635Z"
    }
   }
  },
  {
   "cell_type": "code",
   "execution_count": 40,
   "outputs": [
    {
     "data": {
      "text/plain": "{'verbose': 1, 'epochs': 30, 'steps': 1719}"
     },
     "execution_count": 40,
     "metadata": {},
     "output_type": "execute_result"
    }
   ],
   "source": [
    "history.params"
   ],
   "metadata": {
    "collapsed": false,
    "ExecuteTime": {
     "start_time": "2023-05-03T13:49:24.487637Z",
     "end_time": "2023-05-03T13:49:24.588639Z"
    }
   }
  },
  {
   "cell_type": "code",
   "execution_count": 41,
   "outputs": [
    {
     "name": "stdout",
     "output_type": "stream",
     "text": [
      "[0, 1, 2, 3, 4, 5, 6, 7, 8, 9, 10, 11, 12, 13, 14, 15, 16, 17, 18, 19, 20, 21, 22, 23, 24, 25, 26, 27, 28, 29]\n"
     ]
    }
   ],
   "source": [
    "print(history.epoch)"
   ],
   "metadata": {
    "collapsed": false,
    "ExecuteTime": {
     "start_time": "2023-05-03T13:49:24.502638Z",
     "end_time": "2023-05-03T13:49:24.619633Z"
    }
   }
  },
  {
   "cell_type": "code",
   "execution_count": 42,
   "outputs": [
    {
     "data": {
      "text/plain": "dict_keys(['loss', 'accuracy', 'val_loss', 'val_accuracy'])"
     },
     "execution_count": 42,
     "metadata": {},
     "output_type": "execute_result"
    }
   ],
   "source": [
    "history.history.keys()"
   ],
   "metadata": {
    "collapsed": false,
    "ExecuteTime": {
     "start_time": "2023-05-03T13:49:24.517636Z",
     "end_time": "2023-05-03T13:49:24.619633Z"
    }
   }
  },
  {
   "cell_type": "code",
   "execution_count": 43,
   "outputs": [
    {
     "name": "stdout",
     "output_type": "stream",
     "text": [
      "Saving figure keras_learning_curves_plot\n"
     ]
    },
    {
     "data": {
      "text/plain": "<Figure size 800x500 with 1 Axes>",
      "image/png": "[encoded data removed]"
     },
     "metadata": {},
     "output_type": "display_data"
    }
   ],
   "source": [
    "pd.DataFrame(history.history).plot(figsize=(8, 5))\n",
    "plt.grid(True)\n",
    "plt.gca().set_ylim(0, 1)\n",
    "save_fig(\"keras_learning_curves_plot\")\n",
    "plt.show()"
   ],
   "metadata": {
    "collapsed": false,
    "ExecuteTime": {
     "start_time": "2023-05-03T13:49:24.531636Z",
     "end_time": "2023-05-03T13:49:25.402635Z"
    }
   }
  },
  {
   "cell_type": "code",
   "execution_count": 44,
   "outputs": [
    {
     "name": "stdout",
     "output_type": "stream",
     "text": [
      "313/313 [==============================] - 1s 2ms/step - loss: 0.3496 - accuracy: 0.8774\n"
     ]
    },
    {
     "data": {
      "text/plain": "[0.34962204098701477, 0.8773999810218811]"
     },
     "execution_count": 44,
     "metadata": {},
     "output_type": "execute_result"
    }
   ],
   "source": [
    "model.evaluate(X_test, y_test)"
   ],
   "metadata": {
    "collapsed": false,
    "ExecuteTime": {
     "start_time": "2023-05-03T13:49:25.404636Z",
     "end_time": "2023-05-03T13:49:26.206634Z"
    }
   }
  },
  {
   "cell_type": "code",
   "execution_count": 45,
   "outputs": [
    {
     "name": "stdout",
     "output_type": "stream",
     "text": [
      "1/1 [==============================] - 0s 90ms/step\n"
     ]
    },
    {
     "data": {
      "text/plain": "array([[0.  , 0.  , 0.  , 0.  , 0.  , 0.  , 0.  , 0.02, 0.  , 0.98],\n       [0.  , 0.  , 1.  , 0.  , 0.  , 0.  , 0.  , 0.  , 0.  , 0.  ],\n       [0.  , 1.  , 0.  , 0.  , 0.  , 0.  , 0.  , 0.  , 0.  , 0.  ]],\n      dtype=float32)"
     },
     "execution_count": 45,
     "metadata": {},
     "output_type": "execute_result"
    }
   ],
   "source": [
    "X_new = X_test[:3]\n",
    "y_proba = model.predict(X_new)\n",
    "y_proba.round(2)"
   ],
   "metadata": {
    "collapsed": false,
    "ExecuteTime": {
     "start_time": "2023-05-03T13:49:26.206634Z",
     "end_time": "2023-05-03T13:49:26.363634Z"
    }
   }
  },
  {
   "cell_type": "code",
   "execution_count": 46,
   "outputs": [
    {
     "name": "stdout",
     "output_type": "stream",
     "text": [
      "1/1 [==============================] - 0s 26ms/step\n"
     ]
    },
    {
     "data": {
      "text/plain": "array([9, 2, 1], dtype=int64)"
     },
     "execution_count": 46,
     "metadata": {},
     "output_type": "execute_result"
    }
   ],
   "source": [
    "#y_pred = model.predict_classes(X_new) # deprecated\n",
    "y_pred = np.argmax(model.predict(X_new), axis=-1)\n",
    "y_pred"
   ],
   "metadata": {
    "collapsed": false,
    "ExecuteTime": {
     "start_time": "2023-05-03T13:49:26.367637Z",
     "end_time": "2023-05-03T13:49:26.481634Z"
    }
   }
  },
  {
   "cell_type": "code",
   "execution_count": 47,
   "outputs": [
    {
     "data": {
      "text/plain": "array(['Ankle boot', 'Pullover', 'Trouser'], dtype='<U11')"
     },
     "execution_count": 47,
     "metadata": {},
     "output_type": "execute_result"
    }
   ],
   "source": [
    "np.array(class_names)[y_pred]"
   ],
   "metadata": {
    "collapsed": false,
    "ExecuteTime": {
     "start_time": "2023-05-03T13:49:26.461635Z",
     "end_time": "2023-05-03T13:49:26.481634Z"
    }
   }
  },
  {
   "cell_type": "code",
   "execution_count": 48,
   "outputs": [
    {
     "data": {
      "text/plain": "array([9, 2, 1], dtype=uint8)"
     },
     "execution_count": 48,
     "metadata": {},
     "output_type": "execute_result"
    }
   ],
   "source": [
    "y_new = y_test[:3]\n",
    "y_new"
   ],
   "metadata": {
    "collapsed": false,
    "ExecuteTime": {
     "start_time": "2023-05-03T13:49:26.477634Z",
     "end_time": "2023-05-03T13:49:26.534147Z"
    }
   }
  },
  {
   "cell_type": "code",
   "execution_count": 49,
   "outputs": [
    {
     "name": "stdout",
     "output_type": "stream",
     "text": [
      "Saving figure fashion_mnist_images_plot\n"
     ]
    },
    {
     "data": {
      "text/plain": "<Figure size 720x240 with 3 Axes>",
      "image/png": "[encoded data removed]"
     },
     "metadata": {},
     "output_type": "display_data"
    }
   ],
   "source": [
    "plt.figure(figsize=(7.2, 2.4))\n",
    "for index, image in enumerate(X_new):\n",
    "    plt.subplot(1, 3, index + 1)\n",
    "    plt.imshow(image, cmap=\"binary\", interpolation=\"nearest\")\n",
    "    plt.axis('off')\n",
    "    plt.title(class_names[y_test[index]], fontsize=12)\n",
    "plt.subplots_adjust(wspace=0.2, hspace=0.5)\n",
    "save_fig('fashion_mnist_images_plot', tight_layout=False)\n",
    "plt.show()"
   ],
   "metadata": {
    "collapsed": false,
    "ExecuteTime": {
     "start_time": "2023-05-03T13:49:26.496152Z",
     "end_time": "2023-05-03T13:49:26.791147Z"
    }
   }
  },
  {
   "cell_type": "markdown",
   "source": [
    "# Regression MLP"
   ],
   "metadata": {
    "collapsed": false
   }
  },
  {
   "cell_type": "code",
   "execution_count": 206,
   "outputs": [
    {
     "data": {
      "text/plain": "          price  bedrooms  bathrooms  sqft_living  sqft_lot  floors  \\\n0      221900.0         3       1.00         1180      5650     1.0   \n1      538000.0         3       2.25         2570      7242     2.0   \n2      180000.0         2       1.00          770     10000     1.0   \n3      604000.0         4       3.00         1960      5000     1.0   \n4      510000.0         3       2.00         1680      8080     1.0   \n...         ...       ...        ...          ...       ...     ...   \n21608  360000.0         3       2.50         1530      1131     3.0   \n21609  400000.0         4       2.50         2310      5813     2.0   \n21610  402101.0         2       0.75         1020      1350     2.0   \n21611  400000.0         3       2.50         1600      2388     2.0   \n21612  325000.0         2       0.75         1020      1076     2.0   \n\n       waterfront  condition  grade  yr_built  yr_renovated      lat     long  \n0               0          3      7      1955             0  47.5112 -122.257  \n1               0          3      7      1951          1991  47.7210 -122.319  \n2               0          3      6      1933             0  47.7379 -122.233  \n3               0          5      7      1965             0  47.5208 -122.393  \n4               0          3      8      1987             0  47.6168 -122.045  \n...           ...        ...    ...       ...           ...      ...      ...  \n21608           0          3      8      2009             0  47.6993 -122.346  \n21609           0          3      8      2014             0  47.5107 -122.362  \n21610           0          3      7      2009             0  47.5944 -122.299  \n21611           0          3      8      2004             0  47.5345 -122.069  \n21612           0          3      7      2008             0  47.5941 -122.299  \n\n[21613 rows x 13 columns]",
      "text/html": "<div>\n<style scoped>\n    .dataframe tbody tr th:only-of-type {\n        vertical-align: middle;\n    }\n\n    .dataframe tbody tr th {\n        vertical-align: top;\n    }\n\n    .dataframe thead th {\n        text-align: right;\n    }\n</style>\n<table border=\"1\" class=\"dataframe\">\n  <thead>\n    <tr style=\"text-align: right;\">\n      <th></th>\n      <th>price</th>\n      <th>bedrooms</th>\n      <th>bathrooms</th>\n      <th>sqft_living</th>\n      <th>sqft_lot</th>\n      <th>floors</th>\n      <th>waterfront</th>\n      <th>condition</th>\n      <th>grade</th>\n      <th>yr_built</th>\n      <th>yr_renovated</th>\n      <th>lat</th>\n      <th>long</th>\n    </tr>\n  </thead>\n  <tbody>\n    <tr>\n      <th>0</th>\n      <td>221900.0</td>\n      <td>3</td>\n      <td>1.00</td>\n      <td>1180</td>\n      <td>5650</td>\n      <td>1.0</td>\n      <td>0</td>\n      <td>3</td>\n      <td>7</td>\n      <td>1955</td>\n      <td>0</td>\n      <td>47.5112</td>\n      <td>-122.257</td>\n    </tr>\n    <tr>\n      <th>1</th>\n      <td>538000.0</td>\n      <td>3</td>\n      <td>2.25</td>\n      <td>2570</td>\n      <td>7242</td>\n      <td>2.0</td>\n      <td>0</td>\n      <td>3</td>\n      <td>7</td>\n      <td>1951</td>\n      <td>1991</td>\n      <td>47.7210</td>\n      <td>-122.319</td>\n    </tr>\n    <tr>\n      <th>2</th>\n      <td>180000.0</td>\n      <td>2</td>\n      <td>1.00</td>\n      <td>770</td>\n      <td>10000</td>\n      <td>1.0</td>\n      <td>0</td>\n      <td>3</td>\n      <td>6</td>\n      <td>1933</td>\n      <td>0</td>\n      <td>47.7379</td>\n      <td>-122.233</td>\n    </tr>\n    <tr>\n      <th>3</th>\n      <td>604000.0</td>\n      <td>4</td>\n      <td>3.00</td>\n      <td>1960</td>\n      <td>5000</td>\n      <td>1.0</td>\n      <td>0</td>\n      <td>5</td>\n      <td>7</td>\n      <td>1965</td>\n      <td>0</td>\n      <td>47.5208</td>\n      <td>-122.393</td>\n    </tr>\n    <tr>\n      <th>4</th>\n      <td>510000.0</td>\n      <td>3</td>\n      <td>2.00</td>\n      <td>1680</td>\n      <td>8080</td>\n      <td>1.0</td>\n      <td>0</td>\n      <td>3</td>\n      <td>8</td>\n      <td>1987</td>\n      <td>0</td>\n      <td>47.6168</td>\n      <td>-122.045</td>\n    </tr>\n    <tr>\n      <th>...</th>\n      <td>...</td>\n      <td>...</td>\n      <td>...</td>\n      <td>...</td>\n      <td>...</td>\n      <td>...</td>\n      <td>...</td>\n      <td>...</td>\n      <td>...</td>\n      <td>...</td>\n      <td>...</td>\n      <td>...</td>\n      <td>...</td>\n    </tr>\n    <tr>\n      <th>21608</th>\n      <td>360000.0</td>\n      <td>3</td>\n      <td>2.50</td>\n      <td>1530</td>\n      <td>1131</td>\n      <td>3.0</td>\n      <td>0</td>\n      <td>3</td>\n      <td>8</td>\n      <td>2009</td>\n      <td>0</td>\n      <td>47.6993</td>\n      <td>-122.346</td>\n    </tr>\n    <tr>\n      <th>21609</th>\n      <td>400000.0</td>\n      <td>4</td>\n      <td>2.50</td>\n      <td>2310</td>\n      <td>5813</td>\n      <td>2.0</td>\n      <td>0</td>\n      <td>3</td>\n      <td>8</td>\n      <td>2014</td>\n      <td>0</td>\n      <td>47.5107</td>\n      <td>-122.362</td>\n    </tr>\n    <tr>\n      <th>21610</th>\n      <td>402101.0</td>\n      <td>2</td>\n      <td>0.75</td>\n      <td>1020</td>\n      <td>1350</td>\n      <td>2.0</td>\n      <td>0</td>\n      <td>3</td>\n      <td>7</td>\n      <td>2009</td>\n      <td>0</td>\n      <td>47.5944</td>\n      <td>-122.299</td>\n    </tr>\n    <tr>\n      <th>21611</th>\n      <td>400000.0</td>\n      <td>3</td>\n      <td>2.50</td>\n      <td>1600</td>\n      <td>2388</td>\n      <td>2.0</td>\n      <td>0</td>\n      <td>3</td>\n      <td>8</td>\n      <td>2004</td>\n      <td>0</td>\n      <td>47.5345</td>\n      <td>-122.069</td>\n    </tr>\n    <tr>\n      <th>21612</th>\n      <td>325000.0</td>\n      <td>2</td>\n      <td>0.75</td>\n      <td>1020</td>\n      <td>1076</td>\n      <td>2.0</td>\n      <td>0</td>\n      <td>3</td>\n      <td>7</td>\n      <td>2008</td>\n      <td>0</td>\n      <td>47.5941</td>\n      <td>-122.299</td>\n    </tr>\n  </tbody>\n</table>\n<p>21613 rows × 13 columns</p>\n</div>"
     },
     "execution_count": 206,
     "metadata": {},
     "output_type": "execute_result"
    }
   ],
   "source": [
    "df = pd.read_csv(\"./datasets/kc_house_data.csv\")\n",
    "df = df.drop([\"id\", \"date\", \"zipcode\", \"view\", \"sqft_living15\", \"sqft_lot15\", \"sqft_above\", \"sqft_basement\"], axis=1)\n",
    "df"
   ],
   "metadata": {
    "collapsed": false,
    "ExecuteTime": {
     "start_time": "2023-05-03T14:29:22.470319Z",
     "end_time": "2023-05-03T14:29:22.573372Z"
    }
   }
  },
  {
   "cell_type": "code",
   "execution_count": 158,
   "outputs": [],
   "source": [
    "from sklearn.model_selection import train_test_split\n",
    "from sklearn.preprocessing import StandardScaler\n",
    "\n",
    "data = df.drop(\"price\", axis=1)\n",
    "target = df[\"price\"]\n",
    "\n",
    "X_train_full, X_test, y_train_full, y_test = train_test_split(data, target, random_state=42)\n",
    "X_train, X_valid, y_train, y_valid = train_test_split(X_train_full, y_train_full, random_state=42)\n",
    "\n",
    "scaler = StandardScaler()\n",
    "X_train = scaler.fit_transform(X_train)\n",
    "X_valid = scaler.transform(X_valid)\n",
    "X_test = scaler.transform(X_test)"
   ],
   "metadata": {
    "collapsed": false,
    "ExecuteTime": {
     "start_time": "2023-05-03T14:20:34.418099Z",
     "end_time": "2023-05-03T14:20:34.473129Z"
    }
   }
  },
  {
   "cell_type": "code",
   "execution_count": 159,
   "outputs": [],
   "source": [
    "np.random.seed(42)\n",
    "tf.random.set_seed(42)"
   ],
   "metadata": {
    "collapsed": false,
    "ExecuteTime": {
     "start_time": "2023-05-03T14:20:36.427221Z",
     "end_time": "2023-05-03T14:20:36.475419Z"
    }
   }
  },
  {
   "cell_type": "code",
   "execution_count": 167,
   "outputs": [],
   "source": [
    "l_r = 1e-7"
   ],
   "metadata": {
    "collapsed": false,
    "ExecuteTime": {
     "start_time": "2023-05-03T14:21:39.504928Z",
     "end_time": "2023-05-03T14:21:39.527927Z"
    }
   }
  },
  {
   "cell_type": "code",
   "execution_count": 168,
   "outputs": [
    {
     "name": "stdout",
     "output_type": "stream",
     "text": [
      "Epoch 1/20\n",
      "380/380 [==============================] - 1s 2ms/step - loss: 94542798848.0000 - val_loss: 32311238656.0000\n",
      "Epoch 2/20\n",
      "380/380 [==============================] - 1s 1ms/step - loss: 38719541248.0000 - val_loss: 32090546176.0000\n",
      "Epoch 3/20\n",
      "380/380 [==============================] - 1s 1ms/step - loss: 37247557632.0000 - val_loss: 31836346368.0000\n",
      "Epoch 4/20\n",
      "380/380 [==============================] - 1s 1ms/step - loss: 36889833472.0000 - val_loss: 33729507328.0000\n",
      "Epoch 5/20\n",
      "380/380 [==============================] - 1s 1ms/step - loss: 35665379328.0000 - val_loss: 30959267840.0000\n",
      "Epoch 6/20\n",
      "380/380 [==============================] - 1s 1ms/step - loss: 35384799232.0000 - val_loss: 29186082816.0000\n",
      "Epoch 7/20\n",
      "380/380 [==============================] - 0s 1ms/step - loss: 34852364288.0000 - val_loss: 29892388864.0000\n",
      "Epoch 8/20\n",
      "380/380 [==============================] - 1s 1ms/step - loss: 34496524288.0000 - val_loss: 28988803072.0000\n",
      "Epoch 9/20\n",
      "380/380 [==============================] - 0s 1ms/step - loss: 33775179776.0000 - val_loss: 29527564288.0000\n",
      "Epoch 10/20\n",
      "380/380 [==============================] - 0s 1ms/step - loss: 32150577152.0000 - val_loss: 27069546496.0000\n",
      "Epoch 11/20\n",
      "380/380 [==============================] - 1s 1ms/step - loss: 31128887296.0000 - val_loss: 24949227520.0000\n",
      "Epoch 12/20\n",
      "380/380 [==============================] - 1s 1ms/step - loss: 29723054080.0000 - val_loss: 27720675328.0000\n",
      "Epoch 13/20\n",
      "380/380 [==============================] - 0s 1ms/step - loss: 29317976064.0000 - val_loss: 24233424896.0000\n",
      "Epoch 14/20\n",
      "380/380 [==============================] - 1s 1ms/step - loss: 28814831616.0000 - val_loss: 25860591616.0000\n",
      "Epoch 15/20\n",
      "380/380 [==============================] - 1s 2ms/step - loss: 28107034624.0000 - val_loss: 23918278656.0000\n",
      "Epoch 16/20\n",
      "380/380 [==============================] - 0s 1ms/step - loss: 27594711040.0000 - val_loss: 25838061568.0000\n",
      "Epoch 17/20\n",
      "380/380 [==============================] - 1s 1ms/step - loss: 27936450560.0000 - val_loss: 27966867456.0000\n",
      "Epoch 18/20\n",
      "380/380 [==============================] - 1s 1ms/step - loss: 27660462080.0000 - val_loss: 25350217728.0000\n",
      "Epoch 19/20\n",
      "380/380 [==============================] - 1s 1ms/step - loss: 28356235264.0000 - val_loss: 23879925760.0000\n",
      "Epoch 20/20\n",
      "380/380 [==============================] - 1s 2ms/step - loss: 27851145216.0000 - val_loss: 24569233408.0000\n",
      "169/169 [==============================] - 0s 917us/step - loss: 29238341632.0000\n",
      "1/1 [==============================] - 0s 40ms/step\n"
     ]
    }
   ],
   "source": [
    "model = keras.models.Sequential([\n",
    "    keras.layers.Dense(30, activation=\"relu\", input_shape=X_train.shape[1:]),\n",
    "    keras.layers.Dense(1)\n",
    "])\n",
    "model.compile(loss=\"mean_squared_error\", optimizer=keras.optimizers.SGD(learning_rate=l_r))\n",
    "history = model.fit(X_train, y_train, epochs=20, validation_data=(X_valid, y_valid))\n",
    "mse_test = model.evaluate(X_test, y_test)\n",
    "X_new = X_test[:3]\n",
    "y_pred = model.predict(X_new)"
   ],
   "metadata": {
    "collapsed": false,
    "ExecuteTime": {
     "start_time": "2023-05-03T14:21:40.671234Z",
     "end_time": "2023-05-03T14:21:51.856152Z"
    }
   }
  },
  {
   "cell_type": "code",
   "execution_count": 169,
   "outputs": [
    {
     "data": {
      "text/plain": "<Figure size 640x480 with 1 Axes>",
      "image/png": "[encoded data removed]"
     },
     "metadata": {},
     "output_type": "display_data"
    }
   ],
   "source": [
    "plt.plot(pd.DataFrame(history.history))\n",
    "plt.grid(True)\n",
    "# plt.gca().set_ylim(0, 1)\n",
    "plt.show()"
   ],
   "metadata": {
    "collapsed": false,
    "ExecuteTime": {
     "start_time": "2023-05-03T14:21:54.729346Z",
     "end_time": "2023-05-03T14:21:54.872349Z"
    }
   }
  },
  {
   "cell_type": "code",
   "execution_count": 170,
   "outputs": [
    {
     "data": {
      "text/plain": "array([[ 379199. ],\n       [ 782744.6],\n       [1195834.1]], dtype=float32)"
     },
     "execution_count": 170,
     "metadata": {},
     "output_type": "execute_result"
    }
   ],
   "source": [
    "y_pred"
   ],
   "metadata": {
    "collapsed": false,
    "ExecuteTime": {
     "start_time": "2023-05-03T14:21:57.605802Z",
     "end_time": "2023-05-03T14:21:57.690802Z"
    }
   }
  },
  {
   "cell_type": "markdown",
   "source": [
    "# Functional API"
   ],
   "metadata": {
    "collapsed": false
   }
  },
  {
   "cell_type": "code",
   "execution_count": 171,
   "outputs": [],
   "source": [
    "np.random.seed(42)\n",
    "tf.random.set_seed(42)"
   ],
   "metadata": {
    "collapsed": false,
    "ExecuteTime": {
     "start_time": "2023-05-03T14:22:01.690930Z",
     "end_time": "2023-05-03T14:22:01.735930Z"
    }
   }
  },
  {
   "cell_type": "code",
   "execution_count": 186,
   "outputs": [],
   "source": [
    "input_ = keras.layers.Input(shape=X_train.shape[1:])\n",
    "hidden1 = keras.layers.Dense(30, activation=\"relu\")(input_)\n",
    "hidden2 = keras.layers.Dense(30, activation=\"relu\")(hidden1)\n",
    "concat = keras.layers.concatenate([input_, hidden2])\n",
    "output = keras.layers.Dense(1)(concat)\n",
    "model = keras.models.Model(inputs=[input_], outputs=[output])"
   ],
   "metadata": {
    "collapsed": false,
    "ExecuteTime": {
     "start_time": "2023-05-03T14:24:23.822819Z",
     "end_time": "2023-05-03T14:24:23.881818Z"
    }
   }
  },
  {
   "cell_type": "code",
   "execution_count": 187,
   "outputs": [
    {
     "name": "stdout",
     "output_type": "stream",
     "text": [
      "Model: \"model_6\"\n",
      "__________________________________________________________________________________________________\n",
      " Layer (type)                   Output Shape         Param #     Connected to                     \n",
      "==================================================================================================\n",
      " input_29 (InputLayer)          [(None, 12)]         0           []                               \n",
      "                                                                                                  \n",
      " dense_97 (Dense)               (None, 30)           390         ['input_29[0][0]']               \n",
      "                                                                                                  \n",
      " dense_98 (Dense)               (None, 30)           930         ['dense_97[0][0]']               \n",
      "                                                                                                  \n",
      " concatenate_6 (Concatenate)    (None, 42)           0           ['input_29[0][0]',               \n",
      "                                                                  'dense_98[0][0]']               \n",
      "                                                                                                  \n",
      " dense_99 (Dense)               (None, 1)            43          ['concatenate_6[0][0]']          \n",
      "                                                                                                  \n",
      "==================================================================================================\n",
      "Total params: 1,363\n",
      "Trainable params: 1,363\n",
      "Non-trainable params: 0\n",
      "__________________________________________________________________________________________________\n"
     ]
    }
   ],
   "source": [
    "model.summary()"
   ],
   "metadata": {
    "collapsed": false,
    "ExecuteTime": {
     "start_time": "2023-05-03T14:24:24.296819Z",
     "end_time": "2023-05-03T14:24:24.499818Z"
    }
   }
  },
  {
   "cell_type": "code",
   "execution_count": 188,
   "outputs": [
    {
     "name": "stdout",
     "output_type": "stream",
     "text": [
      "Epoch 1/20\n",
      "380/380 [==============================] - 1s 2ms/step - loss: 1143212651577344.0000 - val_loss: 381000679424.0000\n",
      "Epoch 2/20\n",
      "380/380 [==============================] - 1s 1ms/step - loss: 228600266752.0000 - val_loss: 126849523712.0000\n",
      "Epoch 3/20\n",
      "380/380 [==============================] - 1s 1ms/step - loss: 94138245120.0000 - val_loss: 65590743040.0000\n",
      "Epoch 4/20\n",
      "380/380 [==============================] - 1s 1ms/step - loss: 60468154368.0000 - val_loss: 48786378752.0000\n",
      "Epoch 5/20\n",
      "380/380 [==============================] - 1s 1ms/step - loss: 50594189312.0000 - val_loss: 43193835520.0000\n",
      "Epoch 6/20\n",
      "380/380 [==============================] - 1s 1ms/step - loss: 46956892160.0000 - val_loss: 40866926592.0000\n",
      "Epoch 7/20\n",
      "380/380 [==============================] - 1s 1ms/step - loss: 45197529088.0000 - val_loss: 39730327552.0000\n",
      "Epoch 8/20\n",
      "380/380 [==============================] - 1s 1ms/step - loss: 44200906752.0000 - val_loss: 39151017984.0000\n",
      "Epoch 9/20\n",
      "380/380 [==============================] - 1s 2ms/step - loss: 43634507776.0000 - val_loss: 38656954368.0000\n",
      "Epoch 10/20\n",
      "380/380 [==============================] - 1s 2ms/step - loss: 43241144320.0000 - val_loss: 38422069248.0000\n",
      "Epoch 11/20\n",
      "380/380 [==============================] - 1s 1ms/step - loss: 42969128960.0000 - val_loss: 38306258944.0000\n",
      "Epoch 12/20\n",
      "380/380 [==============================] - 1s 1ms/step - loss: 42785009664.0000 - val_loss: 38267850752.0000\n",
      "Epoch 13/20\n",
      "380/380 [==============================] - 1s 1ms/step - loss: 42665275392.0000 - val_loss: 38173872128.0000\n",
      "Epoch 14/20\n",
      "380/380 [==============================] - 1s 1ms/step - loss: 42567942144.0000 - val_loss: 38181978112.0000\n",
      "Epoch 15/20\n",
      "380/380 [==============================] - 1s 1ms/step - loss: 42482573312.0000 - val_loss: 38194442240.0000\n",
      "Epoch 16/20\n",
      "380/380 [==============================] - 1s 1ms/step - loss: 42473095168.0000 - val_loss: 38178521088.0000\n",
      "Epoch 17/20\n",
      "380/380 [==============================] - 1s 1ms/step - loss: 42383069184.0000 - val_loss: 38234349568.0000\n",
      "Epoch 18/20\n",
      "380/380 [==============================] - 1s 1ms/step - loss: 42426339328.0000 - val_loss: 38216151040.0000\n",
      "Epoch 19/20\n",
      "380/380 [==============================] - 1s 1ms/step - loss: 42389225472.0000 - val_loss: 38244675584.0000\n",
      "Epoch 20/20\n",
      "380/380 [==============================] - 1s 1ms/step - loss: 42367451136.0000 - val_loss: 38283788288.0000\n",
      "169/169 [==============================] - 0s 991us/step - loss: 46126190592.0000\n",
      "1/1 [==============================] - 0s 51ms/step\n"
     ]
    }
   ],
   "source": [
    "model.compile(loss=\"mean_squared_error\", optimizer=keras.optimizers.SGD(learning_rate=1e-3))\n",
    "history = model.fit(X_train, y_train, epochs=20,\n",
    "                    validation_data=(X_valid, y_valid))\n",
    "mse_test = model.evaluate(X_test, y_test)\n",
    "y_pred = model.predict(X_new)"
   ],
   "metadata": {
    "collapsed": false,
    "ExecuteTime": {
     "start_time": "2023-05-03T14:24:26.112304Z",
     "end_time": "2023-05-03T14:24:37.888852Z"
    }
   }
  },
  {
   "cell_type": "code",
   "execution_count": 189,
   "outputs": [],
   "source": [
    "np.random.seed(42)\n",
    "tf.random.set_seed(42)"
   ],
   "metadata": {
    "collapsed": false,
    "ExecuteTime": {
     "start_time": "2023-05-03T14:24:38.773358Z",
     "end_time": "2023-05-03T14:24:38.831353Z"
    }
   }
  },
  {
   "cell_type": "code",
   "execution_count": 202,
   "outputs": [],
   "source": [
    "input_A = keras.layers.Input(shape=[5], name=\"wide_input\")\n",
    "input_B = keras.layers.Input(shape=[10], name=\"deep_input\")\n",
    "hidden1 = keras.layers.Dense(30, activation=\"relu\")(input_B)\n",
    "hidden2 = keras.layers.Dense(30, activation=\"relu\")(hidden1)\n",
    "concat = keras.layers.concatenate([input_A, hidden2])\n",
    "output = keras.layers.Dense(1, name=\"output\")(concat)\n",
    "model = keras.models.Model(inputs=[input_A, input_B], outputs=[output])"
   ],
   "metadata": {
    "collapsed": false,
    "ExecuteTime": {
     "start_time": "2023-05-03T14:28:39.126841Z",
     "end_time": "2023-05-03T14:28:39.190887Z"
    }
   }
  },
  {
   "cell_type": "code",
   "execution_count": 203,
   "outputs": [
    {
     "name": "stdout",
     "output_type": "stream",
     "text": [
      "Epoch 1/20\n",
      "380/380 [==============================] - 1s 2ms/step - loss: 2731211227136.0000 - val_loss: 416578863104.0000\n",
      "Epoch 2/20\n",
      "380/380 [==============================] - 1s 2ms/step - loss: 419277799424.0000 - val_loss: 416516571136.0000\n",
      "Epoch 3/20\n",
      "380/380 [==============================] - 1s 2ms/step - loss: 419215081472.0000 - val_loss: 416454475776.0000\n",
      "Epoch 4/20\n",
      "380/380 [==============================] - 1s 2ms/step - loss: 419152658432.0000 - val_loss: 416391921664.0000\n",
      "Epoch 5/20\n",
      "380/380 [==============================] - 1s 2ms/step - loss: 419090432000.0000 - val_loss: 416329793536.0000\n",
      "Epoch 6/20\n",
      "380/380 [==============================] - 1s 2ms/step - loss: 419027779584.0000 - val_loss: 416267403264.0000\n",
      "Epoch 7/20\n",
      "380/380 [==============================] - 1s 2ms/step - loss: 418965422080.0000 - val_loss: 416205209600.0000\n",
      "Epoch 8/20\n",
      "380/380 [==============================] - 1s 2ms/step - loss: 418902966272.0000 - val_loss: 416143048704.0000\n",
      "Epoch 9/20\n",
      "380/380 [==============================] - 1s 2ms/step - loss: 418840477696.0000 - val_loss: 416080789504.0000\n",
      "Epoch 10/20\n",
      "380/380 [==============================] - 1s 2ms/step - loss: 418778087424.0000 - val_loss: 416018694144.0000\n",
      "Epoch 11/20\n",
      "380/380 [==============================] - 1s 2ms/step - loss: 418715762688.0000 - val_loss: 415956434944.0000\n",
      "Epoch 12/20\n",
      "380/380 [==============================] - 1s 2ms/step - loss: 418653372416.0000 - val_loss: 415894372352.0000\n",
      "Epoch 13/20\n",
      "380/380 [==============================] - 1s 2ms/step - loss: 418590982144.0000 - val_loss: 415832080384.0000\n",
      "Epoch 14/20\n",
      "380/380 [==============================] - 1s 2ms/step - loss: 418528886784.0000 - val_loss: 415769919488.0000\n",
      "Epoch 15/20\n",
      "380/380 [==============================] - 1s 2ms/step - loss: 418466201600.0000 - val_loss: 415707758592.0000\n",
      "Epoch 16/20\n",
      "380/380 [==============================] - 1s 2ms/step - loss: 418403680256.0000 - val_loss: 415645663232.0000\n",
      "Epoch 17/20\n",
      "380/380 [==============================] - 1s 2ms/step - loss: 418341519360.0000 - val_loss: 415583502336.0000\n",
      "Epoch 18/20\n",
      "380/380 [==============================] - 1s 2ms/step - loss: 418279227392.0000 - val_loss: 415521406976.0000\n",
      "Epoch 19/20\n",
      "380/380 [==============================] - 1s 2ms/step - loss: 418217066496.0000 - val_loss: 415459377152.0000\n",
      "Epoch 20/20\n",
      "380/380 [==============================] - 1s 2ms/step - loss: 418154643456.0000 - val_loss: 415397347328.0000\n",
      "169/169 [==============================] - 0s 1ms/step - loss: 448506363904.0000\n",
      "1/1 [==============================] - 0s 56ms/step\n"
     ]
    }
   ],
   "source": [
    "model.compile(loss=\"mse\", optimizer=keras.optimizers.SGD(learning_rate=1e-7))\n",
    "\n",
    "X_train_A, X_train_B = X_train[:, :5], X_train[:, 2:]\n",
    "X_valid_A, X_valid_B = X_valid[:, :5], X_valid[:, 2:]\n",
    "X_test_A, X_test_B = X_test[:, :5], X_test[:, 2:]\n",
    "X_new_A, X_new_B = X_test_A[:3], X_test_B[:3]\n",
    "\n",
    "history = model.fit((X_train_A, X_train_B), y_train, epochs=20,\n",
    "                    validation_data=((X_valid_A, X_valid_B), y_valid))\n",
    "mse_test = model.evaluate((X_test_A, X_test_B), y_test)\n",
    "y_pred = model.predict((X_new_A, X_new_B))"
   ],
   "metadata": {
    "collapsed": false,
    "ExecuteTime": {
     "start_time": "2023-05-03T14:28:39.622837Z",
     "end_time": "2023-05-03T14:28:52.969783Z"
    }
   }
  },
  {
   "cell_type": "code",
   "execution_count": 204,
   "outputs": [],
   "source": [
    "np.random.seed(42)\n",
    "tf.random.set_seed(42)"
   ],
   "metadata": {
    "collapsed": false,
    "ExecuteTime": {
     "start_time": "2023-05-03T14:28:57.265739Z",
     "end_time": "2023-05-03T14:28:57.325791Z"
    }
   }
  },
  {
   "cell_type": "code",
   "execution_count": 207,
   "outputs": [],
   "source": [
    "input_A = keras.layers.Input(shape=[5], name=\"wide_input\")\n",
    "input_B = keras.layers.Input(shape=[10], name=\"deep_input\")\n",
    "hidden1 = keras.layers.Dense(30, activation=\"relu\")(input_B)\n",
    "hidden2 = keras.layers.Dense(30, activation=\"relu\")(hidden1)\n",
    "concat = keras.layers.concatenate([input_A, hidden2])\n",
    "output = keras.layers.Dense(1, name=\"main_output\")(concat)\n",
    "aux_output = keras.layers.Dense(1, name=\"aux_output\")(hidden2)\n",
    "model = keras.models.Model(inputs=[input_A, input_B],\n",
    "                           outputs=[output, aux_output])"
   ],
   "metadata": {
    "collapsed": false,
    "ExecuteTime": {
     "start_time": "2023-05-03T14:29:57.048706Z",
     "end_time": "2023-05-03T14:29:57.126527Z"
    }
   }
  },
  {
   "cell_type": "code",
   "execution_count": 208,
   "outputs": [],
   "source": [
    "model.compile(loss=[\"mse\", \"mse\"], loss_weights=[0.9, 0.1], optimizer=keras.optimizers.SGD(learning_rate=1e-7))"
   ],
   "metadata": {
    "collapsed": false,
    "ExecuteTime": {
     "start_time": "2023-05-03T14:30:00.426341Z",
     "end_time": "2023-05-03T14:30:00.512356Z"
    }
   }
  },
  {
   "cell_type": "code",
   "execution_count": 209,
   "outputs": [
    {
     "name": "stdout",
     "output_type": "stream",
     "text": [
      "Epoch 1/20\n",
      "380/380 [==============================] - 3s 3ms/step - loss: 1725554229248.0000 - main_output_loss: 1867635097600.0000 - aux_output_loss: 446841159680.0000 - val_loss: 416587251712.0000 - val_main_output_loss: 416582074368.0000 - val_aux_output_loss: 416633028608.0000\n",
      "Epoch 2/20\n",
      "380/380 [==============================] - 1s 2ms/step - loss: 419291627520.0000 - main_output_loss: 419284025344.0000 - aux_output_loss: 419360931840.0000 - val_loss: 416536166400.0000 - val_main_output_loss: 416525942784.0000 - val_aux_output_loss: 416628604928.0000\n",
      "Epoch 3/20\n",
      "380/380 [==============================] - 1s 2ms/step - loss: 419201810432.0000 - main_output_loss: 419190669312.0000 - aux_output_loss: 419300999168.0000 - val_loss: 416485212160.0000 - val_main_output_loss: 416469843968.0000 - val_aux_output_loss: 416624246784.0000\n",
      "Epoch 4/20\n",
      "380/380 [==============================] - 1s 2ms/step - loss: 419189686272.0000 - main_output_loss: 419171532800.0000 - aux_output_loss: 419352281088.0000 - val_loss: 416434421760.0000 - val_main_output_loss: 416413810688.0000 - val_aux_output_loss: 416619986944.0000\n",
      "Epoch 5/20\n",
      "380/380 [==============================] - 1s 2ms/step - loss: 419138437120.0000 - main_output_loss: 419115204608.0000 - aux_output_loss: 419347890176.0000 - val_loss: 416383565824.0000 - val_main_output_loss: 416357777408.0000 - val_aux_output_loss: 416615596032.0000\n",
      "Epoch 6/20\n",
      "380/380 [==============================] - 1s 2ms/step - loss: 419087515648.0000 - main_output_loss: 419058843648.0000 - aux_output_loss: 419343499264.0000 - val_loss: 416332709888.0000 - val_main_output_loss: 416301744128.0000 - val_aux_output_loss: 416611172352.0000\n",
      "Epoch 7/20\n",
      "380/380 [==============================] - 1s 2ms/step - loss: 419036168192.0000 - main_output_loss: 419002875904.0000 - aux_output_loss: 419338977280.0000 - val_loss: 416281657344.0000 - val_main_output_loss: 416245547008.0000 - val_aux_output_loss: 416606650368.0000\n",
      "Epoch 8/20\n",
      "380/380 [==============================] - 1s 2ms/step - loss: 418985213952.0000 - main_output_loss: 418946514944.0000 - aux_output_loss: 419334914048.0000 - val_loss: 416230866944.0000 - val_main_output_loss: 416189743104.0000 - val_aux_output_loss: 416602259456.0000\n",
      "Epoch 9/20\n",
      "380/380 [==============================] - 1s 2ms/step - loss: 418934423552.0000 - main_output_loss: 418890514432.0000 - aux_output_loss: 419330490368.0000 - val_loss: 416180011008.0000 - val_main_output_loss: 416133545984.0000 - val_aux_output_loss: 416597868544.0000\n",
      "Epoch 10/20\n",
      "380/380 [==============================] - 1s 2ms/step - loss: 418883600384.0000 - main_output_loss: 418834382848.0000 - aux_output_loss: 419325935616.0000 - val_loss: 416129187840.0000 - val_main_output_loss: 416077611008.0000 - val_aux_output_loss: 416593444864.0000\n",
      "Epoch 11/20\n",
      "380/380 [==============================] - 1s 2ms/step - loss: 418832154624.0000 - main_output_loss: 418778021888.0000 - aux_output_loss: 419321839616.0000 - val_loss: 416078495744.0000 - val_main_output_loss: 416021708800.0000 - val_aux_output_loss: 416589217792.0000\n",
      "Epoch 12/20\n",
      "380/380 [==============================] - 1s 2ms/step - loss: 418781560832.0000 - main_output_loss: 418721857536.0000 - aux_output_loss: 419317383168.0000 - val_loss: 416027705344.0000 - val_main_output_loss: 415965904896.0000 - val_aux_output_loss: 416584826880.0000\n",
      "Epoch 13/20\n",
      "380/380 [==============================] - 1s 2ms/step - loss: 418730606592.0000 - main_output_loss: 418665693184.0000 - aux_output_loss: 419312828416.0000 - val_loss: 415976718336.0000 - val_main_output_loss: 415909642240.0000 - val_aux_output_loss: 416580403200.0000\n",
      "Epoch 14/20\n",
      "380/380 [==============================] - 1s 2ms/step - loss: 418679554048.0000 - main_output_loss: 418609430528.0000 - aux_output_loss: 419308666880.0000 - val_loss: 415925927936.0000 - val_main_output_loss: 415853772800.0000 - val_aux_output_loss: 416575979520.0000\n",
      "Epoch 15/20\n",
      "380/380 [==============================] - 1s 2ms/step - loss: 418628501504.0000 - main_output_loss: 418553495552.0000 - aux_output_loss: 419304177664.0000 - val_loss: 415875170304.0000 - val_main_output_loss: 415797739520.0000 - val_aux_output_loss: 416571621376.0000\n",
      "Epoch 16/20\n",
      "380/380 [==============================] - 1s 2ms/step - loss: 418577612800.0000 - main_output_loss: 418497462272.0000 - aux_output_loss: 419299852288.0000 - val_loss: 415824445440.0000 - val_main_output_loss: 415741902848.0000 - val_aux_output_loss: 416567197696.0000\n",
      "Epoch 17/20\n",
      "380/380 [==============================] - 1s 2ms/step - loss: 418526691328.0000 - main_output_loss: 418441134080.0000 - aux_output_loss: 419295428608.0000 - val_loss: 415773556736.0000 - val_main_output_loss: 415685967872.0000 - val_aux_output_loss: 416562741248.0000\n",
      "Epoch 18/20\n",
      "380/380 [==============================] - 1s 2ms/step - loss: 418475737088.0000 - main_output_loss: 418385133568.0000 - aux_output_loss: 419291070464.0000 - val_loss: 415722799104.0000 - val_main_output_loss: 415630000128.0000 - val_aux_output_loss: 416558383104.0000\n",
      "Epoch 19/20\n",
      "380/380 [==============================] - 1s 2ms/step - loss: 418424979456.0000 - main_output_loss: 418329198592.0000 - aux_output_loss: 419286745088.0000 - val_loss: 415672074240.0000 - val_main_output_loss: 415574130688.0000 - val_aux_output_loss: 416553959424.0000\n",
      "Epoch 20/20\n",
      "380/380 [==============================] - 1s 2ms/step - loss: 418374025216.0000 - main_output_loss: 418273132544.0000 - aux_output_loss: 419282124800.0000 - val_loss: 415621447680.0000 - val_main_output_loss: 415518261248.0000 - val_aux_output_loss: 416549634048.0000\n"
     ]
    }
   ],
   "source": [
    "history = model.fit([X_train_A, X_train_B], [y_train, y_train], epochs=20,\n",
    "                    validation_data=([X_valid_A, X_valid_B], [y_valid, y_valid]))"
   ],
   "metadata": {
    "collapsed": false,
    "ExecuteTime": {
     "start_time": "2023-05-03T14:30:01.227179Z",
     "end_time": "2023-05-03T14:30:16.742820Z"
    }
   }
  },
  {
   "cell_type": "code",
   "execution_count": 210,
   "outputs": [
    {
     "name": "stdout",
     "output_type": "stream",
     "text": [
      "169/169 [==============================] - 0s 1ms/step - loss: 448745209856.0000 - main_output_loss: 448635076608.0000 - aux_output_loss: 449736769536.0000\n",
      "1/1 [==============================] - 0s 65ms/step\n"
     ]
    }
   ],
   "source": [
    "total_loss, main_loss, aux_loss = model.evaluate(\n",
    "    [X_test_A, X_test_B], [y_test, y_test])\n",
    "y_pred_main, y_pred_aux = model.predict([X_new_A, X_new_B])"
   ],
   "metadata": {
    "collapsed": false,
    "ExecuteTime": {
     "start_time": "2023-05-03T14:30:20.749862Z",
     "end_time": "2023-05-03T14:30:21.153823Z"
    }
   }
  },
  {
   "cell_type": "markdown",
   "source": [
    "# The subclassing API"
   ],
   "metadata": {
    "collapsed": false
   }
  },
  {
   "cell_type": "code",
   "execution_count": 211,
   "outputs": [],
   "source": [
    "class WideAndDeepModel(keras.models.Model):\n",
    "    def __init__(self, units=30, activation=\"relu\", **kwargs):\n",
    "        super().__init__(**kwargs)\n",
    "        self.hidden1 = keras.layers.Dense(units, activation=activation)\n",
    "        self.hidden2 = keras.layers.Dense(units, activation=activation)\n",
    "        self.main_output = keras.layers.Dense(1)\n",
    "        self.aux_output = keras.layers.Dense(1)\n",
    "\n",
    "    def call(self, inputs):\n",
    "        input_A, input_B = inputs\n",
    "        hidden1 = self.hidden1(input_B)\n",
    "        hidden2 = self.hidden2(hidden1)\n",
    "        concat = keras.layers.concatenate([input_A, hidden2])\n",
    "        main_output = self.main_output(concat)\n",
    "        aux_output = self.aux_output(hidden2)\n",
    "        return main_output, aux_output\n",
    "\n",
    "model = WideAndDeepModel(30, activation=\"relu\")"
   ],
   "metadata": {
    "collapsed": false,
    "ExecuteTime": {
     "start_time": "2023-05-03T14:30:27.712266Z",
     "end_time": "2023-05-03T14:30:27.763089Z"
    }
   }
  },
  {
   "cell_type": "code",
   "execution_count": 212,
   "outputs": [
    {
     "name": "stdout",
     "output_type": "stream",
     "text": [
      "Epoch 1/10\n",
      "380/380 [==============================] - 3s 3ms/step - loss: 35814197166080.0000 - output_1_loss: 39697229283328.0000 - output_2_loss: 866705735680.0000 - val_loss: 198197641216.0000 - val_output_1_loss: 178342723584.0000 - val_output_2_loss: 376891506688.0000\n",
      "Epoch 2/10\n",
      "380/380 [==============================] - 1s 2ms/step - loss: 152966086656.0000 - output_1_loss: 129750220800.0000 - output_2_loss: 361908109312.0000 - val_loss: 120556707840.0000 - val_output_1_loss: 95992782848.0000 - val_output_2_loss: 341632188416.0000\n",
      "Epoch 3/10\n",
      "380/380 [==============================] - 1s 2ms/step - loss: 108850765824.0000 - output_1_loss: 84348076032.0000 - output_2_loss: 329375055872.0000 - val_loss: 97634598912.0000 - val_output_1_loss: 73890676736.0000 - val_output_2_loss: 311329947648.0000\n",
      "Epoch 4/10\n",
      "380/380 [==============================] - 1s 2ms/step - loss: 94647468032.0000 - output_1_loss: 71671398400.0000 - output_2_loss: 301431881728.0000 - val_loss: 89306636288.0000 - val_output_1_loss: 67529850880.0000 - val_output_2_loss: 285297541120.0000\n",
      "Epoch 5/10\n",
      "380/380 [==============================] - 1s 2ms/step - loss: 88633769984.0000 - output_1_loss: 67656241152.0000 - output_2_loss: 277431451648.0000 - val_loss: 85206614016.0000 - val_output_1_loss: 65461317632.0000 - val_output_2_loss: 262914424832.0000\n",
      "Epoch 6/10\n",
      "380/380 [==============================] - 1s 2ms/step - loss: 85165137920.0000 - output_1_loss: 66093498368.0000 - output_2_loss: 256809418752.0000 - val_loss: 82594848768.0000 - val_output_1_loss: 64696680448.0000 - val_output_2_loss: 243678330880.0000\n",
      "Epoch 7/10\n",
      "380/380 [==============================] - 1s 2ms/step - loss: 82708168704.0000 - output_1_loss: 65331286016.0000 - output_2_loss: 239099625472.0000 - val_loss: 80665419776.0000 - val_output_1_loss: 64389124096.0000 - val_output_2_loss: 227151921152.0000\n",
      "Epoch 8/10\n",
      "380/380 [==============================] - 1s 2ms/step - loss: 80783515648.0000 - output_1_loss: 64883179520.0000 - output_2_loss: 223886639104.0000 - val_loss: 79117500416.0000 - val_output_1_loss: 64248487936.0000 - val_output_2_loss: 212938342400.0000\n",
      "Epoch 9/10\n",
      "380/380 [==============================] - 1s 2ms/step - loss: 79248007168.0000 - output_1_loss: 64629157888.0000 - output_2_loss: 210818088960.0000 - val_loss: 77847846912.0000 - val_output_1_loss: 64194650112.0000 - val_output_2_loss: 200726773760.0000\n",
      "Epoch 10/10\n",
      "380/380 [==============================] - 1s 2ms/step - loss: 77958225920.0000 - output_1_loss: 64443101184.0000 - output_2_loss: 199594541056.0000 - val_loss: 76783378432.0000 - val_output_1_loss: 64178413568.0000 - val_output_2_loss: 190227693568.0000\n",
      "169/169 [==============================] - 0s 1ms/step - loss: 88105844736.0000 - output_1_loss: 73605177344.0000 - output_2_loss: 218612039680.0000\n",
      "1/1 [==============================] - 0s 69ms/step\n"
     ]
    }
   ],
   "source": [
    "model.compile(loss=\"mse\", loss_weights=[0.9, 0.1], optimizer=keras.optimizers.SGD(learning_rate=1e-3))\n",
    "history = model.fit((X_train_A, X_train_B), (y_train, y_train), epochs=10,\n",
    "                    validation_data=((X_valid_A, X_valid_B), (y_valid, y_valid)))\n",
    "total_loss, main_loss, aux_loss = model.evaluate((X_test_A, X_test_B), (y_test, y_test))\n",
    "y_pred_main, y_pred_aux = model.predict((X_new_A, X_new_B))"
   ],
   "metadata": {
    "collapsed": false,
    "ExecuteTime": {
     "start_time": "2023-05-03T14:30:33.166723Z",
     "end_time": "2023-05-03T14:30:42.275020Z"
    }
   }
  },
  {
   "cell_type": "markdown",
   "source": [
    "# Saving and Restoring"
   ],
   "metadata": {
    "collapsed": false
   }
  },
  {
   "cell_type": "code",
   "execution_count": 213,
   "outputs": [],
   "source": [
    "np.random.seed(42)\n",
    "tf.random.set_seed(42)"
   ],
   "metadata": {
    "collapsed": false,
    "ExecuteTime": {
     "start_time": "2023-05-03T14:31:08.613920Z",
     "end_time": "2023-05-03T14:31:08.668264Z"
    }
   }
  },
  {
   "cell_type": "code",
   "execution_count": 220,
   "outputs": [],
   "source": [
    "model = keras.models.Sequential([\n",
    "    keras.layers.Dense(30, activation=\"relu\", input_shape=[12]),\n",
    "    keras.layers.Dense(30, activation=\"relu\"),\n",
    "    keras.layers.Dense(1)\n",
    "])"
   ],
   "metadata": {
    "collapsed": false,
    "ExecuteTime": {
     "start_time": "2023-05-03T14:31:36.827775Z",
     "end_time": "2023-05-03T14:31:36.902959Z"
    }
   }
  },
  {
   "cell_type": "code",
   "execution_count": 221,
   "outputs": [
    {
     "name": "stdout",
     "output_type": "stream",
     "text": [
      "Epoch 1/10\n",
      "380/380 [==============================] - 1s 2ms/step - loss: 6449383719615713523502415872.0000 - val_loss: 2517965111033856.0000\n",
      "Epoch 2/10\n",
      "380/380 [==============================] - 1s 2ms/step - loss: 2518017724383232.0000 - val_loss: 2517510112935936.0000\n",
      "Epoch 3/10\n",
      "380/380 [==============================] - 1s 2ms/step - loss: 2517562457849856.0000 - val_loss: 2517053772660736.0000\n",
      "Epoch 4/10\n",
      "380/380 [==============================] - 1s 2ms/step - loss: 2517106922881024.0000 - val_loss: 2516599311433728.0000\n",
      "Epoch 5/10\n",
      "380/380 [==============================] - 1s 2ms/step - loss: 2516649777299456.0000 - val_loss: 2516143239593984.0000\n",
      "Epoch 6/10\n",
      "380/380 [==============================] - 1s 2ms/step - loss: 2516195584507904.0000 - val_loss: 2515689046802432.0000\n",
      "Epoch 7/10\n",
      "380/380 [==============================] - 1s 2ms/step - loss: 2515741660151808.0000 - val_loss: 2515233511833600.0000\n",
      "Epoch 8/10\n",
      "380/380 [==============================] - 1s 2ms/step - loss: 2515286125182976.0000 - val_loss: 2514780124348416.0000\n",
      "Epoch 9/10\n",
      "380/380 [==============================] - 1s 2ms/step - loss: 2514832737697792.0000 - val_loss: 2514326736863232.0000\n",
      "Epoch 10/10\n",
      "380/380 [==============================] - 1s 2ms/step - loss: 2514378813341696.0000 - val_loss: 2513873349378048.0000\n",
      "169/169 [==============================] - 0s 1ms/step - loss: 2513053547495424.0000\n"
     ]
    }
   ],
   "source": [
    "model.compile(loss=\"mse\", optimizer=keras.optimizers.SGD(learning_rate=1e-7))\n",
    "history = model.fit(X_train, y_train, epochs=10, validation_data=(X_valid, y_valid))\n",
    "mse_test = model.evaluate(X_test, y_test)"
   ],
   "metadata": {
    "collapsed": false,
    "ExecuteTime": {
     "start_time": "2023-05-03T14:31:37.493879Z",
     "end_time": "2023-05-03T14:31:44.718739Z"
    }
   }
  },
  {
   "cell_type": "code",
   "execution_count": 222,
   "outputs": [],
   "source": [
    "model.save(\"my_keras_model.h5\")"
   ],
   "metadata": {
    "collapsed": false,
    "ExecuteTime": {
     "start_time": "2023-05-03T14:32:00.142756Z",
     "end_time": "2023-05-03T14:32:00.209792Z"
    }
   }
  },
  {
   "cell_type": "code",
   "execution_count": 223,
   "outputs": [],
   "source": [
    "model = keras.models.load_model(\"my_keras_model.h5\")"
   ],
   "metadata": {
    "collapsed": false,
    "ExecuteTime": {
     "start_time": "2023-05-03T14:32:00.718564Z",
     "end_time": "2023-05-03T14:32:00.798736Z"
    }
   }
  },
  {
   "cell_type": "code",
   "execution_count": 224,
   "outputs": [
    {
     "name": "stdout",
     "output_type": "stream",
     "text": [
      "1/1 [==============================] - 0s 52ms/step\n"
     ]
    },
    {
     "data": {
      "text/plain": "array([[50676804.],\n       [50676804.],\n       [50676804.]], dtype=float32)"
     },
     "execution_count": 224,
     "metadata": {},
     "output_type": "execute_result"
    }
   ],
   "source": [
    "model.predict(X_new)"
   ],
   "metadata": {
    "collapsed": false,
    "ExecuteTime": {
     "start_time": "2023-05-03T14:32:01.874711Z",
     "end_time": "2023-05-03T14:32:01.980720Z"
    }
   }
  },
  {
   "cell_type": "code",
   "execution_count": 225,
   "outputs": [],
   "source": [
    "model.save_weights(\"my_keras_weights.ckpt\")"
   ],
   "metadata": {
    "collapsed": false,
    "ExecuteTime": {
     "start_time": "2023-05-03T14:32:53.784110Z",
     "end_time": "2023-05-03T14:32:53.986045Z"
    }
   }
  },
  {
   "cell_type": "code",
   "execution_count": 226,
   "outputs": [
    {
     "data": {
      "text/plain": "<tensorflow.python.checkpoint.checkpoint.CheckpointLoadStatus at 0x1c545cb60d0>"
     },
     "execution_count": 226,
     "metadata": {},
     "output_type": "execute_result"
    }
   ],
   "source": [
    "model.load_weights(\"my_keras_weights.ckpt\")"
   ],
   "metadata": {
    "collapsed": false,
    "ExecuteTime": {
     "start_time": "2023-05-03T14:32:54.967419Z",
     "end_time": "2023-05-03T14:32:55.066875Z"
    }
   }
  },
  {
   "cell_type": "markdown",
   "source": [
    "# Using Callbacks during Training"
   ],
   "metadata": {
    "collapsed": false
   }
  },
  {
   "cell_type": "code",
   "execution_count": 227,
   "outputs": [],
   "source": [
    "keras.backend.clear_session()\n",
    "np.random.seed(42)\n",
    "tf.random.set_seed(42)"
   ],
   "metadata": {
    "collapsed": false,
    "ExecuteTime": {
     "start_time": "2023-05-03T14:33:07.800715Z",
     "end_time": "2023-05-03T14:33:07.857713Z"
    }
   }
  },
  {
   "cell_type": "code",
   "execution_count": 228,
   "outputs": [],
   "source": [
    "model = keras.models.Sequential([\n",
    "    keras.layers.Dense(30, activation=\"relu\", input_shape=[12]),\n",
    "    keras.layers.Dense(30, activation=\"relu\"),\n",
    "    keras.layers.Dense(1)\n",
    "])"
   ],
   "metadata": {
    "collapsed": false,
    "ExecuteTime": {
     "start_time": "2023-05-03T14:33:09.164680Z",
     "end_time": "2023-05-03T14:33:09.271723Z"
    }
   }
  },
  {
   "cell_type": "code",
   "execution_count": 229,
   "outputs": [
    {
     "name": "stdout",
     "output_type": "stream",
     "text": [
      "Epoch 1/10\n",
      "380/380 [==============================] - 2s 2ms/step - loss: 16579119322637516406784.0000 - val_loss: 745538453504.0000\n",
      "Epoch 2/10\n",
      "380/380 [==============================] - 1s 2ms/step - loss: 746868441088.0000 - val_loss: 745444737024.0000\n",
      "Epoch 3/10\n",
      "380/380 [==============================] - 1s 2ms/step - loss: 746775052288.0000 - val_loss: 745350889472.0000\n",
      "Epoch 4/10\n",
      "380/380 [==============================] - 1s 2ms/step - loss: 746681466880.0000 - val_loss: 745256845312.0000\n",
      "Epoch 5/10\n",
      "380/380 [==============================] - 1s 2ms/step - loss: 746587815936.0000 - val_loss: 745162539008.0000\n",
      "Epoch 6/10\n",
      "380/380 [==============================] - 1s 2ms/step - loss: 746494296064.0000 - val_loss: 745068691456.0000\n",
      "Epoch 7/10\n",
      "380/380 [==============================] - 1s 2ms/step - loss: 746400579584.0000 - val_loss: 744974974976.0000\n",
      "Epoch 8/10\n",
      "380/380 [==============================] - 1s 2ms/step - loss: 746306863104.0000 - val_loss: 744880996352.0000\n",
      "Epoch 9/10\n",
      "380/380 [==============================] - 1s 2ms/step - loss: 746213277696.0000 - val_loss: 744787279872.0000\n",
      "Epoch 10/10\n",
      "380/380 [==============================] - 1s 2ms/step - loss: 746120085504.0000 - val_loss: 744693760000.0000\n",
      "169/169 [==============================] - 0s 980us/step - loss: 782048821248.0000\n"
     ]
    }
   ],
   "source": [
    "model.compile(loss=\"mse\", optimizer=keras.optimizers.SGD(learning_rate=1e-7))\n",
    "checkpoint_cb = keras.callbacks.ModelCheckpoint(\"my_keras_model.h5\", save_best_only=True)\n",
    "history = model.fit(X_train, y_train, epochs=10,\n",
    "                    validation_data=(X_valid, y_valid),\n",
    "                    callbacks=[checkpoint_cb])\n",
    "model = keras.models.load_model(\"my_keras_model.h5\") # rollback to best model\n",
    "mse_test = model.evaluate(X_test, y_test)"
   ],
   "metadata": {
    "collapsed": false,
    "ExecuteTime": {
     "start_time": "2023-05-03T14:33:11.128796Z",
     "end_time": "2023-05-03T14:33:18.652962Z"
    }
   }
  },
  {
   "cell_type": "code",
   "execution_count": 230,
   "outputs": [
    {
     "name": "stdout",
     "output_type": "stream",
     "text": [
      "Epoch 1/100\n",
      "380/380 [==============================] - 1s 2ms/step - loss: 746026893312.0000 - val_loss: 744600109056.0000\n",
      "Epoch 2/100\n",
      "380/380 [==============================] - 1s 2ms/step - loss: 745933373440.0000 - val_loss: 744506261504.0000\n",
      "Epoch 3/100\n",
      "380/380 [==============================] - 1s 2ms/step - loss: 745839984640.0000 - val_loss: 744412479488.0000\n",
      "Epoch 4/100\n",
      "380/380 [==============================] - 1s 2ms/step - loss: 745746661376.0000 - val_loss: 744318500864.0000\n",
      "Epoch 5/100\n",
      "380/380 [==============================] - 1s 2ms/step - loss: 745653075968.0000 - val_loss: 744224522240.0000\n",
      "Epoch 6/100\n",
      "380/380 [==============================] - 1s 2ms/step - loss: 745559556096.0000 - val_loss: 744130805760.0000\n",
      "Epoch 7/100\n",
      "380/380 [==============================] - 1s 2ms/step - loss: 745466167296.0000 - val_loss: 744037023744.0000\n",
      "Epoch 8/100\n",
      "380/380 [==============================] - 1s 2ms/step - loss: 745372909568.0000 - val_loss: 743943634944.0000\n",
      "Epoch 9/100\n",
      "380/380 [==============================] - 1s 2ms/step - loss: 745279455232.0000 - val_loss: 743850115072.0000\n",
      "Epoch 10/100\n",
      "380/380 [==============================] - 1s 2ms/step - loss: 745186000896.0000 - val_loss: 743756660736.0000\n",
      "Epoch 11/100\n",
      "380/380 [==============================] - 1s 2ms/step - loss: 745092677632.0000 - val_loss: 743662747648.0000\n",
      "Epoch 12/100\n",
      "380/380 [==============================] - 1s 2ms/step - loss: 744999223296.0000 - val_loss: 743568703488.0000\n",
      "Epoch 13/100\n",
      "380/380 [==============================] - 1s 2ms/step - loss: 744905375744.0000 - val_loss: 743475380224.0000\n",
      "Epoch 14/100\n",
      "380/380 [==============================] - 1s 2ms/step - loss: 744812904448.0000 - val_loss: 743381598208.0000\n",
      "Epoch 15/100\n",
      "380/380 [==============================] - 1s 2ms/step - loss: 744719187968.0000 - val_loss: 743287619584.0000\n",
      "Epoch 16/100\n",
      "380/380 [==============================] - 1s 2ms/step - loss: 744625668096.0000 - val_loss: 743193903104.0000\n",
      "Epoch 17/100\n",
      "380/380 [==============================] - 1s 2ms/step - loss: 744532344832.0000 - val_loss: 743100514304.0000\n",
      "Epoch 18/100\n",
      "380/380 [==============================] - 1s 2ms/step - loss: 744439349248.0000 - val_loss: 743007322112.0000\n",
      "Epoch 19/100\n",
      "380/380 [==============================] - 1s 2ms/step - loss: 744346288128.0000 - val_loss: 742913802240.0000\n",
      "Epoch 20/100\n",
      "380/380 [==============================] - 1s 2ms/step - loss: 744253161472.0000 - val_loss: 742820610048.0000\n",
      "Epoch 21/100\n",
      "380/380 [==============================] - 1s 2ms/step - loss: 744159903744.0000 - val_loss: 742726893568.0000\n",
      "Epoch 22/100\n",
      "380/380 [==============================] - 1s 2ms/step - loss: 744066973696.0000 - val_loss: 742633439232.0000\n",
      "Epoch 23/100\n",
      "380/380 [==============================] - 1s 1ms/step - loss: 743973912576.0000 - val_loss: 742540050432.0000\n",
      "Epoch 24/100\n",
      "380/380 [==============================] - 1s 2ms/step - loss: 743881179136.0000 - val_loss: 742446530560.0000\n",
      "Epoch 25/100\n",
      "380/380 [==============================] - 1s 2ms/step - loss: 743787331584.0000 - val_loss: 742353076224.0000\n",
      "Epoch 26/100\n",
      "380/380 [==============================] - 1s 2ms/step - loss: 743694467072.0000 - val_loss: 742259687424.0000\n",
      "Epoch 27/100\n",
      "380/380 [==============================] - 1s 2ms/step - loss: 743601733632.0000 - val_loss: 742166102016.0000\n",
      "Epoch 28/100\n",
      "380/380 [==============================] - 1s 2ms/step - loss: 743507623936.0000 - val_loss: 742072647680.0000\n",
      "Epoch 29/100\n",
      "380/380 [==============================] - 1s 2ms/step - loss: 743415283712.0000 - val_loss: 741979389952.0000\n",
      "Epoch 30/100\n",
      "380/380 [==============================] - 1s 2ms/step - loss: 743322419200.0000 - val_loss: 741886197760.0000\n",
      "Epoch 31/100\n",
      "380/380 [==============================] - 1s 2ms/step - loss: 743228899328.0000 - val_loss: 741792481280.0000\n",
      "Epoch 32/100\n",
      "380/380 [==============================] - 1s 2ms/step - loss: 743135772672.0000 - val_loss: 741699485696.0000\n",
      "Epoch 33/100\n",
      "380/380 [==============================] - 1s 1ms/step - loss: 743042973696.0000 - val_loss: 741606031360.0000\n",
      "Epoch 34/100\n",
      "380/380 [==============================] - 1s 2ms/step - loss: 742949912576.0000 - val_loss: 741512773632.0000\n",
      "Epoch 35/100\n",
      "380/380 [==============================] - 1s 2ms/step - loss: 742856982528.0000 - val_loss: 741419581440.0000\n",
      "Epoch 36/100\n",
      "380/380 [==============================] - 1s 2ms/step - loss: 742764118016.0000 - val_loss: 741326192640.0000\n",
      "Epoch 37/100\n",
      "380/380 [==============================] - 1s 1ms/step - loss: 742671319040.0000 - val_loss: 741233065984.0000\n",
      "Epoch 38/100\n",
      "380/380 [==============================] - 1s 2ms/step - loss: 742578257920.0000 - val_loss: 741139677184.0000\n",
      "Epoch 39/100\n",
      "380/380 [==============================] - 1s 2ms/step - loss: 742485131264.0000 - val_loss: 741046288384.0000\n",
      "Epoch 40/100\n",
      "380/380 [==============================] - 1s 2ms/step - loss: 742392463360.0000 - val_loss: 740953292800.0000\n",
      "Epoch 41/100\n",
      "380/380 [==============================] - 1s 1ms/step - loss: 742299926528.0000 - val_loss: 740860166144.0000\n",
      "Epoch 42/100\n",
      "380/380 [==============================] - 1s 2ms/step - loss: 742206603264.0000 - val_loss: 740766842880.0000\n",
      "Epoch 43/100\n",
      "380/380 [==============================] - 1s 2ms/step - loss: 742113607680.0000 - val_loss: 740673454080.0000\n",
      "Epoch 44/100\n",
      "380/380 [==============================] - 1s 2ms/step - loss: 742020939776.0000 - val_loss: 740580261888.0000\n",
      "Epoch 45/100\n",
      "380/380 [==============================] - 1s 2ms/step - loss: 741928009728.0000 - val_loss: 740487200768.0000\n",
      "Epoch 46/100\n",
      "380/380 [==============================] - 1s 2ms/step - loss: 741835210752.0000 - val_loss: 740394401792.0000\n",
      "Epoch 47/100\n",
      "380/380 [==============================] - 1s 1ms/step - loss: 741742542848.0000 - val_loss: 740301012992.0000\n",
      "Epoch 48/100\n",
      "380/380 [==============================] - 1s 2ms/step - loss: 741649350656.0000 - val_loss: 740208082944.0000\n",
      "Epoch 49/100\n",
      "380/380 [==============================] - 1s 2ms/step - loss: 741557141504.0000 - val_loss: 740114694144.0000\n",
      "Epoch 50/100\n",
      "380/380 [==============================] - 1s 2ms/step - loss: 741464014848.0000 - val_loss: 740021633024.0000\n",
      "Epoch 51/100\n",
      "380/380 [==============================] - 1s 2ms/step - loss: 741371150336.0000 - val_loss: 739928834048.0000\n",
      "Epoch 52/100\n",
      "380/380 [==============================] - 1s 2ms/step - loss: 741278810112.0000 - val_loss: 739835641856.0000\n",
      "Epoch 53/100\n",
      "380/380 [==============================] - 1s 2ms/step - loss: 741186011136.0000 - val_loss: 739742646272.0000\n",
      "Epoch 54/100\n",
      "380/380 [==============================] - 1s 2ms/step - loss: 741093408768.0000 - val_loss: 739649585152.0000\n",
      "Epoch 55/100\n",
      "380/380 [==============================] - 1s 2ms/step - loss: 741000019968.0000 - val_loss: 739556392960.0000\n",
      "Epoch 56/100\n",
      "380/380 [==============================] - 1s 2ms/step - loss: 740907679744.0000 - val_loss: 739463331840.0000\n",
      "Epoch 57/100\n",
      "380/380 [==============================] - 1s 2ms/step - loss: 740814946304.0000 - val_loss: 739370532864.0000\n",
      "Epoch 58/100\n",
      "380/380 [==============================] - 1s 1ms/step - loss: 740722671616.0000 - val_loss: 739277864960.0000\n",
      "Epoch 59/100\n",
      "380/380 [==============================] - 1s 2ms/step - loss: 740629938176.0000 - val_loss: 739184738304.0000\n",
      "Epoch 60/100\n",
      "380/380 [==============================] - 1s 2ms/step - loss: 740537663488.0000 - val_loss: 739092463616.0000\n",
      "Epoch 61/100\n",
      "380/380 [==============================] - 1s 1ms/step - loss: 740444864512.0000 - val_loss: 738999271424.0000\n",
      "Epoch 62/100\n",
      "380/380 [==============================] - 1s 2ms/step - loss: 740352458752.0000 - val_loss: 738906275840.0000\n",
      "Epoch 63/100\n",
      "380/380 [==============================] - 1s 2ms/step - loss: 740259856384.0000 - val_loss: 738813345792.0000\n",
      "Epoch 64/100\n",
      "380/380 [==============================] - 1s 2ms/step - loss: 740167319552.0000 - val_loss: 738720350208.0000\n",
      "Epoch 65/100\n",
      "380/380 [==============================] - 1s 2ms/step - loss: 740074586112.0000 - val_loss: 738627616768.0000\n",
      "Epoch 66/100\n",
      "380/380 [==============================] - 1s 2ms/step - loss: 739982245888.0000 - val_loss: 738534555648.0000\n",
      "Epoch 67/100\n",
      "380/380 [==============================] - 1s 2ms/step - loss: 739889840128.0000 - val_loss: 738441691136.0000\n",
      "Epoch 68/100\n",
      "380/380 [==============================] - 1s 2ms/step - loss: 739797041152.0000 - val_loss: 738349023232.0000\n",
      "Epoch 69/100\n",
      "380/380 [==============================] - 1s 1ms/step - loss: 739704963072.0000 - val_loss: 738256486400.0000\n",
      "Epoch 70/100\n",
      "380/380 [==============================] - 1s 2ms/step - loss: 739612491776.0000 - val_loss: 738163556352.0000\n",
      "Epoch 71/100\n",
      "380/380 [==============================] - 1s 1ms/step - loss: 739520086016.0000 - val_loss: 738071150592.0000\n",
      "Epoch 72/100\n",
      "380/380 [==============================] - 1s 1ms/step - loss: 739427483648.0000 - val_loss: 737977892864.0000\n",
      "Epoch 73/100\n",
      "380/380 [==============================] - 1s 2ms/step - loss: 739335208960.0000 - val_loss: 737885356032.0000\n",
      "Epoch 74/100\n",
      "380/380 [==============================] - 1s 2ms/step - loss: 739242868736.0000 - val_loss: 737792753664.0000\n",
      "Epoch 75/100\n",
      "380/380 [==============================] - 1s 2ms/step - loss: 739150659584.0000 - val_loss: 737700282368.0000\n",
      "Epoch 76/100\n",
      "380/380 [==============================] - 1s 2ms/step - loss: 739058253824.0000 - val_loss: 737607811072.0000\n",
      "Epoch 77/100\n",
      "380/380 [==============================] - 1s 2ms/step - loss: 738965782528.0000 - val_loss: 737514946560.0000\n",
      "Epoch 78/100\n",
      "380/380 [==============================] - 1s 2ms/step - loss: 738873769984.0000 - val_loss: 737422278656.0000\n",
      "Epoch 79/100\n",
      "380/380 [==============================] - 1s 2ms/step - loss: 738781429760.0000 - val_loss: 737329807360.0000\n",
      "Epoch 80/100\n",
      "380/380 [==============================] - 1s 2ms/step - loss: 738689220608.0000 - val_loss: 737237139456.0000\n",
      "Epoch 81/100\n",
      "380/380 [==============================] - 1s 2ms/step - loss: 738596814848.0000 - val_loss: 737144602624.0000\n",
      "Epoch 82/100\n",
      "380/380 [==============================] - 1s 2ms/step - loss: 738504474624.0000 - val_loss: 737051607040.0000\n",
      "Epoch 83/100\n",
      "380/380 [==============================] - 1s 2ms/step - loss: 738411675648.0000 - val_loss: 736958808064.0000\n",
      "Epoch 84/100\n",
      "380/380 [==============================] - 1s 2ms/step - loss: 738319597568.0000 - val_loss: 736866402304.0000\n",
      "Epoch 85/100\n",
      "380/380 [==============================] - 1s 2ms/step - loss: 738227060736.0000 - val_loss: 736773537792.0000\n",
      "Epoch 86/100\n",
      "380/380 [==============================] - 1s 2ms/step - loss: 738135048192.0000 - val_loss: 736681525248.0000\n",
      "Epoch 87/100\n",
      "380/380 [==============================] - 1s 2ms/step - loss: 738043297792.0000 - val_loss: 736588988416.0000\n",
      "Epoch 88/100\n",
      "380/380 [==============================] - 1s 1ms/step - loss: 737950695424.0000 - val_loss: 736496451584.0000\n",
      "Epoch 89/100\n",
      "380/380 [==============================] - 1s 2ms/step - loss: 737858093056.0000 - val_loss: 736403849216.0000\n",
      "Epoch 90/100\n",
      "380/380 [==============================] - 1s 2ms/step - loss: 737766604800.0000 - val_loss: 736311574528.0000\n",
      "Epoch 91/100\n",
      "380/380 [==============================] - 1s 2ms/step - loss: 737674526720.0000 - val_loss: 736219103232.0000\n",
      "Epoch 92/100\n",
      "380/380 [==============================] - 1s 2ms/step - loss: 737582579712.0000 - val_loss: 736126435328.0000\n",
      "Epoch 93/100\n",
      "380/380 [==============================] - 1s 2ms/step - loss: 737490305024.0000 - val_loss: 736034160640.0000\n",
      "Epoch 94/100\n",
      "380/380 [==============================] - 1s 2ms/step - loss: 737398161408.0000 - val_loss: 735941689344.0000\n",
      "Epoch 95/100\n",
      "380/380 [==============================] - 1s 2ms/step - loss: 737305886720.0000 - val_loss: 735849218048.0000\n",
      "Epoch 96/100\n",
      "380/380 [==============================] - 1s 2ms/step - loss: 737214136320.0000 - val_loss: 735756877824.0000\n",
      "Epoch 97/100\n",
      "380/380 [==============================] - 1s 2ms/step - loss: 737121992704.0000 - val_loss: 735664799744.0000\n",
      "Epoch 98/100\n",
      "380/380 [==============================] - 1s 2ms/step - loss: 737029914624.0000 - val_loss: 735572000768.0000\n",
      "Epoch 99/100\n",
      "380/380 [==============================] - 1s 2ms/step - loss: 736937443328.0000 - val_loss: 735479726080.0000\n",
      "Epoch 100/100\n",
      "380/380 [==============================] - 1s 3ms/step - loss: 736845758464.0000 - val_loss: 735387320320.0000\n",
      "169/169 [==============================] - 0s 2ms/step - loss: 772642373632.0000\n"
     ]
    }
   ],
   "source": [
    "model.compile(loss=\"mse\", optimizer=keras.optimizers.SGD(learning_rate=1e-7))\n",
    "early_stopping_cb = keras.callbacks.EarlyStopping(patience=10,\n",
    "                                                  restore_best_weights=True)\n",
    "history = model.fit(X_train, y_train, epochs=100,\n",
    "                    validation_data=(X_valid, y_valid),\n",
    "                    callbacks=[checkpoint_cb, early_stopping_cb])\n",
    "mse_test = model.evaluate(X_test, y_test)"
   ],
   "metadata": {
    "collapsed": false,
    "ExecuteTime": {
     "start_time": "2023-05-03T14:33:58.691505Z",
     "end_time": "2023-05-03T14:35:03.188980Z"
    }
   }
  },
  {
   "cell_type": "code",
   "execution_count": 231,
   "outputs": [],
   "source": [
    "class PrintValTrainRatioCallback(keras.callbacks.Callback):\n",
    "    def on_epoch_end(self, epoch, logs):\n",
    "        print(\"\\nval/train: {:.2f}\".format(logs[\"val_loss\"] / logs[\"loss\"]))"
   ],
   "metadata": {
    "collapsed": false,
    "ExecuteTime": {
     "start_time": "2023-05-03T14:35:40.653390Z",
     "end_time": "2023-05-03T14:35:40.691392Z"
    }
   }
  },
  {
   "cell_type": "code",
   "execution_count": 232,
   "outputs": [
    {
     "name": "stdout",
     "output_type": "stream",
     "text": [
      "371/380 [============================>.] - ETA: 0s - loss: 737918648320.0000\n",
      "val/train: 1.00\n",
      "380/380 [==============================] - 1s 2ms/step - loss: 736753418240.0000 - val_loss: 735295242240.0000\n"
     ]
    }
   ],
   "source": [
    "val_train_ratio_cb = PrintValTrainRatioCallback()\n",
    "history = model.fit(X_train, y_train, epochs=1,\n",
    "                    validation_data=(X_valid, y_valid),\n",
    "                    callbacks=[val_train_ratio_cb])"
   ],
   "metadata": {
    "collapsed": false,
    "ExecuteTime": {
     "start_time": "2023-05-03T14:35:42.380392Z",
     "end_time": "2023-05-03T14:35:43.138390Z"
    }
   }
  },
  {
   "cell_type": "markdown",
   "source": [
    "# TensorBoard"
   ],
   "metadata": {
    "collapsed": false
   }
  },
  {
   "cell_type": "code",
   "execution_count": 233,
   "outputs": [],
   "source": [
    "root_logdir = os.path.join(os.curdir, \"my_logs\")"
   ],
   "metadata": {
    "collapsed": false,
    "ExecuteTime": {
     "start_time": "2023-05-03T14:35:53.227950Z",
     "end_time": "2023-05-03T14:35:53.288951Z"
    }
   }
  },
  {
   "cell_type": "code",
   "execution_count": 234,
   "outputs": [
    {
     "data": {
      "text/plain": "'.\\\\my_logs\\\\run_2023_05_03-14_35_54'"
     },
     "execution_count": 234,
     "metadata": {},
     "output_type": "execute_result"
    }
   ],
   "source": [
    "def get_run_logdir():\n",
    "    import time\n",
    "    run_id = time.strftime(\"run_%Y_%m_%d-%H_%M_%S\")\n",
    "    return os.path.join(root_logdir, run_id)\n",
    "\n",
    "run_logdir = get_run_logdir()\n",
    "run_logdir"
   ],
   "metadata": {
    "collapsed": false,
    "ExecuteTime": {
     "start_time": "2023-05-03T14:35:54.347949Z",
     "end_time": "2023-05-03T14:35:54.380969Z"
    }
   }
  },
  {
   "cell_type": "code",
   "execution_count": 235,
   "outputs": [],
   "source": [
    "keras.backend.clear_session()\n",
    "np.random.seed(42)\n",
    "tf.random.set_seed(42)"
   ],
   "metadata": {
    "collapsed": false,
    "ExecuteTime": {
     "start_time": "2023-05-03T14:35:56.618078Z",
     "end_time": "2023-05-03T14:35:56.679078Z"
    }
   }
  },
  {
   "cell_type": "code",
   "execution_count": 236,
   "outputs": [],
   "source": [
    "model = keras.models.Sequential([\n",
    "    keras.layers.Dense(30, activation=\"relu\", input_shape=[12]),\n",
    "    keras.layers.Dense(30, activation=\"relu\"),\n",
    "    keras.layers.Dense(1)\n",
    "])\n",
    "model.compile(loss=\"mse\", optimizer=keras.optimizers.SGD(learning_rate=1e-7))"
   ],
   "metadata": {
    "collapsed": false,
    "ExecuteTime": {
     "start_time": "2023-05-03T14:36:05.212255Z",
     "end_time": "2023-05-03T14:36:05.330255Z"
    }
   }
  },
  {
   "cell_type": "code",
   "execution_count": 237,
   "outputs": [
    {
     "name": "stdout",
     "output_type": "stream",
     "text": [
      "Epoch 1/30\n",
      "380/380 [==============================] - 2s 4ms/step - loss: 51209314334944581560848405757952.0000 - val_loss: 272415036082153848832.0000\n",
      "Epoch 2/30\n",
      "380/380 [==============================] - 1s 2ms/step - loss: 272395913375923568640.0000 - val_loss: 272376526786902622208.0000\n",
      "Epoch 3/30\n",
      "380/380 [==============================] - 1s 2ms/step - loss: 272357175382253764608.0000 - val_loss: 272337982307279306752.0000\n",
      "Epoch 4/30\n",
      "380/380 [==============================] - 1s 2ms/step - loss: 272318683679188582400.0000 - val_loss: 272299385051097858048.0000\n",
      "Epoch 5/30\n",
      "380/380 [==============================] - 1s 2ms/step - loss: 272280086423007133696.0000 - val_loss: 272260858163660587008.0000\n",
      "Epoch 6/30\n",
      "380/380 [==============================] - 1s 2ms/step - loss: 272241788233988440064.0000 - val_loss: 272222296091851227136.0000\n",
      "Epoch 7/30\n",
      "380/380 [==============================] - 1s 2ms/step - loss: 272203050240318636032.0000 - val_loss: 272183821980972089344.0000\n",
      "Epoch 8/30\n",
      "380/380 [==============================] - 1s 2ms/step - loss: 272164540945067409408.0000 - val_loss: 272145347870092951552.0000\n",
      "Epoch 9/30\n",
      "380/380 [==============================] - 1s 2ms/step - loss: 272126207571676626944.0000 - val_loss: 272106873759213813760.0000\n",
      "Epoch 10/30\n",
      "380/380 [==============================] - 1s 2ms/step - loss: 272087504762378911744.0000 - val_loss: 272068329279590498304.0000\n",
      "Epoch 11/30\n",
      "380/380 [==============================] - 1s 2ms/step - loss: 272049030651499773952.0000 - val_loss: 272029855168711360512.0000\n",
      "Epoch 12/30\n",
      "380/380 [==============================] - 1s 2ms/step - loss: 272010556540620636160.0000 - val_loss: 271991328281274089472.0000\n",
      "Epoch 13/30\n",
      "380/380 [==============================] - 1s 2ms/step - loss: 271972135206299631616.0000 - val_loss: 271952783801650774016.0000\n",
      "Epoch 14/30\n",
      "380/380 [==============================] - 1s 2ms/step - loss: 271933573134490271744.0000 - val_loss: 271914239322027458560.0000\n",
      "Epoch 15/30\n",
      "380/380 [==============================] - 1s 2ms/step - loss: 271894905509564645376.0000 - val_loss: 271875730026776231936.0000\n",
      "Epoch 16/30\n",
      "380/380 [==============================] - 1s 2ms/step - loss: 271856607320545951744.0000 - val_loss: 271837220731525005312.0000\n",
      "Epoch 17/30\n",
      "380/380 [==============================] - 1s 2ms/step - loss: 271818062840922636288.0000 - val_loss: 271798781805017956352.0000\n",
      "Epoch 18/30\n",
      "380/380 [==============================] - 1s 2ms/step - loss: 271779553545671409664.0000 - val_loss: 271760395655069040640.0000\n",
      "Epoch 19/30\n",
      "380/380 [==============================] - 1s 2ms/step - loss: 271741097026978316288.0000 - val_loss: 271721868767631769600.0000\n",
      "Epoch 20/30\n",
      "380/380 [==============================] - 1s 2ms/step - loss: 271702552547355000832.0000 - val_loss: 271683412248938676224.0000\n",
      "Epoch 21/30\n",
      "380/380 [==============================] - 1s 2ms/step - loss: 271664060844289818624.0000 - val_loss: 271644920545873494016.0000\n",
      "Epoch 22/30\n",
      "380/380 [==============================] - 1s 2ms/step - loss: 271625727470899036160.0000 - val_loss: 271606464027180400640.0000\n",
      "Epoch 23/30\n",
      "380/380 [==============================] - 1s 2ms/step - loss: 271587024661601320960.0000 - val_loss: 271567954731929174016.0000\n",
      "Epoch 24/30\n",
      "380/380 [==============================] - 1s 2ms/step - loss: 271548726472582627328.0000 - val_loss: 271529445436677947392.0000\n",
      "Epoch 25/30\n",
      "380/380 [==============================] - 1s 2ms/step - loss: 271510164400773267456.0000 - val_loss: 271490936141426720768.0000\n",
      "Epoch 26/30\n",
      "380/380 [==============================] - 2s 5ms/step - loss: 271471584736777863168.0000 - val_loss: 271452462030547582976.0000\n",
      "Epoch 27/30\n",
      "380/380 [==============================] - 1s 3ms/step - loss: 271433251363387080704.0000 - val_loss: 271413987919668445184.0000\n",
      "Epoch 28/30\n",
      "380/380 [==============================] - 1s 2ms/step - loss: 271394935582182342656.0000 - val_loss: 271375531400975351808.0000\n",
      "Epoch 29/30\n",
      "380/380 [==============================] - 1s 3ms/step - loss: 271356408694745071616.0000 - val_loss: 271337092474468302848.0000\n",
      "Epoch 30/30\n",
      "380/380 [==============================] - 1s 2ms/step - loss: 271317723477633400832.0000 - val_loss: 271298671140147298304.0000\n"
     ]
    }
   ],
   "source": [
    "tensorboard_cb = keras.callbacks.TensorBoard(run_logdir)\n",
    "history = model.fit(X_train, y_train, epochs=30,\n",
    "                    validation_data=(X_valid, y_valid),\n",
    "                    callbacks=[checkpoint_cb, tensorboard_cb])"
   ],
   "metadata": {
    "collapsed": false,
    "ExecuteTime": {
     "start_time": "2023-05-03T14:36:06.463256Z",
     "end_time": "2023-05-03T14:36:32.076609Z"
    }
   }
  },
  {
   "cell_type": "code",
   "execution_count": 238,
   "outputs": [
    {
     "name": "stdout",
     "output_type": "stream",
     "text": [
      "The tensorboard extension is already loaded. To reload it, use:\n",
      "  %reload_ext tensorboard\n"
     ]
    },
    {
     "data": {
      "text/plain": "Launching TensorBoard..."
     },
     "metadata": {},
     "output_type": "display_data"
    },
    {
     "data": {
      "text/plain": "<IPython.core.display.HTML object>",
      "text/html": "\n      <iframe id=\"tensorboard-frame-67b565852b3cfd9a\" width=\"100%\" height=\"800\" frameborder=\"0\">\n      </iframe>\n      <script>\n        (function() {\n          const frame = document.getElementById(\"tensorboard-frame-67b565852b3cfd9a\");\n          const url = new URL(\"/\", window.location);\n          const port = 6006;\n          if (port) {\n            url.port = port;\n          }\n          frame.src = url;\n        })();\n      </script>\n    "
     },
     "metadata": {},
     "output_type": "display_data"
    }
   ],
   "source": [
    "%load_ext tensorboard\n",
    "%tensorboard --logdir=./my_logs --port=6006"
   ],
   "metadata": {
    "collapsed": false,
    "ExecuteTime": {
     "start_time": "2023-05-03T14:37:21.735532Z",
     "end_time": "2023-05-03T14:37:28.147116Z"
    }
   }
  },
  {
   "cell_type": "code",
   "execution_count": 239,
   "outputs": [
    {
     "data": {
      "text/plain": "'.\\\\my_logs\\\\run_2023_05_03-14_38_15'"
     },
     "execution_count": 239,
     "metadata": {},
     "output_type": "execute_result"
    }
   ],
   "source": [
    "run_logdir2 = get_run_logdir()\n",
    "run_logdir2"
   ],
   "metadata": {
    "collapsed": false,
    "ExecuteTime": {
     "start_time": "2023-05-03T14:38:15.809447Z",
     "end_time": "2023-05-03T14:38:15.851462Z"
    }
   }
  },
  {
   "cell_type": "code",
   "execution_count": 240,
   "outputs": [],
   "source": [
    "keras.backend.clear_session()\n",
    "np.random.seed(42)\n",
    "tf.random.set_seed(42)"
   ],
   "metadata": {
    "collapsed": false,
    "ExecuteTime": {
     "start_time": "2023-05-03T14:38:18.312310Z",
     "end_time": "2023-05-03T14:38:18.366972Z"
    }
   }
  },
  {
   "cell_type": "code",
   "execution_count": 245,
   "outputs": [],
   "source": [
    "model = keras.models.Sequential([\n",
    "    keras.layers.Dense(30, activation=\"relu\", input_shape=[12]),\n",
    "    keras.layers.Dense(30, activation=\"relu\"),\n",
    "    keras.layers.Dense(1)\n",
    "])\n",
    "model.compile(loss=\"mse\", optimizer=keras.optimizers.SGD(learning_rate=1e-7))"
   ],
   "metadata": {
    "collapsed": false,
    "ExecuteTime": {
     "start_time": "2023-05-03T14:39:25.414029Z",
     "end_time": "2023-05-03T14:39:25.488027Z"
    }
   }
  },
  {
   "cell_type": "code",
   "execution_count": 246,
   "outputs": [
    {
     "name": "stdout",
     "output_type": "stream",
     "text": [
      "Epoch 1/30\n",
      "380/380 [==============================] - 2s 3ms/step - loss: 29904644619678609571840.0000 - val_loss: 302583611392.0000\n",
      "Epoch 2/30\n",
      "380/380 [==============================] - 1s 2ms/step - loss: 305948917760.0000 - val_loss: 302556905472.0000\n",
      "Epoch 3/30\n",
      "380/380 [==============================] - 1s 2ms/step - loss: 305922637824.0000 - val_loss: 302530199552.0000\n",
      "Epoch 4/30\n",
      "380/380 [==============================] - 1s 2ms/step - loss: 305895997440.0000 - val_loss: 302503460864.0000\n",
      "Epoch 5/30\n",
      "380/380 [==============================] - 1s 2ms/step - loss: 305869357056.0000 - val_loss: 302476656640.0000\n",
      "Epoch 6/30\n",
      "380/380 [==============================] - 1s 2ms/step - loss: 305842913280.0000 - val_loss: 302450147328.0000\n",
      "Epoch 7/30\n",
      "380/380 [==============================] - 1s 2ms/step - loss: 305816371200.0000 - val_loss: 302423441408.0000\n",
      "Epoch 8/30\n",
      "380/380 [==============================] - 1s 2ms/step - loss: 305789730816.0000 - val_loss: 302396735488.0000\n",
      "Epoch 9/30\n",
      "380/380 [==============================] - 1s 2ms/step - loss: 305763418112.0000 - val_loss: 302370160640.0000\n",
      "Epoch 10/30\n",
      "380/380 [==============================] - 1s 2ms/step - loss: 305736843264.0000 - val_loss: 302343258112.0000\n",
      "Epoch 11/30\n",
      "380/380 [==============================] - 1s 2ms/step - loss: 305710432256.0000 - val_loss: 302316683264.0000\n",
      "Epoch 12/30\n",
      "380/380 [==============================] - 1s 2ms/step - loss: 305683824640.0000 - val_loss: 302289944576.0000\n",
      "Epoch 13/30\n",
      "380/380 [==============================] - 1s 2ms/step - loss: 305657348096.0000 - val_loss: 302263238656.0000\n",
      "Epoch 14/30\n",
      "380/380 [==============================] - 1s 2ms/step - loss: 305630871552.0000 - val_loss: 302236532736.0000\n",
      "Epoch 15/30\n",
      "380/380 [==============================] - 1s 2ms/step - loss: 305604132864.0000 - val_loss: 302209859584.0000\n",
      "Epoch 16/30\n",
      "380/380 [==============================] - 1s 2ms/step - loss: 305577820160.0000 - val_loss: 302183219200.0000\n",
      "Epoch 17/30\n",
      "380/380 [==============================] - 1s 2ms/step - loss: 305551278080.0000 - val_loss: 302156480512.0000\n",
      "Epoch 18/30\n",
      "380/380 [==============================] - 1s 2ms/step - loss: 305524736000.0000 - val_loss: 302129938432.0000\n",
      "Epoch 19/30\n",
      "380/380 [==============================] - 1s 2ms/step - loss: 305498259456.0000 - val_loss: 302103166976.0000\n",
      "Epoch 20/30\n",
      "380/380 [==============================] - 1s 2ms/step - loss: 305471848448.0000 - val_loss: 302076624896.0000\n",
      "Epoch 21/30\n",
      "380/380 [==============================] - 1s 2ms/step - loss: 305445240832.0000 - val_loss: 302049918976.0000\n",
      "Epoch 22/30\n",
      "380/380 [==============================] - 1s 2ms/step - loss: 305418895360.0000 - val_loss: 302023278592.0000\n",
      "Epoch 23/30\n",
      "380/380 [==============================] - 1s 2ms/step - loss: 305392418816.0000 - val_loss: 301996605440.0000\n",
      "Epoch 24/30\n",
      "380/380 [==============================] - 1s 2ms/step - loss: 305365811200.0000 - val_loss: 301969997824.0000\n",
      "Epoch 25/30\n",
      "380/380 [==============================] - 1s 2ms/step - loss: 305339400192.0000 - val_loss: 301943357440.0000\n",
      "Epoch 26/30\n",
      "380/380 [==============================] - 1s 2ms/step - loss: 305312989184.0000 - val_loss: 301916782592.0000\n",
      "Epoch 27/30\n",
      "380/380 [==============================] - 1s 2ms/step - loss: 305286709248.0000 - val_loss: 301890076672.0000\n",
      "Epoch 28/30\n",
      "380/380 [==============================] - 1s 2ms/step - loss: 305259839488.0000 - val_loss: 301863436288.0000\n",
      "Epoch 29/30\n",
      "380/380 [==============================] - 1s 2ms/step - loss: 305233559552.0000 - val_loss: 301836861440.0000\n",
      "Epoch 30/30\n",
      "380/380 [==============================] - 1s 2ms/step - loss: 305207246848.0000 - val_loss: 301810188288.0000\n"
     ]
    }
   ],
   "source": [
    "tensorboard_cb = keras.callbacks.TensorBoard(run_logdir2)\n",
    "history = model.fit(X_train, y_train, epochs=30,\n",
    "                    validation_data=(X_valid, y_valid),\n",
    "                    callbacks=[checkpoint_cb, tensorboard_cb])"
   ],
   "metadata": {
    "collapsed": false,
    "ExecuteTime": {
     "start_time": "2023-05-03T14:39:27.108886Z",
     "end_time": "2023-05-03T14:39:50.024372Z"
    }
   }
  },
  {
   "cell_type": "code",
   "execution_count": 247,
   "outputs": [
    {
     "name": "stdout",
     "output_type": "stream",
     "text": [
      "Help on function __init__ in module keras.callbacks:\n",
      "\n",
      "__init__(self, log_dir='logs', histogram_freq=0, write_graph=True, write_images=False, write_steps_per_second=False, update_freq='epoch', profile_batch=0, embeddings_freq=0, embeddings_metadata=None, **kwargs)\n",
      "    Initialize self.  See help(type(self)) for accurate signature.\n",
      "\n"
     ]
    }
   ],
   "source": [
    "help(keras.callbacks.TensorBoard.__init__)"
   ],
   "metadata": {
    "collapsed": false,
    "ExecuteTime": {
     "start_time": "2023-05-03T14:39:50.899145Z",
     "end_time": "2023-05-03T14:39:50.955147Z"
    }
   }
  },
  {
   "cell_type": "markdown",
   "source": [
    "# Hyperparameter Tuning"
   ],
   "metadata": {
    "collapsed": false
   }
  },
  {
   "cell_type": "code",
   "execution_count": 248,
   "outputs": [],
   "source": [
    "keras.backend.clear_session()\n",
    "np.random.seed(42)\n",
    "tf.random.set_seed(42)"
   ],
   "metadata": {
    "collapsed": false,
    "ExecuteTime": {
     "start_time": "2023-05-03T14:39:54.015067Z",
     "end_time": "2023-05-03T14:39:54.067066Z"
    }
   }
  },
  {
   "cell_type": "code",
   "execution_count": 249,
   "outputs": [],
   "source": [
    "def build_model(n_hidden=1, n_neurons=30, learning_rate=3e-7, input_shape=[12]):\n",
    "    model = keras.models.Sequential()\n",
    "    model.add(keras.layers.InputLayer(input_shape=input_shape))\n",
    "    for layer in range(n_hidden):\n",
    "        model.add(keras.layers.Dense(n_neurons, activation=\"relu\"))\n",
    "    model.add(keras.layers.Dense(1))\n",
    "    optimizer = keras.optimizers.SGD(learning_rate=learning_rate)\n",
    "    model.compile(loss=\"mse\", optimizer=optimizer)\n",
    "    return model"
   ],
   "metadata": {
    "collapsed": false,
    "ExecuteTime": {
     "start_time": "2023-05-03T14:40:04.818563Z",
     "end_time": "2023-05-03T14:40:04.865577Z"
    }
   }
  },
  {
   "cell_type": "code",
   "execution_count": 250,
   "outputs": [
    {
     "name": "stderr",
     "output_type": "stream",
     "text": [
      "C:\\Users\\balanton\\AppData\\Local\\Temp\\ipykernel_3516\\4087176523.py:1: DeprecationWarning: KerasRegressor is deprecated, use Sci-Keras (https://github.com/adriangb/scikeras) instead. See https://www.adriangb.com/scikeras/stable/migration.html for help migrating.\n",
      "  keras_reg = keras.wrappers.scikit_learn.KerasRegressor(build_model)\n"
     ]
    }
   ],
   "source": [
    "keras_reg = keras.wrappers.scikit_learn.KerasRegressor(build_model)"
   ],
   "metadata": {
    "collapsed": false,
    "ExecuteTime": {
     "start_time": "2023-05-03T14:40:06.783077Z",
     "end_time": "2023-05-03T14:40:06.884078Z"
    }
   }
  },
  {
   "cell_type": "code",
   "execution_count": 251,
   "outputs": [
    {
     "name": "stdout",
     "output_type": "stream",
     "text": [
      "Epoch 1/100\n",
      "380/380 [==============================] - 1s 2ms/step - loss: 70191644672.0000 - val_loss: 36769013760.0000\n",
      "Epoch 2/100\n",
      "380/380 [==============================] - 1s 1ms/step - loss: 62460342272.0000 - val_loss: 65191235584.0000\n",
      "Epoch 3/100\n",
      "380/380 [==============================] - 1s 1ms/step - loss: 69306032128.0000 - val_loss: 70158761984.0000\n",
      "Epoch 4/100\n",
      "380/380 [==============================] - 1s 1ms/step - loss: 61737836544.0000 - val_loss: 270085210112.0000\n",
      "Epoch 5/100\n",
      "380/380 [==============================] - 1s 1ms/step - loss: 52075958272.0000 - val_loss: 38831403008.0000\n",
      "Epoch 6/100\n",
      "380/380 [==============================] - 1s 1ms/step - loss: 52707377152.0000 - val_loss: 57112236032.0000\n",
      "Epoch 7/100\n",
      "380/380 [==============================] - 1s 1ms/step - loss: 63638073344.0000 - val_loss: 62470467584.0000\n",
      "Epoch 8/100\n",
      "380/380 [==============================] - 1s 1ms/step - loss: 60018495488.0000 - val_loss: 40410112000.0000\n",
      "Epoch 9/100\n",
      "380/380 [==============================] - 1s 1ms/step - loss: 46729752576.0000 - val_loss: 46208151552.0000\n",
      "Epoch 10/100\n",
      "380/380 [==============================] - 1s 2ms/step - loss: 54255071232.0000 - val_loss: 57917341696.0000\n",
      "Epoch 11/100\n",
      "380/380 [==============================] - 1s 1ms/step - loss: 76294717440.0000 - val_loss: 28621707264.0000\n",
      "Epoch 12/100\n",
      "380/380 [==============================] - 1s 1ms/step - loss: 51960958976.0000 - val_loss: 36380450816.0000\n",
      "Epoch 13/100\n",
      "380/380 [==============================] - 1s 2ms/step - loss: 80997949440.0000 - val_loss: 60701229056.0000\n",
      "Epoch 14/100\n",
      "380/380 [==============================] - 1s 1ms/step - loss: 49728270336.0000 - val_loss: 39843680256.0000\n",
      "Epoch 15/100\n",
      "380/380 [==============================] - 1s 2ms/step - loss: 46709964800.0000 - val_loss: 34268727296.0000\n",
      "Epoch 16/100\n",
      "380/380 [==============================] - 1s 1ms/step - loss: 43404328960.0000 - val_loss: 80126705664.0000\n",
      "Epoch 17/100\n",
      "380/380 [==============================] - 1s 1ms/step - loss: 54259404800.0000 - val_loss: 63508049920.0000\n",
      "Epoch 18/100\n",
      "380/380 [==============================] - 1s 1ms/step - loss: 56186552320.0000 - val_loss: 68292714496.0000\n",
      "Epoch 19/100\n",
      "380/380 [==============================] - 1s 1ms/step - loss: 58246586368.0000 - val_loss: 56668508160.0000\n",
      "Epoch 20/100\n",
      "380/380 [==============================] - 1s 1ms/step - loss: 82100854784.0000 - val_loss: 43549478912.0000\n",
      "Epoch 21/100\n",
      "380/380 [==============================] - 1s 1ms/step - loss: 85258690560.0000 - val_loss: 74953424896.0000\n"
     ]
    },
    {
     "data": {
      "text/plain": "<keras.callbacks.History at 0x1c53bdcb310>"
     },
     "execution_count": 251,
     "metadata": {},
     "output_type": "execute_result"
    }
   ],
   "source": [
    "keras_reg.fit(X_train, y_train, epochs=100,\n",
    "              validation_data=(X_valid, y_valid),\n",
    "              callbacks=[keras.callbacks.EarlyStopping(patience=10)])"
   ],
   "metadata": {
    "collapsed": false,
    "ExecuteTime": {
     "start_time": "2023-05-03T14:40:09.007317Z",
     "end_time": "2023-05-03T14:40:21.242354Z"
    }
   }
  },
  {
   "cell_type": "code",
   "execution_count": 252,
   "outputs": [
    {
     "name": "stdout",
     "output_type": "stream",
     "text": [
      "169/169 [==============================] - 0s 1ms/step - loss: 91013300224.0000\n"
     ]
    }
   ],
   "source": [
    "mse_test = keras_reg.score(X_test, y_test)"
   ],
   "metadata": {
    "collapsed": false,
    "ExecuteTime": {
     "start_time": "2023-05-03T14:40:26.954412Z",
     "end_time": "2023-05-03T14:40:27.245414Z"
    }
   }
  },
  {
   "cell_type": "code",
   "execution_count": 253,
   "outputs": [
    {
     "name": "stdout",
     "output_type": "stream",
     "text": [
      "1/1 [==============================] - 0s 52ms/step\n"
     ]
    }
   ],
   "source": [
    "y_pred = keras_reg.predict(X_new)"
   ],
   "metadata": {
    "collapsed": false,
    "ExecuteTime": {
     "start_time": "2023-05-03T14:40:41.633048Z",
     "end_time": "2023-05-03T14:40:41.751093Z"
    }
   }
  },
  {
   "cell_type": "code",
   "execution_count": 254,
   "outputs": [],
   "source": [
    "np.random.seed(42)\n",
    "tf.random.set_seed(42)"
   ],
   "metadata": {
    "collapsed": false,
    "ExecuteTime": {
     "start_time": "2023-05-03T14:40:45.027307Z",
     "end_time": "2023-05-03T14:40:45.074312Z"
    }
   }
  },
  {
   "cell_type": "code",
   "execution_count": 262,
   "outputs": [
    {
     "name": "stdout",
     "output_type": "stream",
     "text": [
      "Fitting 3 folds for each of 10 candidates, totalling 30 fits\n",
      "Epoch 1/100\n",
      "254/254 [==============================] - 1s 2ms/step - loss: 414847401984.0000 - val_loss: 416631717888.0000\n",
      "Epoch 2/100\n",
      "254/254 [==============================] - 0s 2ms/step - loss: 414836686848.0000 - val_loss: 416612384768.0000\n",
      "Epoch 3/100\n",
      "254/254 [==============================] - 0s 2ms/step - loss: 414791663616.0000 - val_loss: 416523157504.0000\n",
      "Epoch 4/100\n",
      "254/254 [==============================] - 0s 2ms/step - loss: 414574116864.0000 - val_loss: 416082984960.0000\n",
      "Epoch 5/100\n",
      "254/254 [==============================] - 0s 2ms/step - loss: 413492576256.0000 - val_loss: 413907451904.0000\n",
      "Epoch 6/100\n",
      "254/254 [==============================] - 0s 2ms/step - loss: 408212209664.0000 - val_loss: 403439583232.0000\n",
      "Epoch 7/100\n",
      "254/254 [==============================] - 0s 2ms/step - loss: 384390299648.0000 - val_loss: 358964789248.0000\n",
      "Epoch 8/100\n",
      "254/254 [==============================] - 0s 2ms/step - loss: 305700110336.0000 - val_loss: 244865122304.0000\n",
      "Epoch 9/100\n",
      "254/254 [==============================] - 0s 2ms/step - loss: 189556064256.0000 - val_loss: 149925117952.0000\n",
      "Epoch 10/100\n",
      "254/254 [==============================] - 0s 2ms/step - loss: 133887172608.0000 - val_loss: 120982511616.0000\n",
      "Epoch 11/100\n",
      "254/254 [==============================] - 0s 2ms/step - loss: 114647040000.0000 - val_loss: 103376510976.0000\n",
      "Epoch 12/100\n",
      "254/254 [==============================] - 0s 2ms/step - loss: 98255241216.0000 - val_loss: 85562892288.0000\n",
      "Epoch 13/100\n",
      "254/254 [==============================] - 0s 2ms/step - loss: 80803921920.0000 - val_loss: 67163213824.0000\n",
      "Epoch 14/100\n",
      "254/254 [==============================] - 0s 2ms/step - loss: 63322222592.0000 - val_loss: 51578769408.0000\n",
      "Epoch 15/100\n",
      "254/254 [==============================] - 0s 2ms/step - loss: 50664411136.0000 - val_loss: 42860064768.0000\n",
      "Epoch 16/100\n",
      "254/254 [==============================] - 0s 2ms/step - loss: 44207931392.0000 - val_loss: 39026343936.0000\n",
      "Epoch 17/100\n",
      "254/254 [==============================] - 0s 2ms/step - loss: 41375469568.0000 - val_loss: 37501849600.0000\n",
      "Epoch 18/100\n",
      "254/254 [==============================] - 0s 2ms/step - loss: 40158760960.0000 - val_loss: 36824272896.0000\n",
      "Epoch 19/100\n",
      "254/254 [==============================] - 0s 2ms/step - loss: 39620427776.0000 - val_loss: 36519059456.0000\n",
      "Epoch 20/100\n",
      "254/254 [==============================] - 0s 2ms/step - loss: 39324016640.0000 - val_loss: 36337020928.0000\n",
      "Epoch 21/100\n",
      "254/254 [==============================] - 0s 2ms/step - loss: 39107887104.0000 - val_loss: 36162740224.0000\n",
      "Epoch 22/100\n",
      "254/254 [==============================] - 1s 2ms/step - loss: 38931308544.0000 - val_loss: 36055777280.0000\n",
      "Epoch 23/100\n",
      "254/254 [==============================] - 0s 2ms/step - loss: 38802870272.0000 - val_loss: 35963899904.0000\n",
      "Epoch 24/100\n",
      "254/254 [==============================] - 0s 2ms/step - loss: 38690590720.0000 - val_loss: 35838599168.0000\n",
      "Epoch 25/100\n",
      "254/254 [==============================] - 0s 2ms/step - loss: 38555103232.0000 - val_loss: 35758067712.0000\n",
      "Epoch 26/100\n",
      "254/254 [==============================] - 0s 2ms/step - loss: 38468071424.0000 - val_loss: 35611447296.0000\n",
      "Epoch 27/100\n",
      "254/254 [==============================] - 0s 2ms/step - loss: 38339637248.0000 - val_loss: 35526045696.0000\n",
      "Epoch 28/100\n",
      "254/254 [==============================] - 1s 2ms/step - loss: 38259040256.0000 - val_loss: 35407015936.0000\n",
      "Epoch 29/100\n",
      "254/254 [==============================] - 1s 3ms/step - loss: 38165958656.0000 - val_loss: 35313377280.0000\n",
      "Epoch 30/100\n",
      "254/254 [==============================] - 0s 2ms/step - loss: 38072037376.0000 - val_loss: 35236257792.0000\n",
      "Epoch 31/100\n",
      "254/254 [==============================] - 0s 2ms/step - loss: 38010204160.0000 - val_loss: 35147251712.0000\n",
      "Epoch 32/100\n",
      "254/254 [==============================] - 0s 2ms/step - loss: 37900693504.0000 - val_loss: 35104358400.0000\n",
      "Epoch 33/100\n",
      "254/254 [==============================] - 0s 2ms/step - loss: 37820542976.0000 - val_loss: 34977198080.0000\n",
      "Epoch 34/100\n",
      "254/254 [==============================] - 0s 2ms/step - loss: 37748477952.0000 - val_loss: 34889539584.0000\n",
      "Epoch 35/100\n",
      "254/254 [==============================] - 0s 2ms/step - loss: 37647532032.0000 - val_loss: 34875056128.0000\n",
      "Epoch 36/100\n",
      "254/254 [==============================] - 0s 2ms/step - loss: 37589389312.0000 - val_loss: 34763657216.0000\n",
      "Epoch 37/100\n",
      "254/254 [==============================] - 0s 2ms/step - loss: 37522386944.0000 - val_loss: 34653134848.0000\n",
      "Epoch 38/100\n",
      "254/254 [==============================] - 0s 2ms/step - loss: 37463175168.0000 - val_loss: 34553376768.0000\n",
      "Epoch 39/100\n",
      "254/254 [==============================] - 0s 2ms/step - loss: 37405413376.0000 - val_loss: 34479038464.0000\n",
      "Epoch 40/100\n",
      "254/254 [==============================] - 0s 2ms/step - loss: 37301198848.0000 - val_loss: 34454159360.0000\n",
      "Epoch 41/100\n",
      "254/254 [==============================] - 0s 2ms/step - loss: 37235613696.0000 - val_loss: 34355070976.0000\n",
      "Epoch 42/100\n",
      "254/254 [==============================] - 0s 2ms/step - loss: 37170089984.0000 - val_loss: 34270629888.0000\n",
      "Epoch 43/100\n",
      "254/254 [==============================] - 0s 2ms/step - loss: 37098618880.0000 - val_loss: 34225874944.0000\n",
      "Epoch 44/100\n",
      "254/254 [==============================] - 0s 2ms/step - loss: 37021827072.0000 - val_loss: 34139924480.0000\n",
      "Epoch 45/100\n",
      "254/254 [==============================] - 0s 2ms/step - loss: 36962328576.0000 - val_loss: 34078826496.0000\n",
      "Epoch 46/100\n",
      "254/254 [==============================] - 0s 2ms/step - loss: 36870463488.0000 - val_loss: 34114766848.0000\n",
      "Epoch 47/100\n",
      "254/254 [==============================] - 0s 2ms/step - loss: 36828557312.0000 - val_loss: 33920083968.0000\n",
      "Epoch 48/100\n",
      "254/254 [==============================] - 0s 2ms/step - loss: 36755877888.0000 - val_loss: 33901090816.0000\n",
      "Epoch 49/100\n",
      "254/254 [==============================] - 0s 2ms/step - loss: 36712693760.0000 - val_loss: 33779507200.0000\n",
      "Epoch 50/100\n",
      "254/254 [==============================] - 0s 2ms/step - loss: 36587769856.0000 - val_loss: 33801439232.0000\n",
      "Epoch 51/100\n",
      "254/254 [==============================] - 0s 2ms/step - loss: 36575903744.0000 - val_loss: 33708822528.0000\n",
      "Epoch 52/100\n",
      "254/254 [==============================] - 0s 1ms/step - loss: 36499099648.0000 - val_loss: 33610379264.0000\n",
      "Epoch 53/100\n",
      "254/254 [==============================] - 0s 2ms/step - loss: 36438315008.0000 - val_loss: 33542590464.0000\n",
      "Epoch 54/100\n",
      "254/254 [==============================] - 0s 2ms/step - loss: 36350062592.0000 - val_loss: 33420851200.0000\n",
      "Epoch 55/100\n",
      "254/254 [==============================] - 0s 2ms/step - loss: 36292431872.0000 - val_loss: 33362120704.0000\n",
      "Epoch 56/100\n",
      "254/254 [==============================] - 0s 2ms/step - loss: 36218720256.0000 - val_loss: 33286866944.0000\n",
      "Epoch 57/100\n",
      "254/254 [==============================] - 0s 2ms/step - loss: 36136644608.0000 - val_loss: 33263509504.0000\n",
      "Epoch 58/100\n",
      "254/254 [==============================] - 0s 2ms/step - loss: 36094156800.0000 - val_loss: 33190156288.0000\n",
      "Epoch 59/100\n",
      "254/254 [==============================] - 0s 2ms/step - loss: 36026175488.0000 - val_loss: 33078059008.0000\n",
      "Epoch 60/100\n",
      "254/254 [==============================] - 0s 2ms/step - loss: 35984375808.0000 - val_loss: 33009596416.0000\n",
      "Epoch 61/100\n",
      "254/254 [==============================] - 0s 2ms/step - loss: 35859886080.0000 - val_loss: 33015193600.0000\n",
      "Epoch 62/100\n",
      "254/254 [==============================] - 0s 2ms/step - loss: 35827826688.0000 - val_loss: 32883824640.0000\n",
      "Epoch 63/100\n",
      "254/254 [==============================] - 0s 2ms/step - loss: 35767083008.0000 - val_loss: 32821424128.0000\n",
      "Epoch 64/100\n",
      "254/254 [==============================] - 0s 2ms/step - loss: 35689766912.0000 - val_loss: 32778579968.0000\n",
      "Epoch 65/100\n",
      "254/254 [==============================] - 0s 2ms/step - loss: 35635351552.0000 - val_loss: 32668268544.0000\n",
      "Epoch 66/100\n",
      "254/254 [==============================] - 1s 2ms/step - loss: 35551563776.0000 - val_loss: 32623872000.0000\n",
      "Epoch 67/100\n",
      "254/254 [==============================] - 0s 2ms/step - loss: 35465588736.0000 - val_loss: 32610392064.0000\n",
      "Epoch 68/100\n",
      "254/254 [==============================] - 0s 2ms/step - loss: 35431972864.0000 - val_loss: 32458086400.0000\n",
      "Epoch 69/100\n",
      "254/254 [==============================] - 0s 2ms/step - loss: 35362545664.0000 - val_loss: 32370452480.0000\n",
      "Epoch 70/100\n",
      "254/254 [==============================] - 0s 2ms/step - loss: 35312762880.0000 - val_loss: 32328798208.0000\n",
      "Epoch 71/100\n",
      "254/254 [==============================] - 0s 2ms/step - loss: 35256557568.0000 - val_loss: 32248567808.0000\n",
      "Epoch 72/100\n",
      "254/254 [==============================] - 0s 2ms/step - loss: 35155251200.0000 - val_loss: 32220440576.0000\n",
      "Epoch 73/100\n",
      "254/254 [==============================] - 0s 2ms/step - loss: 35121188864.0000 - val_loss: 32169992192.0000\n",
      "Epoch 74/100\n",
      "254/254 [==============================] - 0s 2ms/step - loss: 35060289536.0000 - val_loss: 32141672448.0000\n",
      "Epoch 75/100\n",
      "254/254 [==============================] - 0s 2ms/step - loss: 35008806912.0000 - val_loss: 32028168192.0000\n",
      "Epoch 76/100\n",
      "254/254 [==============================] - 0s 2ms/step - loss: 34935115776.0000 - val_loss: 31974178816.0000\n",
      "Epoch 77/100\n",
      "254/254 [==============================] - 0s 2ms/step - loss: 34871525376.0000 - val_loss: 31936952320.0000\n",
      "Epoch 78/100\n",
      "254/254 [==============================] - 0s 2ms/step - loss: 34828955648.0000 - val_loss: 31854411776.0000\n",
      "Epoch 79/100\n",
      "254/254 [==============================] - 0s 2ms/step - loss: 34738532352.0000 - val_loss: 31751153664.0000\n",
      "Epoch 80/100\n",
      "254/254 [==============================] - 0s 2ms/step - loss: 34712051712.0000 - val_loss: 31711119360.0000\n",
      "Epoch 81/100\n",
      "254/254 [==============================] - 0s 2ms/step - loss: 34650566656.0000 - val_loss: 31707207680.0000\n",
      "Epoch 82/100\n",
      "254/254 [==============================] - 0s 2ms/step - loss: 34595753984.0000 - val_loss: 31681069056.0000\n",
      "Epoch 83/100\n",
      "254/254 [==============================] - 0s 2ms/step - loss: 34514862080.0000 - val_loss: 31546994688.0000\n",
      "Epoch 84/100\n",
      "254/254 [==============================] - 0s 2ms/step - loss: 34482905088.0000 - val_loss: 31501838336.0000\n",
      "Epoch 85/100\n",
      "254/254 [==============================] - 0s 2ms/step - loss: 34454151168.0000 - val_loss: 31471728640.0000\n",
      "Epoch 86/100\n",
      "254/254 [==============================] - 0s 2ms/step - loss: 34362515456.0000 - val_loss: 31413368832.0000\n",
      "Epoch 87/100\n",
      "254/254 [==============================] - 0s 2ms/step - loss: 34340636672.0000 - val_loss: 31417526272.0000\n",
      "Epoch 88/100\n",
      "254/254 [==============================] - 0s 2ms/step - loss: 34297192448.0000 - val_loss: 31314655232.0000\n",
      "Epoch 89/100\n",
      "254/254 [==============================] - 0s 2ms/step - loss: 34254383104.0000 - val_loss: 31300847616.0000\n",
      "Epoch 90/100\n",
      "254/254 [==============================] - 0s 2ms/step - loss: 34221260800.0000 - val_loss: 31249651712.0000\n",
      "Epoch 91/100\n",
      "254/254 [==============================] - 0s 2ms/step - loss: 34173845504.0000 - val_loss: 31216009216.0000\n",
      "Epoch 92/100\n",
      "254/254 [==============================] - 0s 2ms/step - loss: 34114168832.0000 - val_loss: 31149998080.0000\n",
      "Epoch 93/100\n",
      "254/254 [==============================] - 0s 2ms/step - loss: 34083227648.0000 - val_loss: 31113926656.0000\n",
      "Epoch 94/100\n",
      "254/254 [==============================] - 0s 2ms/step - loss: 34041337856.0000 - val_loss: 31092105216.0000\n",
      "Epoch 95/100\n",
      "254/254 [==============================] - 0s 2ms/step - loss: 34007621632.0000 - val_loss: 31101911040.0000\n",
      "Epoch 96/100\n",
      "254/254 [==============================] - 0s 2ms/step - loss: 33967067136.0000 - val_loss: 31051927552.0000\n",
      "Epoch 97/100\n",
      "254/254 [==============================] - 0s 2ms/step - loss: 33945575424.0000 - val_loss: 31021932544.0000\n",
      "Epoch 98/100\n",
      "254/254 [==============================] - 0s 2ms/step - loss: 33882796032.0000 - val_loss: 31021070336.0000\n",
      "Epoch 99/100\n",
      "254/254 [==============================] - 0s 2ms/step - loss: 33849432064.0000 - val_loss: 30935029760.0000\n",
      "Epoch 100/100\n",
      "254/254 [==============================] - 0s 2ms/step - loss: 33803182080.0000 - val_loss: 30910912512.0000\n",
      "127/127 [==============================] - 0s 1ms/step - loss: 39023792128.0000\n",
      "[CV] END learning_rate=2.0514011359667594e-09, n_hidden=1, n_neurons=56; total time=  43.5s\n",
      "Epoch 1/100\n",
      "254/254 [==============================] - 1s 2ms/step - loss: 417373716480.0000 - val_loss: 416631750656.0000\n",
      "Epoch 2/100\n",
      "254/254 [==============================] - 0s 2ms/step - loss: 417364115456.0000 - val_loss: 416614809600.0000\n",
      "Epoch 3/100\n",
      "254/254 [==============================] - 0s 2ms/step - loss: 417324662784.0000 - val_loss: 416537542656.0000\n",
      "Epoch 4/100\n",
      "254/254 [==============================] - 0s 2ms/step - loss: 417134575616.0000 - val_loss: 416154386432.0000\n",
      "Epoch 5/100\n",
      "254/254 [==============================] - 0s 2ms/step - loss: 416178733056.0000 - val_loss: 414235099136.0000\n",
      "Epoch 6/100\n",
      "254/254 [==============================] - 0s 2ms/step - loss: 411428093952.0000 - val_loss: 404821835776.0000\n",
      "Epoch 7/100\n",
      "254/254 [==============================] - 0s 2ms/step - loss: 389445779456.0000 - val_loss: 363758059520.0000\n",
      "Epoch 8/100\n",
      "254/254 [==============================] - 0s 2ms/step - loss: 313744850944.0000 - val_loss: 252239855616.0000\n",
      "Epoch 9/100\n",
      "254/254 [==============================] - 0s 2ms/step - loss: 194447998976.0000 - val_loss: 152718606336.0000\n",
      "Epoch 10/100\n",
      "254/254 [==============================] - 0s 2ms/step - loss: 135663083520.0000 - val_loss: 124048138240.0000\n",
      "Epoch 11/100\n",
      "254/254 [==============================] - 0s 2ms/step - loss: 117054971904.0000 - val_loss: 106959626240.0000\n",
      "Epoch 12/100\n",
      "254/254 [==============================] - 0s 2ms/step - loss: 101255471104.0000 - val_loss: 88611528704.0000\n",
      "Epoch 13/100\n",
      "254/254 [==============================] - 0s 2ms/step - loss: 83578642432.0000 - val_loss: 69332049920.0000\n",
      "Epoch 14/100\n",
      "254/254 [==============================] - 0s 2ms/step - loss: 65919594496.0000 - val_loss: 52743364608.0000\n",
      "Epoch 15/100\n",
      "254/254 [==============================] - 0s 2ms/step - loss: 52653756416.0000 - val_loss: 42997833728.0000\n",
      "Epoch 16/100\n",
      "254/254 [==============================] - 0s 2ms/step - loss: 45734309888.0000 - val_loss: 38787338240.0000\n",
      "Epoch 17/100\n",
      "254/254 [==============================] - 0s 2ms/step - loss: 42640482304.0000 - val_loss: 37006823424.0000\n",
      "Epoch 18/100\n",
      "254/254 [==============================] - 0s 2ms/step - loss: 41286311936.0000 - val_loss: 36280909824.0000\n",
      "Epoch 19/100\n",
      "254/254 [==============================] - 0s 2ms/step - loss: 40673300480.0000 - val_loss: 35949961216.0000\n",
      "Epoch 20/100\n",
      "254/254 [==============================] - 0s 2ms/step - loss: 40300273664.0000 - val_loss: 35802955776.0000\n",
      "Epoch 21/100\n",
      "254/254 [==============================] - 0s 2ms/step - loss: 40098840576.0000 - val_loss: 35631681536.0000\n",
      "Epoch 22/100\n",
      "254/254 [==============================] - 0s 2ms/step - loss: 39857405952.0000 - val_loss: 35488886784.0000\n",
      "Epoch 23/100\n",
      "254/254 [==============================] - 0s 2ms/step - loss: 39749206016.0000 - val_loss: 35383111680.0000\n",
      "Epoch 24/100\n",
      "254/254 [==============================] - 0s 2ms/step - loss: 39638249472.0000 - val_loss: 35271372800.0000\n",
      "Epoch 25/100\n",
      "254/254 [==============================] - 0s 2ms/step - loss: 39455350784.0000 - val_loss: 35201384448.0000\n",
      "Epoch 26/100\n",
      "254/254 [==============================] - 0s 2ms/step - loss: 39355256832.0000 - val_loss: 35086442496.0000\n",
      "Epoch 27/100\n",
      "254/254 [==============================] - 0s 2ms/step - loss: 39199604736.0000 - val_loss: 34981171200.0000\n",
      "Epoch 28/100\n",
      "254/254 [==============================] - 0s 2ms/step - loss: 39121334272.0000 - val_loss: 34866409472.0000\n",
      "Epoch 29/100\n",
      "254/254 [==============================] - 0s 2ms/step - loss: 38969352192.0000 - val_loss: 34753323008.0000\n",
      "Epoch 30/100\n",
      "254/254 [==============================] - 0s 2ms/step - loss: 38875889664.0000 - val_loss: 34654040064.0000\n",
      "Epoch 31/100\n",
      "254/254 [==============================] - 0s 2ms/step - loss: 38767505408.0000 - val_loss: 34566213632.0000\n",
      "Epoch 32/100\n",
      "254/254 [==============================] - 0s 2ms/step - loss: 38640295936.0000 - val_loss: 34471858176.0000\n",
      "Epoch 33/100\n",
      "254/254 [==============================] - 0s 2ms/step - loss: 38475509760.0000 - val_loss: 34391273472.0000\n",
      "Epoch 34/100\n",
      "254/254 [==============================] - 0s 2ms/step - loss: 38439923712.0000 - val_loss: 34232342528.0000\n",
      "Epoch 35/100\n",
      "254/254 [==============================] - 0s 2ms/step - loss: 38323429376.0000 - val_loss: 34152255488.0000\n",
      "Epoch 36/100\n",
      "254/254 [==============================] - 0s 2ms/step - loss: 38187204608.0000 - val_loss: 34048051200.0000\n",
      "Epoch 37/100\n",
      "254/254 [==============================] - 0s 2ms/step - loss: 38128447488.0000 - val_loss: 33939623936.0000\n",
      "Epoch 38/100\n",
      "254/254 [==============================] - 0s 2ms/step - loss: 37997670400.0000 - val_loss: 33837764608.0000\n",
      "Epoch 39/100\n",
      "254/254 [==============================] - 0s 2ms/step - loss: 37907947520.0000 - val_loss: 33756526592.0000\n",
      "Epoch 40/100\n",
      "254/254 [==============================] - 0s 2ms/step - loss: 37799976960.0000 - val_loss: 33689294848.0000\n",
      "Epoch 41/100\n",
      "254/254 [==============================] - 0s 2ms/step - loss: 37683118080.0000 - val_loss: 33595148288.0000\n",
      "Epoch 42/100\n",
      "254/254 [==============================] - 0s 2ms/step - loss: 37584666624.0000 - val_loss: 33490176000.0000\n",
      "Epoch 43/100\n",
      "254/254 [==============================] - 0s 2ms/step - loss: 37497004032.0000 - val_loss: 33399287808.0000\n",
      "Epoch 44/100\n",
      "254/254 [==============================] - 0s 2ms/step - loss: 37392531456.0000 - val_loss: 33329907712.0000\n",
      "Epoch 45/100\n",
      "254/254 [==============================] - 0s 2ms/step - loss: 37307633664.0000 - val_loss: 33224767488.0000\n",
      "Epoch 46/100\n",
      "254/254 [==============================] - 0s 2ms/step - loss: 37208457216.0000 - val_loss: 33154377728.0000\n",
      "Epoch 47/100\n",
      "254/254 [==============================] - 0s 2ms/step - loss: 37111246848.0000 - val_loss: 33085095936.0000\n",
      "Epoch 48/100\n",
      "254/254 [==============================] - 0s 2ms/step - loss: 37009211392.0000 - val_loss: 33006268416.0000\n",
      "Epoch 49/100\n",
      "254/254 [==============================] - 0s 2ms/step - loss: 36949557248.0000 - val_loss: 32914487296.0000\n",
      "Epoch 50/100\n",
      "254/254 [==============================] - 0s 2ms/step - loss: 36860030976.0000 - val_loss: 32802707456.0000\n",
      "Epoch 51/100\n",
      "254/254 [==============================] - 0s 2ms/step - loss: 36756873216.0000 - val_loss: 32737185792.0000\n",
      "Epoch 52/100\n",
      "254/254 [==============================] - 0s 2ms/step - loss: 36678164480.0000 - val_loss: 32651450368.0000\n",
      "Epoch 53/100\n",
      "254/254 [==============================] - 0s 2ms/step - loss: 36573462528.0000 - val_loss: 32628492288.0000\n",
      "Epoch 54/100\n",
      "254/254 [==============================] - 0s 2ms/step - loss: 36528795648.0000 - val_loss: 32517437440.0000\n",
      "Epoch 55/100\n",
      "254/254 [==============================] - 0s 2ms/step - loss: 36432269312.0000 - val_loss: 32465201152.0000\n",
      "Epoch 56/100\n",
      "254/254 [==============================] - 0s 2ms/step - loss: 36343459840.0000 - val_loss: 32382322688.0000\n",
      "Epoch 57/100\n",
      "254/254 [==============================] - 0s 2ms/step - loss: 36293672960.0000 - val_loss: 32321658880.0000\n",
      "Epoch 58/100\n",
      "254/254 [==============================] - 0s 2ms/step - loss: 36203335680.0000 - val_loss: 32262324224.0000\n",
      "Epoch 59/100\n",
      "254/254 [==============================] - 0s 2ms/step - loss: 36141248512.0000 - val_loss: 32159748096.0000\n",
      "Epoch 60/100\n",
      "254/254 [==============================] - 0s 2ms/step - loss: 36053426176.0000 - val_loss: 32091586560.0000\n",
      "Epoch 61/100\n",
      "254/254 [==============================] - 0s 2ms/step - loss: 35994931200.0000 - val_loss: 32022738944.0000\n",
      "Epoch 62/100\n",
      "254/254 [==============================] - 0s 2ms/step - loss: 35950428160.0000 - val_loss: 31957792768.0000\n",
      "Epoch 63/100\n",
      "254/254 [==============================] - 0s 2ms/step - loss: 35833880576.0000 - val_loss: 31912343552.0000\n",
      "Epoch 64/100\n",
      "254/254 [==============================] - 0s 2ms/step - loss: 35791593472.0000 - val_loss: 31888912384.0000\n",
      "Epoch 65/100\n",
      "254/254 [==============================] - 0s 2ms/step - loss: 35727634432.0000 - val_loss: 31817682944.0000\n",
      "Epoch 66/100\n",
      "254/254 [==============================] - 0s 2ms/step - loss: 35631775744.0000 - val_loss: 31762534400.0000\n",
      "Epoch 67/100\n",
      "254/254 [==============================] - 0s 2ms/step - loss: 35597385728.0000 - val_loss: 31690541056.0000\n",
      "Epoch 68/100\n",
      "254/254 [==============================] - 0s 2ms/step - loss: 35525664768.0000 - val_loss: 31658354688.0000\n",
      "Epoch 69/100\n",
      "254/254 [==============================] - 0s 2ms/step - loss: 35446661120.0000 - val_loss: 31585323008.0000\n",
      "Epoch 70/100\n",
      "254/254 [==============================] - 0s 2ms/step - loss: 35405361152.0000 - val_loss: 31540090880.0000\n",
      "Epoch 71/100\n",
      "254/254 [==============================] - 0s 2ms/step - loss: 35299397632.0000 - val_loss: 31497670656.0000\n",
      "Epoch 72/100\n",
      "254/254 [==============================] - 0s 2ms/step - loss: 35290861568.0000 - val_loss: 31466835968.0000\n",
      "Epoch 73/100\n",
      "254/254 [==============================] - 0s 2ms/step - loss: 35236888576.0000 - val_loss: 31398064128.0000\n",
      "Epoch 74/100\n",
      "254/254 [==============================] - 0s 2ms/step - loss: 35169488896.0000 - val_loss: 31404898304.0000\n",
      "Epoch 75/100\n",
      "254/254 [==============================] - 0s 2ms/step - loss: 35124092928.0000 - val_loss: 31324483584.0000\n",
      "Epoch 76/100\n",
      "254/254 [==============================] - 0s 2ms/step - loss: 35052756992.0000 - val_loss: 31305820160.0000\n",
      "Epoch 77/100\n",
      "254/254 [==============================] - 0s 2ms/step - loss: 35017154560.0000 - val_loss: 31212283904.0000\n",
      "Epoch 78/100\n",
      "254/254 [==============================] - 0s 2ms/step - loss: 34974822400.0000 - val_loss: 31161686016.0000\n",
      "Epoch 79/100\n",
      "254/254 [==============================] - 0s 2ms/step - loss: 34921717760.0000 - val_loss: 31144615936.0000\n",
      "Epoch 80/100\n",
      "254/254 [==============================] - 0s 2ms/step - loss: 34877755392.0000 - val_loss: 31099994112.0000\n",
      "Epoch 81/100\n",
      "254/254 [==============================] - 0s 2ms/step - loss: 34816065536.0000 - val_loss: 31052857344.0000\n",
      "Epoch 82/100\n",
      "254/254 [==============================] - 0s 2ms/step - loss: 34761900032.0000 - val_loss: 31024666624.0000\n",
      "Epoch 83/100\n",
      "254/254 [==============================] - 0s 2ms/step - loss: 34735779840.0000 - val_loss: 30977398784.0000\n",
      "Epoch 84/100\n",
      "254/254 [==============================] - 0s 2ms/step - loss: 34691391488.0000 - val_loss: 30982100992.0000\n",
      "Epoch 85/100\n",
      "254/254 [==============================] - 0s 2ms/step - loss: 34646851584.0000 - val_loss: 30935164928.0000\n",
      "Epoch 86/100\n",
      "254/254 [==============================] - 0s 2ms/step - loss: 34613436416.0000 - val_loss: 30926536704.0000\n",
      "Epoch 87/100\n",
      "254/254 [==============================] - 0s 2ms/step - loss: 34575462400.0000 - val_loss: 30866429952.0000\n",
      "Epoch 88/100\n",
      "254/254 [==============================] - 0s 2ms/step - loss: 34535227392.0000 - val_loss: 30825238528.0000\n",
      "Epoch 89/100\n",
      "254/254 [==============================] - 0s 2ms/step - loss: 34492911616.0000 - val_loss: 30794366976.0000\n",
      "Epoch 90/100\n",
      "254/254 [==============================] - 0s 2ms/step - loss: 34445840384.0000 - val_loss: 30768953344.0000\n",
      "Epoch 91/100\n",
      "254/254 [==============================] - 0s 2ms/step - loss: 34428747776.0000 - val_loss: 30727636992.0000\n",
      "Epoch 92/100\n",
      "254/254 [==============================] - 0s 2ms/step - loss: 34380124160.0000 - val_loss: 30737707008.0000\n",
      "Epoch 93/100\n",
      "254/254 [==============================] - 0s 2ms/step - loss: 34349400064.0000 - val_loss: 30701039616.0000\n",
      "Epoch 94/100\n",
      "254/254 [==============================] - 0s 2ms/step - loss: 34309187584.0000 - val_loss: 30675023872.0000\n",
      "Epoch 95/100\n",
      "254/254 [==============================] - 0s 2ms/step - loss: 34267379712.0000 - val_loss: 30639900672.0000\n",
      "Epoch 96/100\n",
      "254/254 [==============================] - 0s 2ms/step - loss: 34254825472.0000 - val_loss: 30623574016.0000\n",
      "Epoch 97/100\n",
      "254/254 [==============================] - 0s 2ms/step - loss: 34219087872.0000 - val_loss: 30596372480.0000\n",
      "Epoch 98/100\n",
      "254/254 [==============================] - 0s 2ms/step - loss: 34162075648.0000 - val_loss: 30592305152.0000\n",
      "Epoch 99/100\n",
      "254/254 [==============================] - 0s 2ms/step - loss: 34144903168.0000 - val_loss: 30542778368.0000\n",
      "Epoch 100/100\n",
      "254/254 [==============================] - 0s 2ms/step - loss: 34118041600.0000 - val_loss: 30544816128.0000\n",
      "127/127 [==============================] - 0s 1ms/step - loss: 36436123648.0000\n",
      "[CV] END learning_rate=2.0514011359667594e-09, n_hidden=1, n_neurons=56; total time=  42.2s\n",
      "Epoch 1/100\n",
      "254/254 [==============================] - 1s 2ms/step - loss: 425875046400.0000 - val_loss: 416633585664.0000\n",
      "Epoch 2/100\n",
      "254/254 [==============================] - 0s 2ms/step - loss: 425868394496.0000 - val_loss: 416622215168.0000\n",
      "Epoch 3/100\n",
      "254/254 [==============================] - 0s 2ms/step - loss: 425841819648.0000 - val_loss: 416571260928.0000\n",
      "Epoch 4/100\n",
      "254/254 [==============================] - 0s 2ms/step - loss: 425712386048.0000 - val_loss: 416313147392.0000\n",
      "Epoch 5/100\n",
      "254/254 [==============================] - 0s 2ms/step - loss: 425043984384.0000 - val_loss: 414983389184.0000\n",
      "Epoch 6/100\n",
      "254/254 [==============================] - 0s 2ms/step - loss: 421611110400.0000 - val_loss: 408216338432.0000\n",
      "Epoch 7/100\n",
      "254/254 [==============================] - 0s 2ms/step - loss: 404895465472.0000 - val_loss: 376662786048.0000\n",
      "Epoch 8/100\n",
      "254/254 [==============================] - 0s 2ms/step - loss: 340677296128.0000 - val_loss: 276814528512.0000\n",
      "Epoch 9/100\n",
      "254/254 [==============================] - 0s 2ms/step - loss: 218497548288.0000 - val_loss: 163378642944.0000\n",
      "Epoch 10/100\n",
      "254/254 [==============================] - 0s 2ms/step - loss: 145200578560.0000 - val_loss: 127065964544.0000\n",
      "Epoch 11/100\n",
      "254/254 [==============================] - 0s 2ms/step - loss: 123174346752.0000 - val_loss: 109249626112.0000\n",
      "Epoch 12/100\n",
      "254/254 [==============================] - 0s 2ms/step - loss: 106786570240.0000 - val_loss: 91239202816.0000\n",
      "Epoch 13/100\n",
      "254/254 [==============================] - 0s 2ms/step - loss: 89515917312.0000 - val_loss: 73066307584.0000\n",
      "Epoch 14/100\n",
      "254/254 [==============================] - 0s 2ms/step - loss: 72798625792.0000 - val_loss: 56640335872.0000\n",
      "Epoch 15/100\n",
      "254/254 [==============================] - 0s 2ms/step - loss: 58957524992.0000 - val_loss: 45522280448.0000\n",
      "Epoch 16/100\n",
      "254/254 [==============================] - 0s 2ms/step - loss: 50824278016.0000 - val_loss: 40241201152.0000\n",
      "Epoch 17/100\n",
      "254/254 [==============================] - 0s 2ms/step - loss: 46913912832.0000 - val_loss: 37860069376.0000\n",
      "Epoch 18/100\n",
      "254/254 [==============================] - 0s 2ms/step - loss: 45220446208.0000 - val_loss: 36755357696.0000\n",
      "Epoch 19/100\n",
      "254/254 [==============================] - 0s 2ms/step - loss: 44351270912.0000 - val_loss: 36251619328.0000\n",
      "Epoch 20/100\n",
      "254/254 [==============================] - 0s 2ms/step - loss: 43902672896.0000 - val_loss: 35911872512.0000\n",
      "Epoch 21/100\n",
      "254/254 [==============================] - 0s 2ms/step - loss: 43560140800.0000 - val_loss: 35717246976.0000\n",
      "Epoch 22/100\n",
      "254/254 [==============================] - 0s 2ms/step - loss: 43266957312.0000 - val_loss: 35577446400.0000\n",
      "Epoch 23/100\n",
      "254/254 [==============================] - 0s 2ms/step - loss: 43147350016.0000 - val_loss: 35404234752.0000\n",
      "Epoch 24/100\n",
      "254/254 [==============================] - 0s 2ms/step - loss: 43004080128.0000 - val_loss: 35269550080.0000\n",
      "Epoch 25/100\n",
      "254/254 [==============================] - 0s 2ms/step - loss: 42789388288.0000 - val_loss: 35154587648.0000\n",
      "Epoch 26/100\n",
      "254/254 [==============================] - 0s 2ms/step - loss: 42661687296.0000 - val_loss: 35015749632.0000\n",
      "Epoch 27/100\n",
      "254/254 [==============================] - 0s 2ms/step - loss: 42508754944.0000 - val_loss: 34884730880.0000\n",
      "Epoch 28/100\n",
      "254/254 [==============================] - 0s 2ms/step - loss: 42376028160.0000 - val_loss: 34788052992.0000\n",
      "Epoch 29/100\n",
      "254/254 [==============================] - 0s 2ms/step - loss: 42232508416.0000 - val_loss: 34705358848.0000\n",
      "Epoch 30/100\n",
      "254/254 [==============================] - 0s 2ms/step - loss: 42151890944.0000 - val_loss: 34546823168.0000\n",
      "Epoch 31/100\n",
      "254/254 [==============================] - 0s 2ms/step - loss: 41996808192.0000 - val_loss: 34445684736.0000\n",
      "Epoch 32/100\n",
      "254/254 [==============================] - 0s 2ms/step - loss: 41890938880.0000 - val_loss: 34354937856.0000\n",
      "Epoch 33/100\n",
      "254/254 [==============================] - 0s 2ms/step - loss: 41702449152.0000 - val_loss: 34277240832.0000\n",
      "Epoch 34/100\n",
      "254/254 [==============================] - 0s 2ms/step - loss: 41654231040.0000 - val_loss: 34127054848.0000\n",
      "Epoch 35/100\n",
      "254/254 [==============================] - 0s 2ms/step - loss: 41535221760.0000 - val_loss: 34012882944.0000\n",
      "Epoch 36/100\n",
      "254/254 [==============================] - 0s 2ms/step - loss: 41391013888.0000 - val_loss: 33943095296.0000\n",
      "Epoch 37/100\n",
      "254/254 [==============================] - 0s 2ms/step - loss: 41328115712.0000 - val_loss: 33802960896.0000\n",
      "Epoch 38/100\n",
      "254/254 [==============================] - 0s 2ms/step - loss: 41195597824.0000 - val_loss: 33704841216.0000\n",
      "Epoch 39/100\n",
      "254/254 [==============================] - 0s 2ms/step - loss: 41098125312.0000 - val_loss: 33610385408.0000\n",
      "Epoch 40/100\n",
      "254/254 [==============================] - 0s 2ms/step - loss: 40951857152.0000 - val_loss: 33533452288.0000\n",
      "Epoch 41/100\n",
      "254/254 [==============================] - 0s 2ms/step - loss: 40826716160.0000 - val_loss: 33437425664.0000\n",
      "Epoch 42/100\n",
      "254/254 [==============================] - 0s 2ms/step - loss: 40661946368.0000 - val_loss: 33345282048.0000\n",
      "Epoch 43/100\n",
      "254/254 [==============================] - 0s 2ms/step - loss: 40621195264.0000 - val_loss: 33258952704.0000\n",
      "Epoch 44/100\n",
      "254/254 [==============================] - 0s 2ms/step - loss: 40507625472.0000 - val_loss: 33133752320.0000\n",
      "Epoch 45/100\n",
      "254/254 [==============================] - 0s 2ms/step - loss: 40368496640.0000 - val_loss: 33072502784.0000\n",
      "Epoch 46/100\n",
      "254/254 [==============================] - 0s 2ms/step - loss: 40302145536.0000 - val_loss: 32949360640.0000\n",
      "Epoch 47/100\n",
      "254/254 [==============================] - 0s 2ms/step - loss: 40173223936.0000 - val_loss: 32885489664.0000\n",
      "Epoch 48/100\n",
      "254/254 [==============================] - 0s 2ms/step - loss: 40091242496.0000 - val_loss: 32793729024.0000\n",
      "Epoch 49/100\n",
      "254/254 [==============================] - 0s 2ms/step - loss: 39979495424.0000 - val_loss: 32709933056.0000\n",
      "Epoch 50/100\n",
      "254/254 [==============================] - 0s 2ms/step - loss: 39874408448.0000 - val_loss: 32637517824.0000\n",
      "Epoch 51/100\n",
      "254/254 [==============================] - 0s 2ms/step - loss: 39749099520.0000 - val_loss: 32555067392.0000\n",
      "Epoch 52/100\n",
      "254/254 [==============================] - 0s 2ms/step - loss: 39641505792.0000 - val_loss: 32481693696.0000\n",
      "Epoch 53/100\n",
      "254/254 [==============================] - 1s 2ms/step - loss: 39514423296.0000 - val_loss: 32376354816.0000\n",
      "Epoch 54/100\n",
      "254/254 [==============================] - 0s 2ms/step - loss: 39450374144.0000 - val_loss: 32273485824.0000\n",
      "Epoch 55/100\n",
      "254/254 [==============================] - 0s 2ms/step - loss: 39340253184.0000 - val_loss: 32212889600.0000\n",
      "Epoch 56/100\n",
      "254/254 [==============================] - 0s 2ms/step - loss: 39247138816.0000 - val_loss: 32126875648.0000\n",
      "Epoch 57/100\n",
      "254/254 [==============================] - 0s 2ms/step - loss: 39168081920.0000 - val_loss: 32071145472.0000\n",
      "Epoch 58/100\n",
      "254/254 [==============================] - 0s 2ms/step - loss: 39071727616.0000 - val_loss: 31990259712.0000\n",
      "Epoch 59/100\n",
      "254/254 [==============================] - 0s 2ms/step - loss: 38989410304.0000 - val_loss: 31937370112.0000\n",
      "Epoch 60/100\n",
      "254/254 [==============================] - 0s 2ms/step - loss: 38891823104.0000 - val_loss: 31859343360.0000\n",
      "Epoch 61/100\n",
      "254/254 [==============================] - 0s 2ms/step - loss: 38801174528.0000 - val_loss: 31818246144.0000\n",
      "Epoch 62/100\n",
      "254/254 [==============================] - 0s 2ms/step - loss: 38721409024.0000 - val_loss: 31727572992.0000\n",
      "Epoch 63/100\n",
      "254/254 [==============================] - 0s 2ms/step - loss: 38608384000.0000 - val_loss: 31682957312.0000\n",
      "Epoch 64/100\n",
      "254/254 [==============================] - 0s 2ms/step - loss: 38588522496.0000 - val_loss: 31623227392.0000\n",
      "Epoch 65/100\n",
      "254/254 [==============================] - 0s 2ms/step - loss: 38466551808.0000 - val_loss: 31580065792.0000\n",
      "Epoch 66/100\n",
      "254/254 [==============================] - 0s 2ms/step - loss: 38398496768.0000 - val_loss: 31503960064.0000\n",
      "Epoch 67/100\n",
      "254/254 [==============================] - 0s 2ms/step - loss: 38319742976.0000 - val_loss: 31470804992.0000\n",
      "Epoch 68/100\n",
      "254/254 [==============================] - 0s 2ms/step - loss: 38274023424.0000 - val_loss: 31405897728.0000\n",
      "Epoch 69/100\n",
      "254/254 [==============================] - 0s 2ms/step - loss: 38148431872.0000 - val_loss: 31383474176.0000\n",
      "Epoch 70/100\n",
      "254/254 [==============================] - 0s 2ms/step - loss: 38108827648.0000 - val_loss: 31311321088.0000\n",
      "Epoch 71/100\n",
      "254/254 [==============================] - 0s 2ms/step - loss: 38036320256.0000 - val_loss: 31289960448.0000\n",
      "Epoch 72/100\n",
      "254/254 [==============================] - 0s 2ms/step - loss: 37975293952.0000 - val_loss: 31234906112.0000\n",
      "Epoch 73/100\n",
      "254/254 [==============================] - 0s 2ms/step - loss: 37909647360.0000 - val_loss: 31192895488.0000\n",
      "Epoch 74/100\n",
      "254/254 [==============================] - 0s 2ms/step - loss: 37852409856.0000 - val_loss: 31146479616.0000\n",
      "Epoch 75/100\n",
      "254/254 [==============================] - 0s 2ms/step - loss: 37766639616.0000 - val_loss: 31104839680.0000\n",
      "Epoch 76/100\n",
      "254/254 [==============================] - 0s 2ms/step - loss: 37705650176.0000 - val_loss: 31055437824.0000\n",
      "Epoch 77/100\n",
      "254/254 [==============================] - 0s 2ms/step - loss: 37652697088.0000 - val_loss: 31034775552.0000\n",
      "Epoch 78/100\n",
      "254/254 [==============================] - 0s 2ms/step - loss: 37607993344.0000 - val_loss: 30991722496.0000\n",
      "Epoch 79/100\n",
      "254/254 [==============================] - 0s 2ms/step - loss: 37546106880.0000 - val_loss: 30956044288.0000\n",
      "Epoch 80/100\n",
      "254/254 [==============================] - 0s 2ms/step - loss: 37499723776.0000 - val_loss: 30911225856.0000\n",
      "Epoch 81/100\n",
      "254/254 [==============================] - 0s 2ms/step - loss: 37414432768.0000 - val_loss: 30911330304.0000\n",
      "Epoch 82/100\n",
      "254/254 [==============================] - 0s 2ms/step - loss: 37359271936.0000 - val_loss: 30859827200.0000\n",
      "Epoch 83/100\n",
      "254/254 [==============================] - 0s 2ms/step - loss: 37340815360.0000 - val_loss: 30842843136.0000\n",
      "Epoch 84/100\n",
      "254/254 [==============================] - 0s 2ms/step - loss: 37308035072.0000 - val_loss: 30791960576.0000\n",
      "Epoch 85/100\n",
      "254/254 [==============================] - 0s 2ms/step - loss: 37247922176.0000 - val_loss: 30769358848.0000\n",
      "Epoch 86/100\n",
      "254/254 [==============================] - 0s 2ms/step - loss: 37190287360.0000 - val_loss: 30743904256.0000\n",
      "Epoch 87/100\n",
      "254/254 [==============================] - 0s 2ms/step - loss: 37147582464.0000 - val_loss: 30731706368.0000\n",
      "Epoch 88/100\n",
      "254/254 [==============================] - 0s 2ms/step - loss: 37081219072.0000 - val_loss: 30718418944.0000\n",
      "Epoch 89/100\n",
      "254/254 [==============================] - 0s 2ms/step - loss: 37076185088.0000 - val_loss: 30666153984.0000\n",
      "Epoch 90/100\n",
      "254/254 [==============================] - 0s 2ms/step - loss: 37044453376.0000 - val_loss: 30642589696.0000\n",
      "Epoch 91/100\n",
      "254/254 [==============================] - 0s 2ms/step - loss: 36993466368.0000 - val_loss: 30644666368.0000\n",
      "Epoch 92/100\n",
      "254/254 [==============================] - 0s 2ms/step - loss: 36955185152.0000 - val_loss: 30633394176.0000\n",
      "Epoch 93/100\n",
      "254/254 [==============================] - 0s 2ms/step - loss: 36910776320.0000 - val_loss: 30658867200.0000\n",
      "Epoch 94/100\n",
      "254/254 [==============================] - 0s 2ms/step - loss: 36891791360.0000 - val_loss: 30601029632.0000\n",
      "Epoch 95/100\n",
      "254/254 [==============================] - 0s 2ms/step - loss: 36843565056.0000 - val_loss: 30591029248.0000\n",
      "Epoch 96/100\n",
      "254/254 [==============================] - 0s 2ms/step - loss: 36826271744.0000 - val_loss: 30559031296.0000\n",
      "Epoch 97/100\n",
      "254/254 [==============================] - 0s 2ms/step - loss: 36802093056.0000 - val_loss: 30524956672.0000\n",
      "Epoch 98/100\n",
      "254/254 [==============================] - 0s 2ms/step - loss: 36739551232.0000 - val_loss: 30521774080.0000\n",
      "Epoch 99/100\n",
      "254/254 [==============================] - 0s 2ms/step - loss: 36708139008.0000 - val_loss: 30486937600.0000\n",
      "Epoch 100/100\n",
      "254/254 [==============================] - 0s 2ms/step - loss: 36695818240.0000 - val_loss: 30475696128.0000\n",
      "127/127 [==============================] - 0s 1ms/step - loss: 30732122112.0000\n",
      "[CV] END learning_rate=2.0514011359667594e-09, n_hidden=1, n_neurons=56; total time=  42.4s\n",
      "Epoch 1/100\n",
      "254/254 [==============================] - 1s 2ms/step - loss: 414841962496.0000 - val_loss: 416590888960.0000\n",
      "Epoch 2/100\n",
      "254/254 [==============================] - 1s 2ms/step - loss: 180453343232.0000 - val_loss: 36489981952.0000\n",
      "Epoch 3/100\n",
      "254/254 [==============================] - 0s 2ms/step - loss: 42974171136.0000 - val_loss: 107956207616.0000\n",
      "Epoch 4/100\n",
      "254/254 [==============================] - 0s 2ms/step - loss: 41917210624.0000 - val_loss: 31131467776.0000\n",
      "Epoch 5/100\n",
      "254/254 [==============================] - 0s 2ms/step - loss: 40778334208.0000 - val_loss: 32553039872.0000\n",
      "Epoch 6/100\n",
      "254/254 [==============================] - 0s 2ms/step - loss: 39728984064.0000 - val_loss: 40428048384.0000\n",
      "Epoch 7/100\n",
      "254/254 [==============================] - 0s 2ms/step - loss: 39026438144.0000 - val_loss: 35981234176.0000\n",
      "Epoch 8/100\n",
      "254/254 [==============================] - 0s 2ms/step - loss: 36792193024.0000 - val_loss: 29949470720.0000\n",
      "Epoch 9/100\n",
      "254/254 [==============================] - 0s 2ms/step - loss: 36777881600.0000 - val_loss: 36987293696.0000\n",
      "Epoch 10/100\n",
      "254/254 [==============================] - 0s 2ms/step - loss: 34307966976.0000 - val_loss: 49026813952.0000\n",
      "Epoch 11/100\n",
      "254/254 [==============================] - 0s 2ms/step - loss: 37019742208.0000 - val_loss: 31321540608.0000\n",
      "Epoch 12/100\n",
      "254/254 [==============================] - 0s 2ms/step - loss: 35990269952.0000 - val_loss: 34685345792.0000\n",
      "Epoch 13/100\n",
      "254/254 [==============================] - 0s 2ms/step - loss: 42377625600.0000 - val_loss: 29797437440.0000\n",
      "Epoch 14/100\n",
      "254/254 [==============================] - 0s 2ms/step - loss: 36546600960.0000 - val_loss: 30014873600.0000\n",
      "Epoch 15/100\n",
      "254/254 [==============================] - 0s 2ms/step - loss: 38902583296.0000 - val_loss: 30320574464.0000\n",
      "Epoch 16/100\n",
      "254/254 [==============================] - 0s 2ms/step - loss: 36037857280.0000 - val_loss: 67171979264.0000\n",
      "Epoch 17/100\n",
      "254/254 [==============================] - 0s 2ms/step - loss: 36190507008.0000 - val_loss: 35075661824.0000\n",
      "Epoch 18/100\n",
      "254/254 [==============================] - 0s 2ms/step - loss: 35807588352.0000 - val_loss: 31908257792.0000\n",
      "Epoch 19/100\n",
      "254/254 [==============================] - 0s 2ms/step - loss: 36545736704.0000 - val_loss: 33606815744.0000\n",
      "Epoch 20/100\n",
      "254/254 [==============================] - 0s 2ms/step - loss: 43605250048.0000 - val_loss: 53824290816.0000\n",
      "Epoch 21/100\n",
      "254/254 [==============================] - 0s 2ms/step - loss: 35836661760.0000 - val_loss: 34749530112.0000\n",
      "Epoch 22/100\n",
      "254/254 [==============================] - 0s 2ms/step - loss: 34120839168.0000 - val_loss: 29959655424.0000\n",
      "Epoch 23/100\n",
      "254/254 [==============================] - 0s 2ms/step - loss: 34883428352.0000 - val_loss: 32420630528.0000\n",
      "127/127 [==============================] - 0s 1ms/step - loss: 35396702208.0000\n",
      "[CV] END learning_rate=2.3499337700731124e-09, n_hidden=2, n_neurons=52; total time=  11.0s\n",
      "Epoch 1/100\n",
      "254/254 [==============================] - 1s 2ms/step - loss: 417366605824.0000 - val_loss: 416574930944.0000\n",
      "Epoch 2/100\n",
      "254/254 [==============================] - 0s 2ms/step - loss: 189185736704.0000 - val_loss: 37270130688.0000\n",
      "Epoch 3/100\n",
      "254/254 [==============================] - 0s 2ms/step - loss: 56703582208.0000 - val_loss: 35613384704.0000\n",
      "Epoch 4/100\n",
      "254/254 [==============================] - 0s 2ms/step - loss: 46361059328.0000 - val_loss: 36051832832.0000\n",
      "Epoch 5/100\n",
      "254/254 [==============================] - 0s 2ms/step - loss: 42856538112.0000 - val_loss: 47006515200.0000\n",
      "Epoch 6/100\n",
      "254/254 [==============================] - 0s 2ms/step - loss: 55530074112.0000 - val_loss: 40560410624.0000\n",
      "Epoch 7/100\n",
      "254/254 [==============================] - 0s 2ms/step - loss: 39941914624.0000 - val_loss: 30940370944.0000\n",
      "Epoch 8/100\n",
      "254/254 [==============================] - 0s 2ms/step - loss: 50382348288.0000 - val_loss: 48864153600.0000\n",
      "Epoch 9/100\n",
      "254/254 [==============================] - 0s 2ms/step - loss: 60478128128.0000 - val_loss: 44342140928.0000\n",
      "Epoch 10/100\n",
      "254/254 [==============================] - 0s 2ms/step - loss: 46262235136.0000 - val_loss: 37912428544.0000\n",
      "Epoch 11/100\n",
      "254/254 [==============================] - 0s 2ms/step - loss: 61690404864.0000 - val_loss: 30827937792.0000\n",
      "Epoch 12/100\n",
      "254/254 [==============================] - 0s 2ms/step - loss: 49668808704.0000 - val_loss: 35279958016.0000\n",
      "Epoch 13/100\n",
      "254/254 [==============================] - 0s 2ms/step - loss: 37457702912.0000 - val_loss: 44993679360.0000\n",
      "Epoch 14/100\n",
      "254/254 [==============================] - 0s 2ms/step - loss: 46176280576.0000 - val_loss: 27708430336.0000\n",
      "Epoch 15/100\n",
      "254/254 [==============================] - 0s 2ms/step - loss: 37955878912.0000 - val_loss: 27788060672.0000\n",
      "Epoch 16/100\n",
      "254/254 [==============================] - 0s 2ms/step - loss: 36123328512.0000 - val_loss: 198584336384.0000\n",
      "Epoch 17/100\n",
      "254/254 [==============================] - 0s 2ms/step - loss: 34523418624.0000 - val_loss: 26479706112.0000\n",
      "Epoch 18/100\n",
      "254/254 [==============================] - 0s 2ms/step - loss: 39724437504.0000 - val_loss: 37067976704.0000\n",
      "Epoch 19/100\n",
      "254/254 [==============================] - 1s 2ms/step - loss: 40998469632.0000 - val_loss: 26189225984.0000\n",
      "Epoch 20/100\n",
      "254/254 [==============================] - 0s 2ms/step - loss: 46851055616.0000 - val_loss: 154683703296.0000\n",
      "Epoch 21/100\n",
      "254/254 [==============================] - 0s 2ms/step - loss: 36726407168.0000 - val_loss: 553764454400.0000\n",
      "Epoch 22/100\n",
      "254/254 [==============================] - 0s 2ms/step - loss: 30492219392.0000 - val_loss: 33386725376.0000\n",
      "Epoch 23/100\n",
      "254/254 [==============================] - 0s 2ms/step - loss: 33407062016.0000 - val_loss: 30809597952.0000\n",
      "Epoch 24/100\n",
      "254/254 [==============================] - 0s 2ms/step - loss: 35728601088.0000 - val_loss: 30396563456.0000\n",
      "Epoch 25/100\n",
      "254/254 [==============================] - 0s 2ms/step - loss: 32533123072.0000 - val_loss: 48958296064.0000\n",
      "Epoch 26/100\n",
      "254/254 [==============================] - 0s 2ms/step - loss: 34418372608.0000 - val_loss: 26722371584.0000\n",
      "Epoch 27/100\n",
      "254/254 [==============================] - 0s 2ms/step - loss: 32349661184.0000 - val_loss: 25775462400.0000\n",
      "Epoch 28/100\n",
      "254/254 [==============================] - 0s 2ms/step - loss: 30181474304.0000 - val_loss: 24668977152.0000\n",
      "Epoch 29/100\n",
      "254/254 [==============================] - 0s 2ms/step - loss: 28209512448.0000 - val_loss: 29807779840.0000\n",
      "Epoch 30/100\n",
      "254/254 [==============================] - 0s 2ms/step - loss: 30039490560.0000 - val_loss: 32012935168.0000\n",
      "Epoch 31/100\n",
      "254/254 [==============================] - 0s 2ms/step - loss: 28710965248.0000 - val_loss: 78268506112.0000\n",
      "Epoch 32/100\n",
      "254/254 [==============================] - 0s 2ms/step - loss: 28727150592.0000 - val_loss: 27040587776.0000\n",
      "Epoch 33/100\n",
      "254/254 [==============================] - 0s 2ms/step - loss: 32184915968.0000 - val_loss: 23993636864.0000\n",
      "Epoch 34/100\n",
      "254/254 [==============================] - 0s 2ms/step - loss: 29977214976.0000 - val_loss: 24214020096.0000\n",
      "Epoch 35/100\n",
      "254/254 [==============================] - 0s 2ms/step - loss: 44411510784.0000 - val_loss: 24541409280.0000\n",
      "Epoch 36/100\n",
      "254/254 [==============================] - 0s 2ms/step - loss: 28840273920.0000 - val_loss: 27147137024.0000\n",
      "Epoch 37/100\n",
      "254/254 [==============================] - 1s 2ms/step - loss: 27643860992.0000 - val_loss: 31480473600.0000\n",
      "Epoch 38/100\n",
      "254/254 [==============================] - 0s 2ms/step - loss: 31725142016.0000 - val_loss: 131552182272.0000\n",
      "Epoch 39/100\n",
      "254/254 [==============================] - 0s 2ms/step - loss: 27528994816.0000 - val_loss: 25802424320.0000\n",
      "Epoch 40/100\n",
      "254/254 [==============================] - 0s 2ms/step - loss: 30432411648.0000 - val_loss: 23693529088.0000\n",
      "Epoch 41/100\n",
      "254/254 [==============================] - 0s 2ms/step - loss: 26042898432.0000 - val_loss: 33605347328.0000\n",
      "Epoch 42/100\n",
      "254/254 [==============================] - 0s 2ms/step - loss: 26609422336.0000 - val_loss: 89029320704.0000\n",
      "Epoch 43/100\n",
      "254/254 [==============================] - 0s 2ms/step - loss: 25627090944.0000 - val_loss: 23269980160.0000\n",
      "Epoch 44/100\n",
      "254/254 [==============================] - 0s 2ms/step - loss: 23785138176.0000 - val_loss: 21382567936.0000\n",
      "Epoch 45/100\n",
      "254/254 [==============================] - 0s 2ms/step - loss: 27223365632.0000 - val_loss: 26076868608.0000\n",
      "Epoch 46/100\n",
      "254/254 [==============================] - 0s 2ms/step - loss: 25642776576.0000 - val_loss: 37292437504.0000\n",
      "Epoch 47/100\n",
      "254/254 [==============================] - 0s 2ms/step - loss: 24928083968.0000 - val_loss: 24511850496.0000\n",
      "Epoch 48/100\n",
      "254/254 [==============================] - 0s 2ms/step - loss: 26458515456.0000 - val_loss: 35364388864.0000\n",
      "Epoch 49/100\n",
      "254/254 [==============================] - 0s 2ms/step - loss: 24815278080.0000 - val_loss: 22531538944.0000\n",
      "Epoch 50/100\n",
      "254/254 [==============================] - 0s 2ms/step - loss: 26604855296.0000 - val_loss: 26676729856.0000\n",
      "Epoch 51/100\n",
      "254/254 [==============================] - 0s 2ms/step - loss: 24820809728.0000 - val_loss: 25779867648.0000\n",
      "Epoch 52/100\n",
      "254/254 [==============================] - 0s 2ms/step - loss: 29138257920.0000 - val_loss: 30669598720.0000\n",
      "Epoch 53/100\n",
      "254/254 [==============================] - 0s 2ms/step - loss: 22705557504.0000 - val_loss: 24763181056.0000\n",
      "Epoch 54/100\n",
      "254/254 [==============================] - 0s 2ms/step - loss: 25615814656.0000 - val_loss: 22378035200.0000\n",
      "127/127 [==============================] - 0s 1ms/step - loss: 26585075712.0000\n",
      "[CV] END learning_rate=2.3499337700731124e-09, n_hidden=2, n_neurons=52; total time=  24.9s\n",
      "Epoch 1/100\n",
      "254/254 [==============================] - 1s 2ms/step - loss: 425863544832.0000 - val_loss: 416544489472.0000\n",
      "Epoch 2/100\n",
      "254/254 [==============================] - 0s 2ms/step - loss: 182433890304.0000 - val_loss: 38286503936.0000\n",
      "Epoch 3/100\n",
      "254/254 [==============================] - 0s 2ms/step - loss: 70436216832.0000 - val_loss: 38164254720.0000\n",
      "Epoch 4/100\n",
      "254/254 [==============================] - 0s 2ms/step - loss: 69863776256.0000 - val_loss: 44413136896.0000\n",
      "Epoch 5/100\n",
      "254/254 [==============================] - 0s 2ms/step - loss: 46509133824.0000 - val_loss: 47365824512.0000\n",
      "Epoch 6/100\n",
      "254/254 [==============================] - 0s 2ms/step - loss: 109127737344.0000 - val_loss: 38679506944.0000\n",
      "Epoch 7/100\n",
      "254/254 [==============================] - 0s 2ms/step - loss: 52601749504.0000 - val_loss: 30460952576.0000\n",
      "Epoch 8/100\n",
      "254/254 [==============================] - 0s 2ms/step - loss: 50318249984.0000 - val_loss: 55377182720.0000\n",
      "Epoch 9/100\n",
      "254/254 [==============================] - 0s 2ms/step - loss: 45584748544.0000 - val_loss: 33394388992.0000\n",
      "Epoch 10/100\n",
      "254/254 [==============================] - 0s 2ms/step - loss: 41750351872.0000 - val_loss: 47737049088.0000\n",
      "Epoch 11/100\n",
      "254/254 [==============================] - 0s 2ms/step - loss: 43557220352.0000 - val_loss: 45766459392.0000\n",
      "Epoch 12/100\n",
      "254/254 [==============================] - 0s 2ms/step - loss: 38448758784.0000 - val_loss: 32907284480.0000\n",
      "Epoch 13/100\n",
      "254/254 [==============================] - 0s 2ms/step - loss: 39358197760.0000 - val_loss: 68998496256.0000\n",
      "Epoch 14/100\n",
      "254/254 [==============================] - 0s 2ms/step - loss: 38985445376.0000 - val_loss: 31205947392.0000\n",
      "Epoch 15/100\n",
      "254/254 [==============================] - 0s 2ms/step - loss: 47342968832.0000 - val_loss: 32091453440.0000\n",
      "Epoch 16/100\n",
      "254/254 [==============================] - 0s 2ms/step - loss: 37420593152.0000 - val_loss: 671787909120.0000\n",
      "Epoch 17/100\n",
      "254/254 [==============================] - 0s 2ms/step - loss: 43527045120.0000 - val_loss: 30304475136.0000\n",
      "Epoch 18/100\n",
      "254/254 [==============================] - 0s 2ms/step - loss: 37151297536.0000 - val_loss: 33307197440.0000\n",
      "Epoch 19/100\n",
      "254/254 [==============================] - 0s 2ms/step - loss: 39465439232.0000 - val_loss: 30323585024.0000\n",
      "Epoch 20/100\n",
      "254/254 [==============================] - 0s 2ms/step - loss: 36829626368.0000 - val_loss: 51692126208.0000\n",
      "Epoch 21/100\n",
      "254/254 [==============================] - 0s 2ms/step - loss: 43692331008.0000 - val_loss: 596826062848.0000\n",
      "Epoch 22/100\n",
      "254/254 [==============================] - 0s 2ms/step - loss: 44371980288.0000 - val_loss: 66464694272.0000\n",
      "Epoch 23/100\n",
      "254/254 [==============================] - 0s 2ms/step - loss: 41880276992.0000 - val_loss: 52561399808.0000\n",
      "Epoch 24/100\n",
      "254/254 [==============================] - 0s 2ms/step - loss: 42132807680.0000 - val_loss: 31778330624.0000\n",
      "Epoch 25/100\n",
      "254/254 [==============================] - 0s 2ms/step - loss: 38261706752.0000 - val_loss: 32454496256.0000\n",
      "Epoch 26/100\n",
      "254/254 [==============================] - 0s 2ms/step - loss: 37753602048.0000 - val_loss: 30631047168.0000\n",
      "Epoch 27/100\n",
      "254/254 [==============================] - 0s 2ms/step - loss: 38787297280.0000 - val_loss: 33469007872.0000\n",
      "127/127 [==============================] - 0s 1ms/step - loss: 33465223168.0000\n",
      "[CV] END learning_rate=2.3499337700731124e-09, n_hidden=2, n_neurons=52; total time=  12.5s\n",
      "Epoch 1/100\n",
      "254/254 [==============================] - 1s 2ms/step - loss: 406085337088.0000 - val_loss: 416634699776.0000\n",
      "Epoch 2/100\n",
      "254/254 [==============================] - 0s 2ms/step - loss: 411646820352.0000 - val_loss: 416632438784.0000\n",
      "Epoch 3/100\n",
      "254/254 [==============================] - 0s 2ms/step - loss: 414843371520.0000 - val_loss: 416629260288.0000\n",
      "Epoch 4/100\n",
      "254/254 [==============================] - 0s 2ms/step - loss: 404686667776.0000 - val_loss: 416627097600.0000\n",
      "Epoch 5/100\n",
      "254/254 [==============================] - 0s 2ms/step - loss: 414837866496.0000 - val_loss: 416624050176.0000\n",
      "Epoch 6/100\n",
      "254/254 [==============================] - 0s 2ms/step - loss: 414835212288.0000 - val_loss: 416620969984.0000\n",
      "Epoch 7/100\n",
      "254/254 [==============================] - 0s 2ms/step - loss: 408357470208.0000 - val_loss: 416618774528.0000\n",
      "Epoch 8/100\n",
      "254/254 [==============================] - 0s 2ms/step - loss: 414829477888.0000 - val_loss: 416615170048.0000\n",
      "Epoch 9/100\n",
      "254/254 [==============================] - 0s 2ms/step - loss: 412905832448.0000 - val_loss: 199530872832.0000\n",
      "Epoch 10/100\n",
      "254/254 [==============================] - 0s 2ms/step - loss: 367518089216.0000 - val_loss: 416610156544.0000\n",
      "Epoch 11/100\n",
      "254/254 [==============================] - 0s 2ms/step - loss: 414821318656.0000 - val_loss: 416607010816.0000\n",
      "Epoch 12/100\n",
      "254/254 [==============================] - 0s 2ms/step - loss: 414818238464.0000 - val_loss: 416604192768.0000\n",
      "Epoch 13/100\n",
      "254/254 [==============================] - 0s 2ms/step - loss: 414815223808.0000 - val_loss: 416601473024.0000\n",
      "Epoch 14/100\n",
      "254/254 [==============================] - 0s 2ms/step - loss: 404039761920.0000 - val_loss: 416599506944.0000\n",
      "Epoch 15/100\n",
      "254/254 [==============================] - 0s 2ms/step - loss: 414810406912.0000 - val_loss: 416596197376.0000\n",
      "Epoch 16/100\n",
      "254/254 [==============================] - 1s 2ms/step - loss: 390360432640.0000 - val_loss: 416595214336.0000\n",
      "Epoch 17/100\n",
      "254/254 [==============================] - 0s 2ms/step - loss: 414805229568.0000 - val_loss: 416590921728.0000\n",
      "Epoch 18/100\n",
      "254/254 [==============================] - 0s 2ms/step - loss: 404511096832.0000 - val_loss: 416589709312.0000\n",
      "Epoch 19/100\n",
      "254/254 [==============================] - 0s 2ms/step - loss: 414800084992.0000 - val_loss: 416585383936.0000\n",
      "127/127 [==============================] - 0s 1ms/step - loss: 428351160320.0000\n",
      "[CV] END learning_rate=9.644600968977157e-09, n_hidden=2, n_neurons=29; total time=   9.0s\n",
      "Epoch 1/100\n",
      "254/254 [==============================] - 1s 2ms/step - loss: 382402330624.0000 - val_loss: 345077383168.0000\n",
      "Epoch 2/100\n",
      "254/254 [==============================] - 0s 2ms/step - loss: 378820919296.0000 - val_loss: 416637026304.0000\n",
      "Epoch 3/100\n",
      "254/254 [==============================] - 0s 2ms/step - loss: 417371815936.0000 - val_loss: 416630276096.0000\n",
      "Epoch 4/100\n",
      "254/254 [==============================] - 0s 2ms/step - loss: 417367556096.0000 - val_loss: 416627392512.0000\n",
      "Epoch 5/100\n",
      "254/254 [==============================] - 0s 2ms/step - loss: 417364574208.0000 - val_loss: 416624377856.0000\n",
      "Epoch 6/100\n",
      "254/254 [==============================] - 0s 2ms/step - loss: 417361723392.0000 - val_loss: 416621461504.0000\n",
      "Epoch 7/100\n",
      "254/254 [==============================] - 0s 2ms/step - loss: 417358872576.0000 - val_loss: 416618708992.0000\n",
      "Epoch 8/100\n",
      "254/254 [==============================] - 0s 2ms/step - loss: 424374403072.0000 - val_loss: 416632471552.0000\n",
      "Epoch 9/100\n",
      "254/254 [==============================] - 0s 2ms/step - loss: 391912783872.0000 - val_loss: 289686945792.0000\n",
      "Epoch 10/100\n",
      "254/254 [==============================] - 0s 2ms/step - loss: 292591206400.0000 - val_loss: 272812441600.0000\n",
      "Epoch 11/100\n",
      "254/254 [==============================] - 0s 2ms/step - loss: 277013495808.0000 - val_loss: 268339904512.0000\n",
      "Epoch 12/100\n",
      "254/254 [==============================] - 0s 2ms/step - loss: 322842361856.0000 - val_loss: 196980359168.0000\n",
      "Epoch 13/100\n",
      "254/254 [==============================] - 0s 2ms/step - loss: 414713675776.0000 - val_loss: 416613793792.0000\n",
      "Epoch 14/100\n",
      "254/254 [==============================] - 0s 2ms/step - loss: 417344815104.0000 - val_loss: 416609730560.0000\n",
      "Epoch 15/100\n",
      "254/254 [==============================] - 0s 2ms/step - loss: 417340915712.0000 - val_loss: 416606126080.0000\n",
      "Epoch 16/100\n",
      "254/254 [==============================] - 0s 2ms/step - loss: 417337704448.0000 - val_loss: 416603308032.0000\n",
      "Epoch 17/100\n",
      "254/254 [==============================] - 0s 2ms/step - loss: 417334853632.0000 - val_loss: 416600555520.0000\n",
      "Epoch 18/100\n",
      "254/254 [==============================] - 0s 2ms/step - loss: 417332199424.0000 - val_loss: 416597737472.0000\n",
      "Epoch 19/100\n",
      "254/254 [==============================] - 0s 2ms/step - loss: 417329414144.0000 - val_loss: 416594821120.0000\n",
      "Epoch 20/100\n",
      "254/254 [==============================] - 0s 2ms/step - loss: 417326530560.0000 - val_loss: 416592134144.0000\n",
      "Epoch 21/100\n",
      "254/254 [==============================] - 0s 2ms/step - loss: 417323614208.0000 - val_loss: 416589316096.0000\n",
      "Epoch 22/100\n",
      "254/254 [==============================] - 0s 2ms/step - loss: 417320992768.0000 - val_loss: 416586661888.0000\n",
      "127/127 [==============================] - 0s 1ms/step - loss: 423313408000.0000\n",
      "[CV] END learning_rate=9.644600968977157e-09, n_hidden=2, n_neurons=29; total time=  10.3s\n",
      "Epoch 1/100\n",
      "254/254 [==============================] - 1s 2ms/step - loss: 787701760000.0000 - val_loss: 416635158528.0000\n",
      "Epoch 2/100\n",
      "254/254 [==============================] - 0s 2ms/step - loss: 425885007872.0000 - val_loss: 416632242176.0000\n",
      "Epoch 3/100\n",
      "254/254 [==============================] - 0s 2ms/step - loss: 425870000128.0000 - val_loss: 416629161984.0000\n",
      "Epoch 4/100\n",
      "254/254 [==============================] - 0s 2ms/step - loss: 425867378688.0000 - val_loss: 416626573312.0000\n",
      "Epoch 5/100\n",
      "254/254 [==============================] - 0s 2ms/step - loss: 425864298496.0000 - val_loss: 416623722496.0000\n",
      "Epoch 6/100\n",
      "254/254 [==============================] - 0s 2ms/step - loss: 425861349376.0000 - val_loss: 416620642304.0000\n",
      "Epoch 7/100\n",
      "254/254 [==============================] - 0s 2ms/step - loss: 425858564096.0000 - val_loss: 416617988096.0000\n",
      "Epoch 8/100\n",
      "254/254 [==============================] - 0s 2ms/step - loss: 425855877120.0000 - val_loss: 416615137280.0000\n",
      "Epoch 9/100\n",
      "254/254 [==============================] - 0s 2ms/step - loss: 425852993536.0000 - val_loss: 416612220928.0000\n",
      "Epoch 10/100\n",
      "254/254 [==============================] - 0s 2ms/step - loss: 425850142720.0000 - val_loss: 416609337344.0000\n",
      "Epoch 11/100\n",
      "254/254 [==============================] - 0s 2ms/step - loss: 426335174656.0000 - val_loss: 416606617600.0000\n",
      "Epoch 12/100\n",
      "254/254 [==============================] - 0s 2ms/step - loss: 425844473856.0000 - val_loss: 416603668480.0000\n",
      "Epoch 13/100\n",
      "254/254 [==============================] - 0s 2ms/step - loss: 425841655808.0000 - val_loss: 416600948736.0000\n",
      "Epoch 14/100\n",
      "254/254 [==============================] - 0s 2ms/step - loss: 425838870528.0000 - val_loss: 416597934080.0000\n",
      "Epoch 15/100\n",
      "254/254 [==============================] - 1s 2ms/step - loss: 425835855872.0000 - val_loss: 416595181568.0000\n",
      "Epoch 16/100\n",
      "254/254 [==============================] - 0s 2ms/step - loss: 425832906752.0000 - val_loss: 416592429056.0000\n",
      "Epoch 17/100\n",
      "254/254 [==============================] - 0s 2ms/step - loss: 425830088704.0000 - val_loss: 416589578240.0000\n",
      "Epoch 18/100\n",
      "254/254 [==============================] - 0s 2ms/step - loss: 425827565568.0000 - val_loss: 416586563584.0000\n",
      "Epoch 19/100\n",
      "254/254 [==============================] - 0s 2ms/step - loss: 425824583680.0000 - val_loss: 416583811072.0000\n",
      "Epoch 20/100\n",
      "254/254 [==============================] - 0s 2ms/step - loss: 425684008960.0000 - val_loss: 416580993024.0000\n",
      "Epoch 21/100\n",
      "254/254 [==============================] - 0s 2ms/step - loss: 425818980352.0000 - val_loss: 416578174976.0000\n",
      "Epoch 22/100\n",
      "254/254 [==============================] - 0s 2ms/step - loss: 429332332544.0000 - val_loss: 416575291392.0000\n",
      "Epoch 23/100\n",
      "254/254 [==============================] - 0s 2ms/step - loss: 425813082112.0000 - val_loss: 416572440576.0000\n",
      "Epoch 24/100\n",
      "254/254 [==============================] - 0s 2ms/step - loss: 425810460672.0000 - val_loss: 416569524224.0000\n",
      "Epoch 25/100\n",
      "254/254 [==============================] - 0s 2ms/step - loss: 425807511552.0000 - val_loss: 416566837248.0000\n",
      "Epoch 26/100\n",
      "254/254 [==============================] - 0s 2ms/step - loss: 425804562432.0000 - val_loss: 416563920896.0000\n",
      "Epoch 27/100\n",
      "254/254 [==============================] - 0s 2ms/step - loss: 425801875456.0000 - val_loss: 416561037312.0000\n",
      "Epoch 28/100\n",
      "254/254 [==============================] - 0s 2ms/step - loss: 425798926336.0000 - val_loss: 416558317568.0000\n",
      "Epoch 29/100\n",
      "254/254 [==============================] - 0s 2ms/step - loss: 425796141056.0000 - val_loss: 416555335680.0000\n",
      "Epoch 30/100\n",
      "254/254 [==============================] - 0s 2ms/step - loss: 425793323008.0000 - val_loss: 416552583168.0000\n",
      "Epoch 31/100\n",
      "254/254 [==============================] - 0s 2ms/step - loss: 425790668800.0000 - val_loss: 416549765120.0000\n",
      "Epoch 32/100\n",
      "254/254 [==============================] - 0s 2ms/step - loss: 425788014592.0000 - val_loss: 416546816000.0000\n",
      "Epoch 33/100\n",
      "254/254 [==============================] - 0s 2ms/step - loss: 425784868864.0000 - val_loss: 416544030720.0000\n",
      "Epoch 34/100\n",
      "254/254 [==============================] - 0s 2ms/step - loss: 425781985280.0000 - val_loss: 416541179904.0000\n",
      "Epoch 35/100\n",
      "254/254 [==============================] - 0s 2ms/step - loss: 425779101696.0000 - val_loss: 416538361856.0000\n",
      "Epoch 36/100\n",
      "254/254 [==============================] - 0s 2ms/step - loss: 425776513024.0000 - val_loss: 416535379968.0000\n",
      "Epoch 37/100\n",
      "254/254 [==============================] - 0s 2ms/step - loss: 425773563904.0000 - val_loss: 416532856832.0000\n",
      "Epoch 38/100\n",
      "254/254 [==============================] - 0s 2ms/step - loss: 425770844160.0000 - val_loss: 416529842176.0000\n",
      "Epoch 39/100\n",
      "254/254 [==============================] - 0s 2ms/step - loss: 425767895040.0000 - val_loss: 416526925824.0000\n",
      "Epoch 40/100\n",
      "254/254 [==============================] - 0s 2ms/step - loss: 425765076992.0000 - val_loss: 416524173312.0000\n",
      "Epoch 41/100\n",
      "254/254 [==============================] - 0s 2ms/step - loss: 425762422784.0000 - val_loss: 416521420800.0000\n",
      "Epoch 42/100\n",
      "254/254 [==============================] - 0s 2ms/step - loss: 479628394496.0000 - val_loss: 416518406144.0000\n",
      "Epoch 43/100\n",
      "254/254 [==============================] - 0s 2ms/step - loss: 425756655616.0000 - val_loss: 416515588096.0000\n",
      "Epoch 44/100\n",
      "254/254 [==============================] - 0s 2ms/step - loss: 425753706496.0000 - val_loss: 416512868352.0000\n",
      "Epoch 45/100\n",
      "254/254 [==============================] - 0s 2ms/step - loss: 425750790144.0000 - val_loss: 416509886464.0000\n",
      "Epoch 46/100\n",
      "254/254 [==============================] - 0s 2ms/step - loss: 425748135936.0000 - val_loss: 416507068416.0000\n",
      "Epoch 47/100\n",
      "254/254 [==============================] - 0s 2ms/step - loss: 425745383424.0000 - val_loss: 416504315904.0000\n",
      "Epoch 48/100\n",
      "254/254 [==============================] - 0s 2ms/step - loss: 425742401536.0000 - val_loss: 416501465088.0000\n",
      "Epoch 49/100\n",
      "254/254 [==============================] - 0s 2ms/step - loss: 425739386880.0000 - val_loss: 416498647040.0000\n",
      "Epoch 50/100\n",
      "254/254 [==============================] - 0s 2ms/step - loss: 425736699904.0000 - val_loss: 416495730688.0000\n",
      "Epoch 51/100\n",
      "254/254 [==============================] - 0s 2ms/step - loss: 425734012928.0000 - val_loss: 416493109248.0000\n",
      "Epoch 52/100\n",
      "254/254 [==============================] - 0s 2ms/step - loss: 425731129344.0000 - val_loss: 416490061824.0000\n",
      "Epoch 53/100\n",
      "254/254 [==============================] - 0s 2ms/step - loss: 425728507904.0000 - val_loss: 416487178240.0000\n",
      "Epoch 54/100\n",
      "254/254 [==============================] - 0s 2ms/step - loss: 425725427712.0000 - val_loss: 416484327424.0000\n",
      "Epoch 55/100\n",
      "254/254 [==============================] - 0s 2ms/step - loss: 425722478592.0000 - val_loss: 416481640448.0000\n",
      "Epoch 56/100\n",
      "254/254 [==============================] - 0s 2ms/step - loss: 425719726080.0000 - val_loss: 416478625792.0000\n",
      "Epoch 57/100\n",
      "254/254 [==============================] - 1s 2ms/step - loss: 425717104640.0000 - val_loss: 416475774976.0000\n",
      "Epoch 58/100\n",
      "254/254 [==============================] - 0s 2ms/step - loss: 425713991680.0000 - val_loss: 416473088000.0000\n",
      "Epoch 59/100\n",
      "254/254 [==============================] - 0s 2ms/step - loss: 425711075328.0000 - val_loss: 416470237184.0000\n",
      "Epoch 60/100\n",
      "254/254 [==============================] - 0s 2ms/step - loss: 425708388352.0000 - val_loss: 416467419136.0000\n",
      "Epoch 61/100\n",
      "254/254 [==============================] - 1s 2ms/step - loss: 425705766912.0000 - val_loss: 416464535552.0000\n",
      "Epoch 62/100\n",
      "254/254 [==============================] - 0s 2ms/step - loss: 425702817792.0000 - val_loss: 416461553664.0000\n",
      "Epoch 63/100\n",
      "254/254 [==============================] - 0s 2ms/step - loss: 425699901440.0000 - val_loss: 416458866688.0000\n",
      "Epoch 64/100\n",
      "254/254 [==============================] - 0s 2ms/step - loss: 425696952320.0000 - val_loss: 416455983104.0000\n",
      "Epoch 65/100\n",
      "254/254 [==============================] - 0s 2ms/step - loss: 425694298112.0000 - val_loss: 416453132288.0000\n",
      "Epoch 66/100\n",
      "254/254 [==============================] - 0s 2ms/step - loss: 425691119616.0000 - val_loss: 416450379776.0000\n",
      "Epoch 67/100\n",
      "254/254 [==============================] - 0s 2ms/step - loss: 425688662016.0000 - val_loss: 416447365120.0000\n",
      "Epoch 68/100\n",
      "254/254 [==============================] - 0s 2ms/step - loss: 425685712896.0000 - val_loss: 416444547072.0000\n",
      "Epoch 69/100\n",
      "254/254 [==============================] - 0s 2ms/step - loss: 425683222528.0000 - val_loss: 416441696256.0000\n",
      "Epoch 70/100\n",
      "254/254 [==============================] - 0s 2ms/step - loss: 425680044032.0000 - val_loss: 416438845440.0000\n",
      "Epoch 71/100\n",
      "254/254 [==============================] - 0s 2ms/step - loss: 425677291520.0000 - val_loss: 416436224000.0000\n",
      "Epoch 72/100\n",
      "254/254 [==============================] - 0s 2ms/step - loss: 425674375168.0000 - val_loss: 416433143808.0000\n",
      "Epoch 73/100\n",
      "254/254 [==============================] - 0s 2ms/step - loss: 425671688192.0000 - val_loss: 416430391296.0000\n",
      "Epoch 74/100\n",
      "254/254 [==============================] - 0s 2ms/step - loss: 425668739072.0000 - val_loss: 416427474944.0000\n",
      "Epoch 75/100\n",
      "254/254 [==============================] - 0s 2ms/step - loss: 425665953792.0000 - val_loss: 416424755200.0000\n",
      "Epoch 76/100\n",
      "254/254 [==============================] - 0s 2ms/step - loss: 425662939136.0000 - val_loss: 416421740544.0000\n",
      "Epoch 77/100\n",
      "254/254 [==============================] - 0s 2ms/step - loss: 425660121088.0000 - val_loss: 416419053568.0000\n",
      "Epoch 78/100\n",
      "254/254 [==============================] - 0s 2ms/step - loss: 425657434112.0000 - val_loss: 416416071680.0000\n",
      "Epoch 79/100\n",
      "254/254 [==============================] - 0s 2ms/step - loss: 425654386688.0000 - val_loss: 416413351936.0000\n",
      "Epoch 80/100\n",
      "254/254 [==============================] - 0s 2ms/step - loss: 425651666944.0000 - val_loss: 416410435584.0000\n",
      "Epoch 81/100\n",
      "254/254 [==============================] - 0s 2ms/step - loss: 425648750592.0000 - val_loss: 416407715840.0000\n",
      "Epoch 82/100\n",
      "254/254 [==============================] - 0s 2ms/step - loss: 425646161920.0000 - val_loss: 416404799488.0000\n",
      "Epoch 83/100\n",
      "254/254 [==============================] - 0s 2ms/step - loss: 425643114496.0000 - val_loss: 416401981440.0000\n",
      "Epoch 84/100\n",
      "254/254 [==============================] - 0s 2ms/step - loss: 425640427520.0000 - val_loss: 416399163392.0000\n",
      "Epoch 85/100\n",
      "254/254 [==============================] - 0s 2ms/step - loss: 425637707776.0000 - val_loss: 416396247040.0000\n",
      "Epoch 86/100\n",
      "254/254 [==============================] - 0s 2ms/step - loss: 425634824192.0000 - val_loss: 416393527296.0000\n",
      "Epoch 87/100\n",
      "254/254 [==============================] - 0s 2ms/step - loss: 425632104448.0000 - val_loss: 416390709248.0000\n",
      "Epoch 88/100\n",
      "254/254 [==============================] - 0s 2ms/step - loss: 425629057024.0000 - val_loss: 416387694592.0000\n",
      "Epoch 89/100\n",
      "254/254 [==============================] - 0s 2ms/step - loss: 425626370048.0000 - val_loss: 416384811008.0000\n",
      "Epoch 90/100\n",
      "254/254 [==============================] - 0s 2ms/step - loss: 425623289856.0000 - val_loss: 416382025728.0000\n",
      "Epoch 91/100\n",
      "254/254 [==============================] - 0s 2ms/step - loss: 425620373504.0000 - val_loss: 416379174912.0000\n",
      "Epoch 92/100\n",
      "254/254 [==============================] - 0s 2ms/step - loss: 425618014208.0000 - val_loss: 416376324096.0000\n",
      "Epoch 93/100\n",
      "254/254 [==============================] - 0s 2ms/step - loss: 425614770176.0000 - val_loss: 416373637120.0000\n",
      "Epoch 94/100\n",
      "254/254 [==============================] - 0s 2ms/step - loss: 425612083200.0000 - val_loss: 416370720768.0000\n",
      "Epoch 95/100\n",
      "254/254 [==============================] - 0s 2ms/step - loss: 425609166848.0000 - val_loss: 416367804416.0000\n",
      "Epoch 96/100\n",
      "254/254 [==============================] - 0s 2ms/step - loss: 425606283264.0000 - val_loss: 416365150208.0000\n",
      "Epoch 97/100\n",
      "254/254 [==============================] - 0s 2ms/step - loss: 425603629056.0000 - val_loss: 416362168320.0000\n",
      "Epoch 98/100\n",
      "254/254 [==============================] - 0s 2ms/step - loss: 425600581632.0000 - val_loss: 416359350272.0000\n",
      "Epoch 99/100\n",
      "254/254 [==============================] - 0s 2ms/step - loss: 425597763584.0000 - val_loss: 416356564992.0000\n",
      "Epoch 100/100\n",
      "254/254 [==============================] - 0s 2ms/step - loss: 425595043840.0000 - val_loss: 416353648640.0000\n",
      "127/127 [==============================] - 0s 1ms/step - loss: 406068297728.0000\n",
      "[CV] END learning_rate=9.644600968977157e-09, n_hidden=2, n_neurons=29; total time=  44.7s\n",
      "Epoch 1/100\n",
      "254/254 [==============================] - 1s 2ms/step - loss: 307540918272.0000 - val_loss: 38657138688.0000\n",
      "Epoch 2/100\n",
      "254/254 [==============================] - 0s 2ms/step - loss: 316357705728.0000 - val_loss: 412525133824.0000\n",
      "Epoch 3/100\n",
      "254/254 [==============================] - 0s 2ms/step - loss: 210663391232.0000 - val_loss: 417306771456.0000\n",
      "Epoch 4/100\n",
      "254/254 [==============================] - 1s 2ms/step - loss: 414868045824.0000 - val_loss: 416641712128.0000\n",
      "Epoch 5/100\n",
      "254/254 [==============================] - 0s 2ms/step - loss: 414848548864.0000 - val_loss: 416636436480.0000\n",
      "Epoch 6/100\n",
      "254/254 [==============================] - 0s 2ms/step - loss: 414845042688.0000 - val_loss: 416631062528.0000\n",
      "Epoch 7/100\n",
      "254/254 [==============================] - 0s 2ms/step - loss: 414841667584.0000 - val_loss: 416628441088.0000\n",
      "Epoch 8/100\n",
      "254/254 [==============================] - 0s 2ms/step - loss: 414839701504.0000 - val_loss: 416626769920.0000\n",
      "Epoch 9/100\n",
      "254/254 [==============================] - 0s 2ms/step - loss: 414837964800.0000 - val_loss: 416625000448.0000\n",
      "Epoch 10/100\n",
      "254/254 [==============================] - 0s 2ms/step - loss: 414836424704.0000 - val_loss: 416623427584.0000\n",
      "Epoch 11/100\n",
      "254/254 [==============================] - 0s 2ms/step - loss: 414834819072.0000 - val_loss: 416621723648.0000\n",
      "127/127 [==============================] - 0s 996us/step - loss: 428387041280.0000\n",
      "[CV] END learning_rate=5.602896247271692e-09, n_hidden=2, n_neurons=26; total time=   5.5s\n",
      "Epoch 1/100\n",
      "254/254 [==============================] - 1s 2ms/step - loss: 378389135360.0000 - val_loss: 416637091840.0000\n",
      "Epoch 2/100\n",
      "254/254 [==============================] - 0s 2ms/step - loss: 381186473984.0000 - val_loss: 416665141248.0000\n",
      "Epoch 3/100\n",
      "254/254 [==============================] - 0s 2ms/step - loss: 417383186432.0000 - val_loss: 416643842048.0000\n",
      "Epoch 4/100\n",
      "254/254 [==============================] - 0s 2ms/step - loss: 417374404608.0000 - val_loss: 416637878272.0000\n",
      "Epoch 5/100\n",
      "254/254 [==============================] - 0s 2ms/step - loss: 417371815936.0000 - val_loss: 416635158528.0000\n",
      "Epoch 6/100\n",
      "254/254 [==============================] - 0s 2ms/step - loss: 417369456640.0000 - val_loss: 416632438784.0000\n",
      "Epoch 7/100\n",
      "254/254 [==============================] - 0s 2ms/step - loss: 417367588864.0000 - val_loss: 416629751808.0000\n",
      "Epoch 8/100\n",
      "254/254 [==============================] - 0s 2ms/step - loss: 417365721088.0000 - val_loss: 416627458048.0000\n",
      "Epoch 9/100\n",
      "254/254 [==============================] - 0s 2ms/step - loss: 417363918848.0000 - val_loss: 416625491968.0000\n",
      "Epoch 10/100\n",
      "254/254 [==============================] - 0s 2ms/step - loss: 417362018304.0000 - val_loss: 416623624192.0000\n",
      "Epoch 11/100\n",
      "254/254 [==============================] - 0s 2ms/step - loss: 417360314368.0000 - val_loss: 416621920256.0000\n",
      "Epoch 12/100\n",
      "254/254 [==============================] - 0s 2ms/step - loss: 417358643200.0000 - val_loss: 416620347392.0000\n",
      "Epoch 13/100\n",
      "254/254 [==============================] - 0s 2ms/step - loss: 417356972032.0000 - val_loss: 416618479616.0000\n",
      "Epoch 14/100\n",
      "254/254 [==============================] - 0s 2ms/step - loss: 417355202560.0000 - val_loss: 416617005056.0000\n",
      "Epoch 15/100\n",
      "254/254 [==============================] - 0s 2ms/step - loss: 417353465856.0000 - val_loss: 416615202816.0000\n",
      "Epoch 16/100\n",
      "254/254 [==============================] - 0s 2ms/step - loss: 417352056832.0000 - val_loss: 416613466112.0000\n",
      "Epoch 17/100\n",
      "254/254 [==============================] - 0s 2ms/step - loss: 417350287360.0000 - val_loss: 416611893248.0000\n",
      "Epoch 18/100\n",
      "254/254 [==============================] - 0s 2ms/step - loss: 417348747264.0000 - val_loss: 416610222080.0000\n",
      "Epoch 19/100\n",
      "254/254 [==============================] - 0s 2ms/step - loss: 417346977792.0000 - val_loss: 416608387072.0000\n",
      "Epoch 20/100\n",
      "254/254 [==============================] - 0s 2ms/step - loss: 417345503232.0000 - val_loss: 416606978048.0000\n",
      "Epoch 21/100\n",
      "254/254 [==============================] - 0s 2ms/step - loss: 417343930368.0000 - val_loss: 416605110272.0000\n",
      "Epoch 22/100\n",
      "254/254 [==============================] - 0s 2ms/step - loss: 417342128128.0000 - val_loss: 416603439104.0000\n",
      "Epoch 23/100\n",
      "254/254 [==============================] - 0s 2ms/step - loss: 417340424192.0000 - val_loss: 416601931776.0000\n",
      "Epoch 24/100\n",
      "254/254 [==============================] - 0s 2ms/step - loss: 417338687488.0000 - val_loss: 416600260608.0000\n",
      "Epoch 25/100\n",
      "254/254 [==============================] - 0s 2ms/step - loss: 417337278464.0000 - val_loss: 416598491136.0000\n",
      "Epoch 26/100\n",
      "254/254 [==============================] - 0s 2ms/step - loss: 417335476224.0000 - val_loss: 416597016576.0000\n",
      "Epoch 27/100\n",
      "254/254 [==============================] - 0s 2ms/step - loss: 417334001664.0000 - val_loss: 416595181568.0000\n",
      "Epoch 28/100\n",
      "254/254 [==============================] - 0s 2ms/step - loss: 417332199424.0000 - val_loss: 416593739776.0000\n",
      "Epoch 29/100\n",
      "254/254 [==============================] - 0s 2ms/step - loss: 417330823168.0000 - val_loss: 416591937536.0000\n",
      "Epoch 30/100\n",
      "254/254 [==============================] - 0s 2ms/step - loss: 417329020928.0000 - val_loss: 416590331904.0000\n",
      "Epoch 31/100\n",
      "254/254 [==============================] - 0s 2ms/step - loss: 417327480832.0000 - val_loss: 416588595200.0000\n",
      "Epoch 32/100\n",
      "254/254 [==============================] - 0s 2ms/step - loss: 417325678592.0000 - val_loss: 416587087872.0000\n",
      "Epoch 33/100\n",
      "254/254 [==============================] - 0s 2ms/step - loss: 417324302336.0000 - val_loss: 416585449472.0000\n",
      "Epoch 34/100\n",
      "254/254 [==============================] - 0s 2ms/step - loss: 417322532864.0000 - val_loss: 416583647232.0000\n",
      "Epoch 35/100\n",
      "254/254 [==============================] - 0s 2ms/step - loss: 417320927232.0000 - val_loss: 416582238208.0000\n",
      "Epoch 36/100\n",
      "254/254 [==============================] - 0s 2ms/step - loss: 417319092224.0000 - val_loss: 416580370432.0000\n",
      "Epoch 37/100\n",
      "254/254 [==============================] - 1s 2ms/step - loss: 417317617664.0000 - val_loss: 416578830336.0000\n",
      "Epoch 38/100\n",
      "254/254 [==============================] - 0s 2ms/step - loss: 417315946496.0000 - val_loss: 416577290240.0000\n",
      "Epoch 39/100\n",
      "254/254 [==============================] - 0s 2ms/step - loss: 417314308096.0000 - val_loss: 416575520768.0000\n",
      "Epoch 40/100\n",
      "254/254 [==============================] - 0s 2ms/step - loss: 417312636928.0000 - val_loss: 416573849600.0000\n",
      "Epoch 41/100\n",
      "254/254 [==============================] - 0s 2ms/step - loss: 417311096832.0000 - val_loss: 416572342272.0000\n",
      "Epoch 42/100\n",
      "254/254 [==============================] - 0s 2ms/step - loss: 417309655040.0000 - val_loss: 416570572800.0000\n",
      "Epoch 43/100\n",
      "254/254 [==============================] - 0s 2ms/step - loss: 417307951104.0000 - val_loss: 416568999936.0000\n",
      "Epoch 44/100\n",
      "254/254 [==============================] - 0s 2ms/step - loss: 417306116096.0000 - val_loss: 416567328768.0000\n",
      "Epoch 45/100\n",
      "254/254 [==============================] - 0s 2ms/step - loss: 417304379392.0000 - val_loss: 416565559296.0000\n",
      "Epoch 46/100\n",
      "254/254 [==============================] - 0s 2ms/step - loss: 417302839296.0000 - val_loss: 416564117504.0000\n",
      "Epoch 47/100\n",
      "254/254 [==============================] - 0s 2ms/step - loss: 417301495808.0000 - val_loss: 416562380800.0000\n",
      "Epoch 48/100\n",
      "254/254 [==============================] - 0s 2ms/step - loss: 417299562496.0000 - val_loss: 416560676864.0000\n",
      "Epoch 49/100\n",
      "254/254 [==============================] - 0s 2ms/step - loss: 417297924096.0000 - val_loss: 416559333376.0000\n",
      "Epoch 50/100\n",
      "254/254 [==============================] - 0s 2ms/step - loss: 417296384000.0000 - val_loss: 416557498368.0000\n",
      "Epoch 51/100\n",
      "254/254 [==============================] - 0s 2ms/step - loss: 417294843904.0000 - val_loss: 416555827200.0000\n",
      "Epoch 52/100\n",
      "254/254 [==============================] - 0s 2ms/step - loss: 417293107200.0000 - val_loss: 416554254336.0000\n",
      "Epoch 53/100\n",
      "254/254 [==============================] - 0s 2ms/step - loss: 417291632640.0000 - val_loss: 416552419328.0000\n",
      "Epoch 54/100\n",
      "254/254 [==============================] - 0s 2ms/step - loss: 417289895936.0000 - val_loss: 416551043072.0000\n",
      "Epoch 55/100\n",
      "254/254 [==============================] - 0s 2ms/step - loss: 417288388608.0000 - val_loss: 416549240832.0000\n",
      "Epoch 56/100\n",
      "254/254 [==============================] - 0s 2ms/step - loss: 417286619136.0000 - val_loss: 416547700736.0000\n",
      "Epoch 57/100\n",
      "254/254 [==============================] - 0s 2ms/step - loss: 417285013504.0000 - val_loss: 416545865728.0000\n",
      "Epoch 58/100\n",
      "254/254 [==============================] - 0s 2ms/step - loss: 417283375104.0000 - val_loss: 416544260096.0000\n",
      "Epoch 59/100\n",
      "254/254 [==============================] - 0s 2ms/step - loss: 417281867776.0000 - val_loss: 416542752768.0000\n",
      "Epoch 60/100\n",
      "254/254 [==============================] - 0s 2ms/step - loss: 417280131072.0000 - val_loss: 416541048832.0000\n",
      "Epoch 61/100\n",
      "254/254 [==============================] - 0s 2ms/step - loss: 417278590976.0000 - val_loss: 416539443200.0000\n",
      "Epoch 62/100\n",
      "254/254 [==============================] - 0s 2ms/step - loss: 417276952576.0000 - val_loss: 416537870336.0000\n",
      "Epoch 63/100\n",
      "254/254 [==============================] - 0s 2ms/step - loss: 417275346944.0000 - val_loss: 416536100864.0000\n",
      "Epoch 64/100\n",
      "254/254 [==============================] - 0s 2ms/step - loss: 417273610240.0000 - val_loss: 416534495232.0000\n",
      "Epoch 65/100\n",
      "254/254 [==============================] - 0s 2ms/step - loss: 417272102912.0000 - val_loss: 416532627456.0000\n",
      "Epoch 66/100\n",
      "254/254 [==============================] - 0s 2ms/step - loss: 417270333440.0000 - val_loss: 416531251200.0000\n",
      "Epoch 67/100\n",
      "254/254 [==============================] - 0s 2ms/step - loss: 417268826112.0000 - val_loss: 416529580032.0000\n",
      "Epoch 68/100\n",
      "254/254 [==============================] - 0s 2ms/step - loss: 417267122176.0000 - val_loss: 416527876096.0000\n",
      "Epoch 69/100\n",
      "254/254 [==============================] - 0s 2ms/step - loss: 417265287168.0000 - val_loss: 416526303232.0000\n",
      "Epoch 70/100\n",
      "254/254 [==============================] - 0s 2ms/step - loss: 417263714304.0000 - val_loss: 416524632064.0000\n",
      "Epoch 71/100\n",
      "254/254 [==============================] - 0s 2ms/step - loss: 417262174208.0000 - val_loss: 416523091968.0000\n",
      "Epoch 72/100\n",
      "254/254 [==============================] - 0s 2ms/step - loss: 417260535808.0000 - val_loss: 416521224192.0000\n",
      "Epoch 73/100\n",
      "254/254 [==============================] - 0s 2ms/step - loss: 417258897408.0000 - val_loss: 416519520256.0000\n",
      "Epoch 74/100\n",
      "254/254 [==============================] - 0s 2ms/step - loss: 417257193472.0000 - val_loss: 416518209536.0000\n",
      "Epoch 75/100\n",
      "254/254 [==============================] - 0s 2ms/step - loss: 417255817216.0000 - val_loss: 416516276224.0000\n",
      "Epoch 76/100\n",
      "254/254 [==============================] - 0s 2ms/step - loss: 417254178816.0000 - val_loss: 416514768896.0000\n",
      "Epoch 77/100\n",
      "254/254 [==============================] - 0s 2ms/step - loss: 417252442112.0000 - val_loss: 416513097728.0000\n",
      "Epoch 78/100\n",
      "254/254 [==============================] - 0s 2ms/step - loss: 417250738176.0000 - val_loss: 416511426560.0000\n",
      "Epoch 79/100\n",
      "254/254 [==============================] - 0s 2ms/step - loss: 417249230848.0000 - val_loss: 416509952000.0000\n",
      "Epoch 80/100\n",
      "254/254 [==============================] - 0s 2ms/step - loss: 417247723520.0000 - val_loss: 416508182528.0000\n",
      "Epoch 81/100\n",
      "254/254 [==============================] - 0s 2ms/step - loss: 417246019584.0000 - val_loss: 416506511360.0000\n",
      "Epoch 82/100\n",
      "254/254 [==============================] - 0s 2ms/step - loss: 417244184576.0000 - val_loss: 416504905728.0000\n",
      "Epoch 83/100\n",
      "254/254 [==============================] - 0s 2ms/step - loss: 417242644480.0000 - val_loss: 416503234560.0000\n",
      "Epoch 84/100\n",
      "254/254 [==============================] - 0s 2ms/step - loss: 417241038848.0000 - val_loss: 416501661696.0000\n",
      "Epoch 85/100\n",
      "254/254 [==============================] - 0s 2ms/step - loss: 417239793664.0000 - val_loss: 416499990528.0000\n",
      "Epoch 86/100\n",
      "254/254 [==============================] - 0s 2ms/step - loss: 417237663744.0000 - val_loss: 416498253824.0000\n",
      "Epoch 87/100\n",
      "254/254 [==============================] - 0s 2ms/step - loss: 417235992576.0000 - val_loss: 416496517120.0000\n",
      "Epoch 88/100\n",
      "254/254 [==============================] - 0s 2ms/step - loss: 417234485248.0000 - val_loss: 416495140864.0000\n",
      "Epoch 89/100\n",
      "254/254 [==============================] - 0s 2ms/step - loss: 417232879616.0000 - val_loss: 416493338624.0000\n",
      "Epoch 90/100\n",
      "254/254 [==============================] - 0s 2ms/step - loss: 417231142912.0000 - val_loss: 416491732992.0000\n",
      "Epoch 91/100\n",
      "254/254 [==============================] - 0s 2ms/step - loss: 417229701120.0000 - val_loss: 416490192896.0000\n",
      "Epoch 92/100\n",
      "254/254 [==============================] - 0s 2ms/step - loss: 417227931648.0000 - val_loss: 416488456192.0000\n",
      "Epoch 93/100\n",
      "254/254 [==============================] - 1s 2ms/step - loss: 417226260480.0000 - val_loss: 416486850560.0000\n",
      "Epoch 94/100\n",
      "254/254 [==============================] - 1s 2ms/step - loss: 417224687616.0000 - val_loss: 416485113856.0000\n",
      "Epoch 95/100\n",
      "254/254 [==============================] - 0s 2ms/step - loss: 417223114752.0000 - val_loss: 416483573760.0000\n",
      "Epoch 96/100\n",
      "254/254 [==============================] - 0s 2ms/step - loss: 417221443584.0000 - val_loss: 416481804288.0000\n",
      "Epoch 97/100\n",
      "254/254 [==============================] - 0s 2ms/step - loss: 417219870720.0000 - val_loss: 416480231424.0000\n",
      "Epoch 98/100\n",
      "254/254 [==============================] - 0s 2ms/step - loss: 417218297856.0000 - val_loss: 416478625792.0000\n",
      "Epoch 99/100\n",
      "254/254 [==============================] - 0s 2ms/step - loss: 417216364544.0000 - val_loss: 416476954624.0000\n",
      "Epoch 100/100\n",
      "254/254 [==============================] - 0s 2ms/step - loss: 417214988288.0000 - val_loss: 416475283456.0000\n",
      "127/127 [==============================] - 0s 1ms/step - loss: 423187480576.0000\n",
      "[CV] END learning_rate=5.602896247271692e-09, n_hidden=2, n_neurons=26; total time=  44.4s\n",
      "Epoch 1/100\n",
      "254/254 [==============================] - 1s 2ms/step - loss: 348779315200.0000 - val_loss: 416649052160.0000\n",
      "Epoch 2/100\n",
      "254/254 [==============================] - 0s 2ms/step - loss: 415048138752.0000 - val_loss: 416590561280.0000\n",
      "Epoch 3/100\n",
      "254/254 [==============================] - 0s 2ms/step - loss: 355722919936.0000 - val_loss: 416633389056.0000\n",
      "Epoch 4/100\n",
      "254/254 [==============================] - 0s 2ms/step - loss: 427993268224.0000 - val_loss: 416631848960.0000\n",
      "Epoch 5/100\n",
      "254/254 [==============================] - 0s 2ms/step - loss: 425919709184.0000 - val_loss: 416630341632.0000\n",
      "Epoch 6/100\n",
      "254/254 [==============================] - 0s 2ms/step - loss: 425868525568.0000 - val_loss: 416628473856.0000\n",
      "Epoch 7/100\n",
      "254/254 [==============================] - 0s 2ms/step - loss: 425867018240.0000 - val_loss: 416626999296.0000\n",
      "Epoch 8/100\n",
      "254/254 [==============================] - 0s 2ms/step - loss: 425865347072.0000 - val_loss: 416625131520.0000\n",
      "Epoch 9/100\n",
      "254/254 [==============================] - 0s 2ms/step - loss: 425863610368.0000 - val_loss: 416623722496.0000\n",
      "Epoch 10/100\n",
      "254/254 [==============================] - 0s 2ms/step - loss: 425861939200.0000 - val_loss: 416621953024.0000\n",
      "Epoch 11/100\n",
      "254/254 [==============================] - 0s 2ms/step - loss: 425575809024.0000 - val_loss: 416637616128.0000\n",
      "Epoch 12/100\n",
      "254/254 [==============================] - 0s 2ms/step - loss: 425858990080.0000 - val_loss: 416618676224.0000\n",
      "127/127 [==============================] - 0s 1ms/step - loss: 406330998784.0000\n",
      "[CV] END learning_rate=5.602896247271692e-09, n_hidden=2, n_neurons=26; total time=   5.9s\n",
      "Epoch 1/100\n",
      "254/254 [==============================] - 1s 2ms/step - loss: 414829346816.0000 - val_loss: 416541868032.0000\n",
      "Epoch 2/100\n",
      "254/254 [==============================] - 0s 2ms/step - loss: 412643033088.0000 - val_loss: 405953839104.0000\n",
      "Epoch 3/100\n",
      "254/254 [==============================] - 0s 2ms/step - loss: 304762126336.0000 - val_loss: 155547844608.0000\n",
      "Epoch 4/100\n",
      "254/254 [==============================] - 0s 2ms/step - loss: 118637273088.0000 - val_loss: 88227971072.0000\n",
      "Epoch 5/100\n",
      "254/254 [==============================] - 0s 2ms/step - loss: 67941175296.0000 - val_loss: 44513624064.0000\n",
      "Epoch 6/100\n",
      "254/254 [==============================] - 0s 2ms/step - loss: 42784198656.0000 - val_loss: 37147877376.0000\n",
      "Epoch 7/100\n",
      "254/254 [==============================] - 0s 2ms/step - loss: 39674044416.0000 - val_loss: 36193062912.0000\n",
      "Epoch 8/100\n",
      "254/254 [==============================] - 0s 2ms/step - loss: 39039938560.0000 - val_loss: 35827040256.0000\n",
      "Epoch 9/100\n",
      "254/254 [==============================] - 0s 2ms/step - loss: 38648172544.0000 - val_loss: 35494866944.0000\n",
      "Epoch 10/100\n",
      "254/254 [==============================] - 0s 2ms/step - loss: 38291128320.0000 - val_loss: 35197157376.0000\n",
      "Epoch 11/100\n",
      "254/254 [==============================] - 0s 2ms/step - loss: 38045511680.0000 - val_loss: 34830577664.0000\n",
      "Epoch 12/100\n",
      "254/254 [==============================] - 0s 2ms/step - loss: 37684715520.0000 - val_loss: 34779148288.0000\n",
      "Epoch 13/100\n",
      "254/254 [==============================] - 0s 2ms/step - loss: 37501972480.0000 - val_loss: 34366603264.0000\n",
      "Epoch 14/100\n",
      "254/254 [==============================] - 0s 2ms/step - loss: 37204623360.0000 - val_loss: 34395156480.0000\n",
      "Epoch 15/100\n",
      "254/254 [==============================] - 0s 2ms/step - loss: 37046517760.0000 - val_loss: 33899900928.0000\n",
      "Epoch 16/100\n",
      "254/254 [==============================] - 0s 2ms/step - loss: 36838825984.0000 - val_loss: 33686411264.0000\n",
      "Epoch 17/100\n",
      "254/254 [==============================] - 0s 2ms/step - loss: 36589064192.0000 - val_loss: 33478475776.0000\n",
      "Epoch 18/100\n",
      "254/254 [==============================] - 0s 2ms/step - loss: 36287766528.0000 - val_loss: 33225857024.0000\n",
      "Epoch 19/100\n",
      "254/254 [==============================] - 0s 2ms/step - loss: 36147204096.0000 - val_loss: 32953360384.0000\n",
      "Epoch 20/100\n",
      "254/254 [==============================] - 0s 2ms/step - loss: 35949105152.0000 - val_loss: 32821544960.0000\n",
      "Epoch 21/100\n",
      "254/254 [==============================] - 0s 2ms/step - loss: 35748929536.0000 - val_loss: 32485955584.0000\n",
      "Epoch 22/100\n",
      "254/254 [==============================] - 0s 2ms/step - loss: 35507257344.0000 - val_loss: 32404580352.0000\n",
      "Epoch 23/100\n",
      "254/254 [==============================] - 0s 2ms/step - loss: 35361533952.0000 - val_loss: 32374609920.0000\n",
      "Epoch 24/100\n",
      "254/254 [==============================] - 0s 2ms/step - loss: 35209207808.0000 - val_loss: 31990751232.0000\n",
      "Epoch 25/100\n",
      "254/254 [==============================] - 0s 2ms/step - loss: 34948812800.0000 - val_loss: 32051378176.0000\n",
      "Epoch 26/100\n",
      "254/254 [==============================] - 0s 2ms/step - loss: 34869256192.0000 - val_loss: 31680184320.0000\n",
      "Epoch 27/100\n",
      "254/254 [==============================] - 0s 2ms/step - loss: 34608640000.0000 - val_loss: 31552583680.0000\n",
      "Epoch 28/100\n",
      "254/254 [==============================] - 0s 2ms/step - loss: 34532888576.0000 - val_loss: 31343925248.0000\n",
      "Epoch 29/100\n",
      "254/254 [==============================] - 0s 2ms/step - loss: 34393542656.0000 - val_loss: 31257833472.0000\n",
      "Epoch 30/100\n",
      "254/254 [==============================] - 0s 2ms/step - loss: 34241370112.0000 - val_loss: 31179624448.0000\n",
      "Epoch 31/100\n",
      "254/254 [==============================] - 0s 2ms/step - loss: 34182541312.0000 - val_loss: 31090311168.0000\n",
      "Epoch 32/100\n",
      "254/254 [==============================] - 0s 2ms/step - loss: 34018721792.0000 - val_loss: 31166394368.0000\n",
      "Epoch 33/100\n",
      "254/254 [==============================] - 0s 2ms/step - loss: 33870919680.0000 - val_loss: 30809083904.0000\n",
      "Epoch 34/100\n",
      "254/254 [==============================] - 0s 2ms/step - loss: 33820534784.0000 - val_loss: 30748725248.0000\n",
      "Epoch 35/100\n",
      "254/254 [==============================] - 0s 2ms/step - loss: 33644978176.0000 - val_loss: 30917896192.0000\n",
      "Epoch 36/100\n",
      "254/254 [==============================] - 0s 2ms/step - loss: 33604849664.0000 - val_loss: 30713841664.0000\n",
      "Epoch 37/100\n",
      "254/254 [==============================] - 0s 2ms/step - loss: 33558730752.0000 - val_loss: 30476589056.0000\n",
      "Epoch 38/100\n",
      "254/254 [==============================] - 0s 2ms/step - loss: 33498390528.0000 - val_loss: 30559180800.0000\n",
      "Epoch 39/100\n",
      "254/254 [==============================] - 0s 2ms/step - loss: 33469798400.0000 - val_loss: 30464983040.0000\n",
      "Epoch 40/100\n",
      "254/254 [==============================] - 0s 2ms/step - loss: 33336383488.0000 - val_loss: 30609215488.0000\n",
      "Epoch 41/100\n",
      "254/254 [==============================] - 0s 2ms/step - loss: 33277978624.0000 - val_loss: 30289186816.0000\n",
      "Epoch 42/100\n",
      "254/254 [==============================] - 0s 2ms/step - loss: 33244637184.0000 - val_loss: 30241275904.0000\n",
      "Epoch 43/100\n",
      "254/254 [==============================] - 0s 2ms/step - loss: 33150980096.0000 - val_loss: 30258563072.0000\n",
      "Epoch 44/100\n",
      "254/254 [==============================] - 0s 2ms/step - loss: 33101074432.0000 - val_loss: 30251988992.0000\n",
      "Epoch 45/100\n",
      "254/254 [==============================] - 0s 2ms/step - loss: 33081784320.0000 - val_loss: 30112350208.0000\n",
      "Epoch 46/100\n",
      "254/254 [==============================] - 0s 2ms/step - loss: 32944934912.0000 - val_loss: 30612844544.0000\n",
      "Epoch 47/100\n",
      "254/254 [==============================] - 0s 2ms/step - loss: 32944261120.0000 - val_loss: 29955702784.0000\n",
      "Epoch 48/100\n",
      "254/254 [==============================] - 0s 2ms/step - loss: 32894951424.0000 - val_loss: 30254659584.0000\n",
      "Epoch 49/100\n",
      "254/254 [==============================] - 0s 2ms/step - loss: 32937570304.0000 - val_loss: 29927485440.0000\n",
      "Epoch 50/100\n",
      "254/254 [==============================] - 0s 2ms/step - loss: 32731557888.0000 - val_loss: 30279211008.0000\n",
      "Epoch 51/100\n",
      "254/254 [==============================] - 0s 2ms/step - loss: 32838604800.0000 - val_loss: 30125268992.0000\n",
      "Epoch 52/100\n",
      "254/254 [==============================] - 0s 2ms/step - loss: 32752734208.0000 - val_loss: 29871972352.0000\n",
      "Epoch 53/100\n",
      "254/254 [==============================] - 0s 2ms/step - loss: 32701446144.0000 - val_loss: 30060816384.0000\n",
      "Epoch 54/100\n",
      "254/254 [==============================] - 0s 2ms/step - loss: 32653699072.0000 - val_loss: 29784010752.0000\n",
      "Epoch 55/100\n",
      "254/254 [==============================] - 0s 2ms/step - loss: 32633186304.0000 - val_loss: 29782093824.0000\n",
      "Epoch 56/100\n",
      "254/254 [==============================] - 0s 2ms/step - loss: 32577810432.0000 - val_loss: 29768486912.0000\n",
      "Epoch 57/100\n",
      "254/254 [==============================] - 0s 2ms/step - loss: 32513179648.0000 - val_loss: 29865035776.0000\n",
      "Epoch 58/100\n",
      "254/254 [==============================] - 0s 2ms/step - loss: 32509460480.0000 - val_loss: 29822926848.0000\n",
      "Epoch 59/100\n",
      "254/254 [==============================] - 0s 2ms/step - loss: 32515848192.0000 - val_loss: 29657698304.0000\n",
      "Epoch 60/100\n",
      "254/254 [==============================] - 0s 2ms/step - loss: 32520216576.0000 - val_loss: 29597186048.0000\n",
      "Epoch 61/100\n",
      "254/254 [==============================] - 0s 2ms/step - loss: 32326459392.0000 - val_loss: 29784881152.0000\n",
      "Epoch 62/100\n",
      "254/254 [==============================] - 0s 2ms/step - loss: 32386551808.0000 - val_loss: 29550985216.0000\n",
      "Epoch 63/100\n",
      "254/254 [==============================] - 0s 2ms/step - loss: 32384659456.0000 - val_loss: 29567424512.0000\n",
      "Epoch 64/100\n",
      "254/254 [==============================] - 0s 2ms/step - loss: 32295116800.0000 - val_loss: 29715546112.0000\n",
      "Epoch 65/100\n",
      "254/254 [==============================] - 0s 2ms/step - loss: 32320397312.0000 - val_loss: 29474734080.0000\n",
      "Epoch 66/100\n",
      "254/254 [==============================] - 0s 2ms/step - loss: 32241012736.0000 - val_loss: 29464244224.0000\n",
      "Epoch 67/100\n",
      "254/254 [==============================] - 0s 2ms/step - loss: 32102053888.0000 - val_loss: 29696280576.0000\n",
      "Epoch 68/100\n",
      "254/254 [==============================] - 0s 2ms/step - loss: 32179808256.0000 - val_loss: 29381044224.0000\n",
      "Epoch 69/100\n",
      "254/254 [==============================] - 0s 2ms/step - loss: 32134871040.0000 - val_loss: 29293920256.0000\n",
      "Epoch 70/100\n",
      "254/254 [==============================] - 0s 2ms/step - loss: 32158939136.0000 - val_loss: 29332459520.0000\n",
      "Epoch 71/100\n",
      "254/254 [==============================] - 0s 2ms/step - loss: 32126595072.0000 - val_loss: 29244936192.0000\n",
      "Epoch 72/100\n",
      "254/254 [==============================] - 0s 2ms/step - loss: 31930492928.0000 - val_loss: 29429796864.0000\n",
      "Epoch 73/100\n",
      "254/254 [==============================] - 0s 2ms/step - loss: 32047327232.0000 - val_loss: 29299695616.0000\n",
      "Epoch 74/100\n",
      "254/254 [==============================] - 0s 2ms/step - loss: 31991879680.0000 - val_loss: 29404985344.0000\n",
      "Epoch 75/100\n",
      "254/254 [==============================] - 0s 2ms/step - loss: 31977443328.0000 - val_loss: 29170913280.0000\n",
      "Epoch 76/100\n",
      "254/254 [==============================] - 0s 2ms/step - loss: 31912478720.0000 - val_loss: 29311741952.0000\n",
      "Epoch 77/100\n",
      "254/254 [==============================] - 0s 2ms/step - loss: 31918237696.0000 - val_loss: 29206577152.0000\n",
      "Epoch 78/100\n",
      "254/254 [==============================] - 0s 2ms/step - loss: 31894593536.0000 - val_loss: 29133703168.0000\n",
      "Epoch 79/100\n",
      "254/254 [==============================] - 0s 2ms/step - loss: 31766056960.0000 - val_loss: 29150507008.0000\n",
      "Epoch 80/100\n",
      "254/254 [==============================] - 0s 2ms/step - loss: 31821991936.0000 - val_loss: 29049954304.0000\n",
      "Epoch 81/100\n",
      "254/254 [==============================] - 0s 2ms/step - loss: 31752749056.0000 - val_loss: 29322131456.0000\n",
      "Epoch 82/100\n",
      "254/254 [==============================] - 0s 2ms/step - loss: 31779352576.0000 - val_loss: 29207638016.0000\n",
      "Epoch 83/100\n",
      "254/254 [==============================] - 0s 2ms/step - loss: 31649785856.0000 - val_loss: 28941404160.0000\n",
      "Epoch 84/100\n",
      "254/254 [==============================] - 0s 2ms/step - loss: 31632840704.0000 - val_loss: 29011378176.0000\n",
      "Epoch 85/100\n",
      "254/254 [==============================] - 1s 2ms/step - loss: 31707781120.0000 - val_loss: 28976816128.0000\n",
      "Epoch 86/100\n",
      "254/254 [==============================] - 0s 2ms/step - loss: 31533352960.0000 - val_loss: 28998307840.0000\n",
      "Epoch 87/100\n",
      "254/254 [==============================] - 0s 2ms/step - loss: 31616632832.0000 - val_loss: 28979456000.0000\n",
      "Epoch 88/100\n",
      "254/254 [==============================] - 0s 2ms/step - loss: 31581696000.0000 - val_loss: 28825665536.0000\n",
      "Epoch 89/100\n",
      "254/254 [==============================] - 0s 2ms/step - loss: 31554310144.0000 - val_loss: 28903462912.0000\n",
      "Epoch 90/100\n",
      "254/254 [==============================] - 0s 2ms/step - loss: 31575869440.0000 - val_loss: 28899098624.0000\n",
      "Epoch 91/100\n",
      "254/254 [==============================] - 0s 2ms/step - loss: 31529660416.0000 - val_loss: 28793034752.0000\n",
      "Epoch 92/100\n",
      "254/254 [==============================] - 0s 2ms/step - loss: 31448528896.0000 - val_loss: 28732911616.0000\n",
      "Epoch 93/100\n",
      "254/254 [==============================] - 0s 2ms/step - loss: 31488976896.0000 - val_loss: 28737873920.0000\n",
      "Epoch 94/100\n",
      "254/254 [==============================] - 0s 2ms/step - loss: 31450978304.0000 - val_loss: 28767483904.0000\n",
      "Epoch 95/100\n",
      "254/254 [==============================] - 0s 2ms/step - loss: 31428364288.0000 - val_loss: 28803919872.0000\n",
      "Epoch 96/100\n",
      "254/254 [==============================] - 0s 2ms/step - loss: 31422234624.0000 - val_loss: 28746917888.0000\n",
      "Epoch 97/100\n",
      "254/254 [==============================] - 0s 2ms/step - loss: 31430662144.0000 - val_loss: 28712597504.0000\n",
      "Epoch 98/100\n",
      "254/254 [==============================] - 0s 2ms/step - loss: 31308961792.0000 - val_loss: 28911413248.0000\n",
      "Epoch 99/100\n",
      "254/254 [==============================] - 0s 2ms/step - loss: 31331332096.0000 - val_loss: 28623962112.0000\n",
      "Epoch 100/100\n",
      "254/254 [==============================] - 0s 2ms/step - loss: 31264528384.0000 - val_loss: 28616669184.0000\n",
      "127/127 [==============================] - 0s 1ms/step - loss: 35069726720.0000\n",
      "[CV] END learning_rate=6.1409234776099875e-09, n_hidden=1, n_neurons=96; total time=  42.9s\n",
      "Epoch 1/100\n",
      "254/254 [==============================] - 1s 2ms/step - loss: 417353990144.0000 - val_loss: 416534331392.0000\n",
      "Epoch 2/100\n",
      "254/254 [==============================] - 0s 2ms/step - loss: 414919688192.0000 - val_loss: 404778647552.0000\n",
      "Epoch 3/100\n",
      "254/254 [==============================] - 0s 2ms/step - loss: 300129648640.0000 - val_loss: 152954929152.0000\n",
      "Epoch 4/100\n",
      "254/254 [==============================] - 0s 2ms/step - loss: 118902415360.0000 - val_loss: 89777922048.0000\n",
      "Epoch 5/100\n",
      "254/254 [==============================] - 0s 2ms/step - loss: 69600051200.0000 - val_loss: 44740726784.0000\n",
      "Epoch 6/100\n",
      "254/254 [==============================] - 0s 2ms/step - loss: 44185374720.0000 - val_loss: 37072502784.0000\n",
      "Epoch 7/100\n",
      "254/254 [==============================] - 0s 2ms/step - loss: 41071448064.0000 - val_loss: 35955937280.0000\n",
      "Epoch 8/100\n",
      "254/254 [==============================] - 0s 2ms/step - loss: 40376229888.0000 - val_loss: 35635048448.0000\n",
      "Epoch 9/100\n",
      "254/254 [==============================] - 0s 2ms/step - loss: 39831289856.0000 - val_loss: 35508252672.0000\n",
      "Epoch 10/100\n",
      "254/254 [==============================] - 0s 2ms/step - loss: 39588642816.0000 - val_loss: 34890211328.0000\n",
      "Epoch 11/100\n",
      "254/254 [==============================] - 0s 2ms/step - loss: 39131746304.0000 - val_loss: 34621972480.0000\n",
      "Epoch 12/100\n",
      "254/254 [==============================] - 0s 2ms/step - loss: 38829748224.0000 - val_loss: 34276225024.0000\n",
      "Epoch 13/100\n",
      "254/254 [==============================] - 0s 2ms/step - loss: 38389854208.0000 - val_loss: 34067304448.0000\n",
      "Epoch 14/100\n",
      "254/254 [==============================] - 0s 2ms/step - loss: 38195544064.0000 - val_loss: 33642528768.0000\n",
      "Epoch 15/100\n",
      "254/254 [==============================] - 0s 2ms/step - loss: 37889003520.0000 - val_loss: 33420693504.0000\n",
      "Epoch 16/100\n",
      "254/254 [==============================] - 0s 2ms/step - loss: 37547503616.0000 - val_loss: 33377292288.0000\n",
      "Epoch 17/100\n",
      "254/254 [==============================] - 0s 2ms/step - loss: 37182767104.0000 - val_loss: 32927705088.0000\n",
      "Epoch 18/100\n",
      "254/254 [==============================] - 1s 2ms/step - loss: 36900646912.0000 - val_loss: 32747223040.0000\n",
      "Epoch 19/100\n",
      "254/254 [==============================] - 1s 2ms/step - loss: 36762685440.0000 - val_loss: 32488355840.0000\n",
      "Epoch 20/100\n",
      "254/254 [==============================] - 0s 2ms/step - loss: 36373614592.0000 - val_loss: 32640526336.0000\n",
      "Epoch 21/100\n",
      "254/254 [==============================] - 0s 2ms/step - loss: 36317323264.0000 - val_loss: 32279687168.0000\n",
      "Epoch 22/100\n",
      "254/254 [==============================] - 0s 2ms/step - loss: 35969134592.0000 - val_loss: 31929225216.0000\n",
      "Epoch 23/100\n",
      "254/254 [==============================] - 0s 2ms/step - loss: 35872534528.0000 - val_loss: 31729479680.0000\n",
      "Epoch 24/100\n",
      "254/254 [==============================] - 0s 2ms/step - loss: 35741507584.0000 - val_loss: 31527215104.0000\n",
      "Epoch 25/100\n",
      "254/254 [==============================] - 0s 2ms/step - loss: 35388174336.0000 - val_loss: 31773116416.0000\n",
      "Epoch 26/100\n",
      "254/254 [==============================] - 0s 2ms/step - loss: 35345268736.0000 - val_loss: 31292454912.0000\n",
      "Epoch 27/100\n",
      "254/254 [==============================] - 0s 2ms/step - loss: 35035500544.0000 - val_loss: 31194095616.0000\n",
      "Epoch 28/100\n",
      "254/254 [==============================] - 0s 2ms/step - loss: 35023065088.0000 - val_loss: 31005206528.0000\n",
      "Epoch 29/100\n",
      "254/254 [==============================] - 0s 2ms/step - loss: 34766565376.0000 - val_loss: 30798555136.0000\n",
      "Epoch 30/100\n",
      "254/254 [==============================] - 0s 2ms/step - loss: 34694692864.0000 - val_loss: 30760923136.0000\n",
      "Epoch 31/100\n",
      "254/254 [==============================] - 0s 2ms/step - loss: 34616377344.0000 - val_loss: 30735349760.0000\n",
      "Epoch 32/100\n",
      "254/254 [==============================] - 0s 2ms/step - loss: 34434265088.0000 - val_loss: 30649260032.0000\n",
      "Epoch 33/100\n",
      "254/254 [==============================] - 0s 2ms/step - loss: 34226804736.0000 - val_loss: 30655606784.0000\n",
      "Epoch 34/100\n",
      "254/254 [==============================] - 0s 2ms/step - loss: 34305060864.0000 - val_loss: 30370684928.0000\n",
      "Epoch 35/100\n",
      "254/254 [==============================] - 0s 2ms/step - loss: 34193453056.0000 - val_loss: 30471749632.0000\n",
      "Epoch 36/100\n",
      "254/254 [==============================] - 0s 2ms/step - loss: 33983166464.0000 - val_loss: 30283431936.0000\n",
      "Epoch 37/100\n",
      "254/254 [==============================] - 0s 2ms/step - loss: 34057136128.0000 - val_loss: 30294263808.0000\n",
      "Epoch 38/100\n",
      "254/254 [==============================] - 0s 2ms/step - loss: 33913776128.0000 - val_loss: 30225569792.0000\n",
      "Epoch 39/100\n",
      "254/254 [==============================] - 0s 2ms/step - loss: 33884180480.0000 - val_loss: 30161883136.0000\n",
      "Epoch 40/100\n",
      "254/254 [==============================] - 0s 2ms/step - loss: 33756514304.0000 - val_loss: 30333681664.0000\n",
      "Epoch 41/100\n",
      "254/254 [==============================] - 1s 2ms/step - loss: 33646391296.0000 - val_loss: 30202548224.0000\n",
      "Epoch 42/100\n",
      "254/254 [==============================] - 0s 2ms/step - loss: 33608779776.0000 - val_loss: 30188619776.0000\n",
      "Epoch 43/100\n",
      "254/254 [==============================] - 0s 2ms/step - loss: 33557741568.0000 - val_loss: 30028378112.0000\n",
      "Epoch 44/100\n",
      "254/254 [==============================] - 0s 2ms/step - loss: 33483767808.0000 - val_loss: 30073708544.0000\n",
      "Epoch 45/100\n",
      "254/254 [==============================] - 0s 2ms/step - loss: 33455013888.0000 - val_loss: 29919625216.0000\n",
      "Epoch 46/100\n",
      "254/254 [==============================] - 0s 2ms/step - loss: 33340889088.0000 - val_loss: 30042271744.0000\n",
      "Epoch 47/100\n",
      "254/254 [==============================] - 0s 2ms/step - loss: 33316980736.0000 - val_loss: 29964165120.0000\n",
      "Epoch 48/100\n",
      "254/254 [==============================] - 0s 2ms/step - loss: 33179621376.0000 - val_loss: 30077048832.0000\n",
      "Epoch 49/100\n",
      "254/254 [==============================] - 0s 2ms/step - loss: 33244418048.0000 - val_loss: 29821317120.0000\n",
      "Epoch 50/100\n",
      "254/254 [==============================] - 0s 2ms/step - loss: 33184534528.0000 - val_loss: 29635598336.0000\n",
      "Epoch 51/100\n",
      "254/254 [==============================] - 0s 2ms/step - loss: 33045770240.0000 - val_loss: 29658165248.0000\n",
      "Epoch 52/100\n",
      "254/254 [==============================] - 0s 2ms/step - loss: 33013764096.0000 - val_loss: 29622534144.0000\n",
      "Epoch 53/100\n",
      "254/254 [==============================] - 1s 2ms/step - loss: 32880570368.0000 - val_loss: 29928943616.0000\n",
      "Epoch 54/100\n",
      "254/254 [==============================] - 0s 2ms/step - loss: 32973737984.0000 - val_loss: 29590702080.0000\n",
      "Epoch 55/100\n",
      "254/254 [==============================] - 0s 2ms/step - loss: 32850507776.0000 - val_loss: 29615554560.0000\n",
      "Epoch 56/100\n",
      "254/254 [==============================] - 0s 2ms/step - loss: 32784949248.0000 - val_loss: 29628430336.0000\n",
      "Epoch 57/100\n",
      "254/254 [==============================] - 0s 2ms/step - loss: 32776622080.0000 - val_loss: 29547425792.0000\n",
      "Epoch 58/100\n",
      "254/254 [==============================] - 0s 2ms/step - loss: 32743614464.0000 - val_loss: 29523245056.0000\n",
      "Epoch 59/100\n",
      "254/254 [==============================] - 0s 2ms/step - loss: 32706512896.0000 - val_loss: 29429841920.0000\n",
      "Epoch 60/100\n",
      "254/254 [==============================] - 0s 2ms/step - loss: 32616626176.0000 - val_loss: 29333086208.0000\n",
      "Epoch 61/100\n",
      "254/254 [==============================] - 0s 2ms/step - loss: 32603586560.0000 - val_loss: 29332731904.0000\n",
      "Epoch 62/100\n",
      "254/254 [==============================] - 0s 2ms/step - loss: 32603865088.0000 - val_loss: 29288626176.0000\n",
      "Epoch 63/100\n",
      "254/254 [==============================] - 0s 2ms/step - loss: 32462465024.0000 - val_loss: 29300000768.0000\n",
      "Epoch 64/100\n",
      "254/254 [==============================] - 0s 2ms/step - loss: 32460412928.0000 - val_loss: 29494519808.0000\n",
      "Epoch 65/100\n",
      "254/254 [==============================] - 0s 2ms/step - loss: 32451018752.0000 - val_loss: 29303183360.0000\n",
      "Epoch 66/100\n",
      "254/254 [==============================] - 0s 2ms/step - loss: 32329824256.0000 - val_loss: 29210865664.0000\n",
      "Epoch 67/100\n",
      "254/254 [==============================] - 0s 2ms/step - loss: 32329924608.0000 - val_loss: 29275170816.0000\n",
      "Epoch 68/100\n",
      "254/254 [==============================] - 0s 2ms/step - loss: 32260278272.0000 - val_loss: 29352757248.0000\n",
      "Epoch 69/100\n",
      "254/254 [==============================] - 0s 2ms/step - loss: 32156735488.0000 - val_loss: 29228267520.0000\n",
      "Epoch 70/100\n",
      "254/254 [==============================] - 0s 2ms/step - loss: 32227137536.0000 - val_loss: 29132642304.0000\n",
      "Epoch 71/100\n",
      "254/254 [==============================] - 0s 2ms/step - loss: 32032196608.0000 - val_loss: 29239556096.0000\n",
      "Epoch 72/100\n",
      "254/254 [==============================] - 0s 2ms/step - loss: 32141101056.0000 - val_loss: 29263265792.0000\n",
      "Epoch 73/100\n",
      "254/254 [==============================] - 0s 2ms/step - loss: 32100538368.0000 - val_loss: 29044062208.0000\n",
      "Epoch 74/100\n",
      "254/254 [==============================] - 0s 2ms/step - loss: 32028381184.0000 - val_loss: 29263558656.0000\n",
      "Epoch 75/100\n",
      "254/254 [==============================] - 0s 2ms/step - loss: 32027168768.0000 - val_loss: 28984094720.0000\n",
      "Epoch 76/100\n",
      "254/254 [==============================] - 0s 2ms/step - loss: 31922898944.0000 - val_loss: 29226242048.0000\n",
      "Epoch 77/100\n",
      "254/254 [==============================] - 0s 2ms/step - loss: 31946749952.0000 - val_loss: 28935421952.0000\n",
      "Epoch 78/100\n",
      "254/254 [==============================] - 0s 2ms/step - loss: 31918088192.0000 - val_loss: 28896311296.0000\n",
      "Epoch 79/100\n",
      "254/254 [==============================] - 0s 2ms/step - loss: 31853961216.0000 - val_loss: 28952086528.0000\n",
      "Epoch 80/100\n",
      "254/254 [==============================] - 0s 2ms/step - loss: 31846166528.0000 - val_loss: 28878084096.0000\n",
      "Epoch 81/100\n",
      "254/254 [==============================] - 0s 2ms/step - loss: 31788668928.0000 - val_loss: 28846219264.0000\n",
      "Epoch 82/100\n",
      "254/254 [==============================] - 0s 2ms/step - loss: 31703877632.0000 - val_loss: 28893724672.0000\n",
      "Epoch 83/100\n",
      "254/254 [==============================] - 0s 2ms/step - loss: 31708170240.0000 - val_loss: 28813287424.0000\n",
      "Epoch 84/100\n",
      "254/254 [==============================] - 0s 2ms/step - loss: 31650906112.0000 - val_loss: 29024192512.0000\n",
      "Epoch 85/100\n",
      "254/254 [==============================] - 0s 2ms/step - loss: 31640090624.0000 - val_loss: 28829016064.0000\n",
      "Epoch 86/100\n",
      "254/254 [==============================] - 0s 2ms/step - loss: 31649599488.0000 - val_loss: 28966492160.0000\n",
      "Epoch 87/100\n",
      "254/254 [==============================] - 0s 2ms/step - loss: 31580131328.0000 - val_loss: 28759193600.0000\n",
      "Epoch 88/100\n",
      "254/254 [==============================] - 0s 2ms/step - loss: 31576756224.0000 - val_loss: 28648888320.0000\n",
      "Epoch 89/100\n",
      "254/254 [==============================] - 0s 2ms/step - loss: 31514855424.0000 - val_loss: 28744996864.0000\n",
      "Epoch 90/100\n",
      "254/254 [==============================] - 0s 2ms/step - loss: 31486081024.0000 - val_loss: 28768206848.0000\n",
      "Epoch 91/100\n",
      "254/254 [==============================] - 0s 2ms/step - loss: 31475562496.0000 - val_loss: 28640724992.0000\n",
      "Epoch 92/100\n",
      "254/254 [==============================] - 0s 2ms/step - loss: 31420622848.0000 - val_loss: 28848490496.0000\n",
      "Epoch 93/100\n",
      "254/254 [==============================] - 0s 2ms/step - loss: 31422767104.0000 - val_loss: 28719165440.0000\n",
      "Epoch 94/100\n",
      "254/254 [==============================] - 0s 2ms/step - loss: 31358820352.0000 - val_loss: 28696539136.0000\n",
      "Epoch 95/100\n",
      "254/254 [==============================] - 0s 2ms/step - loss: 31237617664.0000 - val_loss: 28603514880.0000\n",
      "Epoch 96/100\n",
      "254/254 [==============================] - 0s 2ms/step - loss: 31294457856.0000 - val_loss: 28844505088.0000\n",
      "Epoch 97/100\n",
      "254/254 [==============================] - 0s 2ms/step - loss: 31334979584.0000 - val_loss: 28598001664.0000\n",
      "Epoch 98/100\n",
      "254/254 [==============================] - 0s 2ms/step - loss: 31213299712.0000 - val_loss: 28624992256.0000\n",
      "Epoch 99/100\n",
      "254/254 [==============================] - 0s 2ms/step - loss: 31257632768.0000 - val_loss: 28572563456.0000\n",
      "Epoch 100/100\n",
      "254/254 [==============================] - 0s 2ms/step - loss: 31213189120.0000 - val_loss: 28741173248.0000\n",
      "127/127 [==============================] - 0s 1ms/step - loss: 33839519744.0000\n",
      "[CV] END learning_rate=6.1409234776099875e-09, n_hidden=1, n_neurons=96; total time=  43.4s\n",
      "Epoch 1/100\n",
      "254/254 [==============================] - 1s 2ms/step - loss: 425853648896.0000 - val_loss: 416530726912.0000\n",
      "Epoch 2/100\n",
      "254/254 [==============================] - 0s 2ms/step - loss: 423098613760.0000 - val_loss: 403273842688.0000\n",
      "Epoch 3/100\n",
      "254/254 [==============================] - 0s 2ms/step - loss: 297680044032.0000 - val_loss: 147714670592.0000\n",
      "Epoch 4/100\n",
      "254/254 [==============================] - 0s 2ms/step - loss: 120550596608.0000 - val_loss: 87989190656.0000\n",
      "Epoch 5/100\n",
      "254/254 [==============================] - 0s 2ms/step - loss: 71429283840.0000 - val_loss: 44496465920.0000\n",
      "Epoch 6/100\n",
      "254/254 [==============================] - 0s 2ms/step - loss: 47344050176.0000 - val_loss: 36580208640.0000\n",
      "Epoch 7/100\n",
      "254/254 [==============================] - 0s 2ms/step - loss: 44165189632.0000 - val_loss: 35755671552.0000\n",
      "Epoch 8/100\n",
      "254/254 [==============================] - 0s 2ms/step - loss: 43429076992.0000 - val_loss: 35454914560.0000\n",
      "Epoch 9/100\n",
      "254/254 [==============================] - 0s 2ms/step - loss: 42902884352.0000 - val_loss: 35278090240.0000\n",
      "Epoch 10/100\n",
      "254/254 [==============================] - 0s 2ms/step - loss: 42754883584.0000 - val_loss: 34667139072.0000\n",
      "Epoch 11/100\n",
      "254/254 [==============================] - 0s 2ms/step - loss: 42189897728.0000 - val_loss: 34539118592.0000\n",
      "Epoch 12/100\n",
      "254/254 [==============================] - 0s 2ms/step - loss: 41989971968.0000 - val_loss: 34211708928.0000\n",
      "Epoch 13/100\n",
      "254/254 [==============================] - 0s 2ms/step - loss: 41616015360.0000 - val_loss: 34041839616.0000\n",
      "Epoch 14/100\n",
      "254/254 [==============================] - 0s 2ms/step - loss: 41307189248.0000 - val_loss: 33628506112.0000\n",
      "Epoch 15/100\n",
      "254/254 [==============================] - 0s 2ms/step - loss: 41058111488.0000 - val_loss: 33284059136.0000\n",
      "Epoch 16/100\n",
      "254/254 [==============================] - 0s 2ms/step - loss: 40701091840.0000 - val_loss: 33507452928.0000\n",
      "Epoch 17/100\n",
      "254/254 [==============================] - 0s 2ms/step - loss: 40167477248.0000 - val_loss: 33024180224.0000\n",
      "Epoch 18/100\n",
      "254/254 [==============================] - 0s 2ms/step - loss: 40047628288.0000 - val_loss: 32559052800.0000\n",
      "Epoch 19/100\n",
      "254/254 [==============================] - 0s 2ms/step - loss: 39755612160.0000 - val_loss: 32404713472.0000\n",
      "Epoch 20/100\n",
      "254/254 [==============================] - 0s 2ms/step - loss: 39535210496.0000 - val_loss: 32035432448.0000\n",
      "Epoch 21/100\n",
      "254/254 [==============================] - 0s 2ms/step - loss: 39166377984.0000 - val_loss: 31994015744.0000\n",
      "Epoch 22/100\n",
      "254/254 [==============================] - 0s 2ms/step - loss: 38709387264.0000 - val_loss: 31796695040.0000\n",
      "Epoch 23/100\n",
      "254/254 [==============================] - 1s 2ms/step - loss: 38679085056.0000 - val_loss: 31558553600.0000\n",
      "Epoch 24/100\n",
      "254/254 [==============================] - 0s 2ms/step - loss: 38479065088.0000 - val_loss: 31354884096.0000\n",
      "Epoch 25/100\n",
      "254/254 [==============================] - 0s 2ms/step - loss: 38132314112.0000 - val_loss: 31443623936.0000\n",
      "Epoch 26/100\n",
      "254/254 [==============================] - 0s 2ms/step - loss: 37982269440.0000 - val_loss: 31058317312.0000\n",
      "Epoch 27/100\n",
      "254/254 [==============================] - 0s 2ms/step - loss: 37775130624.0000 - val_loss: 30871607296.0000\n",
      "Epoch 28/100\n",
      "254/254 [==============================] - 0s 2ms/step - loss: 37643051008.0000 - val_loss: 30856439808.0000\n",
      "Epoch 29/100\n",
      "254/254 [==============================] - 0s 2ms/step - loss: 37418012672.0000 - val_loss: 30876569600.0000\n",
      "Epoch 30/100\n",
      "254/254 [==============================] - 0s 2ms/step - loss: 37388554240.0000 - val_loss: 30624012288.0000\n",
      "Epoch 31/100\n",
      "254/254 [==============================] - 1s 2ms/step - loss: 37202362368.0000 - val_loss: 30571540480.0000\n",
      "Epoch 32/100\n",
      "254/254 [==============================] - 0s 2ms/step - loss: 37127155712.0000 - val_loss: 30558887936.0000\n",
      "Epoch 33/100\n",
      "254/254 [==============================] - 0s 2ms/step - loss: 36868636672.0000 - val_loss: 30684438528.0000\n",
      "Epoch 34/100\n",
      "254/254 [==============================] - 0s 2ms/step - loss: 36870635520.0000 - val_loss: 30442543104.0000\n",
      "Epoch 35/100\n",
      "254/254 [==============================] - 0s 2ms/step - loss: 36812681216.0000 - val_loss: 30370033664.0000\n",
      "Epoch 36/100\n",
      "254/254 [==============================] - 0s 2ms/step - loss: 36641611776.0000 - val_loss: 30435962880.0000\n",
      "Epoch 37/100\n",
      "254/254 [==============================] - 0s 2ms/step - loss: 36707893248.0000 - val_loss: 30245617664.0000\n",
      "Epoch 38/100\n",
      "254/254 [==============================] - 0s 2ms/step - loss: 36571963392.0000 - val_loss: 30251976704.0000\n",
      "Epoch 39/100\n",
      "254/254 [==============================] - 0s 2ms/step - loss: 36559126528.0000 - val_loss: 30186706944.0000\n",
      "Epoch 40/100\n",
      "254/254 [==============================] - 0s 2ms/step - loss: 36385771520.0000 - val_loss: 30265444352.0000\n",
      "Epoch 41/100\n",
      "254/254 [==============================] - 0s 2ms/step - loss: 36288618496.0000 - val_loss: 30211325952.0000\n",
      "Epoch 42/100\n",
      "254/254 [==============================] - 0s 2ms/step - loss: 36035842048.0000 - val_loss: 30380961792.0000\n",
      "Epoch 43/100\n",
      "254/254 [==============================] - 0s 2ms/step - loss: 36169891840.0000 - val_loss: 30256398336.0000\n",
      "Epoch 44/100\n",
      "254/254 [==============================] - 0s 2ms/step - loss: 36091039744.0000 - val_loss: 30077206528.0000\n",
      "Epoch 45/100\n",
      "254/254 [==============================] - 0s 2ms/step - loss: 35964616704.0000 - val_loss: 30152030208.0000\n",
      "Epoch 46/100\n",
      "254/254 [==============================] - 0s 2ms/step - loss: 35977777152.0000 - val_loss: 29993453568.0000\n",
      "Epoch 47/100\n",
      "254/254 [==============================] - 0s 2ms/step - loss: 35864248320.0000 - val_loss: 30127120384.0000\n",
      "Epoch 48/100\n",
      "254/254 [==============================] - 0s 2ms/step - loss: 35867713536.0000 - val_loss: 30053480448.0000\n",
      "Epoch 49/100\n",
      "254/254 [==============================] - 0s 2ms/step - loss: 35803590656.0000 - val_loss: 29993275392.0000\n",
      "Epoch 50/100\n",
      "254/254 [==============================] - 0s 2ms/step - loss: 35725369344.0000 - val_loss: 30003988480.0000\n",
      "Epoch 51/100\n",
      "254/254 [==============================] - 0s 2ms/step - loss: 35604807680.0000 - val_loss: 30002978816.0000\n",
      "Epoch 52/100\n",
      "254/254 [==============================] - 0s 2ms/step - loss: 35568205824.0000 - val_loss: 29935329280.0000\n",
      "Epoch 53/100\n",
      "254/254 [==============================] - 0s 2ms/step - loss: 35411808256.0000 - val_loss: 30002505728.0000\n",
      "Epoch 54/100\n",
      "254/254 [==============================] - 0s 2ms/step - loss: 35491250176.0000 - val_loss: 29750104064.0000\n",
      "Epoch 55/100\n",
      "254/254 [==============================] - 0s 2ms/step - loss: 35389480960.0000 - val_loss: 29813035008.0000\n",
      "Epoch 56/100\n",
      "254/254 [==============================] - 0s 2ms/step - loss: 35350667264.0000 - val_loss: 29743747072.0000\n",
      "Epoch 57/100\n",
      "254/254 [==============================] - 0s 2ms/step - loss: 35296198656.0000 - val_loss: 29815611392.0000\n",
      "Epoch 58/100\n",
      "254/254 [==============================] - 0s 2ms/step - loss: 35255410688.0000 - val_loss: 29857918976.0000\n",
      "Epoch 59/100\n",
      "254/254 [==============================] - 0s 2ms/step - loss: 35194523648.0000 - val_loss: 29828366336.0000\n",
      "Epoch 60/100\n",
      "254/254 [==============================] - 0s 2ms/step - loss: 35163860992.0000 - val_loss: 29705594880.0000\n",
      "Epoch 61/100\n",
      "254/254 [==============================] - 0s 2ms/step - loss: 35103600640.0000 - val_loss: 29996640256.0000\n",
      "Epoch 62/100\n",
      "254/254 [==============================] - 0s 2ms/step - loss: 35037945856.0000 - val_loss: 29594011648.0000\n",
      "Epoch 63/100\n",
      "254/254 [==============================] - 0s 2ms/step - loss: 34925400064.0000 - val_loss: 29673734144.0000\n",
      "Epoch 64/100\n",
      "254/254 [==============================] - 0s 2ms/step - loss: 35062063104.0000 - val_loss: 29620170752.0000\n",
      "Epoch 65/100\n",
      "254/254 [==============================] - 0s 2ms/step - loss: 34897346560.0000 - val_loss: 29575426048.0000\n",
      "Epoch 66/100\n",
      "254/254 [==============================] - 0s 2ms/step - loss: 34854506496.0000 - val_loss: 29523038208.0000\n",
      "Epoch 67/100\n",
      "254/254 [==============================] - 0s 2ms/step - loss: 34762088448.0000 - val_loss: 29688029184.0000\n",
      "Epoch 68/100\n",
      "254/254 [==============================] - 0s 2ms/step - loss: 34825666560.0000 - val_loss: 29475092480.0000\n",
      "Epoch 69/100\n",
      "254/254 [==============================] - 0s 2ms/step - loss: 34651705344.0000 - val_loss: 29576962048.0000\n",
      "Epoch 70/100\n",
      "254/254 [==============================] - 0s 2ms/step - loss: 34660802560.0000 - val_loss: 29457500160.0000\n",
      "Epoch 71/100\n",
      "254/254 [==============================] - 0s 2ms/step - loss: 34572365824.0000 - val_loss: 29644967936.0000\n",
      "Epoch 72/100\n",
      "254/254 [==============================] - 0s 2ms/step - loss: 34578305024.0000 - val_loss: 29495369728.0000\n",
      "Epoch 73/100\n",
      "254/254 [==============================] - 0s 2ms/step - loss: 34540777472.0000 - val_loss: 29452390400.0000\n",
      "Epoch 74/100\n",
      "254/254 [==============================] - 0s 2ms/step - loss: 34501713920.0000 - val_loss: 29430736896.0000\n",
      "Epoch 75/100\n",
      "254/254 [==============================] - 0s 2ms/step - loss: 34336817152.0000 - val_loss: 29403844608.0000\n",
      "Epoch 76/100\n",
      "254/254 [==============================] - 0s 2ms/step - loss: 34344368128.0000 - val_loss: 29307371520.0000\n",
      "Epoch 77/100\n",
      "254/254 [==============================] - 0s 2ms/step - loss: 34312613888.0000 - val_loss: 29382797312.0000\n",
      "Epoch 78/100\n",
      "254/254 [==============================] - 0s 2ms/step - loss: 34230255616.0000 - val_loss: 29288189952.0000\n",
      "Epoch 79/100\n",
      "254/254 [==============================] - 0s 2ms/step - loss: 34193684480.0000 - val_loss: 29268529152.0000\n",
      "Epoch 80/100\n",
      "254/254 [==============================] - 0s 2ms/step - loss: 34143481856.0000 - val_loss: 29197148160.0000\n",
      "Epoch 81/100\n",
      "254/254 [==============================] - 0s 2ms/step - loss: 34051162112.0000 - val_loss: 29358102528.0000\n",
      "Epoch 82/100\n",
      "254/254 [==============================] - 0s 2ms/step - loss: 33966931968.0000 - val_loss: 29190029312.0000\n",
      "Epoch 83/100\n",
      "254/254 [==============================] - 0s 2ms/step - loss: 33985150976.0000 - val_loss: 29287456768.0000\n",
      "Epoch 84/100\n",
      "254/254 [==============================] - 0s 2ms/step - loss: 33984245760.0000 - val_loss: 29098076160.0000\n",
      "Epoch 85/100\n",
      "254/254 [==============================] - 0s 2ms/step - loss: 33923291136.0000 - val_loss: 29078214656.0000\n",
      "Epoch 86/100\n",
      "254/254 [==============================] - 0s 2ms/step - loss: 33785698304.0000 - val_loss: 29117382656.0000\n",
      "Epoch 87/100\n",
      "254/254 [==============================] - 0s 2ms/step - loss: 33784995840.0000 - val_loss: 29136404480.0000\n",
      "Epoch 88/100\n",
      "254/254 [==============================] - 0s 2ms/step - loss: 33695537152.0000 - val_loss: 29264711680.0000\n",
      "Epoch 89/100\n",
      "254/254 [==============================] - 0s 2ms/step - loss: 33703464960.0000 - val_loss: 29001967616.0000\n",
      "Epoch 90/100\n",
      "254/254 [==============================] - 0s 2ms/step - loss: 33697316864.0000 - val_loss: 28988723200.0000\n",
      "Epoch 91/100\n",
      "254/254 [==============================] - 0s 2ms/step - loss: 33616758784.0000 - val_loss: 29098827776.0000\n",
      "Epoch 92/100\n",
      "254/254 [==============================] - 0s 2ms/step - loss: 33487486976.0000 - val_loss: 29204058112.0000\n",
      "Epoch 93/100\n",
      "254/254 [==============================] - 1s 2ms/step - loss: 33497270272.0000 - val_loss: 29325633536.0000\n",
      "Epoch 94/100\n",
      "254/254 [==============================] - 0s 2ms/step - loss: 33515448320.0000 - val_loss: 28922507264.0000\n",
      "Epoch 95/100\n",
      "254/254 [==============================] - 0s 2ms/step - loss: 33367867392.0000 - val_loss: 29083609088.0000\n",
      "Epoch 96/100\n",
      "254/254 [==============================] - 0s 2ms/step - loss: 33425627136.0000 - val_loss: 28881000448.0000\n",
      "Epoch 97/100\n",
      "254/254 [==============================] - 0s 2ms/step - loss: 33419038720.0000 - val_loss: 28879654912.0000\n",
      "Epoch 98/100\n",
      "254/254 [==============================] - 0s 2ms/step - loss: 33326331904.0000 - val_loss: 28900179968.0000\n",
      "Epoch 99/100\n",
      "254/254 [==============================] - 0s 2ms/step - loss: 33284440064.0000 - val_loss: 28794165248.0000\n",
      "Epoch 100/100\n",
      "254/254 [==============================] - 0s 2ms/step - loss: 33280989184.0000 - val_loss: 28824795136.0000\n",
      "127/127 [==============================] - 0s 1ms/step - loss: 29847773184.0000\n",
      "[CV] END learning_rate=6.1409234776099875e-09, n_hidden=1, n_neurons=96; total time=  43.2s\n",
      "Epoch 1/100\n",
      "254/254 [==============================] - 1s 2ms/step - loss: 350075977728.0000 - val_loss: 148373372928.0000\n",
      "Epoch 2/100\n",
      "254/254 [==============================] - 0s 2ms/step - loss: 377509380096.0000 - val_loss: 416636534784.0000\n",
      "Epoch 3/100\n",
      "254/254 [==============================] - 0s 2ms/step - loss: 414846910464.0000 - val_loss: 416631128064.0000\n",
      "Epoch 4/100\n",
      "254/254 [==============================] - 0s 2ms/step - loss: 414841962496.0000 - val_loss: 416627949568.0000\n",
      "Epoch 5/100\n",
      "254/254 [==============================] - 0s 2ms/step - loss: 414838816768.0000 - val_loss: 416624967680.0000\n",
      "Epoch 6/100\n",
      "254/254 [==============================] - 0s 2ms/step - loss: 414270128128.0000 - val_loss: 416622313472.0000\n",
      "Epoch 7/100\n",
      "254/254 [==============================] - 0s 2ms/step - loss: 414833115136.0000 - val_loss: 416619462656.0000\n",
      "Epoch 8/100\n",
      "254/254 [==============================] - 0s 2ms/step - loss: 414395334656.0000 - val_loss: 416617070592.0000\n",
      "Epoch 9/100\n",
      "254/254 [==============================] - 0s 2ms/step - loss: 406895558656.0000 - val_loss: 416617398272.0000\n",
      "Epoch 10/100\n",
      "254/254 [==============================] - 0s 2ms/step - loss: 414826201088.0000 - val_loss: 416611434496.0000\n",
      "Epoch 11/100\n",
      "254/254 [==============================] - 0s 2ms/step - loss: 414822301696.0000 - val_loss: 416608157696.0000\n",
      "127/127 [==============================] - 0s 1ms/step - loss: 428374753280.0000\n",
      "[CV] END learning_rate=9.472943304690116e-09, n_hidden=2, n_neurons=66; total time=   5.4s\n",
      "Epoch 1/100\n",
      "254/254 [==============================] - 1s 2ms/step - loss: 400113270784.0000 - val_loss: 416636043264.0000\n",
      "Epoch 2/100\n",
      "254/254 [==============================] - 0s 2ms/step - loss: 417865039872.0000 - val_loss: 416632373248.0000\n",
      "Epoch 3/100\n",
      "254/254 [==============================] - 0s 2ms/step - loss: 419767746560.0000 - val_loss: 416629719040.0000\n",
      "Epoch 4/100\n",
      "254/254 [==============================] - 0s 2ms/step - loss: 417454391296.0000 - val_loss: 416626999296.0000\n",
      "Epoch 5/100\n",
      "254/254 [==============================] - 0s 2ms/step - loss: 417364934656.0000 - val_loss: 416624181248.0000\n",
      "Epoch 6/100\n",
      "254/254 [==============================] - 0s 2ms/step - loss: 417361887232.0000 - val_loss: 416620609536.0000\n",
      "Epoch 7/100\n",
      "254/254 [==============================] - 0s 2ms/step - loss: 417199325184.0000 - val_loss: 416618676224.0000\n",
      "Epoch 8/100\n",
      "254/254 [==============================] - 0s 2ms/step - loss: 417356283904.0000 - val_loss: 416615825408.0000\n",
      "Epoch 9/100\n",
      "254/254 [==============================] - 0s 2ms/step - loss: 417353465856.0000 - val_loss: 416612974592.0000\n",
      "Epoch 10/100\n",
      "254/254 [==============================] - 0s 2ms/step - loss: 417350680576.0000 - val_loss: 416610287616.0000\n",
      "Epoch 11/100\n",
      "254/254 [==============================] - 0s 2ms/step - loss: 417347862528.0000 - val_loss: 416607502336.0000\n",
      "Epoch 12/100\n",
      "254/254 [==============================] - 0s 2ms/step - loss: 417345110016.0000 - val_loss: 416604651520.0000\n",
      "Epoch 13/100\n",
      "254/254 [==============================] - 0s 2ms/step - loss: 417236647936.0000 - val_loss: 416601931776.0000\n",
      "Epoch 14/100\n",
      "254/254 [==============================] - 1s 2ms/step - loss: 417339834368.0000 - val_loss: 416599080960.0000\n",
      "Epoch 15/100\n",
      "254/254 [==============================] - 0s 2ms/step - loss: 417381679104.0000 - val_loss: 416596393984.0000\n",
      "Epoch 16/100\n",
      "254/254 [==============================] - 0s 2ms/step - loss: 417334067200.0000 - val_loss: 416593510400.0000\n",
      "Epoch 17/100\n",
      "254/254 [==============================] - 0s 2ms/step - loss: 417331511296.0000 - val_loss: 416590725120.0000\n",
      "Epoch 18/100\n",
      "254/254 [==============================] - 0s 2ms/step - loss: 417328627712.0000 - val_loss: 416588103680.0000\n",
      "Epoch 19/100\n",
      "254/254 [==============================] - 0s 2ms/step - loss: 417325776896.0000 - val_loss: 416585318400.0000\n",
      "Epoch 20/100\n",
      "254/254 [==============================] - 0s 2ms/step - loss: 417323122688.0000 - val_loss: 416582369280.0000\n",
      "Epoch 21/100\n",
      "254/254 [==============================] - 0s 2ms/step - loss: 417320501248.0000 - val_loss: 416579780608.0000\n",
      "Epoch 22/100\n",
      "254/254 [==============================] - 0s 2ms/step - loss: 417317584896.0000 - val_loss: 416576929792.0000\n",
      "Epoch 23/100\n",
      "254/254 [==============================] - 0s 2ms/step - loss: 417314799616.0000 - val_loss: 416574078976.0000\n",
      "Epoch 24/100\n",
      "254/254 [==============================] - 0s 2ms/step - loss: 417312145408.0000 - val_loss: 416571424768.0000\n",
      "Epoch 25/100\n",
      "254/254 [==============================] - 0s 2ms/step - loss: 417309196288.0000 - val_loss: 416568475648.0000\n",
      "Epoch 26/100\n",
      "254/254 [==============================] - 0s 2ms/step - loss: 417306574848.0000 - val_loss: 416565723136.0000\n",
      "Epoch 27/100\n",
      "254/254 [==============================] - 0s 2ms/step - loss: 417303855104.0000 - val_loss: 416563101696.0000\n",
      "Epoch 28/100\n",
      "254/254 [==============================] - 0s 2ms/step - loss: 417301037056.0000 - val_loss: 416560119808.0000\n",
      "Epoch 29/100\n",
      "254/254 [==============================] - 0s 2ms/step - loss: 417790918656.0000 - val_loss: 416557596672.0000\n",
      "Epoch 30/100\n",
      "254/254 [==============================] - 0s 2ms/step - loss: 417295630336.0000 - val_loss: 416554680320.0000\n",
      "Epoch 31/100\n",
      "254/254 [==============================] - 0s 2ms/step - loss: 417292845056.0000 - val_loss: 416551895040.0000\n",
      "Epoch 32/100\n",
      "254/254 [==============================] - 0s 2ms/step - loss: 417289863168.0000 - val_loss: 416549175296.0000\n",
      "Epoch 33/100\n",
      "254/254 [==============================] - 0s 2ms/step - loss: 417287274496.0000 - val_loss: 416546455552.0000\n",
      "Epoch 34/100\n",
      "254/254 [==============================] - 0s 2ms/step - loss: 417284423680.0000 - val_loss: 416543604736.0000\n",
      "Epoch 35/100\n",
      "254/254 [==============================] - 0s 2ms/step - loss: 417281638400.0000 - val_loss: 416540688384.0000\n",
      "Epoch 36/100\n",
      "254/254 [==============================] - 0s 2ms/step - loss: 417278951424.0000 - val_loss: 416538099712.0000\n",
      "Epoch 37/100\n",
      "254/254 [==============================] - 0s 2ms/step - loss: 417276297216.0000 - val_loss: 416535150592.0000\n",
      "Epoch 38/100\n",
      "254/254 [==============================] - 0s 2ms/step - loss: 417273544704.0000 - val_loss: 416532627456.0000\n",
      "Epoch 39/100\n",
      "254/254 [==============================] - 0s 2ms/step - loss: 417270792192.0000 - val_loss: 416529743872.0000\n",
      "Epoch 40/100\n",
      "254/254 [==============================] - 0s 2ms/step - loss: 417268006912.0000 - val_loss: 416526893056.0000\n",
      "Epoch 41/100\n",
      "254/254 [==============================] - 0s 2ms/step - loss: 417265254400.0000 - val_loss: 416524173312.0000\n",
      "Epoch 42/100\n",
      "254/254 [==============================] - 0s 2ms/step - loss: 417262534656.0000 - val_loss: 416521486336.0000\n",
      "Epoch 43/100\n",
      "254/254 [==============================] - 0s 2ms/step - loss: 417259814912.0000 - val_loss: 416518504448.0000\n",
      "Epoch 44/100\n",
      "254/254 [==============================] - 0s 2ms/step - loss: 417256931328.0000 - val_loss: 416515719168.0000\n",
      "Epoch 45/100\n",
      "254/254 [==============================] - 0s 2ms/step - loss: 417254244352.0000 - val_loss: 416512999424.0000\n",
      "Epoch 46/100\n",
      "254/254 [==============================] - 0s 2ms/step - loss: 417251426304.0000 - val_loss: 416510148608.0000\n",
      "Epoch 47/100\n",
      "254/254 [==============================] - 1s 2ms/step - loss: 417248608256.0000 - val_loss: 416507428864.0000\n",
      "Epoch 48/100\n",
      "254/254 [==============================] - 0s 2ms/step - loss: 417245986816.0000 - val_loss: 416504807424.0000\n",
      "Epoch 49/100\n",
      "254/254 [==============================] - 0s 2ms/step - loss: 417243037696.0000 - val_loss: 416501891072.0000\n",
      "Epoch 50/100\n",
      "254/254 [==============================] - 0s 2ms/step - loss: 417373093888.0000 - val_loss: 416499105792.0000\n",
      "Epoch 51/100\n",
      "254/254 [==============================] - 0s 2ms/step - loss: 417237630976.0000 - val_loss: 416496451584.0000\n",
      "Epoch 52/100\n",
      "254/254 [==============================] - 0s 2ms/step - loss: 417234878464.0000 - val_loss: 416493666304.0000\n",
      "Epoch 53/100\n",
      "254/254 [==============================] - 0s 2ms/step - loss: 417232289792.0000 - val_loss: 416490749952.0000\n",
      "Epoch 54/100\n",
      "254/254 [==============================] - 0s 2ms/step - loss: 417229438976.0000 - val_loss: 416488030208.0000\n",
      "Epoch 55/100\n",
      "254/254 [==============================] - 0s 2ms/step - loss: 417226653696.0000 - val_loss: 416485310464.0000\n",
      "Epoch 56/100\n",
      "254/254 [==============================] - 0s 2ms/step - loss: 417223933952.0000 - val_loss: 416482459648.0000\n",
      "Epoch 57/100\n",
      "254/254 [==============================] - 0s 2ms/step - loss: 417221083136.0000 - val_loss: 416479608832.0000\n",
      "Epoch 58/100\n",
      "254/254 [==============================] - 0s 2ms/step - loss: 417218494464.0000 - val_loss: 416476921856.0000\n",
      "Epoch 59/100\n",
      "254/254 [==============================] - 0s 2ms/step - loss: 417215610880.0000 - val_loss: 416474169344.0000\n",
      "Epoch 60/100\n",
      "254/254 [==============================] - 0s 2ms/step - loss: 417212891136.0000 - val_loss: 416471449600.0000\n",
      "Epoch 61/100\n",
      "254/254 [==============================] - 0s 2ms/step - loss: 417210073088.0000 - val_loss: 416468500480.0000\n",
      "Epoch 62/100\n",
      "254/254 [==============================] - 0s 2ms/step - loss: 417207353344.0000 - val_loss: 416465682432.0000\n",
      "Epoch 63/100\n",
      "254/254 [==============================] - 0s 2ms/step - loss: 417204502528.0000 - val_loss: 416463028224.0000\n",
      "Epoch 64/100\n",
      "254/254 [==============================] - 0s 2ms/step - loss: 417201848320.0000 - val_loss: 416460242944.0000\n",
      "Epoch 65/100\n",
      "254/254 [==============================] - 0s 2ms/step - loss: 417199095808.0000 - val_loss: 416457490432.0000\n",
      "Epoch 66/100\n",
      "254/254 [==============================] - 0s 2ms/step - loss: 417196113920.0000 - val_loss: 416454770688.0000\n",
      "Epoch 67/100\n",
      "254/254 [==============================] - 0s 2ms/step - loss: 417193689088.0000 - val_loss: 416451854336.0000\n",
      "Epoch 68/100\n",
      "254/254 [==============================] - 0s 2ms/step - loss: 417190772736.0000 - val_loss: 416449167360.0000\n",
      "Epoch 69/100\n",
      "254/254 [==============================] - 0s 2ms/step - loss: 417188052992.0000 - val_loss: 416446382080.0000\n",
      "Epoch 70/100\n",
      "254/254 [==============================] - 0s 2ms/step - loss: 417185300480.0000 - val_loss: 416443564032.0000\n",
      "Epoch 71/100\n",
      "254/254 [==============================] - 0s 2ms/step - loss: 417182580736.0000 - val_loss: 416440745984.0000\n",
      "Epoch 72/100\n",
      "254/254 [==============================] - 0s 2ms/step - loss: 417179860992.0000 - val_loss: 416437993472.0000\n",
      "Epoch 73/100\n",
      "254/254 [==============================] - 0s 2ms/step - loss: 417177141248.0000 - val_loss: 416435142656.0000\n",
      "Epoch 74/100\n",
      "254/254 [==============================] - 0s 2ms/step - loss: 417174290432.0000 - val_loss: 416432390144.0000\n",
      "Epoch 75/100\n",
      "254/254 [==============================] - 0s 2ms/step - loss: 417171472384.0000 - val_loss: 416429768704.0000\n",
      "Epoch 76/100\n",
      "254/254 [==============================] - 0s 2ms/step - loss: 417168883712.0000 - val_loss: 416426983424.0000\n",
      "Epoch 77/100\n",
      "254/254 [==============================] - 0s 2ms/step - loss: 417166032896.0000 - val_loss: 416424198144.0000\n",
      "Epoch 78/100\n",
      "254/254 [==============================] - 0s 2ms/step - loss: 417163247616.0000 - val_loss: 416421347328.0000\n",
      "Epoch 79/100\n",
      "254/254 [==============================] - 0s 2ms/step - loss: 417160560640.0000 - val_loss: 416418660352.0000\n",
      "Epoch 80/100\n",
      "254/254 [==============================] - 0s 2ms/step - loss: 417157906432.0000 - val_loss: 416415776768.0000\n",
      "Epoch 81/100\n",
      "254/254 [==============================] - 1s 2ms/step - loss: 417154859008.0000 - val_loss: 416412958720.0000\n",
      "Epoch 82/100\n",
      "254/254 [==============================] - 0s 2ms/step - loss: 417152172032.0000 - val_loss: 416410271744.0000\n",
      "Epoch 83/100\n",
      "254/254 [==============================] - 0s 2ms/step - loss: 417149517824.0000 - val_loss: 416407552000.0000\n",
      "Epoch 84/100\n",
      "254/254 [==============================] - 0s 2ms/step - loss: 417146863616.0000 - val_loss: 416404635648.0000\n",
      "Epoch 85/100\n",
      "254/254 [==============================] - 0s 2ms/step - loss: 417144045568.0000 - val_loss: 416401981440.0000\n",
      "Epoch 86/100\n",
      "254/254 [==============================] - 0s 2ms/step - loss: 417141096448.0000 - val_loss: 416399163392.0000\n",
      "Epoch 87/100\n",
      "254/254 [==============================] - 0s 2ms/step - loss: 417138475008.0000 - val_loss: 416396410880.0000\n",
      "Epoch 88/100\n",
      "254/254 [==============================] - 0s 2ms/step - loss: 417135788032.0000 - val_loss: 416393658368.0000\n",
      "Epoch 89/100\n",
      "254/254 [==============================] - 0s 2ms/step - loss: 417133002752.0000 - val_loss: 416390873088.0000\n",
      "Epoch 90/100\n",
      "254/254 [==============================] - 0s 2ms/step - loss: 417130250240.0000 - val_loss: 416387989504.0000\n",
      "Epoch 91/100\n",
      "254/254 [==============================] - 0s 2ms/step - loss: 417127497728.0000 - val_loss: 416385204224.0000\n",
      "Epoch 92/100\n",
      "254/254 [==============================] - 0s 2ms/step - loss: 417124581376.0000 - val_loss: 416382582784.0000\n",
      "Epoch 93/100\n",
      "254/254 [==============================] - 0s 2ms/step - loss: 417121959936.0000 - val_loss: 416379699200.0000\n",
      "Epoch 94/100\n",
      "254/254 [==============================] - 0s 2ms/step - loss: 417119076352.0000 - val_loss: 416376946688.0000\n",
      "Epoch 95/100\n",
      "254/254 [==============================] - 0s 2ms/step - loss: 417116323840.0000 - val_loss: 416374292480.0000\n",
      "Epoch 96/100\n",
      "254/254 [==============================] - 0s 2ms/step - loss: 417113702400.0000 - val_loss: 416371245056.0000\n",
      "Epoch 97/100\n",
      "254/254 [==============================] - 0s 2ms/step - loss: 417110917120.0000 - val_loss: 416368721920.0000\n",
      "Epoch 98/100\n",
      "254/254 [==============================] - 0s 2ms/step - loss: 417107968000.0000 - val_loss: 416365838336.0000\n",
      "Epoch 99/100\n",
      "254/254 [==============================] - 0s 2ms/step - loss: 417105313792.0000 - val_loss: 416362987520.0000\n",
      "Epoch 100/100\n",
      "254/254 [==============================] - 0s 2ms/step - loss: 417102528512.0000 - val_loss: 416360202240.0000\n",
      "127/127 [==============================] - 0s 1ms/step - loss: 423072825344.0000\n",
      "[CV] END learning_rate=9.472943304690116e-09, n_hidden=2, n_neurons=66; total time=  45.2s\n",
      "Epoch 1/100\n",
      "254/254 [==============================] - 1s 2ms/step - loss: 1496830783671665636147200.0000 - val_loss: 933292772729009733632.0000\n",
      "Epoch 2/100\n",
      "254/254 [==============================] - 0s 2ms/step - loss: nan - val_loss: nan\n",
      "Epoch 3/100\n",
      "254/254 [==============================] - 0s 2ms/step - loss: nan - val_loss: nan\n",
      "Epoch 4/100\n",
      "254/254 [==============================] - 0s 2ms/step - loss: nan - val_loss: nan\n",
      "Epoch 5/100\n",
      "254/254 [==============================] - 0s 2ms/step - loss: nan - val_loss: nan\n",
      "Epoch 6/100\n",
      "254/254 [==============================] - 0s 2ms/step - loss: nan - val_loss: nan\n",
      "Epoch 7/100\n",
      "254/254 [==============================] - 0s 2ms/step - loss: nan - val_loss: nan\n",
      "Epoch 8/100\n",
      "254/254 [==============================] - 0s 2ms/step - loss: nan - val_loss: nan\n",
      "Epoch 9/100\n",
      "254/254 [==============================] - 0s 2ms/step - loss: nan - val_loss: nan\n",
      "Epoch 10/100\n",
      "254/254 [==============================] - 0s 2ms/step - loss: nan - val_loss: nan\n",
      "Epoch 11/100\n",
      "254/254 [==============================] - 0s 2ms/step - loss: nan - val_loss: nan\n",
      "127/127 [==============================] - 0s 1ms/step - loss: nan\n",
      "[CV] END learning_rate=9.472943304690116e-09, n_hidden=2, n_neurons=66; total time=   5.5s\n",
      "Epoch 1/100\n",
      "254/254 [==============================] - 1s 2ms/step - loss: 442783662080.0000 - val_loss: 416636895232.0000\n",
      "Epoch 2/100\n",
      "254/254 [==============================] - 0s 2ms/step - loss: 414848811008.0000 - val_loss: 416635682816.0000\n",
      "Epoch 3/100\n",
      "254/254 [==============================] - 0s 2ms/step - loss: 414846091264.0000 - val_loss: 416627195904.0000\n",
      "Epoch 4/100\n",
      "254/254 [==============================] - 0s 2ms/step - loss: 408244551680.0000 - val_loss: 416651509760.0000\n",
      "Epoch 5/100\n",
      "254/254 [==============================] - 0s 2ms/step - loss: 414849400832.0000 - val_loss: 416634142720.0000\n",
      "Epoch 6/100\n",
      "254/254 [==============================] - 0s 2ms/step - loss: 414846189568.0000 - val_loss: 416633159680.0000\n",
      "Epoch 7/100\n",
      "254/254 [==============================] - 0s 2ms/step - loss: 413431332864.0000 - val_loss: 416632733696.0000\n",
      "Epoch 8/100\n",
      "254/254 [==============================] - 0s 2ms/step - loss: 414844747776.0000 - val_loss: 416631914496.0000\n",
      "Epoch 9/100\n",
      "254/254 [==============================] - 0s 2ms/step - loss: 414843764736.0000 - val_loss: 416630931456.0000\n",
      "Epoch 10/100\n",
      "254/254 [==============================] - 0s 2ms/step - loss: 414842716160.0000 - val_loss: 416629719040.0000\n",
      "Epoch 11/100\n",
      "254/254 [==============================] - 0s 2ms/step - loss: 414841110528.0000 - val_loss: 416627720192.0000\n",
      "Epoch 12/100\n",
      "254/254 [==============================] - 0s 2ms/step - loss: 413496705024.0000 - val_loss: 416629522432.0000\n",
      "Epoch 13/100\n",
      "254/254 [==============================] - 0s 2ms/step - loss: 414841667584.0000 - val_loss: 416628703232.0000\n",
      "127/127 [==============================] - 0s 1ms/step - loss: 428394610688.0000\n",
      "[CV] END learning_rate=2.2810708269503286e-09, n_hidden=3, n_neurons=32; total time=   6.8s\n",
      "Epoch 1/100\n",
      "254/254 [==============================] - 1s 2ms/step - loss: 417373224960.0000 - val_loss: 416616775680.0000\n",
      "Epoch 2/100\n",
      "254/254 [==============================] - 0s 2ms/step - loss: 415486640128.0000 - val_loss: 416636141568.0000\n",
      "Epoch 3/100\n",
      "254/254 [==============================] - 0s 2ms/step - loss: 417374601216.0000 - val_loss: 416635518976.0000\n",
      "Epoch 4/100\n",
      "254/254 [==============================] - 0s 2ms/step - loss: 417373847552.0000 - val_loss: 416634732544.0000\n",
      "Epoch 5/100\n",
      "254/254 [==============================] - 0s 2ms/step - loss: 417150599168.0000 - val_loss: 416622936064.0000\n",
      "Epoch 6/100\n",
      "254/254 [==============================] - 0s 2ms/step - loss: 417069072384.0000 - val_loss: 416593543168.0000\n",
      "Epoch 7/100\n",
      "254/254 [==============================] - 0s 2ms/step - loss: 421946884096.0000 - val_loss: 416632832000.0000\n",
      "Epoch 8/100\n",
      "254/254 [==============================] - 0s 2ms/step - loss: 417371291648.0000 - val_loss: 416632242176.0000\n",
      "Epoch 9/100\n",
      "254/254 [==============================] - 0s 2ms/step - loss: 417370734592.0000 - val_loss: 416631586816.0000\n",
      "Epoch 10/100\n",
      "254/254 [==============================] - 0s 2ms/step - loss: 417370013696.0000 - val_loss: 416630898688.0000\n",
      "Epoch 11/100\n",
      "254/254 [==============================] - 0s 2ms/step - loss: 417369194496.0000 - val_loss: 416630210560.0000\n",
      "Epoch 12/100\n",
      "254/254 [==============================] - 0s 2ms/step - loss: 417368670208.0000 - val_loss: 416629391360.0000\n",
      "Epoch 13/100\n",
      "254/254 [==============================] - 0s 2ms/step - loss: 417367818240.0000 - val_loss: 416628703232.0000\n",
      "Epoch 14/100\n",
      "254/254 [==============================] - 0s 2ms/step - loss: 417367359488.0000 - val_loss: 416628113408.0000\n",
      "Epoch 15/100\n",
      "254/254 [==============================] - 0s 2ms/step - loss: 417366736896.0000 - val_loss: 416627392512.0000\n",
      "Epoch 16/100\n",
      "254/254 [==============================] - 0s 2ms/step - loss: 417365196800.0000 - val_loss: 416624640000.0000\n",
      "127/127 [==============================] - 0s 1ms/step - loss: 423337426944.0000\n",
      "[CV] END learning_rate=2.2810708269503286e-09, n_hidden=3, n_neurons=32; total time=   8.0s\n",
      "Epoch 1/100\n",
      "254/254 [==============================] - 1s 2ms/step - loss: 426101702656.0000 - val_loss: 416667172864.0000\n",
      "Epoch 2/100\n",
      "254/254 [==============================] - 0s 2ms/step - loss: 425876357120.0000 - val_loss: 416636174336.0000\n",
      "Epoch 3/100\n",
      "254/254 [==============================] - 0s 2ms/step - loss: 425874915328.0000 - val_loss: 416635551744.0000\n",
      "Epoch 4/100\n",
      "254/254 [==============================] - 0s 2ms/step - loss: 425874325504.0000 - val_loss: 416634798080.0000\n",
      "Epoch 5/100\n",
      "254/254 [==============================] - 0s 2ms/step - loss: 425873571840.0000 - val_loss: 416634011648.0000\n",
      "Epoch 6/100\n",
      "254/254 [==============================] - 0s 2ms/step - loss: 425872949248.0000 - val_loss: 416633356288.0000\n",
      "Epoch 7/100\n",
      "254/254 [==============================] - 0s 2ms/step - loss: 425872097280.0000 - val_loss: 416632569856.0000\n",
      "Epoch 8/100\n",
      "254/254 [==============================] - 0s 2ms/step - loss: 425871507456.0000 - val_loss: 416631816192.0000\n",
      "Epoch 9/100\n",
      "254/254 [==============================] - 0s 2ms/step - loss: 425870458880.0000 - val_loss: 416630407168.0000\n",
      "Epoch 10/100\n",
      "254/254 [==============================] - 0s 2ms/step - loss: 431055929344.0000 - val_loss: 416630931456.0000\n",
      "Epoch 11/100\n",
      "254/254 [==============================] - 0s 2ms/step - loss: 425869770752.0000 - val_loss: 416630112256.0000\n",
      "Epoch 12/100\n",
      "254/254 [==============================] - 0s 2ms/step - loss: 425868886016.0000 - val_loss: 416629391360.0000\n",
      "Epoch 13/100\n",
      "254/254 [==============================] - 0s 2ms/step - loss: 425868361728.0000 - val_loss: 416628670464.0000\n",
      "Epoch 14/100\n",
      "254/254 [==============================] - 0s 2ms/step - loss: 425867575296.0000 - val_loss: 416628080640.0000\n",
      "Epoch 15/100\n",
      "254/254 [==============================] - 0s 2ms/step - loss: 425866657792.0000 - val_loss: 416627163136.0000\n",
      "Epoch 16/100\n",
      "254/254 [==============================] - 0s 2ms/step - loss: 425865412608.0000 - val_loss: 416624836608.0000\n",
      "Epoch 17/100\n",
      "254/254 [==============================] - 0s 2ms/step - loss: 425860333568.0000 - val_loss: 416612843520.0000\n",
      "Epoch 18/100\n",
      "254/254 [==============================] - 0s 2ms/step - loss: nan - val_loss: nan\n",
      "Epoch 19/100\n",
      "254/254 [==============================] - 0s 2ms/step - loss: nan - val_loss: nan\n",
      "Epoch 20/100\n",
      "254/254 [==============================] - 0s 2ms/step - loss: nan - val_loss: nan\n",
      "Epoch 21/100\n",
      "254/254 [==============================] - 0s 2ms/step - loss: nan - val_loss: nan\n",
      "Epoch 22/100\n",
      "254/254 [==============================] - 0s 2ms/step - loss: nan - val_loss: nan\n",
      "Epoch 23/100\n",
      "254/254 [==============================] - 0s 2ms/step - loss: nan - val_loss: nan\n",
      "Epoch 24/100\n",
      "254/254 [==============================] - 0s 2ms/step - loss: nan - val_loss: nan\n",
      "Epoch 25/100\n",
      "254/254 [==============================] - 0s 2ms/step - loss: nan - val_loss: nan\n",
      "Epoch 26/100\n",
      "254/254 [==============================] - 0s 2ms/step - loss: nan - val_loss: nan\n",
      "Epoch 27/100\n",
      "254/254 [==============================] - 0s 2ms/step - loss: nan - val_loss: nan\n",
      "127/127 [==============================] - 0s 1ms/step - loss: nan\n",
      "[CV] END learning_rate=2.2810708269503286e-09, n_hidden=3, n_neurons=32; total time=  13.1s\n",
      "Epoch 1/100\n",
      "254/254 [==============================] - 1s 2ms/step - loss: 426476470272.0000 - val_loss: 416635846656.0000\n",
      "Epoch 2/100\n",
      "254/254 [==============================] - 0s 2ms/step - loss: 467214401536.0000 - val_loss: 416634437632.0000\n",
      "Epoch 3/100\n",
      "254/254 [==============================] - 0s 2ms/step - loss: 414845927424.0000 - val_loss: 416632668160.0000\n",
      "Epoch 4/100\n",
      "254/254 [==============================] - 0s 2ms/step - loss: 414844321792.0000 - val_loss: 416631128064.0000\n",
      "Epoch 5/100\n",
      "254/254 [==============================] - 0s 2ms/step - loss: 414842716160.0000 - val_loss: 416629522432.0000\n",
      "Epoch 6/100\n",
      "254/254 [==============================] - 0s 2ms/step - loss: 414841110528.0000 - val_loss: 416627884032.0000\n",
      "Epoch 7/100\n",
      "254/254 [==============================] - 0s 2ms/step - loss: 414839537664.0000 - val_loss: 416626278400.0000\n",
      "Epoch 8/100\n",
      "254/254 [==============================] - 0s 2ms/step - loss: 414837833728.0000 - val_loss: 416624607232.0000\n",
      "Epoch 9/100\n",
      "254/254 [==============================] - 0s 2ms/step - loss: 414836228096.0000 - val_loss: 416623099904.0000\n",
      "Epoch 10/100\n",
      "254/254 [==============================] - 0s 2ms/step - loss: 414834622464.0000 - val_loss: 416621428736.0000\n",
      "Epoch 11/100\n",
      "254/254 [==============================] - 0s 2ms/step - loss: 414833016832.0000 - val_loss: 416619888640.0000\n",
      "Epoch 12/100\n",
      "254/254 [==============================] - 0s 2ms/step - loss: 414831542272.0000 - val_loss: 416618151936.0000\n",
      "Epoch 13/100\n",
      "254/254 [==============================] - 0s 2ms/step - loss: 414829936640.0000 - val_loss: 416616546304.0000\n",
      "Epoch 14/100\n",
      "254/254 [==============================] - 0s 2ms/step - loss: 414828232704.0000 - val_loss: 416615006208.0000\n",
      "Epoch 15/100\n",
      "254/254 [==============================] - 0s 2ms/step - loss: 414826659840.0000 - val_loss: 416613498880.0000\n",
      "Epoch 16/100\n",
      "254/254 [==============================] - 0s 2ms/step - loss: 414825185280.0000 - val_loss: 416611696640.0000\n",
      "Epoch 17/100\n",
      "254/254 [==============================] - 0s 2ms/step - loss: 414823546880.0000 - val_loss: 416610189312.0000\n",
      "Epoch 18/100\n",
      "254/254 [==============================] - 0s 2ms/step - loss: 414821941248.0000 - val_loss: 416608583680.0000\n",
      "Epoch 19/100\n",
      "254/254 [==============================] - 0s 2ms/step - loss: 414820237312.0000 - val_loss: 416606814208.0000\n",
      "Epoch 20/100\n",
      "254/254 [==============================] - 0s 2ms/step - loss: 414818566144.0000 - val_loss: 416605437952.0000\n",
      "Epoch 21/100\n",
      "254/254 [==============================] - 0s 2ms/step - loss: 414817157120.0000 - val_loss: 416603668480.0000\n",
      "Epoch 22/100\n",
      "254/254 [==============================] - 1s 2ms/step - loss: 414815518720.0000 - val_loss: 416602062848.0000\n",
      "Epoch 23/100\n",
      "254/254 [==============================] - 0s 2ms/step - loss: 414813716480.0000 - val_loss: 416600522752.0000\n",
      "Epoch 24/100\n",
      "254/254 [==============================] - 0s 2ms/step - loss: 414812209152.0000 - val_loss: 416598917120.0000\n",
      "Epoch 25/100\n",
      "254/254 [==============================] - 0s 2ms/step - loss: 414810636288.0000 - val_loss: 416597213184.0000\n",
      "Epoch 26/100\n",
      "254/254 [==============================] - 1s 2ms/step - loss: 414809292800.0000 - val_loss: 416595771392.0000\n",
      "Epoch 27/100\n",
      "254/254 [==============================] - 1s 2ms/step - loss: 414807490560.0000 - val_loss: 416594001920.0000\n",
      "Epoch 28/100\n",
      "254/254 [==============================] - 0s 2ms/step - loss: 414805852160.0000 - val_loss: 416592527360.0000\n",
      "Epoch 29/100\n",
      "254/254 [==============================] - 0s 2ms/step - loss: 414804344832.0000 - val_loss: 416590659584.0000\n",
      "Epoch 30/100\n",
      "254/254 [==============================] - 0s 2ms/step - loss: 414802575360.0000 - val_loss: 416589250560.0000\n",
      "Epoch 31/100\n",
      "254/254 [==============================] - 0s 2ms/step - loss: 414800838656.0000 - val_loss: 416587546624.0000\n",
      "Epoch 32/100\n",
      "254/254 [==============================] - 0s 2ms/step - loss: 414799593472.0000 - val_loss: 416585973760.0000\n",
      "Epoch 33/100\n",
      "254/254 [==============================] - 0s 2ms/step - loss: 414797955072.0000 - val_loss: 416584433664.0000\n",
      "Epoch 34/100\n",
      "254/254 [==============================] - 0s 2ms/step - loss: 414796152832.0000 - val_loss: 416582729728.0000\n",
      "Epoch 35/100\n",
      "254/254 [==============================] - 0s 2ms/step - loss: 414794776576.0000 - val_loss: 416581189632.0000\n",
      "Epoch 36/100\n",
      "254/254 [==============================] - 0s 2ms/step - loss: 414793138176.0000 - val_loss: 416579485696.0000\n",
      "Epoch 37/100\n",
      "254/254 [==============================] - 0s 2ms/step - loss: 414791401472.0000 - val_loss: 416578011136.0000\n",
      "Epoch 38/100\n",
      "254/254 [==============================] - 0s 2ms/step - loss: 414789763072.0000 - val_loss: 416576405504.0000\n",
      "Epoch 39/100\n",
      "254/254 [==============================] - 0s 2ms/step - loss: 414788255744.0000 - val_loss: 416574603264.0000\n",
      "Epoch 40/100\n",
      "254/254 [==============================] - 0s 2ms/step - loss: 414786617344.0000 - val_loss: 416573128704.0000\n",
      "Epoch 41/100\n",
      "254/254 [==============================] - 0s 2ms/step - loss: 414785110016.0000 - val_loss: 416571621376.0000\n",
      "Epoch 42/100\n",
      "254/254 [==============================] - 0s 2ms/step - loss: 414783537152.0000 - val_loss: 416569851904.0000\n",
      "Epoch 43/100\n",
      "254/254 [==============================] - 0s 2ms/step - loss: 414781997056.0000 - val_loss: 416568311808.0000\n",
      "Epoch 44/100\n",
      "254/254 [==============================] - 0s 2ms/step - loss: 414780227584.0000 - val_loss: 416566771712.0000\n",
      "Epoch 45/100\n",
      "254/254 [==============================] - 0s 2ms/step - loss: 414778458112.0000 - val_loss: 416565035008.0000\n",
      "Epoch 46/100\n",
      "254/254 [==============================] - 0s 2ms/step - loss: 414777180160.0000 - val_loss: 416563494912.0000\n",
      "Epoch 47/100\n",
      "254/254 [==============================] - 0s 2ms/step - loss: 414775148544.0000 - val_loss: 416561922048.0000\n",
      "Epoch 48/100\n",
      "254/254 [==============================] - 0s 2ms/step - loss: 414773739520.0000 - val_loss: 416560119808.0000\n",
      "Epoch 49/100\n",
      "254/254 [==============================] - 0s 2ms/step - loss: 414772264960.0000 - val_loss: 416558645248.0000\n",
      "Epoch 50/100\n",
      "254/254 [==============================] - 0s 2ms/step - loss: 414770626560.0000 - val_loss: 416557039616.0000\n",
      "Epoch 51/100\n",
      "254/254 [==============================] - 0s 2ms/step - loss: 414768988160.0000 - val_loss: 416555335680.0000\n",
      "Epoch 52/100\n",
      "254/254 [==============================] - 0s 2ms/step - loss: 414767448064.0000 - val_loss: 416553828352.0000\n",
      "Epoch 53/100\n",
      "254/254 [==============================] - 0s 2ms/step - loss: 414765842432.0000 - val_loss: 416552157184.0000\n",
      "Epoch 54/100\n",
      "254/254 [==============================] - 0s 2ms/step - loss: 414764171264.0000 - val_loss: 416550551552.0000\n",
      "Epoch 55/100\n",
      "254/254 [==============================] - 0s 2ms/step - loss: 414762696704.0000 - val_loss: 416548945920.0000\n",
      "Epoch 56/100\n",
      "254/254 [==============================] - 0s 2ms/step - loss: 414760861696.0000 - val_loss: 416547176448.0000\n",
      "Epoch 57/100\n",
      "254/254 [==============================] - 0s 2ms/step - loss: 414759321600.0000 - val_loss: 416545800192.0000\n",
      "Epoch 58/100\n",
      "254/254 [==============================] - 0s 2ms/step - loss: 414757683200.0000 - val_loss: 416544129024.0000\n",
      "Epoch 59/100\n",
      "254/254 [==============================] - 0s 2ms/step - loss: 414756143104.0000 - val_loss: 416542588928.0000\n",
      "Epoch 60/100\n",
      "254/254 [==============================] - 0s 2ms/step - loss: 414754504704.0000 - val_loss: 416540852224.0000\n",
      "Epoch 61/100\n",
      "254/254 [==============================] - 0s 2ms/step - loss: 414752964608.0000 - val_loss: 416539148288.0000\n",
      "Epoch 62/100\n",
      "254/254 [==============================] - 0s 2ms/step - loss: 414750998528.0000 - val_loss: 416536330240.0000\n",
      "Epoch 63/100\n",
      "254/254 [==============================] - 0s 2ms/step - loss: 414746902528.0000 - val_loss: 416530464768.0000\n",
      "Epoch 64/100\n",
      "254/254 [==============================] - 0s 2ms/step - loss: 414736482304.0000 - val_loss: 416512114688.0000\n",
      "Epoch 65/100\n",
      "254/254 [==============================] - 0s 2ms/step - loss: 414701453312.0000 - val_loss: 416445988864.0000\n",
      "Epoch 66/100\n",
      "254/254 [==============================] - 0s 2ms/step - loss: 113770528261784282857472.0000 - val_loss: 350528241664.0000\n",
      "Epoch 67/100\n",
      "254/254 [==============================] - 0s 2ms/step - loss: 349048307712.0000 - val_loss: 350527029248.0000\n",
      "Epoch 68/100\n",
      "254/254 [==============================] - 0s 2ms/step - loss: 349047128064.0000 - val_loss: 350526111744.0000\n",
      "Epoch 69/100\n",
      "254/254 [==============================] - 0s 2ms/step - loss: 349046112256.0000 - val_loss: 350524866560.0000\n",
      "Epoch 70/100\n",
      "254/254 [==============================] - 0s 2ms/step - loss: 349045030912.0000 - val_loss: 350523916288.0000\n",
      "Epoch 71/100\n",
      "254/254 [==============================] - 0s 2ms/step - loss: 349044015104.0000 - val_loss: 350522769408.0000\n",
      "Epoch 72/100\n",
      "254/254 [==============================] - 0s 2ms/step - loss: 349042737152.0000 - val_loss: 350521720832.0000\n",
      "Epoch 73/100\n",
      "254/254 [==============================] - 0s 2ms/step - loss: 349041688576.0000 - val_loss: 350520639488.0000\n",
      "Epoch 74/100\n",
      "254/254 [==============================] - 0s 2ms/step - loss: 349040476160.0000 - val_loss: 350519558144.0000\n",
      "Epoch 75/100\n",
      "254/254 [==============================] - 0s 2ms/step - loss: 349039460352.0000 - val_loss: 350518411264.0000\n",
      "Epoch 76/100\n",
      "254/254 [==============================] - 0s 2ms/step - loss: 349038673920.0000 - val_loss: 350517362688.0000\n",
      "Epoch 77/100\n",
      "254/254 [==============================] - 0s 2ms/step - loss: 349037363200.0000 - val_loss: 350516215808.0000\n",
      "Epoch 78/100\n",
      "254/254 [==============================] - 0s 2ms/step - loss: 349036544000.0000 - val_loss: 350515167232.0000\n",
      "Epoch 79/100\n",
      "254/254 [==============================] - 0s 2ms/step - loss: 349035298816.0000 - val_loss: 350514020352.0000\n",
      "Epoch 80/100\n",
      "254/254 [==============================] - 0s 2ms/step - loss: 349034020864.0000 - val_loss: 350513037312.0000\n",
      "Epoch 81/100\n",
      "254/254 [==============================] - 0s 2ms/step - loss: 349033201664.0000 - val_loss: 350511890432.0000\n",
      "Epoch 82/100\n",
      "254/254 [==============================] - 0s 2ms/step - loss: 349031956480.0000 - val_loss: 350510710784.0000\n",
      "Epoch 83/100\n",
      "254/254 [==============================] - 0s 2ms/step - loss: 349030907904.0000 - val_loss: 350509760512.0000\n",
      "Epoch 84/100\n",
      "254/254 [==============================] - 1s 2ms/step - loss: 349029859328.0000 - val_loss: 350508679168.0000\n",
      "Epoch 85/100\n",
      "254/254 [==============================] - 0s 2ms/step - loss: 349028712448.0000 - val_loss: 350507630592.0000\n",
      "Epoch 86/100\n",
      "254/254 [==============================] - 0s 2ms/step - loss: 349027532800.0000 - val_loss: 350506582016.0000\n",
      "Epoch 87/100\n",
      "254/254 [==============================] - 0s 2ms/step - loss: 349026484224.0000 - val_loss: 350505435136.0000\n",
      "Epoch 88/100\n",
      "254/254 [==============================] - 0s 2ms/step - loss: 349025665024.0000 - val_loss: 350504353792.0000\n",
      "Epoch 89/100\n",
      "254/254 [==============================] - 0s 2ms/step - loss: 349024485376.0000 - val_loss: 350503305216.0000\n",
      "Epoch 90/100\n",
      "254/254 [==============================] - 0s 2ms/step - loss: 349023436800.0000 - val_loss: 350502289408.0000\n",
      "Epoch 91/100\n",
      "254/254 [==============================] - 0s 2ms/step - loss: 349022289920.0000 - val_loss: 350501109760.0000\n",
      "Epoch 92/100\n",
      "254/254 [==============================] - 0s 2ms/step - loss: 349021339648.0000 - val_loss: 350499962880.0000\n",
      "Epoch 93/100\n",
      "254/254 [==============================] - 0s 2ms/step - loss: 349020258304.0000 - val_loss: 350499143680.0000\n",
      "Epoch 94/100\n",
      "254/254 [==============================] - 0s 2ms/step - loss: 349019144192.0000 - val_loss: 350497964032.0000\n",
      "Epoch 95/100\n",
      "254/254 [==============================] - 0s 2ms/step - loss: 349018292224.0000 - val_loss: 350496718848.0000\n",
      "Epoch 96/100\n",
      "254/254 [==============================] - 0s 2ms/step - loss: 349017047040.0000 - val_loss: 350495670272.0000\n",
      "Epoch 97/100\n",
      "254/254 [==============================] - 0s 2ms/step - loss: 349015965696.0000 - val_loss: 350494654464.0000\n",
      "Epoch 98/100\n",
      "254/254 [==============================] - 0s 2ms/step - loss: 349014818816.0000 - val_loss: 350493671424.0000\n",
      "Epoch 99/100\n",
      "254/254 [==============================] - 0s 2ms/step - loss: 349013671936.0000 - val_loss: 350492524544.0000\n",
      "Epoch 100/100\n",
      "254/254 [==============================] - 0s 2ms/step - loss: 349012721664.0000 - val_loss: 350491344896.0000\n",
      "127/127 [==============================] - 0s 1ms/step - loss: 362709155840.0000\n",
      "[CV] END learning_rate=5.469715383424897e-09, n_hidden=3, n_neurons=19; total time=  45.5s\n",
      "Epoch 1/100\n",
      "254/254 [==============================] - 1s 2ms/step - loss: 1214093416712461873657675776.0000 - val_loss: 3714605645824.0000\n",
      "Epoch 2/100\n",
      "254/254 [==============================] - 0s 2ms/step - loss: 3703691804672.0000 - val_loss: 3714605645824.0000\n",
      "Epoch 3/100\n",
      "254/254 [==============================] - 0s 2ms/step - loss: 3703693115392.0000 - val_loss: 3714605645824.0000\n",
      "Epoch 4/100\n",
      "254/254 [==============================] - 0s 2ms/step - loss: 3703693901824.0000 - val_loss: 3714605645824.0000\n",
      "Epoch 5/100\n",
      "254/254 [==============================] - 0s 2ms/step - loss: 3703694688256.0000 - val_loss: 3714605645824.0000\n",
      "Epoch 6/100\n",
      "254/254 [==============================] - 0s 2ms/step - loss: 3703693639680.0000 - val_loss: 3714605645824.0000\n",
      "Epoch 7/100\n",
      "254/254 [==============================] - 0s 2ms/step - loss: 3703691542528.0000 - val_loss: 3714605645824.0000\n",
      "Epoch 8/100\n",
      "254/254 [==============================] - 0s 2ms/step - loss: 3703691018240.0000 - val_loss: 3714605645824.0000\n",
      "Epoch 9/100\n",
      "254/254 [==============================] - 0s 2ms/step - loss: 3703694426112.0000 - val_loss: 3714605645824.0000\n",
      "Epoch 10/100\n",
      "254/254 [==============================] - 0s 2ms/step - loss: 3703692853248.0000 - val_loss: 3714605645824.0000\n",
      "Epoch 11/100\n",
      "254/254 [==============================] - 0s 2ms/step - loss: 3703692066816.0000 - val_loss: 3714605645824.0000\n",
      "127/127 [==============================] - 0s 1ms/step - loss: 3722424614912.0000\n",
      "[CV] END learning_rate=5.469715383424897e-09, n_hidden=3, n_neurons=19; total time=   5.6s\n",
      "Epoch 1/100\n",
      "254/254 [==============================] - 1s 2ms/step - loss: nan - val_loss: nan\n",
      "Epoch 2/100\n",
      "254/254 [==============================] - 0s 2ms/step - loss: nan - val_loss: nan\n",
      "Epoch 3/100\n",
      "254/254 [==============================] - 0s 2ms/step - loss: nan - val_loss: nan\n",
      "Epoch 4/100\n",
      "254/254 [==============================] - 0s 2ms/step - loss: nan - val_loss: nan\n",
      "Epoch 5/100\n",
      "254/254 [==============================] - 0s 2ms/step - loss: nan - val_loss: nan\n",
      "Epoch 6/100\n",
      "254/254 [==============================] - 0s 2ms/step - loss: nan - val_loss: nan\n",
      "Epoch 7/100\n",
      "254/254 [==============================] - 0s 2ms/step - loss: nan - val_loss: nan\n",
      "Epoch 8/100\n",
      "254/254 [==============================] - 0s 2ms/step - loss: nan - val_loss: nan\n",
      "Epoch 9/100\n",
      "254/254 [==============================] - 0s 2ms/step - loss: nan - val_loss: nan\n",
      "Epoch 10/100\n",
      "254/254 [==============================] - 0s 2ms/step - loss: nan - val_loss: nan\n",
      "127/127 [==============================] - 0s 1ms/step - loss: nan\n",
      "[CV] END learning_rate=5.469715383424897e-09, n_hidden=3, n_neurons=19; total time=   5.3s\n",
      "Epoch 1/100\n",
      "254/254 [==============================] - 1s 2ms/step - loss: 414787108864.0000 - val_loss: 416268746752.0000\n",
      "Epoch 2/100\n",
      "254/254 [==============================] - 0s 2ms/step - loss: 396092702720.0000 - val_loss: 319693750272.0000\n",
      "Epoch 3/100\n",
      "254/254 [==============================] - 0s 2ms/step - loss: 166470778880.0000 - val_loss: 102424166400.0000\n",
      "Epoch 4/100\n",
      "254/254 [==============================] - 0s 2ms/step - loss: 75292958720.0000 - val_loss: 44870176768.0000\n",
      "Epoch 5/100\n",
      "254/254 [==============================] - 0s 2ms/step - loss: 42526474240.0000 - val_loss: 36852539392.0000\n",
      "Epoch 6/100\n",
      "254/254 [==============================] - 0s 2ms/step - loss: 39592161280.0000 - val_loss: 36396642304.0000\n",
      "Epoch 7/100\n",
      "254/254 [==============================] - 0s 2ms/step - loss: 39127330816.0000 - val_loss: 35795939328.0000\n",
      "Epoch 8/100\n",
      "254/254 [==============================] - 0s 2ms/step - loss: 38693928960.0000 - val_loss: 35503480832.0000\n",
      "Epoch 9/100\n",
      "254/254 [==============================] - 0s 2ms/step - loss: 38359863296.0000 - val_loss: 35211403264.0000\n",
      "Epoch 10/100\n",
      "254/254 [==============================] - 0s 2ms/step - loss: 38056300544.0000 - val_loss: 34975551488.0000\n",
      "Epoch 11/100\n",
      "254/254 [==============================] - 0s 2ms/step - loss: 37887922176.0000 - val_loss: 34634166272.0000\n",
      "Epoch 12/100\n",
      "254/254 [==============================] - 0s 2ms/step - loss: 37539696640.0000 - val_loss: 34702438400.0000\n",
      "Epoch 13/100\n",
      "254/254 [==============================] - 0s 2ms/step - loss: 37412913152.0000 - val_loss: 34202220544.0000\n",
      "Epoch 14/100\n",
      "254/254 [==============================] - 1s 2ms/step - loss: 37113831424.0000 - val_loss: 34290784256.0000\n",
      "Epoch 15/100\n",
      "254/254 [==============================] - 0s 2ms/step - loss: 36959432704.0000 - val_loss: 33743316992.0000\n",
      "Epoch 16/100\n",
      "254/254 [==============================] - 0s 2ms/step - loss: 36748066816.0000 - val_loss: 33516224512.0000\n",
      "Epoch 17/100\n",
      "254/254 [==============================] - 0s 2ms/step - loss: 36468047872.0000 - val_loss: 33299335168.0000\n",
      "Epoch 18/100\n",
      "254/254 [==============================] - 0s 2ms/step - loss: 36124282880.0000 - val_loss: 33041082368.0000\n",
      "Epoch 19/100\n",
      "254/254 [==============================] - 0s 2ms/step - loss: 35985887232.0000 - val_loss: 32701130752.0000\n",
      "Epoch 20/100\n",
      "254/254 [==============================] - 0s 2ms/step - loss: 35749548032.0000 - val_loss: 32549128192.0000\n",
      "Epoch 21/100\n",
      "254/254 [==============================] - 0s 2ms/step - loss: 35531689984.0000 - val_loss: 32154626048.0000\n",
      "Epoch 22/100\n",
      "254/254 [==============================] - 0s 2ms/step - loss: 35242115072.0000 - val_loss: 32111380480.0000\n",
      "Epoch 23/100\n",
      "254/254 [==============================] - 0s 2ms/step - loss: 35077648384.0000 - val_loss: 32126683136.0000\n",
      "Epoch 24/100\n",
      "254/254 [==============================] - 0s 2ms/step - loss: 34907156480.0000 - val_loss: 31614670848.0000\n",
      "Epoch 25/100\n",
      "254/254 [==============================] - 0s 2ms/step - loss: 34589548544.0000 - val_loss: 31812065280.0000\n",
      "Epoch 26/100\n",
      "254/254 [==============================] - 0s 2ms/step - loss: 34541092864.0000 - val_loss: 31341416448.0000\n",
      "Epoch 27/100\n",
      "254/254 [==============================] - 0s 2ms/step - loss: 34242924544.0000 - val_loss: 31211501568.0000\n",
      "Epoch 28/100\n",
      "254/254 [==============================] - 0s 2ms/step - loss: 34187212800.0000 - val_loss: 31002572800.0000\n",
      "Epoch 29/100\n",
      "254/254 [==============================] - 0s 2ms/step - loss: 34048550912.0000 - val_loss: 30933118976.0000\n",
      "Epoch 30/100\n",
      "254/254 [==============================] - 0s 2ms/step - loss: 33904644096.0000 - val_loss: 30874183680.0000\n",
      "Epoch 31/100\n",
      "254/254 [==============================] - 0s 2ms/step - loss: 33849382912.0000 - val_loss: 30804807680.0000\n",
      "Epoch 32/100\n",
      "254/254 [==============================] - 0s 2ms/step - loss: 33688242176.0000 - val_loss: 30933680128.0000\n",
      "Epoch 33/100\n",
      "254/254 [==============================] - 0s 2ms/step - loss: 33508032512.0000 - val_loss: 30509594624.0000\n",
      "Epoch 34/100\n",
      "254/254 [==============================] - 0s 2ms/step - loss: 33486020608.0000 - val_loss: 30453307392.0000\n",
      "Epoch 35/100\n",
      "254/254 [==============================] - 0s 2ms/step - loss: 33287831552.0000 - val_loss: 30642857984.0000\n",
      "Epoch 36/100\n",
      "254/254 [==============================] - 0s 2ms/step - loss: 33247000576.0000 - val_loss: 30434455552.0000\n",
      "Epoch 37/100\n",
      "254/254 [==============================] - 0s 2ms/step - loss: 33207146496.0000 - val_loss: 30154647552.0000\n",
      "Epoch 38/100\n",
      "254/254 [==============================] - 0s 2ms/step - loss: 33147418624.0000 - val_loss: 30331676672.0000\n",
      "Epoch 39/100\n",
      "254/254 [==============================] - 0s 2ms/step - loss: 33104574464.0000 - val_loss: 30247565312.0000\n",
      "Epoch 40/100\n",
      "254/254 [==============================] - 0s 2ms/step - loss: 32987529216.0000 - val_loss: 30368118784.0000\n",
      "Epoch 41/100\n",
      "254/254 [==============================] - 0s 2ms/step - loss: 32920133632.0000 - val_loss: 29961496576.0000\n",
      "Epoch 42/100\n",
      "254/254 [==============================] - 0s 2ms/step - loss: 32895371264.0000 - val_loss: 29930602496.0000\n",
      "Epoch 43/100\n",
      "254/254 [==============================] - 0s 2ms/step - loss: 32789886976.0000 - val_loss: 29942337536.0000\n",
      "Epoch 44/100\n",
      "254/254 [==============================] - 0s 2ms/step - loss: 32747638784.0000 - val_loss: 29991168000.0000\n",
      "Epoch 45/100\n",
      "254/254 [==============================] - 0s 2ms/step - loss: 32735342592.0000 - val_loss: 29772509184.0000\n",
      "Epoch 46/100\n",
      "254/254 [==============================] - 0s 2ms/step - loss: 32587409408.0000 - val_loss: 30442870784.0000\n",
      "Epoch 47/100\n",
      "254/254 [==============================] - 0s 2ms/step - loss: 32572057600.0000 - val_loss: 29601693696.0000\n",
      "Epoch 48/100\n",
      "254/254 [==============================] - 0s 2ms/step - loss: 32528896000.0000 - val_loss: 30020474880.0000\n",
      "Epoch 49/100\n",
      "254/254 [==============================] - 0s 2ms/step - loss: 32591241216.0000 - val_loss: 29578293248.0000\n",
      "Epoch 50/100\n",
      "254/254 [==============================] - 0s 2ms/step - loss: 32346443776.0000 - val_loss: 30024906752.0000\n",
      "Epoch 51/100\n",
      "254/254 [==============================] - 0s 2ms/step - loss: 32469972992.0000 - val_loss: 29835831296.0000\n",
      "Epoch 52/100\n",
      "254/254 [==============================] - 0s 2ms/step - loss: 32369084416.0000 - val_loss: 29509871616.0000\n",
      "Epoch 53/100\n",
      "254/254 [==============================] - 0s 2ms/step - loss: 32312461312.0000 - val_loss: 29796136960.0000\n",
      "Epoch 54/100\n",
      "254/254 [==============================] - 0s 2ms/step - loss: 32277749760.0000 - val_loss: 29440587776.0000\n",
      "Epoch 55/100\n",
      "254/254 [==============================] - 0s 2ms/step - loss: 32248645632.0000 - val_loss: 29462454272.0000\n",
      "Epoch 56/100\n",
      "254/254 [==============================] - 0s 2ms/step - loss: 32187983872.0000 - val_loss: 29453176832.0000\n",
      "Epoch 57/100\n",
      "254/254 [==============================] - 0s 2ms/step - loss: 32121141248.0000 - val_loss: 29555580928.0000\n",
      "Epoch 58/100\n",
      "254/254 [==============================] - 0s 2ms/step - loss: 32108085248.0000 - val_loss: 29534636032.0000\n",
      "Epoch 59/100\n",
      "254/254 [==============================] - 0s 2ms/step - loss: 32140775424.0000 - val_loss: 29326958592.0000\n",
      "Epoch 60/100\n",
      "254/254 [==============================] - 0s 2ms/step - loss: 32140937216.0000 - val_loss: 29260572672.0000\n",
      "Epoch 61/100\n",
      "254/254 [==============================] - 0s 2ms/step - loss: 31914940416.0000 - val_loss: 29473204224.0000\n",
      "Epoch 62/100\n",
      "254/254 [==============================] - 0s 2ms/step - loss: 31993214976.0000 - val_loss: 29215952896.0000\n",
      "Epoch 63/100\n",
      "254/254 [==============================] - 0s 2ms/step - loss: 32003600384.0000 - val_loss: 29247053824.0000\n",
      "Epoch 64/100\n",
      "254/254 [==============================] - 0s 2ms/step - loss: 31897370624.0000 - val_loss: 29449758720.0000\n",
      "Epoch 65/100\n",
      "254/254 [==============================] - 0s 2ms/step - loss: 31932383232.0000 - val_loss: 29136953344.0000\n",
      "Epoch 66/100\n",
      "254/254 [==============================] - 0s 2ms/step - loss: 31849848832.0000 - val_loss: 29109866496.0000\n",
      "Epoch 67/100\n",
      "254/254 [==============================] - 0s 2ms/step - loss: 31681351680.0000 - val_loss: 29428107264.0000\n",
      "Epoch 68/100\n",
      "254/254 [==============================] - 0s 2ms/step - loss: 31787460608.0000 - val_loss: 29069832192.0000\n",
      "Epoch 69/100\n",
      "254/254 [==============================] - 0s 2ms/step - loss: 31743399936.0000 - val_loss: 28964399104.0000\n",
      "Epoch 70/100\n",
      "254/254 [==============================] - 0s 2ms/step - loss: 31778609152.0000 - val_loss: 29049126912.0000\n",
      "Epoch 71/100\n",
      "254/254 [==============================] - 0s 2ms/step - loss: 31751337984.0000 - val_loss: 28928460800.0000\n",
      "Epoch 72/100\n",
      "254/254 [==============================] - 0s 2ms/step - loss: 31517419520.0000 - val_loss: 29176815616.0000\n",
      "Epoch 73/100\n",
      "254/254 [==============================] - 0s 2ms/step - loss: 31673241600.0000 - val_loss: 28998103040.0000\n",
      "Epoch 74/100\n",
      "254/254 [==============================] - 0s 2ms/step - loss: 31611265024.0000 - val_loss: 29158868992.0000\n",
      "Epoch 75/100\n",
      "254/254 [==============================] - 0s 2ms/step - loss: 31609155584.0000 - val_loss: 28861472768.0000\n",
      "Epoch 76/100\n",
      "254/254 [==============================] - 0s 2ms/step - loss: 31531937792.0000 - val_loss: 29090299904.0000\n",
      "Epoch 77/100\n",
      "254/254 [==============================] - 0s 2ms/step - loss: 31565793280.0000 - val_loss: 28901019648.0000\n",
      "Epoch 78/100\n",
      "254/254 [==============================] - 0s 2ms/step - loss: 31531198464.0000 - val_loss: 28858531840.0000\n",
      "Epoch 79/100\n",
      "254/254 [==============================] - 0s 2ms/step - loss: 31381534720.0000 - val_loss: 28979900416.0000\n",
      "Epoch 80/100\n",
      "254/254 [==============================] - 0s 2ms/step - loss: 31458654208.0000 - val_loss: 28781103104.0000\n",
      "Epoch 81/100\n",
      "254/254 [==============================] - 0s 2ms/step - loss: 31374409728.0000 - val_loss: 29211930624.0000\n",
      "Epoch 82/100\n",
      "254/254 [==============================] - 0s 2ms/step - loss: 31432466432.0000 - val_loss: 28980465664.0000\n",
      "Epoch 83/100\n",
      "254/254 [==============================] - 0s 2ms/step - loss: 31279419392.0000 - val_loss: 28681684992.0000\n",
      "Epoch 84/100\n",
      "254/254 [==============================] - 0s 2ms/step - loss: 31259574272.0000 - val_loss: 28791736320.0000\n",
      "Epoch 85/100\n",
      "254/254 [==============================] - 0s 2ms/step - loss: 31365763072.0000 - val_loss: 28753967104.0000\n",
      "Epoch 86/100\n",
      "254/254 [==============================] - 0s 2ms/step - loss: 31171792896.0000 - val_loss: 28781004800.0000\n",
      "Epoch 87/100\n",
      "254/254 [==============================] - 0s 2ms/step - loss: 31276081152.0000 - val_loss: 28735180800.0000\n",
      "Epoch 88/100\n",
      "254/254 [==============================] - 0s 2ms/step - loss: 31245473792.0000 - val_loss: 28599513088.0000\n",
      "Epoch 89/100\n",
      "254/254 [==============================] - 0s 2ms/step - loss: 31209517056.0000 - val_loss: 28705550336.0000\n",
      "Epoch 90/100\n",
      "254/254 [==============================] - 0s 2ms/step - loss: 31249502208.0000 - val_loss: 28727539712.0000\n",
      "Epoch 91/100\n",
      "254/254 [==============================] - 0s 2ms/step - loss: 31207641088.0000 - val_loss: 28578560000.0000\n",
      "Epoch 92/100\n",
      "254/254 [==============================] - 0s 2ms/step - loss: 31108759552.0000 - val_loss: 28517156864.0000\n",
      "Epoch 93/100\n",
      "254/254 [==============================] - 0s 2ms/step - loss: 31183452160.0000 - val_loss: 28532047872.0000\n",
      "Epoch 94/100\n",
      "254/254 [==============================] - 0s 2ms/step - loss: 31144089600.0000 - val_loss: 28589717504.0000\n",
      "Epoch 95/100\n",
      "254/254 [==============================] - 0s 2ms/step - loss: 31126865920.0000 - val_loss: 28607576064.0000\n",
      "Epoch 96/100\n",
      "254/254 [==============================] - 0s 2ms/step - loss: 31135897600.0000 - val_loss: 28560633856.0000\n",
      "Epoch 97/100\n",
      "254/254 [==============================] - 0s 2ms/step - loss: 31151683584.0000 - val_loss: 28529526784.0000\n",
      "Epoch 98/100\n",
      "254/254 [==============================] - 0s 2ms/step - loss: 31007764480.0000 - val_loss: 28815740928.0000\n",
      "Epoch 99/100\n",
      "254/254 [==============================] - 0s 2ms/step - loss: 31056658432.0000 - val_loss: 28444598272.0000\n",
      "Epoch 100/100\n",
      "254/254 [==============================] - 0s 2ms/step - loss: 30982307840.0000 - val_loss: 28422176768.0000\n",
      "127/127 [==============================] - 0s 1ms/step - loss: 34575171584.0000\n",
      "[CV] END learning_rate=7.557297687774292e-09, n_hidden=1, n_neurons=44; total time=  42.6s\n",
      "Epoch 1/100\n",
      "254/254 [==============================] - 1s 2ms/step - loss: 417312997376.0000 - val_loss: 416267272192.0000\n",
      "Epoch 2/100\n",
      "254/254 [==============================] - 0s 2ms/step - loss: 397803913216.0000 - val_loss: 316224831488.0000\n",
      "Epoch 3/100\n",
      "254/254 [==============================] - 0s 2ms/step - loss: 165708742656.0000 - val_loss: 104735817728.0000\n",
      "Epoch 4/100\n",
      "254/254 [==============================] - 0s 2ms/step - loss: 77597376512.0000 - val_loss: 45277331456.0000\n",
      "Epoch 5/100\n",
      "254/254 [==============================] - 0s 2ms/step - loss: 43996381184.0000 - val_loss: 36672630784.0000\n",
      "Epoch 6/100\n",
      "254/254 [==============================] - 0s 2ms/step - loss: 40708608000.0000 - val_loss: 36146610176.0000\n",
      "Epoch 7/100\n",
      "254/254 [==============================] - 0s 2ms/step - loss: 40216924160.0000 - val_loss: 35328991232.0000\n",
      "Epoch 8/100\n",
      "254/254 [==============================] - 0s 2ms/step - loss: 39724077056.0000 - val_loss: 35049365504.0000\n",
      "Epoch 9/100\n",
      "254/254 [==============================] - 0s 2ms/step - loss: 39156912128.0000 - val_loss: 34984677376.0000\n",
      "Epoch 10/100\n",
      "254/254 [==============================] - 0s 2ms/step - loss: 38934487040.0000 - val_loss: 34246375424.0000\n",
      "Epoch 11/100\n",
      "254/254 [==============================] - 0s 2ms/step - loss: 38448660480.0000 - val_loss: 33933807616.0000\n",
      "Epoch 12/100\n",
      "254/254 [==============================] - 0s 2ms/step - loss: 38098989056.0000 - val_loss: 33610027008.0000\n",
      "Epoch 13/100\n",
      "254/254 [==============================] - 0s 2ms/step - loss: 37582663680.0000 - val_loss: 33339203584.0000\n",
      "Epoch 14/100\n",
      "254/254 [==============================] - 0s 2ms/step - loss: 37415919616.0000 - val_loss: 32858382336.0000\n",
      "Epoch 15/100\n",
      "254/254 [==============================] - 0s 2ms/step - loss: 37095206912.0000 - val_loss: 32640835584.0000\n",
      "Epoch 16/100\n",
      "254/254 [==============================] - 0s 2ms/step - loss: 36735135744.0000 - val_loss: 32666245120.0000\n",
      "Epoch 17/100\n",
      "254/254 [==============================] - 0s 2ms/step - loss: 36353282048.0000 - val_loss: 32138319872.0000\n",
      "Epoch 18/100\n",
      "254/254 [==============================] - 0s 2ms/step - loss: 36054884352.0000 - val_loss: 31995846656.0000\n",
      "Epoch 19/100\n",
      "254/254 [==============================] - 0s 2ms/step - loss: 35942965248.0000 - val_loss: 31746801664.0000\n",
      "Epoch 20/100\n",
      "254/254 [==============================] - 0s 2ms/step - loss: 35523379200.0000 - val_loss: 32027559936.0000\n",
      "Epoch 21/100\n",
      "254/254 [==============================] - 0s 2ms/step - loss: 35507544064.0000 - val_loss: 31728068608.0000\n",
      "Epoch 22/100\n",
      "254/254 [==============================] - 0s 2ms/step - loss: 35167338496.0000 - val_loss: 31226454016.0000\n",
      "Epoch 23/100\n",
      "254/254 [==============================] - 0s 2ms/step - loss: 35091775488.0000 - val_loss: 31104622592.0000\n",
      "Epoch 24/100\n",
      "254/254 [==============================] - 0s 2ms/step - loss: 34996817920.0000 - val_loss: 30891419648.0000\n",
      "Epoch 25/100\n",
      "254/254 [==============================] - 0s 2ms/step - loss: 34637877248.0000 - val_loss: 31307741184.0000\n",
      "Epoch 26/100\n",
      "254/254 [==============================] - 0s 2ms/step - loss: 34651283456.0000 - val_loss: 30722293760.0000\n",
      "Epoch 27/100\n",
      "254/254 [==============================] - 0s 2ms/step - loss: 34330730496.0000 - val_loss: 30655186944.0000\n",
      "Epoch 28/100\n",
      "254/254 [==============================] - 0s 2ms/step - loss: 34377560064.0000 - val_loss: 30502430720.0000\n",
      "Epoch 29/100\n",
      "254/254 [==============================] - 0s 2ms/step - loss: 34124378112.0000 - val_loss: 30288504832.0000\n",
      "Epoch 30/100\n",
      "254/254 [==============================] - 0s 2ms/step - loss: 34076782592.0000 - val_loss: 30280837120.0000\n",
      "Epoch 31/100\n",
      "254/254 [==============================] - 0s 2ms/step - loss: 34023014400.0000 - val_loss: 30316267520.0000\n",
      "Epoch 32/100\n",
      "254/254 [==============================] - 0s 2ms/step - loss: 33839890432.0000 - val_loss: 30236555264.0000\n",
      "Epoch 33/100\n",
      "254/254 [==============================] - 0s 2ms/step - loss: 33642391552.0000 - val_loss: 30263009280.0000\n",
      "Epoch 34/100\n",
      "254/254 [==============================] - 0s 2ms/step - loss: 33754208256.0000 - val_loss: 29960161280.0000\n",
      "Epoch 35/100\n",
      "254/254 [==============================] - 0s 2ms/step - loss: 33654192128.0000 - val_loss: 30113581056.0000\n",
      "Epoch 36/100\n",
      "254/254 [==============================] - 0s 2ms/step - loss: 33420967936.0000 - val_loss: 29915916288.0000\n",
      "Epoch 37/100\n",
      "254/254 [==============================] - 0s 2ms/step - loss: 33539256320.0000 - val_loss: 29954564096.0000\n",
      "Epoch 38/100\n",
      "254/254 [==============================] - 0s 2ms/step - loss: 33398628352.0000 - val_loss: 29891166208.0000\n",
      "Epoch 39/100\n",
      "254/254 [==============================] - 0s 2ms/step - loss: 33381957632.0000 - val_loss: 29808623616.0000\n",
      "Epoch 40/100\n",
      "254/254 [==============================] - 0s 2ms/step - loss: 33257687040.0000 - val_loss: 30070089728.0000\n",
      "Epoch 41/100\n",
      "254/254 [==============================] - 0s 2ms/step - loss: 33144836096.0000 - val_loss: 29909508096.0000\n",
      "Epoch 42/100\n",
      "254/254 [==============================] - 1s 2ms/step - loss: 33122496512.0000 - val_loss: 29883224064.0000\n",
      "Epoch 43/100\n",
      "254/254 [==============================] - 0s 2ms/step - loss: 33064849408.0000 - val_loss: 29695909888.0000\n",
      "Epoch 44/100\n",
      "254/254 [==============================] - 0s 2ms/step - loss: 32996177920.0000 - val_loss: 29749415936.0000\n",
      "Epoch 45/100\n",
      "254/254 [==============================] - 0s 2ms/step - loss: 32973178880.0000 - val_loss: 29563627520.0000\n",
      "Epoch 46/100\n",
      "254/254 [==============================] - 0s 2ms/step - loss: 32839933952.0000 - val_loss: 29787148288.0000\n",
      "Epoch 47/100\n",
      "254/254 [==============================] - 0s 2ms/step - loss: 32836927488.0000 - val_loss: 29658421248.0000\n",
      "Epoch 48/100\n",
      "254/254 [==============================] - 0s 2ms/step - loss: 32679206912.0000 - val_loss: 29873580032.0000\n",
      "Epoch 49/100\n",
      "254/254 [==============================] - 0s 2ms/step - loss: 32771024896.0000 - val_loss: 29500792832.0000\n",
      "Epoch 50/100\n",
      "254/254 [==============================] - 0s 2ms/step - loss: 32716115968.0000 - val_loss: 29276329984.0000\n",
      "Epoch 51/100\n",
      "254/254 [==============================] - 0s 2ms/step - loss: 32557164544.0000 - val_loss: 29315096576.0000\n",
      "Epoch 52/100\n",
      "254/254 [==============================] - 0s 2ms/step - loss: 32533995520.0000 - val_loss: 29292486656.0000\n",
      "Epoch 53/100\n",
      "254/254 [==============================] - 0s 2ms/step - loss: 32382468096.0000 - val_loss: 29710645248.0000\n",
      "Epoch 54/100\n",
      "254/254 [==============================] - 0s 2ms/step - loss: 32511395840.0000 - val_loss: 29252685824.0000\n",
      "Epoch 55/100\n",
      "254/254 [==============================] - 0s 2ms/step - loss: 32368685056.0000 - val_loss: 29288380416.0000\n",
      "Epoch 56/100\n",
      "254/254 [==============================] - 0s 2ms/step - loss: 32306069504.0000 - val_loss: 29344004096.0000\n",
      "Epoch 57/100\n",
      "254/254 [==============================] - 0s 2ms/step - loss: 32288237568.0000 - val_loss: 29217916928.0000\n",
      "Epoch 58/100\n",
      "254/254 [==============================] - 0s 2ms/step - loss: 32277364736.0000 - val_loss: 29196894208.0000\n",
      "Epoch 59/100\n",
      "254/254 [==============================] - 0s 2ms/step - loss: 32244912128.0000 - val_loss: 29111023616.0000\n",
      "Epoch 60/100\n",
      "254/254 [==============================] - 0s 2ms/step - loss: 32141621248.0000 - val_loss: 28993712128.0000\n",
      "Epoch 61/100\n",
      "254/254 [==============================] - 0s 2ms/step - loss: 32140742656.0000 - val_loss: 29004904448.0000\n",
      "Epoch 62/100\n",
      "254/254 [==============================] - 0s 2ms/step - loss: 32137537536.0000 - val_loss: 28960256000.0000\n",
      "Epoch 63/100\n",
      "254/254 [==============================] - 0s 2ms/step - loss: 32003694592.0000 - val_loss: 28979283968.0000\n",
      "Epoch 64/100\n",
      "254/254 [==============================] - 0s 2ms/step - loss: 32007223296.0000 - val_loss: 29249460224.0000\n",
      "Epoch 65/100\n",
      "254/254 [==============================] - 0s 2ms/step - loss: 32006037504.0000 - val_loss: 29014339584.0000\n",
      "Epoch 66/100\n",
      "254/254 [==============================] - 0s 2ms/step - loss: 31886966784.0000 - val_loss: 28868870144.0000\n",
      "Epoch 67/100\n",
      "254/254 [==============================] - 0s 2ms/step - loss: 31894161408.0000 - val_loss: 29006403584.0000\n",
      "Epoch 68/100\n",
      "254/254 [==============================] - 0s 2ms/step - loss: 31825762304.0000 - val_loss: 29114855424.0000\n",
      "Epoch 69/100\n",
      "254/254 [==============================] - 0s 2ms/step - loss: 31724746752.0000 - val_loss: 28984172544.0000\n",
      "Epoch 70/100\n",
      "254/254 [==============================] - 0s 2ms/step - loss: 31823734784.0000 - val_loss: 28847327232.0000\n",
      "Epoch 71/100\n",
      "254/254 [==============================] - 0s 2ms/step - loss: 31608092672.0000 - val_loss: 28973981696.0000\n",
      "Epoch 72/100\n",
      "254/254 [==============================] - 0s 2ms/step - loss: 31748628480.0000 - val_loss: 29045399552.0000\n",
      "Epoch 73/100\n",
      "254/254 [==============================] - 0s 2ms/step - loss: 31711889408.0000 - val_loss: 28760496128.0000\n",
      "Epoch 74/100\n",
      "254/254 [==============================] - 0s 2ms/step - loss: 31637354496.0000 - val_loss: 29101647872.0000\n",
      "Epoch 75/100\n",
      "254/254 [==============================] - 0s 2ms/step - loss: 31661344768.0000 - val_loss: 28707604480.0000\n",
      "Epoch 76/100\n",
      "254/254 [==============================] - 0s 2ms/step - loss: 31551490048.0000 - val_loss: 29061132288.0000\n",
      "Epoch 77/100\n",
      "254/254 [==============================] - 0s 2ms/step - loss: 31595388928.0000 - val_loss: 28708814848.0000\n",
      "Epoch 78/100\n",
      "254/254 [==============================] - 1s 2ms/step - loss: 31575068672.0000 - val_loss: 28663857152.0000\n",
      "Epoch 79/100\n",
      "254/254 [==============================] - 0s 2ms/step - loss: 31501187072.0000 - val_loss: 28729901056.0000\n",
      "Epoch 80/100\n",
      "254/254 [==============================] - 0s 2ms/step - loss: 31517587456.0000 - val_loss: 28638951424.0000\n",
      "Epoch 81/100\n",
      "254/254 [==============================] - 0s 2ms/step - loss: 31472738304.0000 - val_loss: 28611090432.0000\n",
      "Epoch 82/100\n",
      "254/254 [==============================] - 0s 2ms/step - loss: 31375941632.0000 - val_loss: 28687669248.0000\n",
      "Epoch 83/100\n",
      "254/254 [==============================] - 0s 2ms/step - loss: 31387164672.0000 - val_loss: 28605628416.0000\n",
      "Epoch 84/100\n",
      "254/254 [==============================] - 0s 2ms/step - loss: 31338672128.0000 - val_loss: 28879484928.0000\n",
      "Epoch 85/100\n",
      "254/254 [==============================] - 0s 2ms/step - loss: 31345465344.0000 - val_loss: 28629223424.0000\n",
      "Epoch 86/100\n",
      "254/254 [==============================] - 0s 2ms/step - loss: 31371536384.0000 - val_loss: 28841193472.0000\n",
      "Epoch 87/100\n",
      "254/254 [==============================] - 0s 2ms/step - loss: 31293943808.0000 - val_loss: 28560119808.0000\n",
      "Epoch 88/100\n",
      "254/254 [==============================] - 0s 2ms/step - loss: 31308683264.0000 - val_loss: 28412053504.0000\n",
      "Epoch 89/100\n",
      "254/254 [==============================] - 0s 2ms/step - loss: 31241385984.0000 - val_loss: 28581206016.0000\n",
      "Epoch 90/100\n",
      "254/254 [==============================] - 0s 2ms/step - loss: 31217364992.0000 - val_loss: 28613433344.0000\n",
      "Epoch 91/100\n",
      "254/254 [==============================] - 0s 2ms/step - loss: 31212695552.0000 - val_loss: 28444225536.0000\n",
      "Epoch 92/100\n",
      "254/254 [==============================] - 0s 2ms/step - loss: 31151423488.0000 - val_loss: 28693331968.0000\n",
      "Epoch 93/100\n",
      "254/254 [==============================] - 0s 2ms/step - loss: 31161696256.0000 - val_loss: 28521893888.0000\n",
      "Epoch 94/100\n",
      "254/254 [==============================] - 0s 2ms/step - loss: 31089874944.0000 - val_loss: 28514000896.0000\n",
      "Epoch 95/100\n",
      "254/254 [==============================] - 0s 2ms/step - loss: 30929262592.0000 - val_loss: 28398616576.0000\n",
      "Epoch 96/100\n",
      "254/254 [==============================] - 0s 2ms/step - loss: 31016247296.0000 - val_loss: 28784515072.0000\n",
      "Epoch 97/100\n",
      "254/254 [==============================] - 0s 2ms/step - loss: 31085074432.0000 - val_loss: 28408825856.0000\n",
      "Epoch 98/100\n",
      "254/254 [==============================] - 0s 2ms/step - loss: 30951880704.0000 - val_loss: 28426364928.0000\n",
      "Epoch 99/100\n",
      "254/254 [==============================] - 0s 2ms/step - loss: 31005044736.0000 - val_loss: 28396130304.0000\n",
      "Epoch 100/100\n",
      "254/254 [==============================] - 0s 2ms/step - loss: 30954633216.0000 - val_loss: 28623335424.0000\n",
      "127/127 [==============================] - 0s 1ms/step - loss: 33555175424.0000\n",
      "[CV] END learning_rate=7.557297687774292e-09, n_hidden=1, n_neurons=44; total time=  42.8s\n",
      "Epoch 1/100\n",
      "254/254 [==============================] - 1s 2ms/step - loss: 425827827712.0000 - val_loss: 416355319808.0000\n",
      "Epoch 2/100\n",
      "254/254 [==============================] - 0s 2ms/step - loss: 409063981056.0000 - val_loss: 328508309504.0000\n",
      "Epoch 3/100\n",
      "254/254 [==============================] - 0s 2ms/step - loss: 175763652608.0000 - val_loss: 105620176896.0000\n",
      "Epoch 4/100\n",
      "254/254 [==============================] - 0s 2ms/step - loss: 81494597632.0000 - val_loss: 46257627136.0000\n",
      "Epoch 5/100\n",
      "254/254 [==============================] - 0s 2ms/step - loss: 47689551872.0000 - val_loss: 37017944064.0000\n",
      "Epoch 6/100\n",
      "254/254 [==============================] - 0s 2ms/step - loss: 44225040384.0000 - val_loss: 35771957248.0000\n",
      "Epoch 7/100\n",
      "254/254 [==============================] - 0s 2ms/step - loss: 43529756672.0000 - val_loss: 35373178880.0000\n",
      "Epoch 8/100\n",
      "254/254 [==============================] - 0s 2ms/step - loss: 42946289664.0000 - val_loss: 35016400896.0000\n",
      "Epoch 9/100\n",
      "254/254 [==============================] - 0s 2ms/step - loss: 42325975040.0000 - val_loss: 34792493056.0000\n",
      "Epoch 10/100\n",
      "254/254 [==============================] - 0s 2ms/step - loss: 42123776000.0000 - val_loss: 33943724032.0000\n",
      "Epoch 11/100\n",
      "254/254 [==============================] - 1s 2ms/step - loss: 41390616576.0000 - val_loss: 33719695360.0000\n",
      "Epoch 12/100\n",
      "254/254 [==============================] - 1s 2ms/step - loss: 41081069568.0000 - val_loss: 33346244608.0000\n",
      "Epoch 13/100\n",
      "254/254 [==============================] - 0s 2ms/step - loss: 40603684864.0000 - val_loss: 33167650816.0000\n",
      "Epoch 14/100\n",
      "254/254 [==============================] - 0s 2ms/step - loss: 40253407232.0000 - val_loss: 32643698688.0000\n",
      "Epoch 15/100\n",
      "254/254 [==============================] - 0s 2ms/step - loss: 39968358400.0000 - val_loss: 32275433472.0000\n",
      "Epoch 16/100\n",
      "254/254 [==============================] - 0s 2ms/step - loss: 39576698880.0000 - val_loss: 32694224896.0000\n",
      "Epoch 17/100\n",
      "254/254 [==============================] - 0s 2ms/step - loss: 39009095680.0000 - val_loss: 32102066176.0000\n",
      "Epoch 18/100\n",
      "254/254 [==============================] - 0s 2ms/step - loss: 38901985280.0000 - val_loss: 31676018688.0000\n",
      "Epoch 19/100\n",
      "254/254 [==============================] - 0s 2ms/step - loss: 38648893440.0000 - val_loss: 31562301440.0000\n",
      "Epoch 20/100\n",
      "254/254 [==============================] - 0s 2ms/step - loss: 38445158400.0000 - val_loss: 31233288192.0000\n",
      "Epoch 21/100\n",
      "254/254 [==============================] - 0s 2ms/step - loss: 38093639680.0000 - val_loss: 31330621440.0000\n",
      "Epoch 22/100\n",
      "254/254 [==============================] - 0s 2ms/step - loss: 37671964672.0000 - val_loss: 31104604160.0000\n",
      "Epoch 23/100\n",
      "254/254 [==============================] - 0s 2ms/step - loss: 37726568448.0000 - val_loss: 30975975424.0000\n",
      "Epoch 24/100\n",
      "254/254 [==============================] - 0s 2ms/step - loss: 37582651392.0000 - val_loss: 30816843776.0000\n",
      "Epoch 25/100\n",
      "254/254 [==============================] - 0s 2ms/step - loss: 37288800256.0000 - val_loss: 31065542656.0000\n",
      "Epoch 26/100\n",
      "254/254 [==============================] - 0s 2ms/step - loss: 37196156928.0000 - val_loss: 30666313728.0000\n",
      "Epoch 27/100\n",
      "254/254 [==============================] - 0s 2ms/step - loss: 37044416512.0000 - val_loss: 30488080384.0000\n",
      "Epoch 28/100\n",
      "254/254 [==============================] - 0s 2ms/step - loss: 36959150080.0000 - val_loss: 30540881920.0000\n",
      "Epoch 29/100\n",
      "254/254 [==============================] - 0s 2ms/step - loss: 36765712384.0000 - val_loss: 30583300096.0000\n",
      "Epoch 30/100\n",
      "254/254 [==============================] - 0s 2ms/step - loss: 36771209216.0000 - val_loss: 30336043008.0000\n",
      "Epoch 31/100\n",
      "254/254 [==============================] - 0s 2ms/step - loss: 36601925632.0000 - val_loss: 30319876096.0000\n",
      "Epoch 32/100\n",
      "254/254 [==============================] - 0s 2ms/step - loss: 36558323712.0000 - val_loss: 30331670528.0000\n",
      "Epoch 33/100\n",
      "254/254 [==============================] - 0s 2ms/step - loss: 36299587584.0000 - val_loss: 30501916672.0000\n",
      "Epoch 34/100\n",
      "254/254 [==============================] - 0s 2ms/step - loss: 36311494656.0000 - val_loss: 30228471808.0000\n",
      "Epoch 35/100\n",
      "254/254 [==============================] - 0s 2ms/step - loss: 36262223872.0000 - val_loss: 30146263040.0000\n",
      "Epoch 36/100\n",
      "254/254 [==============================] - 0s 2ms/step - loss: 36080799744.0000 - val_loss: 30187065344.0000\n",
      "Epoch 37/100\n",
      "254/254 [==============================] - 0s 2ms/step - loss: 36155183104.0000 - val_loss: 29953083392.0000\n",
      "Epoch 38/100\n",
      "254/254 [==============================] - 0s 2ms/step - loss: 35986075648.0000 - val_loss: 29979740160.0000\n",
      "Epoch 39/100\n",
      "254/254 [==============================] - 0s 2ms/step - loss: 35986034688.0000 - val_loss: 29879728128.0000\n",
      "Epoch 40/100\n",
      "254/254 [==============================] - 0s 2ms/step - loss: 35768528896.0000 - val_loss: 29989867520.0000\n",
      "Epoch 41/100\n",
      "254/254 [==============================] - 0s 2ms/step - loss: 35659210752.0000 - val_loss: 29885132800.0000\n",
      "Epoch 42/100\n",
      "254/254 [==============================] - 0s 2ms/step - loss: 35368644608.0000 - val_loss: 30087583744.0000\n",
      "Epoch 43/100\n",
      "254/254 [==============================] - 0s 2ms/step - loss: 35503132672.0000 - val_loss: 29980450816.0000\n",
      "Epoch 44/100\n",
      "254/254 [==============================] - 0s 2ms/step - loss: 35418599424.0000 - val_loss: 29721796608.0000\n",
      "Epoch 45/100\n",
      "254/254 [==============================] - 0s 2ms/step - loss: 35278360576.0000 - val_loss: 29788348416.0000\n",
      "Epoch 46/100\n",
      "254/254 [==============================] - 0s 2ms/step - loss: 35277836288.0000 - val_loss: 29598797824.0000\n",
      "Epoch 47/100\n",
      "254/254 [==============================] - 1s 2ms/step - loss: 35138416640.0000 - val_loss: 29812180992.0000\n",
      "Epoch 48/100\n",
      "254/254 [==============================] - 0s 2ms/step - loss: 35148374016.0000 - val_loss: 29667385344.0000\n",
      "Epoch 49/100\n",
      "254/254 [==============================] - 0s 2ms/step - loss: 35070296064.0000 - val_loss: 29549553664.0000\n",
      "Epoch 50/100\n",
      "254/254 [==============================] - 0s 2ms/step - loss: 34960424960.0000 - val_loss: 29590593536.0000\n",
      "Epoch 51/100\n",
      "254/254 [==============================] - 0s 2ms/step - loss: 34817658880.0000 - val_loss: 29566406656.0000\n",
      "Epoch 52/100\n",
      "254/254 [==============================] - 0s 2ms/step - loss: 34768134144.0000 - val_loss: 29440825344.0000\n",
      "Epoch 53/100\n",
      "254/254 [==============================] - 0s 2ms/step - loss: 34576941056.0000 - val_loss: 29595543552.0000\n",
      "Epoch 54/100\n",
      "254/254 [==============================] - 0s 2ms/step - loss: 34661240832.0000 - val_loss: 29218562048.0000\n",
      "Epoch 55/100\n",
      "254/254 [==============================] - 0s 2ms/step - loss: 34541301760.0000 - val_loss: 29311201280.0000\n",
      "Epoch 56/100\n",
      "254/254 [==============================] - 0s 2ms/step - loss: 34479570944.0000 - val_loss: 29191143424.0000\n",
      "Epoch 57/100\n",
      "254/254 [==============================] - 0s 2ms/step - loss: 34382557184.0000 - val_loss: 29297860608.0000\n",
      "Epoch 58/100\n",
      "254/254 [==============================] - 0s 2ms/step - loss: 34346063872.0000 - val_loss: 29408618496.0000\n",
      "Epoch 59/100\n",
      "254/254 [==============================] - 0s 2ms/step - loss: 34255568896.0000 - val_loss: 29310969856.0000\n",
      "Epoch 60/100\n",
      "254/254 [==============================] - 0s 2ms/step - loss: 34222473216.0000 - val_loss: 29124663296.0000\n",
      "Epoch 61/100\n",
      "254/254 [==============================] - 0s 2ms/step - loss: 34134372352.0000 - val_loss: 29801138176.0000\n",
      "Epoch 62/100\n",
      "254/254 [==============================] - 0s 2ms/step - loss: 34049869824.0000 - val_loss: 29025609728.0000\n",
      "Epoch 63/100\n",
      "254/254 [==============================] - 0s 2ms/step - loss: 33923729408.0000 - val_loss: 29088118784.0000\n",
      "Epoch 64/100\n",
      "254/254 [==============================] - 0s 2ms/step - loss: 34072551424.0000 - val_loss: 29049311232.0000\n",
      "Epoch 65/100\n",
      "254/254 [==============================] - 0s 2ms/step - loss: 33883889664.0000 - val_loss: 28967032832.0000\n",
      "Epoch 66/100\n",
      "254/254 [==============================] - 0s 2ms/step - loss: 33830893568.0000 - val_loss: 28935747584.0000\n",
      "Epoch 67/100\n",
      "254/254 [==============================] - 0s 2ms/step - loss: 33712488448.0000 - val_loss: 29206734848.0000\n",
      "Epoch 68/100\n",
      "254/254 [==============================] - 0s 2ms/step - loss: 33795663872.0000 - val_loss: 28868493312.0000\n",
      "Epoch 69/100\n",
      "254/254 [==============================] - 0s 2ms/step - loss: 33609945088.0000 - val_loss: 28961146880.0000\n",
      "Epoch 70/100\n",
      "254/254 [==============================] - 0s 2ms/step - loss: 33608386560.0000 - val_loss: 28853870592.0000\n",
      "Epoch 71/100\n",
      "254/254 [==============================] - 0s 2ms/step - loss: 33512822784.0000 - val_loss: 29049767936.0000\n",
      "Epoch 72/100\n",
      "254/254 [==============================] - 0s 2ms/step - loss: 33516441600.0000 - val_loss: 28947113984.0000\n",
      "Epoch 73/100\n",
      "254/254 [==============================] - 0s 2ms/step - loss: 33494036480.0000 - val_loss: 28851107840.0000\n",
      "Epoch 74/100\n",
      "254/254 [==============================] - 0s 2ms/step - loss: 33438390272.0000 - val_loss: 28836343808.0000\n",
      "Epoch 75/100\n",
      "254/254 [==============================] - 0s 2ms/step - loss: 33237035008.0000 - val_loss: 28808118272.0000\n",
      "Epoch 76/100\n",
      "254/254 [==============================] - 1s 2ms/step - loss: 33267120128.0000 - val_loss: 28683927552.0000\n",
      "Epoch 77/100\n",
      "254/254 [==============================] - 0s 2ms/step - loss: 33219581952.0000 - val_loss: 28807421952.0000\n",
      "Epoch 78/100\n",
      "254/254 [==============================] - 0s 2ms/step - loss: 33121308672.0000 - val_loss: 28658796544.0000\n",
      "Epoch 79/100\n",
      "254/254 [==============================] - 0s 2ms/step - loss: 33104283648.0000 - val_loss: 28664954880.0000\n",
      "Epoch 80/100\n",
      "254/254 [==============================] - 0s 2ms/step - loss: 33040826368.0000 - val_loss: 28555685888.0000\n",
      "Epoch 81/100\n",
      "254/254 [==============================] - 0s 2ms/step - loss: 32969463808.0000 - val_loss: 28716130304.0000\n",
      "Epoch 82/100\n",
      "254/254 [==============================] - 1s 2ms/step - loss: 32849676288.0000 - val_loss: 28537331712.0000\n",
      "Epoch 83/100\n",
      "254/254 [==============================] - 0s 2ms/step - loss: 32869419008.0000 - val_loss: 28695062528.0000\n",
      "Epoch 84/100\n",
      "254/254 [==============================] - 0s 2ms/step - loss: 32889020416.0000 - val_loss: 28452134912.0000\n",
      "Epoch 85/100\n",
      "254/254 [==============================] - 0s 2ms/step - loss: 32826470400.0000 - val_loss: 28415502336.0000\n",
      "Epoch 86/100\n",
      "254/254 [==============================] - 0s 2ms/step - loss: 32658843648.0000 - val_loss: 28565624832.0000\n",
      "Epoch 87/100\n",
      "254/254 [==============================] - 0s 2ms/step - loss: 32676470784.0000 - val_loss: 28508481536.0000\n",
      "Epoch 88/100\n",
      "254/254 [==============================] - 0s 2ms/step - loss: 32589303808.0000 - val_loss: 28732200960.0000\n",
      "Epoch 89/100\n",
      "254/254 [==============================] - 0s 2ms/step - loss: 32598069248.0000 - val_loss: 28430059520.0000\n",
      "Epoch 90/100\n",
      "254/254 [==============================] - 0s 2ms/step - loss: 32604149760.0000 - val_loss: 28388765696.0000\n",
      "Epoch 91/100\n",
      "254/254 [==============================] - 0s 2ms/step - loss: 32525041664.0000 - val_loss: 28522315776.0000\n",
      "Epoch 92/100\n",
      "254/254 [==============================] - 0s 2ms/step - loss: 32323905536.0000 - val_loss: 28741726208.0000\n",
      "Epoch 93/100\n",
      "254/254 [==============================] - 0s 2ms/step - loss: 32392247296.0000 - val_loss: 28852379648.0000\n",
      "Epoch 94/100\n",
      "254/254 [==============================] - 0s 2ms/step - loss: 32404080640.0000 - val_loss: 28327051264.0000\n",
      "Epoch 95/100\n",
      "254/254 [==============================] - 0s 2ms/step - loss: 32233043968.0000 - val_loss: 28544839680.0000\n",
      "Epoch 96/100\n",
      "254/254 [==============================] - 0s 2ms/step - loss: 32321984512.0000 - val_loss: 28276582400.0000\n",
      "Epoch 97/100\n",
      "254/254 [==============================] - 0s 2ms/step - loss: 32320735232.0000 - val_loss: 28320665600.0000\n",
      "Epoch 98/100\n",
      "254/254 [==============================] - 0s 2ms/step - loss: 32225536000.0000 - val_loss: 28305766400.0000\n",
      "Epoch 99/100\n",
      "254/254 [==============================] - 0s 2ms/step - loss: 32192890880.0000 - val_loss: 28241977344.0000\n",
      "Epoch 100/100\n",
      "254/254 [==============================] - 0s 2ms/step - loss: 32185956352.0000 - val_loss: 28284985344.0000\n",
      "127/127 [==============================] - 0s 1ms/step - loss: 29981841408.0000\n",
      "[CV] END learning_rate=7.557297687774292e-09, n_hidden=1, n_neurons=44; total time=  43.3s\n",
      "Epoch 1/100\n",
      "254/254 [==============================] - 1s 2ms/step - loss: 414848417792.0000 - val_loss: 416631848960.0000\n",
      "Epoch 2/100\n",
      "254/254 [==============================] - 0s 2ms/step - loss: 298792845312.0000 - val_loss: 48621789184.0000\n",
      "Epoch 3/100\n",
      "254/254 [==============================] - 0s 2ms/step - loss: 54463016960.0000 - val_loss: 235479842816.0000\n",
      "Epoch 4/100\n",
      "254/254 [==============================] - 0s 2ms/step - loss: 51291258880.0000 - val_loss: 32502145024.0000\n",
      "Epoch 5/100\n",
      "254/254 [==============================] - 0s 2ms/step - loss: 45324787712.0000 - val_loss: 33484824576.0000\n",
      "Epoch 6/100\n",
      "254/254 [==============================] - 0s 2ms/step - loss: 44178731008.0000 - val_loss: 44527517696.0000\n",
      "Epoch 7/100\n",
      "254/254 [==============================] - 0s 2ms/step - loss: 46065692672.0000 - val_loss: 39956955136.0000\n",
      "Epoch 8/100\n",
      "254/254 [==============================] - 0s 2ms/step - loss: 39359148032.0000 - val_loss: 29842216960.0000\n",
      "Epoch 9/100\n",
      "254/254 [==============================] - 0s 2ms/step - loss: 41900855296.0000 - val_loss: 41651654656.0000\n",
      "Epoch 10/100\n",
      "254/254 [==============================] - 0s 2ms/step - loss: 35595943936.0000 - val_loss: 60874752000.0000\n",
      "Epoch 11/100\n",
      "254/254 [==============================] - 0s 2ms/step - loss: 39606112256.0000 - val_loss: 33195108352.0000\n",
      "Epoch 12/100\n",
      "254/254 [==============================] - 0s 2ms/step - loss: 37300187136.0000 - val_loss: 35775623168.0000\n",
      "Epoch 13/100\n",
      "254/254 [==============================] - 0s 2ms/step - loss: 60886917120.0000 - val_loss: 33143951360.0000\n",
      "Epoch 14/100\n",
      "254/254 [==============================] - 0s 2ms/step - loss: 38117732352.0000 - val_loss: 32628320256.0000\n",
      "Epoch 15/100\n",
      "254/254 [==============================] - 0s 2ms/step - loss: 51797143552.0000 - val_loss: 31877115904.0000\n",
      "Epoch 16/100\n",
      "254/254 [==============================] - 0s 2ms/step - loss: 37760188416.0000 - val_loss: 92999647232.0000\n",
      "Epoch 17/100\n",
      "254/254 [==============================] - 0s 2ms/step - loss: 39193604096.0000 - val_loss: 37182128128.0000\n",
      "Epoch 18/100\n",
      "254/254 [==============================] - 0s 2ms/step - loss: 38430998528.0000 - val_loss: 32982546432.0000\n",
      "127/127 [==============================] - 0s 1ms/step - loss: 35911700480.0000\n",
      "[CV] END learning_rate=2.8281815663435513e-09, n_hidden=2, n_neurons=8; total time=   8.5s\n",
      "Epoch 1/100\n",
      "254/254 [==============================] - 1s 2ms/step - loss: 417363460096.0000 - val_loss: 416527843328.0000\n",
      "Epoch 2/100\n",
      "254/254 [==============================] - 0s 2ms/step - loss: 290958278656.0000 - val_loss: 416687161344.0000\n",
      "Epoch 3/100\n",
      "254/254 [==============================] - 0s 2ms/step - loss: 417385938944.0000 - val_loss: 416288210944.0000\n",
      "Epoch 4/100\n",
      "254/254 [==============================] - 0s 2ms/step - loss: 117826691072.0000 - val_loss: 45768544256.0000\n",
      "Epoch 5/100\n",
      "254/254 [==============================] - 0s 2ms/step - loss: 59642650624.0000 - val_loss: 54456369152.0000\n",
      "Epoch 6/100\n",
      "254/254 [==============================] - 0s 2ms/step - loss: 387459317760.0000 - val_loss: 416639188992.0000\n",
      "Epoch 7/100\n",
      "254/254 [==============================] - 0s 2ms/step - loss: 417376960512.0000 - val_loss: 416634994688.0000\n",
      "Epoch 8/100\n",
      "254/254 [==============================] - 0s 2ms/step - loss: 417373716480.0000 - val_loss: 416633487360.0000\n",
      "Epoch 9/100\n",
      "254/254 [==============================] - 0s 2ms/step - loss: 417372274688.0000 - val_loss: 416632406016.0000\n",
      "Epoch 10/100\n",
      "254/254 [==============================] - 0s 2ms/step - loss: 417370963968.0000 - val_loss: 416631324672.0000\n",
      "Epoch 11/100\n",
      "254/254 [==============================] - 0s 2ms/step - loss: 417369554944.0000 - val_loss: 416630374400.0000\n",
      "Epoch 12/100\n",
      "254/254 [==============================] - 0s 2ms/step - loss: 417368834048.0000 - val_loss: 416629391360.0000\n",
      "Epoch 13/100\n",
      "254/254 [==============================] - 0s 2ms/step - loss: 417367851008.0000 - val_loss: 416628572160.0000\n",
      "Epoch 14/100\n",
      "254/254 [==============================] - 0s 2ms/step - loss: 417367195648.0000 - val_loss: 416627818496.0000\n",
      "127/127 [==============================] - 0s 976us/step - loss: 423340670976.0000\n",
      "[CV] END learning_rate=2.8281815663435513e-09, n_hidden=2, n_neurons=8; total time=   6.7s\n",
      "Epoch 1/100\n",
      "254/254 [==============================] - 1s 2ms/step - loss: 425511092224.0000 - val_loss: 393314664448.0000\n",
      "Epoch 2/100\n",
      "254/254 [==============================] - 0s 2ms/step - loss: 126414970880.0000 - val_loss: 290927378432.0000\n",
      "Epoch 3/100\n",
      "254/254 [==============================] - 0s 2ms/step - loss: 141034438656.0000 - val_loss: 417048100864.0000\n",
      "Epoch 4/100\n",
      "254/254 [==============================] - 0s 2ms/step - loss: 425919873024.0000 - val_loss: 416640499712.0000\n",
      "Epoch 5/100\n",
      "254/254 [==============================] - 0s 2ms/step - loss: 425876684800.0000 - val_loss: 416635944960.0000\n",
      "Epoch 6/100\n",
      "254/254 [==============================] - 0s 2ms/step - loss: 425874292736.0000 - val_loss: 416634142720.0000\n",
      "Epoch 7/100\n",
      "254/254 [==============================] - 0s 2ms/step - loss: 425872752640.0000 - val_loss: 416633094144.0000\n",
      "Epoch 8/100\n",
      "254/254 [==============================] - 0s 2ms/step - loss: 425871835136.0000 - val_loss: 416632373248.0000\n",
      "Epoch 9/100\n",
      "254/254 [==============================] - 0s 2ms/step - loss: 425871015936.0000 - val_loss: 416631488512.0000\n",
      "Epoch 10/100\n",
      "254/254 [==============================] - 0s 2ms/step - loss: 425870000128.0000 - val_loss: 416630603776.0000\n",
      "Epoch 11/100\n",
      "254/254 [==============================] - 0s 2ms/step - loss: 425869213696.0000 - val_loss: 416629522432.0000\n",
      "Epoch 12/100\n",
      "254/254 [==============================] - 0s 2ms/step - loss: 425868165120.0000 - val_loss: 416628441088.0000\n",
      "127/127 [==============================] - 0s 1ms/step - loss: 406340337664.0000\n",
      "[CV] END learning_rate=2.8281815663435513e-09, n_hidden=2, n_neurons=8; total time=   5.9s\n",
      "Epoch 1/100\n"
     ]
    },
    {
     "name": "stderr",
     "output_type": "stream",
     "text": [
      "C:\\Users\\balanton\\AppData\\Local\\Programs\\Python\\Python39\\lib\\site-packages\\sklearn\\model_selection\\_search.py:969: UserWarning: One or more of the test scores are non-finite: [-3.53973460e+10 -3.18156670e+10 -4.19244289e+11 -4.19301840e+11\n",
      " -3.29190065e+10             nan             nan             nan\n",
      " -3.27040628e+10 -2.88530903e+11]\n",
      "  warnings.warn(\n"
     ]
    },
    {
     "name": "stdout",
     "output_type": "stream",
     "text": [
      "380/380 [==============================] - 1s 2ms/step - loss: 418212872192.0000 - val_loss: 286837702656.0000\n",
      "Epoch 2/100\n",
      "380/380 [==============================] - 1s 2ms/step - loss: 65249349632.0000 - val_loss: 64547373056.0000\n",
      "Epoch 3/100\n",
      "380/380 [==============================] - 1s 2ms/step - loss: 84632018944.0000 - val_loss: 53162401792.0000\n",
      "Epoch 4/100\n",
      "380/380 [==============================] - 1s 2ms/step - loss: 48452947968.0000 - val_loss: 172152963072.0000\n",
      "Epoch 5/100\n",
      "380/380 [==============================] - 1s 2ms/step - loss: 45367988224.0000 - val_loss: 33029576704.0000\n",
      "Epoch 6/100\n",
      "380/380 [==============================] - 1s 2ms/step - loss: 43025833984.0000 - val_loss: 30990639104.0000\n",
      "Epoch 7/100\n",
      "380/380 [==============================] - 1s 2ms/step - loss: 46843379712.0000 - val_loss: 35248689152.0000\n",
      "Epoch 8/100\n",
      "380/380 [==============================] - 1s 2ms/step - loss: 42075447296.0000 - val_loss: 32173295616.0000\n",
      "Epoch 9/100\n",
      "380/380 [==============================] - 1s 2ms/step - loss: 38268649472.0000 - val_loss: 30671800320.0000\n",
      "Epoch 10/100\n",
      "380/380 [==============================] - 1s 2ms/step - loss: 37041045504.0000 - val_loss: 25334108160.0000\n",
      "Epoch 11/100\n",
      "380/380 [==============================] - 1s 2ms/step - loss: 46442717184.0000 - val_loss: 25736384512.0000\n",
      "Epoch 12/100\n",
      "380/380 [==============================] - 1s 2ms/step - loss: 34247636992.0000 - val_loss: 27605391360.0000\n",
      "Epoch 13/100\n",
      "380/380 [==============================] - 1s 2ms/step - loss: 46836617216.0000 - val_loss: 47525801984.0000\n",
      "Epoch 14/100\n",
      "380/380 [==============================] - 1s 2ms/step - loss: 33847889920.0000 - val_loss: 26943256576.0000\n",
      "Epoch 15/100\n",
      "380/380 [==============================] - 1s 2ms/step - loss: 32514600960.0000 - val_loss: 24429236224.0000\n",
      "Epoch 16/100\n",
      "380/380 [==============================] - 1s 2ms/step - loss: 31117219840.0000 - val_loss: 28656975872.0000\n",
      "Epoch 17/100\n",
      "380/380 [==============================] - 1s 2ms/step - loss: 39891611648.0000 - val_loss: 34485510144.0000\n",
      "Epoch 18/100\n",
      "380/380 [==============================] - 1s 2ms/step - loss: 44531204096.0000 - val_loss: 34510008320.0000\n",
      "Epoch 19/100\n",
      "380/380 [==============================] - 1s 2ms/step - loss: 38149853184.0000 - val_loss: 22567995392.0000\n",
      "Epoch 20/100\n",
      "380/380 [==============================] - 1s 2ms/step - loss: 36347523072.0000 - val_loss: 29726365696.0000\n",
      "Epoch 21/100\n",
      "380/380 [==============================] - 1s 2ms/step - loss: 40331722752.0000 - val_loss: 46489104384.0000\n",
      "Epoch 22/100\n",
      "380/380 [==============================] - 1s 2ms/step - loss: 30206300160.0000 - val_loss: 23100495872.0000\n",
      "Epoch 23/100\n",
      "380/380 [==============================] - 1s 2ms/step - loss: 32223938560.0000 - val_loss: 22657495040.0000\n",
      "Epoch 24/100\n",
      "380/380 [==============================] - 1s 2ms/step - loss: 31124989952.0000 - val_loss: 28444078080.0000\n",
      "Epoch 25/100\n",
      "380/380 [==============================] - 1s 2ms/step - loss: 38182748160.0000 - val_loss: 66108260352.0000\n",
      "Epoch 26/100\n",
      "380/380 [==============================] - 1s 2ms/step - loss: 32950659072.0000 - val_loss: 79598493696.0000\n",
      "Epoch 27/100\n",
      "380/380 [==============================] - 1s 2ms/step - loss: 33576794112.0000 - val_loss: 24376145920.0000\n",
      "Epoch 28/100\n",
      "380/380 [==============================] - 1s 2ms/step - loss: 33958998016.0000 - val_loss: 91358306304.0000\n",
      "Epoch 29/100\n",
      "380/380 [==============================] - 1s 2ms/step - loss: 31626739712.0000 - val_loss: 26368301056.0000\n"
     ]
    },
    {
     "data": {
      "text/plain": "RandomizedSearchCV(cv=3,\n                   estimator=<keras.wrappers.scikit_learn.KerasRegressor object at 0x000001C53BDCB8E0>,\n                   param_distributions={'learning_rate': [5.447614170260323e-09,\n                                                          1.926473978157348e-09,\n                                                          8.13718810477477e-09,\n                                                          1.8167810392414045e-09,\n                                                          3.440259196968034e-09,\n                                                          1.9994645623655803e-09,\n                                                          4.051204940994228e-09,\n                                                          1.0902153284549845e-09,\n                                                          1.5064646612032612e-09,\n                                                          5.3631...\n                                                          1.1418528954467802e-09,\n                                                          1.2215541744923052e-09,\n                                                          1.9160073282152215e-09,\n                                                          8.18238383474027e-09,\n                                                          2.295635481230317e-09,\n                                                          1.1576613271183646e-09,\n                                                          8.733672061117075e-09,\n                                                          7.915715138622803e-09,\n                                                          1.188301402521956e-09,\n                                                          2.0896905254703752e-09, ...],\n                                        'n_hidden': [0, 1, 2, 3],\n                                        'n_neurons': [1, 2, 3, 4, 5, 6, 7, 8, 9,\n                                                      10, 11, 12, 13, 14, 15,\n                                                      16, 17, 18, 19, 20, 21,\n                                                      22, 23, 24, 25, 26, 27,\n                                                      28, 29, 30, ...]},\n                   verbose=2)"
     },
     "execution_count": 262,
     "metadata": {},
     "output_type": "execute_result"
    }
   ],
   "source": [
    "from scipy.stats import reciprocal\n",
    "from sklearn.model_selection import RandomizedSearchCV\n",
    "\n",
    "param_distribs = {\n",
    "    \"n_hidden\": [0, 1, 2, 3],\n",
    "    \"n_neurons\": np.arange(1, 100)               .tolist(),\n",
    "    \"learning_rate\": reciprocal(1e-9, 1e-8)      .rvs(1000).tolist(),\n",
    "}\n",
    "\n",
    "rnd_search_cv = RandomizedSearchCV(keras_reg, param_distribs, n_iter=10, cv=3, verbose=2)\n",
    "rnd_search_cv.fit(X_train, y_train, epochs=100,\n",
    "                  validation_data=(X_valid, y_valid),\n",
    "                  callbacks=[keras.callbacks.EarlyStopping(patience=10)])"
   ],
   "metadata": {
    "collapsed": false,
    "ExecuteTime": {
     "start_time": "2023-05-03T14:58:41.010135Z",
     "end_time": "2023-05-03T15:10:59.301121Z"
    }
   }
  },
  {
   "cell_type": "code",
   "execution_count": 263,
   "outputs": [
    {
     "data": {
      "text/plain": "{'n_neurons': 52, 'n_hidden': 2, 'learning_rate': 2.3499337700731124e-09}"
     },
     "execution_count": 263,
     "metadata": {},
     "output_type": "execute_result"
    }
   ],
   "source": [
    "rnd_search_cv.best_params_"
   ],
   "metadata": {
    "collapsed": false,
    "ExecuteTime": {
     "start_time": "2023-05-03T15:11:20.936580Z",
     "end_time": "2023-05-03T15:11:20.967426Z"
    }
   }
  },
  {
   "cell_type": "code",
   "execution_count": 264,
   "outputs": [
    {
     "data": {
      "text/plain": "-31815667029.333332"
     },
     "execution_count": 264,
     "metadata": {},
     "output_type": "execute_result"
    }
   ],
   "source": [
    "rnd_search_cv.best_score_"
   ],
   "metadata": {
    "collapsed": false,
    "ExecuteTime": {
     "start_time": "2023-05-03T15:11:24.346513Z",
     "end_time": "2023-05-03T15:11:24.393525Z"
    }
   }
  },
  {
   "cell_type": "code",
   "execution_count": 265,
   "outputs": [
    {
     "data": {
      "text/plain": "<keras.wrappers.scikit_learn.KerasRegressor at 0x1c54e687070>"
     },
     "execution_count": 265,
     "metadata": {},
     "output_type": "execute_result"
    }
   ],
   "source": [
    "rnd_search_cv.best_estimator_"
   ],
   "metadata": {
    "collapsed": false,
    "ExecuteTime": {
     "start_time": "2023-05-03T15:11:25.593387Z",
     "end_time": "2023-05-03T15:11:25.629917Z"
    }
   }
  },
  {
   "cell_type": "code",
   "execution_count": 266,
   "outputs": [
    {
     "name": "stdout",
     "output_type": "stream",
     "text": [
      "169/169 [==============================] - 0s 1ms/step - loss: 32244908032.0000\n"
     ]
    },
    {
     "data": {
      "text/plain": "-32244908032.0"
     },
     "execution_count": 266,
     "metadata": {},
     "output_type": "execute_result"
    }
   ],
   "source": [
    "rnd_search_cv.score(X_test, y_test)"
   ],
   "metadata": {
    "collapsed": false,
    "ExecuteTime": {
     "start_time": "2023-05-03T15:11:26.780157Z",
     "end_time": "2023-05-03T15:11:27.066587Z"
    }
   }
  },
  {
   "cell_type": "code",
   "execution_count": 267,
   "outputs": [
    {
     "data": {
      "text/plain": "<keras.engine.sequential.Sequential at 0x1c549012340>"
     },
     "execution_count": 267,
     "metadata": {},
     "output_type": "execute_result"
    }
   ],
   "source": [
    "model = rnd_search_cv.best_estimator_.model\n",
    "model"
   ],
   "metadata": {
    "collapsed": false,
    "ExecuteTime": {
     "start_time": "2023-05-03T15:11:29.758625Z",
     "end_time": "2023-05-03T15:11:29.810652Z"
    }
   }
  },
  {
   "cell_type": "code",
   "execution_count": 268,
   "outputs": [
    {
     "name": "stdout",
     "output_type": "stream",
     "text": [
      "169/169 [==============================] - 0s 2ms/step - loss: 32244908032.0000\n"
     ]
    },
    {
     "data": {
      "text/plain": "32244908032.0"
     },
     "execution_count": 268,
     "metadata": {},
     "output_type": "execute_result"
    }
   ],
   "source": [
    "model.evaluate(X_test, y_test)"
   ],
   "metadata": {
    "collapsed": false,
    "ExecuteTime": {
     "start_time": "2023-05-03T15:11:32.162021Z",
     "end_time": "2023-05-03T15:11:32.544195Z"
    }
   }
  }
 ],
 "metadata": {
  "kernelspec": {
   "display_name": "Python 3",
   "language": "python",
   "name": "python3"
  },
  "language_info": {
   "codemirror_mode": {
    "name": "ipython",
    "version": 2
   },
   "file_extension": ".py",
   "mimetype": "text/x-python",
   "name": "python",
   "nbconvert_exporter": "python",
   "pygments_lexer": "ipython2",
   "version": "2.7.6"
  }
 },
 "nbformat": 4,
 "nbformat_minor": 0
}
